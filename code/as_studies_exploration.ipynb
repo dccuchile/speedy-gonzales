{
 "cells": [
  {
   "cell_type": "code",
   "execution_count": 11,
   "metadata": {},
   "outputs": [],
   "source": [
    "import optuna"
   ]
  },
  {
   "cell_type": "code",
   "execution_count": 12,
   "metadata": {},
   "outputs": [
    {
     "name": "stderr",
     "output_type": "stream",
     "text": [
      "\u001b[32m[I 2022-11-18 19:41:16,570]\u001b[0m Using an existing study with name 'as-bilstm-emb-xnli-study' instead of creating a new one.\u001b[0m\n"
     ]
    }
   ],
   "source": [
    "study_name = \"as-bilstm-emb-xnli-study\"  # Unique identifier of the study.\n",
    "storage_name = \"sqlite:///optuna-results/{}.db\".format(study_name)\n",
    "bilstm_study = optuna.create_study(study_name=study_name, storage=storage_name, load_if_exists=True)"
   ]
  },
  {
   "cell_type": "code",
   "execution_count": 13,
   "metadata": {},
   "outputs": [
    {
     "data": {
      "text/html": [
       "<div>\n",
       "<style scoped>\n",
       "    .dataframe tbody tr th:only-of-type {\n",
       "        vertical-align: middle;\n",
       "    }\n",
       "\n",
       "    .dataframe tbody tr th {\n",
       "        vertical-align: top;\n",
       "    }\n",
       "\n",
       "    .dataframe thead th {\n",
       "        text-align: right;\n",
       "    }\n",
       "</style>\n",
       "<table border=\"1\" class=\"dataframe\">\n",
       "  <thead>\n",
       "    <tr style=\"text-align: right;\">\n",
       "      <th></th>\n",
       "      <th>number</th>\n",
       "      <th>value</th>\n",
       "      <th>datetime_start</th>\n",
       "      <th>datetime_complete</th>\n",
       "      <th>duration</th>\n",
       "      <th>params_epochs</th>\n",
       "      <th>params_freeze_pretrained_embeddings</th>\n",
       "      <th>params_hidden_dim</th>\n",
       "      <th>params_learning_rate</th>\n",
       "      <th>params_num_ffnn_layers</th>\n",
       "      <th>...</th>\n",
       "      <th>user_attrs_macs</th>\n",
       "      <th>user_attrs_model_parameters</th>\n",
       "      <th>user_attrs_model_size_mb</th>\n",
       "      <th>user_attrs_time_avg_ms</th>\n",
       "      <th>user_attrs_time_std_ms</th>\n",
       "      <th>system_attrs_completed_rung_0</th>\n",
       "      <th>system_attrs_completed_rung_1</th>\n",
       "      <th>system_attrs_completed_rung_2</th>\n",
       "      <th>system_attrs_completed_rung_3</th>\n",
       "      <th>state</th>\n",
       "    </tr>\n",
       "  </thead>\n",
       "  <tbody>\n",
       "    <tr>\n",
       "      <th>0</th>\n",
       "      <td>0</td>\n",
       "      <td>1.068646</td>\n",
       "      <td>2022-10-18 10:31:36.227779</td>\n",
       "      <td>2022-10-18 10:59:58.553228</td>\n",
       "      <td>0 days 00:28:22.325449</td>\n",
       "      <td>7</td>\n",
       "      <td>False</td>\n",
       "      <td>384</td>\n",
       "      <td>0.000062</td>\n",
       "      <td>3</td>\n",
       "      <td>...</td>\n",
       "      <td>1.717832e+09</td>\n",
       "      <td>7387139.0</td>\n",
       "      <td>28.189140</td>\n",
       "      <td>0.663024</td>\n",
       "      <td>0.015945</td>\n",
       "      <td>NaN</td>\n",
       "      <td>NaN</td>\n",
       "      <td>NaN</td>\n",
       "      <td>NaN</td>\n",
       "      <td>COMPLETE</td>\n",
       "    </tr>\n",
       "    <tr>\n",
       "      <th>1</th>\n",
       "      <td>1</td>\n",
       "      <td>0.962020</td>\n",
       "      <td>2022-10-18 10:59:58.585033</td>\n",
       "      <td>2022-10-18 12:41:41.887704</td>\n",
       "      <td>0 days 01:41:43.302671</td>\n",
       "      <td>28</td>\n",
       "      <td>False</td>\n",
       "      <td>256</td>\n",
       "      <td>0.000214</td>\n",
       "      <td>1</td>\n",
       "      <td>...</td>\n",
       "      <td>1.350830e+09</td>\n",
       "      <td>6665731.0</td>\n",
       "      <td>25.436588</td>\n",
       "      <td>0.392284</td>\n",
       "      <td>0.001222</td>\n",
       "      <td>0.998663</td>\n",
       "      <td>0.962019</td>\n",
       "      <td>0.962019</td>\n",
       "      <td>0.962019</td>\n",
       "      <td>COMPLETE</td>\n",
       "    </tr>\n",
       "    <tr>\n",
       "      <th>2</th>\n",
       "      <td>2</td>\n",
       "      <td>1.053965</td>\n",
       "      <td>2022-10-18 12:41:41.908006</td>\n",
       "      <td>2022-10-18 16:18:59.145057</td>\n",
       "      <td>0 days 03:37:17.237051</td>\n",
       "      <td>27</td>\n",
       "      <td>True</td>\n",
       "      <td>768</td>\n",
       "      <td>0.000333</td>\n",
       "      <td>3</td>\n",
       "      <td>...</td>\n",
       "      <td>1.371564e+10</td>\n",
       "      <td>30806531.0</td>\n",
       "      <td>117.527946</td>\n",
       "      <td>0.496768</td>\n",
       "      <td>0.011272</td>\n",
       "      <td>1.053967</td>\n",
       "      <td>1.053967</td>\n",
       "      <td>1.053967</td>\n",
       "      <td>NaN</td>\n",
       "      <td>COMPLETE</td>\n",
       "    </tr>\n",
       "    <tr>\n",
       "      <th>3</th>\n",
       "      <td>3</td>\n",
       "      <td>1.096395</td>\n",
       "      <td>2022-10-18 16:18:59.165453</td>\n",
       "      <td>2022-10-18 16:42:17.101997</td>\n",
       "      <td>0 days 00:23:17.936544</td>\n",
       "      <td>20</td>\n",
       "      <td>False</td>\n",
       "      <td>768</td>\n",
       "      <td>0.000901</td>\n",
       "      <td>3</td>\n",
       "      <td>...</td>\n",
       "      <td>NaN</td>\n",
       "      <td>NaN</td>\n",
       "      <td>NaN</td>\n",
       "      <td>NaN</td>\n",
       "      <td>NaN</td>\n",
       "      <td>1.096395</td>\n",
       "      <td>NaN</td>\n",
       "      <td>NaN</td>\n",
       "      <td>NaN</td>\n",
       "      <td>PRUNED</td>\n",
       "    </tr>\n",
       "    <tr>\n",
       "      <th>4</th>\n",
       "      <td>4</td>\n",
       "      <td>0.967486</td>\n",
       "      <td>2022-10-18 16:42:17.114637</td>\n",
       "      <td>2022-10-18 16:57:49.030398</td>\n",
       "      <td>0 days 00:15:31.915761</td>\n",
       "      <td>27</td>\n",
       "      <td>False</td>\n",
       "      <td>640</td>\n",
       "      <td>0.000257</td>\n",
       "      <td>0</td>\n",
       "      <td>...</td>\n",
       "      <td>NaN</td>\n",
       "      <td>NaN</td>\n",
       "      <td>NaN</td>\n",
       "      <td>NaN</td>\n",
       "      <td>NaN</td>\n",
       "      <td>0.982438</td>\n",
       "      <td>0.967486</td>\n",
       "      <td>NaN</td>\n",
       "      <td>NaN</td>\n",
       "      <td>PRUNED</td>\n",
       "    </tr>\n",
       "    <tr>\n",
       "      <th>...</th>\n",
       "      <td>...</td>\n",
       "      <td>...</td>\n",
       "      <td>...</td>\n",
       "      <td>...</td>\n",
       "      <td>...</td>\n",
       "      <td>...</td>\n",
       "      <td>...</td>\n",
       "      <td>...</td>\n",
       "      <td>...</td>\n",
       "      <td>...</td>\n",
       "      <td>...</td>\n",
       "      <td>...</td>\n",
       "      <td>...</td>\n",
       "      <td>...</td>\n",
       "      <td>...</td>\n",
       "      <td>...</td>\n",
       "      <td>...</td>\n",
       "      <td>...</td>\n",
       "      <td>...</td>\n",
       "      <td>...</td>\n",
       "      <td>...</td>\n",
       "    </tr>\n",
       "    <tr>\n",
       "      <th>500</th>\n",
       "      <td>500</td>\n",
       "      <td>0.947504</td>\n",
       "      <td>2022-10-28 13:36:24.289665</td>\n",
       "      <td>2022-10-28 15:53:13.572240</td>\n",
       "      <td>0 days 02:16:49.282575</td>\n",
       "      <td>24</td>\n",
       "      <td>False</td>\n",
       "      <td>768</td>\n",
       "      <td>0.000247</td>\n",
       "      <td>1</td>\n",
       "      <td>...</td>\n",
       "      <td>1.129972e+10</td>\n",
       "      <td>26084867.0</td>\n",
       "      <td>99.514713</td>\n",
       "      <td>0.379871</td>\n",
       "      <td>0.002042</td>\n",
       "      <td>0.949663</td>\n",
       "      <td>0.947502</td>\n",
       "      <td>0.947502</td>\n",
       "      <td>NaN</td>\n",
       "      <td>COMPLETE</td>\n",
       "    </tr>\n",
       "    <tr>\n",
       "      <th>501</th>\n",
       "      <td>501</td>\n",
       "      <td>0.953347</td>\n",
       "      <td>2022-10-28 15:53:13.627253</td>\n",
       "      <td>2022-10-28 15:58:59.721048</td>\n",
       "      <td>0 days 00:05:46.093795</td>\n",
       "      <td>25</td>\n",
       "      <td>False</td>\n",
       "      <td>768</td>\n",
       "      <td>0.000259</td>\n",
       "      <td>1</td>\n",
       "      <td>...</td>\n",
       "      <td>NaN</td>\n",
       "      <td>NaN</td>\n",
       "      <td>NaN</td>\n",
       "      <td>NaN</td>\n",
       "      <td>NaN</td>\n",
       "      <td>0.953347</td>\n",
       "      <td>NaN</td>\n",
       "      <td>NaN</td>\n",
       "      <td>NaN</td>\n",
       "      <td>PRUNED</td>\n",
       "    </tr>\n",
       "    <tr>\n",
       "      <th>502</th>\n",
       "      <td>502</td>\n",
       "      <td>0.946306</td>\n",
       "      <td>2022-10-28 15:58:59.764233</td>\n",
       "      <td>2022-10-28 16:21:14.354199</td>\n",
       "      <td>0 days 00:22:14.589966</td>\n",
       "      <td>9</td>\n",
       "      <td>False</td>\n",
       "      <td>640</td>\n",
       "      <td>0.000398</td>\n",
       "      <td>0</td>\n",
       "      <td>...</td>\n",
       "      <td>2.024018e+09</td>\n",
       "      <td>7980291.0</td>\n",
       "      <td>30.449840</td>\n",
       "      <td>0.307338</td>\n",
       "      <td>0.002714</td>\n",
       "      <td>NaN</td>\n",
       "      <td>NaN</td>\n",
       "      <td>NaN</td>\n",
       "      <td>NaN</td>\n",
       "      <td>COMPLETE</td>\n",
       "    </tr>\n",
       "    <tr>\n",
       "      <th>503</th>\n",
       "      <td>503</td>\n",
       "      <td>0.985921</td>\n",
       "      <td>2022-10-28 16:21:14.404472</td>\n",
       "      <td>2022-10-28 16:47:04.285364</td>\n",
       "      <td>0 days 00:25:49.880892</td>\n",
       "      <td>14</td>\n",
       "      <td>False</td>\n",
       "      <td>640</td>\n",
       "      <td>0.000489</td>\n",
       "      <td>1</td>\n",
       "      <td>...</td>\n",
       "      <td>NaN</td>\n",
       "      <td>NaN</td>\n",
       "      <td>NaN</td>\n",
       "      <td>NaN</td>\n",
       "      <td>NaN</td>\n",
       "      <td>0.985921</td>\n",
       "      <td>NaN</td>\n",
       "      <td>NaN</td>\n",
       "      <td>NaN</td>\n",
       "      <td>PRUNED</td>\n",
       "    </tr>\n",
       "    <tr>\n",
       "      <th>504</th>\n",
       "      <td>504</td>\n",
       "      <td>NaN</td>\n",
       "      <td>2022-10-28 16:47:04.316439</td>\n",
       "      <td>2022-10-28 18:16:49.141042</td>\n",
       "      <td>0 days 01:29:44.824603</td>\n",
       "      <td>24</td>\n",
       "      <td>False</td>\n",
       "      <td>768</td>\n",
       "      <td>0.000234</td>\n",
       "      <td>1</td>\n",
       "      <td>...</td>\n",
       "      <td>NaN</td>\n",
       "      <td>NaN</td>\n",
       "      <td>NaN</td>\n",
       "      <td>NaN</td>\n",
       "      <td>NaN</td>\n",
       "      <td>0.950743</td>\n",
       "      <td>0.945273</td>\n",
       "      <td>0.945273</td>\n",
       "      <td>NaN</td>\n",
       "      <td>FAIL</td>\n",
       "    </tr>\n",
       "  </tbody>\n",
       "</table>\n",
       "<p>505 rows × 23 columns</p>\n",
       "</div>"
      ],
      "text/plain": [
       "     number     value             datetime_start          datetime_complete  \\\n",
       "0         0  1.068646 2022-10-18 10:31:36.227779 2022-10-18 10:59:58.553228   \n",
       "1         1  0.962020 2022-10-18 10:59:58.585033 2022-10-18 12:41:41.887704   \n",
       "2         2  1.053965 2022-10-18 12:41:41.908006 2022-10-18 16:18:59.145057   \n",
       "3         3  1.096395 2022-10-18 16:18:59.165453 2022-10-18 16:42:17.101997   \n",
       "4         4  0.967486 2022-10-18 16:42:17.114637 2022-10-18 16:57:49.030398   \n",
       "..      ...       ...                        ...                        ...   \n",
       "500     500  0.947504 2022-10-28 13:36:24.289665 2022-10-28 15:53:13.572240   \n",
       "501     501  0.953347 2022-10-28 15:53:13.627253 2022-10-28 15:58:59.721048   \n",
       "502     502  0.946306 2022-10-28 15:58:59.764233 2022-10-28 16:21:14.354199   \n",
       "503     503  0.985921 2022-10-28 16:21:14.404472 2022-10-28 16:47:04.285364   \n",
       "504     504       NaN 2022-10-28 16:47:04.316439 2022-10-28 18:16:49.141042   \n",
       "\n",
       "                  duration  params_epochs  \\\n",
       "0   0 days 00:28:22.325449              7   \n",
       "1   0 days 01:41:43.302671             28   \n",
       "2   0 days 03:37:17.237051             27   \n",
       "3   0 days 00:23:17.936544             20   \n",
       "4   0 days 00:15:31.915761             27   \n",
       "..                     ...            ...   \n",
       "500 0 days 02:16:49.282575             24   \n",
       "501 0 days 00:05:46.093795             25   \n",
       "502 0 days 00:22:14.589966              9   \n",
       "503 0 days 00:25:49.880892             14   \n",
       "504 0 days 01:29:44.824603             24   \n",
       "\n",
       "     params_freeze_pretrained_embeddings  params_hidden_dim  \\\n",
       "0                                  False                384   \n",
       "1                                  False                256   \n",
       "2                                   True                768   \n",
       "3                                  False                768   \n",
       "4                                  False                640   \n",
       "..                                   ...                ...   \n",
       "500                                False                768   \n",
       "501                                False                768   \n",
       "502                                False                640   \n",
       "503                                False                640   \n",
       "504                                False                768   \n",
       "\n",
       "     params_learning_rate  params_num_ffnn_layers  ...  user_attrs_macs  \\\n",
       "0                0.000062                       3  ...     1.717832e+09   \n",
       "1                0.000214                       1  ...     1.350830e+09   \n",
       "2                0.000333                       3  ...     1.371564e+10   \n",
       "3                0.000901                       3  ...              NaN   \n",
       "4                0.000257                       0  ...              NaN   \n",
       "..                    ...                     ...  ...              ...   \n",
       "500              0.000247                       1  ...     1.129972e+10   \n",
       "501              0.000259                       1  ...              NaN   \n",
       "502              0.000398                       0  ...     2.024018e+09   \n",
       "503              0.000489                       1  ...              NaN   \n",
       "504              0.000234                       1  ...              NaN   \n",
       "\n",
       "     user_attrs_model_parameters  user_attrs_model_size_mb  \\\n",
       "0                      7387139.0                 28.189140   \n",
       "1                      6665731.0                 25.436588   \n",
       "2                     30806531.0                117.527946   \n",
       "3                            NaN                       NaN   \n",
       "4                            NaN                       NaN   \n",
       "..                           ...                       ...   \n",
       "500                   26084867.0                 99.514713   \n",
       "501                          NaN                       NaN   \n",
       "502                    7980291.0                 30.449840   \n",
       "503                          NaN                       NaN   \n",
       "504                          NaN                       NaN   \n",
       "\n",
       "     user_attrs_time_avg_ms  user_attrs_time_std_ms  \\\n",
       "0                  0.663024                0.015945   \n",
       "1                  0.392284                0.001222   \n",
       "2                  0.496768                0.011272   \n",
       "3                       NaN                     NaN   \n",
       "4                       NaN                     NaN   \n",
       "..                      ...                     ...   \n",
       "500                0.379871                0.002042   \n",
       "501                     NaN                     NaN   \n",
       "502                0.307338                0.002714   \n",
       "503                     NaN                     NaN   \n",
       "504                     NaN                     NaN   \n",
       "\n",
       "     system_attrs_completed_rung_0  system_attrs_completed_rung_1  \\\n",
       "0                              NaN                            NaN   \n",
       "1                         0.998663                       0.962019   \n",
       "2                         1.053967                       1.053967   \n",
       "3                         1.096395                            NaN   \n",
       "4                         0.982438                       0.967486   \n",
       "..                             ...                            ...   \n",
       "500                       0.949663                       0.947502   \n",
       "501                       0.953347                            NaN   \n",
       "502                            NaN                            NaN   \n",
       "503                       0.985921                            NaN   \n",
       "504                       0.950743                       0.945273   \n",
       "\n",
       "     system_attrs_completed_rung_2  system_attrs_completed_rung_3     state  \n",
       "0                              NaN                            NaN  COMPLETE  \n",
       "1                         0.962019                       0.962019  COMPLETE  \n",
       "2                         1.053967                            NaN  COMPLETE  \n",
       "3                              NaN                            NaN    PRUNED  \n",
       "4                              NaN                            NaN    PRUNED  \n",
       "..                             ...                            ...       ...  \n",
       "500                       0.947502                            NaN  COMPLETE  \n",
       "501                            NaN                            NaN    PRUNED  \n",
       "502                            NaN                            NaN  COMPLETE  \n",
       "503                            NaN                            NaN    PRUNED  \n",
       "504                       0.945273                            NaN      FAIL  \n",
       "\n",
       "[505 rows x 23 columns]"
      ]
     },
     "execution_count": 13,
     "metadata": {},
     "output_type": "execute_result"
    }
   ],
   "source": [
    "bilstm_df = bilstm_study.trials_dataframe()\n",
    "bilstm_df"
   ]
  },
  {
   "cell_type": "code",
   "execution_count": 14,
   "metadata": {},
   "outputs": [
    {
     "data": {
      "application/vnd.plotly.v1+json": {
       "config": {
        "plotlyServerURL": "https://plot.ly"
       },
       "data": [
        {
         "hovertemplate": "%{text}<extra>Trial</extra>",
         "marker": {
          "color": [
           0,
           1,
           2,
           6,
           9,
           10,
           11,
           12,
           23,
           25,
           27,
           33,
           35,
           36,
           38,
           39,
           41,
           42,
           48,
           49,
           50,
           52,
           56,
           58,
           63,
           65,
           66,
           67,
           70,
           74,
           76,
           79,
           92,
           95,
           106,
           127,
           128,
           130,
           132,
           139,
           140,
           141,
           144,
           148,
           154,
           157,
           160,
           161,
           168,
           171,
           177,
           178,
           181,
           183,
           189,
           190,
           192,
           194,
           195,
           197,
           198,
           199,
           203,
           207,
           215,
           219,
           220,
           221,
           229,
           235,
           236,
           239,
           241,
           243,
           247,
           248,
           251,
           254,
           256,
           257,
           265,
           283,
           286,
           287,
           294,
           296,
           297,
           298,
           300,
           302,
           304,
           306,
           315,
           318,
           319,
           320,
           323,
           326,
           327,
           332,
           335,
           336,
           338,
           339,
           340,
           342,
           343,
           345,
           352,
           355,
           358,
           359,
           362,
           364,
           365,
           366,
           370,
           371,
           372,
           373,
           374,
           375,
           381,
           385,
           389,
           391,
           392,
           393,
           394,
           400,
           403,
           404,
           406,
           408,
           412,
           416,
           418,
           419,
           425,
           426,
           427,
           428,
           445,
           446,
           450,
           455,
           470,
           471,
           472,
           473,
           474,
           476,
           477,
           479,
           480,
           481,
           483,
           487,
           489,
           496,
           497,
           500,
           502
          ],
          "colorbar": {
           "title": {
            "text": "Trial"
           }
          },
          "colorscale": [
           [
            0,
            "rgb(247,251,255)"
           ],
           [
            0.125,
            "rgb(222,235,247)"
           ],
           [
            0.25,
            "rgb(198,219,239)"
           ],
           [
            0.375,
            "rgb(158,202,225)"
           ],
           [
            0.5,
            "rgb(107,174,214)"
           ],
           [
            0.625,
            "rgb(66,146,198)"
           ],
           [
            0.75,
            "rgb(33,113,181)"
           ],
           [
            0.875,
            "rgb(8,81,156)"
           ],
           [
            1,
            "rgb(8,48,107)"
           ]
          ],
          "line": {
           "color": "Grey",
           "width": 0.5
          }
         },
         "mode": "markers",
         "showlegend": false,
         "text": [
          "{<br>  \"number\": 0,<br>  \"values\": [<br>    1.0686463790062146<br>  ],<br>  \"params\": {<br>    \"epochs\": 7,<br>    \"freeze_pretrained_embeddings\": false,<br>    \"hidden_dim\": 384,<br>    \"learning_rate\": 6.224672679059181e-05,<br>    \"num_ffnn_layers\": 3,<br>    \"num_layers\": 1,<br>    \"use_pretrained_embeddings\": true<br>  },<br>  \"user_attrs\": {<br>    \"accuracy\": 0.4570281124497992,<br>    \"macs\": 1717831936.0,<br>    \"model_parameters\": 7387139,<br>    \"model_size_mb\": 28.18914031982422,<br>    \"time_avg_ms\": 0.6630238969863831,<br>    \"time_std_ms\": 0.015944997378746464<br>  }<br>}",
          "{<br>  \"number\": 1,<br>  \"values\": [<br>    0.9620195031166077<br>  ],<br>  \"params\": {<br>    \"epochs\": 28,<br>    \"freeze_pretrained_embeddings\": false,<br>    \"hidden_dim\": 256,<br>    \"learning_rate\": 0.00021425286466939477,<br>    \"num_ffnn_layers\": 1,<br>    \"num_layers\": 2,<br>    \"use_pretrained_embeddings\": false<br>  },<br>  \"user_attrs\": {<br>    \"accuracy\": 0.5518072289156627,<br>    \"macs\": 1350829568.0,<br>    \"model_parameters\": 6665731,<br>    \"model_size_mb\": 25.436588287353516,<br>    \"time_avg_ms\": 0.3922844783949625,<br>    \"time_std_ms\": 0.0012216572831997697<br>  }<br>}",
          "{<br>  \"number\": 2,<br>  \"values\": [<br>    1.0539648532867432<br>  ],<br>  \"params\": {<br>    \"epochs\": 27,<br>    \"freeze_pretrained_embeddings\": true,<br>    \"hidden_dim\": 768,<br>    \"learning_rate\": 0.00033288168577588225,<br>    \"num_ffnn_layers\": 3,<br>    \"num_layers\": 2,<br>    \"use_pretrained_embeddings\": false<br>  },<br>  \"user_attrs\": {<br>    \"accuracy\": 0.4108433734939759,<br>    \"macs\": 13715640832.0,<br>    \"model_parameters\": 30806531,<br>    \"model_size_mb\": 117.52794647216797,<br>    \"time_avg_ms\": 0.4967682568045954,<br>    \"time_std_ms\": 0.011271641628881692<br>  }<br>}",
          "{<br>  \"number\": 6,<br>  \"values\": [<br>    1.0395975021215587<br>  ],<br>  \"params\": {<br>    \"epochs\": 5,<br>    \"freeze_pretrained_embeddings\": false,<br>    \"hidden_dim\": 256,<br>    \"learning_rate\": 4.25474685557244e-05,<br>    \"num_ffnn_layers\": 3,<br>    \"num_layers\": 2,<br>    \"use_pretrained_embeddings\": true<br>  },<br>  \"user_attrs\": {<br>    \"accuracy\": 0.4971887550200803,<br>    \"macs\": 1619265024.0,<br>    \"model_parameters\": 7191043,<br>    \"model_size_mb\": 27.44200897216797,<br>    \"time_avg_ms\": 0.48530681849887936,<br>    \"time_std_ms\": 0.009806056765203585<br>  }<br>}",
          "{<br>  \"number\": 9,<br>  \"values\": [<br>    1.102582729779757<br>  ],<br>  \"params\": {<br>    \"epochs\": 1,<br>    \"freeze_pretrained_embeddings\": true,<br>    \"hidden_dim\": 256,<br>    \"learning_rate\": 5.8537419889430346e-05,<br>    \"num_ffnn_layers\": 3,<br>    \"num_layers\": 2,<br>    \"use_pretrained_embeddings\": false<br>  },<br>  \"user_attrs\": {<br>    \"accuracy\": 0.36305220883534134,<br>    \"macs\": 1619265024.0,<br>    \"model_parameters\": 7191043,<br>    \"model_size_mb\": 27.44200897216797,<br>    \"time_avg_ms\": 0.6870038038565932,<br>    \"time_std_ms\": 0.019082923573836456<br>  }<br>}",
          "{<br>  \"number\": 10,<br>  \"values\": [<br>    0.9688196533765548<br>  ],<br>  \"params\": {<br>    \"epochs\": 10,<br>    \"freeze_pretrained_embeddings\": true,<br>    \"hidden_dim\": 640,<br>    \"learning_rate\": 0.0001435597474411505,<br>    \"num_ffnn_layers\": 2,<br>    \"num_layers\": 1,<br>    \"use_pretrained_embeddings\": false<br>  },<br>  \"user_attrs\": {<br>    \"accuracy\": 0.5433734939759036,<br>    \"macs\": 3701739264.0,<br>    \"model_parameters\": 11259651,<br>    \"model_size_mb\": 42.96093559265137,<br>    \"time_avg_ms\": 0.42481310447328724,<br>    \"time_std_ms\": 0.007088842182583405<br>  }<br>}",
          "{<br>  \"number\": 11,<br>  \"values\": [<br>    0.9556944492535714<br>  ],<br>  \"params\": {<br>    \"epochs\": 22,<br>    \"freeze_pretrained_embeddings\": false,<br>    \"hidden_dim\": 768,<br>    \"learning_rate\": 0.0004734832089416549,<br>    \"num_ffnn_layers\": 0,<br>    \"num_layers\": 1,<br>    \"use_pretrained_embeddings\": true<br>  },<br>  \"user_attrs\": {<br>    \"accuracy\": 0.5650602409638554,<br>    \"macs\": 2831421952.0,<br>    \"model_parameters\": 9555971,<br>    \"model_size_mb\": 36.46058177947998,<br>    \"time_avg_ms\": 0.31827879269094617,<br>    \"time_std_ms\": 0.006618400599532437<br>  }<br>}",
          "{<br>  \"number\": 12,<br>  \"values\": [<br>    0.9719949303529202<br>  ],<br>  \"params\": {<br>    \"epochs\": 3,<br>    \"freeze_pretrained_embeddings\": false,<br>    \"hidden_dim\": 384,<br>    \"learning_rate\": 7.946776191948992e-05,<br>    \"num_ffnn_layers\": 0,<br>    \"num_layers\": 2,<br>    \"use_pretrained_embeddings\": true<br>  },<br>  \"user_attrs\": {<br>    \"accuracy\": 0.5429718875502008,<br>    \"macs\": 2630093056.0,<br>    \"model_parameters\": 9160451,<br>    \"model_size_mb\": 34.95258617401123,<br>    \"time_avg_ms\": 0.350160718701043,<br>    \"time_std_ms\": 0.0012701535737939197<br>  }<br>}",
          "{<br>  \"number\": 23,<br>  \"values\": [<br>    0.9597057837706345<br>  ],<br>  \"params\": {<br>    \"epochs\": 7,<br>    \"freeze_pretrained_embeddings\": false,<br>    \"hidden_dim\": 512,<br>    \"learning_rate\": 0.0003021443980827148,<br>    \"num_ffnn_layers\": 0,<br>    \"num_layers\": 1,<br>    \"use_pretrained_embeddings\": true<br>  },<br>  \"user_attrs\": {<br>    \"accuracy\": 0.5598393574297189,<br>    \"macs\": 1350831104.0,<br>    \"model_parameters\": 6666755,<br>    \"model_size_mb\": 25.43909740447998,<br>    \"time_avg_ms\": 0.31851390203302526,<br>    \"time_std_ms\": 0.004240427601835646<br>  }<br>}",
          "{<br>  \"number\": 25,<br>  \"values\": [<br>    0.9529903332392374<br>  ],<br>  \"params\": {<br>    \"epochs\": 7,<br>    \"freeze_pretrained_embeddings\": false,<br>    \"hidden_dim\": 512,<br>    \"learning_rate\": 0.0003154424760800437,<br>    \"num_ffnn_layers\": 1,<br>    \"num_layers\": 1,<br>    \"use_pretrained_embeddings\": true<br>  },<br>  \"user_attrs\": {<br>    \"accuracy\": 0.5646586345381526,<br>    \"macs\": 1887702016.0,<br>    \"model_parameters\": 7716355,<br>    \"model_size_mb\": 29.443668365478516,<br>    \"time_avg_ms\": 0.34921696182167117,<br>    \"time_std_ms\": 0.00131917900065617<br>  }<br>}",
          "{<br>  \"number\": 27,<br>  \"values\": [<br>    0.9682694123341486<br>  ],<br>  \"params\": {<br>    \"epochs\": 7,<br>    \"freeze_pretrained_embeddings\": false,<br>    \"hidden_dim\": 512,<br>    \"learning_rate\": 0.00041392476977007237,<br>    \"num_ffnn_layers\": 1,<br>    \"num_layers\": 1,<br>    \"use_pretrained_embeddings\": true<br>  },<br>  \"user_attrs\": {<br>    \"accuracy\": 0.553012048192771,<br>    \"macs\": 1887702016.0,<br>    \"model_parameters\": 7716355,<br>    \"model_size_mb\": 29.443668365478516,<br>    \"time_avg_ms\": 0.4123163861081456,<br>    \"time_std_ms\": 0.04547050130152847<br>  }<br>}",
          "{<br>  \"number\": 33,<br>  \"values\": [<br>    0.959709263764895<br>  ],<br>  \"params\": {<br>    \"epochs\": 15,<br>    \"freeze_pretrained_embeddings\": false,<br>    \"hidden_dim\": 384,<br>    \"learning_rate\": 0.0002589645463893436,<br>    \"num_ffnn_layers\": 0,<br>    \"num_layers\": 1,<br>    \"use_pretrained_embeddings\": true<br>  },<br>  \"user_attrs\": {<br>    \"accuracy\": 0.5666666666666667,<br>    \"macs\": 811862272.0,<br>    \"model_parameters\": 5615363,<br>    \"model_size_mb\": 21.42835521697998,<br>    \"time_avg_ms\": 0.6373080355882809,<br>    \"time_std_ms\": 0.08953997955050104<br>  }<br>}",
          "{<br>  \"number\": 35,<br>  \"values\": [<br>    0.9518454365241222<br>  ],<br>  \"params\": {<br>    \"epochs\": 22,<br>    \"freeze_pretrained_embeddings\": false,<br>    \"hidden_dim\": 768,<br>    \"learning_rate\": 0.00013736718770934872,<br>    \"num_ffnn_layers\": 0,<br>    \"num_layers\": 2,<br>    \"use_pretrained_embeddings\": true<br>  },<br>  \"user_attrs\": {<br>    \"accuracy\": 0.5694779116465863,<br>    \"macs\": 10091762176.0,<br>    \"model_parameters\": 23724035,<br>    \"model_size_mb\": 90.50825023651123,<br>    \"time_avg_ms\": 0.3623576287525831,<br>    \"time_std_ms\": 0.006432216902134279<br>  }<br>}",
          "{<br>  \"number\": 36,<br>  \"values\": [<br>    0.9670460438117002<br>  ],<br>  \"params\": {<br>    \"epochs\": 5,<br>    \"freeze_pretrained_embeddings\": false,<br>    \"hidden_dim\": 128,<br>    \"learning_rate\": 0.0004943984960062962,<br>    \"num_ffnn_layers\": 0,<br>    \"num_layers\": 1,<br>    \"use_pretrained_embeddings\": true<br>  },<br>  \"user_attrs\": {<br>    \"accuracy\": 0.5385542168674698,<br>    \"macs\": 136577792.0,<br>    \"model_parameters\": 4299011,<br>    \"model_size_mb\": 16.40687084197998,<br>    \"time_avg_ms\": 0.3947676957344239,<br>    \"time_std_ms\": 0.0084837876754137<br>  }<br>}",
          "{<br>  \"number\": 38,<br>  \"values\": [<br>    0.9502420578247461<br>  ],<br>  \"params\": {<br>    \"epochs\": 26,<br>    \"freeze_pretrained_embeddings\": false,<br>    \"hidden_dim\": 768,<br>    \"learning_rate\": 0.0002277722772520188,<br>    \"num_ffnn_layers\": 0,<br>    \"num_layers\": 2,<br>    \"use_pretrained_embeddings\": true<br>  },<br>  \"user_attrs\": {<br>    \"accuracy\": 0.5598393574297189,<br>    \"macs\": 10091762176.0,<br>    \"model_parameters\": 23724035,<br>    \"model_size_mb\": 90.50825023651123,<br>    \"time_avg_ms\": 0.36761114024557173,<br>    \"time_std_ms\": 0.012145495921662395<br>  }<br>}",
          "{<br>  \"number\": 39,<br>  \"values\": [<br>    0.9455599372203534<br>  ],<br>  \"params\": {<br>    \"epochs\": 24,<br>    \"freeze_pretrained_embeddings\": false,<br>    \"hidden_dim\": 768,<br>    \"learning_rate\": 0.00036829403658503266,<br>    \"num_ffnn_layers\": 0,<br>    \"num_layers\": 2,<br>    \"use_pretrained_embeddings\": true<br>  },<br>  \"user_attrs\": {<br>    \"accuracy\": 0.5706827309236948,<br>    \"macs\": 10091762176.0,<br>    \"model_parameters\": 23724035,<br>    \"model_size_mb\": 90.50825023651123,<br>    \"time_avg_ms\": 0.49869988743930754,<br>    \"time_std_ms\": 0.027132159799875946<br>  }<br>}",
          "{<br>  \"number\": 41,<br>  \"values\": [<br>    0.9598207275072733<br>  ],<br>  \"params\": {<br>    \"epochs\": 16,<br>    \"freeze_pretrained_embeddings\": false,<br>    \"hidden_dim\": 384,<br>    \"learning_rate\": 0.00025153607357740406,<br>    \"num_ffnn_layers\": 1,<br>    \"num_layers\": 1,<br>    \"use_pretrained_embeddings\": true<br>  },<br>  \"user_attrs\": {<br>    \"accuracy\": 0.5610441767068273,<br>    \"macs\": 1113852160.0,<br>    \"model_parameters\": 6205955,<br>    \"model_size_mb\": 23.681949615478516,<br>    \"time_avg_ms\": 0.7112164903261071,<br>    \"time_std_ms\": 0.06018909201043504<br>  }<br>}",
          "{<br>  \"number\": 42,<br>  \"values\": [<br>    0.9587769416662363<br>  ],<br>  \"params\": {<br>    \"epochs\": 1,<br>    \"freeze_pretrained_embeddings\": false,<br>    \"hidden_dim\": 640,<br>    \"learning_rate\": 0.0007793625652798932,<br>    \"num_ffnn_layers\": 0,<br>    \"num_layers\": 1,<br>    \"use_pretrained_embeddings\": true<br>  },<br>  \"user_attrs\": {<br>    \"accuracy\": 0.5550200803212851,<br>    \"macs\": 2024017664.0,<br>    \"model_parameters\": 7980291,<br>    \"model_size_mb\": 30.44983959197998,<br>    \"time_avg_ms\": 0.31699402569892243,<br>    \"time_std_ms\": 0.003943905791107256<br>  }<br>}",
          "{<br>  \"number\": 48,<br>  \"values\": [<br>    0.9547473329764146<br>  ],<br>  \"params\": {<br>    \"epochs\": 1,<br>    \"freeze_pretrained_embeddings\": false,<br>    \"hidden_dim\": 768,<br>    \"learning_rate\": 0.0007569134864486075,<br>    \"num_ffnn_layers\": 0,<br>    \"num_layers\": 1,<br>    \"use_pretrained_embeddings\": true<br>  },<br>  \"user_attrs\": {<br>    \"accuracy\": 0.5598393574297189,<br>    \"macs\": 2831421952.0,<br>    \"model_parameters\": 9555971,<br>    \"model_size_mb\": 36.46058177947998,<br>    \"time_avg_ms\": 0.3125980801246676,<br>    \"time_std_ms\": 0.005090935037321294<br>  }<br>}",
          "{<br>  \"number\": 49,<br>  \"values\": [<br>    0.9559801618258158<br>  ],<br>  \"params\": {<br>    \"epochs\": 1,<br>    \"freeze_pretrained_embeddings\": false,<br>    \"hidden_dim\": 768,<br>    \"learning_rate\": 0.0007525442105370293,<br>    \"num_ffnn_layers\": 0,<br>    \"num_layers\": 1,<br>    \"use_pretrained_embeddings\": true<br>  },<br>  \"user_attrs\": {<br>    \"accuracy\": 0.563855421686747,<br>    \"macs\": 2831421952.0,<br>    \"model_parameters\": 9555971,<br>    \"model_size_mb\": 36.46058177947998,<br>    \"time_avg_ms\": 0.30457024033901026,<br>    \"time_std_ms\": 0.0016862688443860464<br>  }<br>}",
          "{<br>  \"number\": 50,<br>  \"values\": [<br>    0.9454086789718041<br>  ],<br>  \"params\": {<br>    \"epochs\": 23,<br>    \"freeze_pretrained_embeddings\": false,<br>    \"hidden_dim\": 768,<br>    \"learning_rate\": 0.000214968083566945,<br>    \"num_ffnn_layers\": 1,<br>    \"num_layers\": 2,<br>    \"use_pretrained_embeddings\": true<br>  },<br>  \"user_attrs\": {<br>    \"accuracy\": 0.5674698795180723,<br>    \"macs\": 11299721728.0,<br>    \"model_parameters\": 26084867,<br>    \"model_size_mb\": 99.51471328735352,<br>    \"time_avg_ms\": 0.6756053311911262,<br>    \"time_std_ms\": 0.10845269427978318<br>  }<br>}",
          "{<br>  \"number\": 52,<br>  \"values\": [<br>    0.9540652342331715<br>  ],<br>  \"params\": {<br>    \"epochs\": 1,<br>    \"freeze_pretrained_embeddings\": false,<br>    \"hidden_dim\": 768,<br>    \"learning_rate\": 0.0007454021517291521,<br>    \"num_ffnn_layers\": 0,<br>    \"num_layers\": 1,<br>    \"use_pretrained_embeddings\": true<br>  },<br>  \"user_attrs\": {<br>    \"accuracy\": 0.5622489959839357,<br>    \"macs\": 2831421952.0,<br>    \"model_parameters\": 9555971,<br>    \"model_size_mb\": 36.46058177947998,<br>    \"time_avg_ms\": 0.30863455101621873,<br>    \"time_std_ms\": 0.004729618540192108<br>  }<br>}",
          "{<br>  \"number\": 56,<br>  \"values\": [<br>    0.9498240504509363<br>  ],<br>  \"params\": {<br>    \"epochs\": 28,<br>    \"freeze_pretrained_embeddings\": false,<br>    \"hidden_dim\": 768,<br>    \"learning_rate\": 0.000197020410896177,<br>    \"num_ffnn_layers\": 1,<br>    \"num_layers\": 2,<br>    \"use_pretrained_embeddings\": true<br>  },<br>  \"user_attrs\": {<br>    \"accuracy\": 0.5622489959839357,<br>    \"macs\": 11299721728.0,<br>    \"model_parameters\": 26084867,<br>    \"model_size_mb\": 99.51471328735352,<br>    \"time_avg_ms\": 0.6266022001967785,<br>    \"time_std_ms\": 0.0816949649096149<br>  }<br>}",
          "{<br>  \"number\": 58,<br>  \"values\": [<br>    0.9459276550855392<br>  ],<br>  \"params\": {<br>    \"epochs\": 28,<br>    \"freeze_pretrained_embeddings\": false,<br>    \"hidden_dim\": 768,<br>    \"learning_rate\": 0.0002106281704969786,<br>    \"num_ffnn_layers\": 1,<br>    \"num_layers\": 2,<br>    \"use_pretrained_embeddings\": true<br>  },<br>  \"user_attrs\": {<br>    \"accuracy\": 0.572289156626506,<br>    \"macs\": 11299721728.0,<br>    \"model_parameters\": 26084867,<br>    \"model_size_mb\": 99.51471328735352,<br>    \"time_avg_ms\": 0.5033639470864203,<br>    \"time_std_ms\": 0.009569571195057554<br>  }<br>}",
          "{<br>  \"number\": 63,<br>  \"values\": [<br>    0.9601507721803128<br>  ],<br>  \"params\": {<br>    \"epochs\": 30,<br>    \"freeze_pretrained_embeddings\": false,<br>    \"hidden_dim\": 640,<br>    \"learning_rate\": 0.0008832368734361606,<br>    \"num_ffnn_layers\": 0,<br>    \"num_layers\": 1,<br>    \"use_pretrained_embeddings\": true<br>  },<br>  \"user_attrs\": {<br>    \"accuracy\": 0.5582329317269076,<br>    \"macs\": 2024017664.0,<br>    \"model_parameters\": 7980291,<br>    \"model_size_mb\": 30.44983959197998,<br>    \"time_avg_ms\": 0.3636003039175212,<br>    \"time_std_ms\": 0.009534423877200169<br>  }<br>}",
          "{<br>  \"number\": 65,<br>  \"values\": [<br>    0.9516543165231363<br>  ],<br>  \"params\": {<br>    \"epochs\": 12,<br>    \"freeze_pretrained_embeddings\": false,<br>    \"hidden_dim\": 128,<br>    \"learning_rate\": 0.0005588432696091143,<br>    \"num_ffnn_layers\": 2,<br>    \"num_layers\": 1,<br>    \"use_pretrained_embeddings\": true<br>  },<br>  \"user_attrs\": {<br>    \"accuracy\": 0.557429718875502,<br>    \"macs\": 203686656.0,<br>    \"model_parameters\": 4430595,<br>    \"model_size_mb\": 16.910154342651367,<br>    \"time_avg_ms\": 0.44505617238189044,<br>    \"time_std_ms\": 0.013728823377037538<br>  }<br>}",
          "{<br>  \"number\": 66,<br>  \"values\": [<br>    0.9506172308555016<br>  ],<br>  \"params\": {<br>    \"epochs\": 12,<br>    \"freeze_pretrained_embeddings\": false,<br>    \"hidden_dim\": 128,<br>    \"learning_rate\": 0.0005601132273951511,<br>    \"num_ffnn_layers\": 2,<br>    \"num_layers\": 1,<br>    \"use_pretrained_embeddings\": true<br>  },<br>  \"user_attrs\": {<br>    \"accuracy\": 0.5538152610441767,<br>    \"macs\": 203686656.0,<br>    \"model_parameters\": 4430595,<br>    \"model_size_mb\": 16.910154342651367,<br>    \"time_avg_ms\": 0.46851920820020065,<br>    \"time_std_ms\": 0.025175738030567853<br>  }<br>}",
          "{<br>  \"number\": 67,<br>  \"values\": [<br>    0.945554161683107<br>  ],<br>  \"params\": {<br>    \"epochs\": 30,<br>    \"freeze_pretrained_embeddings\": false,<br>    \"hidden_dim\": 768,<br>    \"learning_rate\": 0.0002973031715456811,<br>    \"num_ffnn_layers\": 1,<br>    \"num_layers\": 2,<br>    \"use_pretrained_embeddings\": true<br>  },<br>  \"user_attrs\": {<br>    \"accuracy\": 0.559437751004016,<br>    \"macs\": 11299721728.0,<br>    \"model_parameters\": 26084867,<br>    \"model_size_mb\": 99.51471328735352,<br>    \"time_avg_ms\": 0.4076976728898407,<br>    \"time_std_ms\": 0.009405673635462245<br>  }<br>}",
          "{<br>  \"number\": 70,<br>  \"values\": [<br>    0.9454121360412011<br>  ],<br>  \"params\": {<br>    \"epochs\": 28,<br>    \"freeze_pretrained_embeddings\": false,<br>    \"hidden_dim\": 768,<br>    \"learning_rate\": 0.00020528630587690738,<br>    \"num_ffnn_layers\": 1,<br>    \"num_layers\": 2,<br>    \"use_pretrained_embeddings\": true<br>  },<br>  \"user_attrs\": {<br>    \"accuracy\": 0.5686746987951807,<br>    \"macs\": 11299721728.0,<br>    \"model_parameters\": 26084867,<br>    \"model_size_mb\": 99.51471328735352,<br>    \"time_avg_ms\": 0.42301490285186744,<br>    \"time_std_ms\": 0.009583713481126927<br>  }<br>}",
          "{<br>  \"number\": 74,<br>  \"values\": [<br>    0.9534362172469114<br>  ],<br>  \"params\": {<br>    \"epochs\": 15,<br>    \"freeze_pretrained_embeddings\": false,<br>    \"hidden_dim\": 128,<br>    \"learning_rate\": 0.00043296845130188155,<br>    \"num_ffnn_layers\": 2,<br>    \"num_layers\": 1,<br>    \"use_pretrained_embeddings\": true<br>  },<br>  \"user_attrs\": {<br>    \"accuracy\": 0.5550200803212851,<br>    \"macs\": 203686656.0,<br>    \"model_parameters\": 4430595,<br>    \"model_size_mb\": 16.910154342651367,<br>    \"time_avg_ms\": 0.3751592469935337,<br>    \"time_std_ms\": 0.0011354504242117546<br>  }<br>}",
          "{<br>  \"number\": 76,<br>  \"values\": [<br>    0.9503639783614721<br>  ],<br>  \"params\": {<br>    \"epochs\": 15,<br>    \"freeze_pretrained_embeddings\": false,<br>    \"hidden_dim\": 128,<br>    \"learning_rate\": 0.00040050517913081847,<br>    \"num_ffnn_layers\": 2,<br>    \"num_layers\": 1,<br>    \"use_pretrained_embeddings\": true<br>  },<br>  \"user_attrs\": {<br>    \"accuracy\": 0.5586345381526104,<br>    \"macs\": 203686656.0,<br>    \"model_parameters\": 4430595,<br>    \"model_size_mb\": 16.910154342651367,<br>    \"time_avg_ms\": 0.37317937553933495,<br>    \"time_std_ms\": 0.0031724198549360825<br>  }<br>}",
          "{<br>  \"number\": 79,<br>  \"values\": [<br>    0.9540802912834363<br>  ],<br>  \"params\": {<br>    \"epochs\": 13,<br>    \"freeze_pretrained_embeddings\": false,<br>    \"hidden_dim\": 128,<br>    \"learning_rate\": 0.00034610556750912203,<br>    \"num_ffnn_layers\": 2,<br>    \"num_layers\": 1,<br>    \"use_pretrained_embeddings\": true<br>  },<br>  \"user_attrs\": {<br>    \"accuracy\": 0.5646586345381526,<br>    \"macs\": 203686656.0,<br>    \"model_parameters\": 4430595,<br>    \"model_size_mb\": 16.910154342651367,<br>    \"time_avg_ms\": 0.37523615173995495,<br>    \"time_std_ms\": 0.0020629979698192566<br>  }<br>}",
          "{<br>  \"number\": 92,<br>  \"values\": [<br>    0.9483534097671509<br>  ],<br>  \"params\": {<br>    \"epochs\": 26,<br>    \"freeze_pretrained_embeddings\": false,<br>    \"hidden_dim\": 768,<br>    \"learning_rate\": 0.00015406813448762206,<br>    \"num_ffnn_layers\": 1,<br>    \"num_layers\": 2,<br>    \"use_pretrained_embeddings\": true<br>  },<br>  \"user_attrs\": {<br>    \"accuracy\": 0.5650602409638554,<br>    \"macs\": 11299721728.0,<br>    \"model_parameters\": 26084867,<br>    \"model_size_mb\": 99.51471328735352,<br>    \"time_avg_ms\": 0.41716223906563676,<br>    \"time_std_ms\": 0.0015878039979634409<br>  }<br>}",
          "{<br>  \"number\": 95,<br>  \"values\": [<br>    0.9508934999123598<br>  ],<br>  \"params\": {<br>    \"epochs\": 18,<br>    \"freeze_pretrained_embeddings\": false,<br>    \"hidden_dim\": 256,<br>    \"learning_rate\": 0.0004946523565003151,<br>    \"num_ffnn_layers\": 2,<br>    \"num_layers\": 1,<br>    \"use_pretrained_embeddings\": true<br>  },<br>  \"user_attrs\": {<br>    \"accuracy\": 0.563855421686747,<br>    \"macs\": 675546624.0,<br>    \"model_parameters\": 5351427,<br>    \"model_size_mb\": 20.422849655151367,<br>    \"time_avg_ms\": 0.4134156260189119,<br>    \"time_std_ms\": 0.0015012155138882494<br>  }<br>}",
          "{<br>  \"number\": 106,<br>  \"values\": [<br>    0.9507976113221585<br>  ],<br>  \"params\": {<br>    \"epochs\": 18,<br>    \"freeze_pretrained_embeddings\": false,<br>    \"hidden_dim\": 128,<br>    \"learning_rate\": 0.0006068504317812656,<br>    \"num_ffnn_layers\": 2,<br>    \"num_layers\": 1,<br>    \"use_pretrained_embeddings\": true<br>  },<br>  \"user_attrs\": {<br>    \"accuracy\": 0.5546184738955823,<br>    \"macs\": 203686656.0,<br>    \"model_parameters\": 4430595,<br>    \"model_size_mb\": 16.910154342651367,<br>    \"time_avg_ms\": 0.3989888503751222,<br>    \"time_std_ms\": 0.0018681404011813764<br>  }<br>}",
          "{<br>  \"number\": 127,<br>  \"values\": [<br>    0.9488074962909405<br>  ],<br>  \"params\": {<br>    \"epochs\": 29,<br>    \"freeze_pretrained_embeddings\": false,<br>    \"hidden_dim\": 128,<br>    \"learning_rate\": 0.0005821205339837451,<br>    \"num_ffnn_layers\": 2,<br>    \"num_layers\": 1,<br>    \"use_pretrained_embeddings\": true<br>  },<br>  \"user_attrs\": {<br>    \"accuracy\": 0.5630522088353414,<br>    \"macs\": 203686656.0,<br>    \"model_parameters\": 4430595,<br>    \"model_size_mb\": 16.910154342651367,<br>    \"time_avg_ms\": 0.367238291630656,<br>    \"time_std_ms\": 0.0015251594735037723<br>  }<br>}",
          "{<br>  \"number\": 128,<br>  \"values\": [<br>    1.0219842669291375<br>  ],<br>  \"params\": {<br>    \"epochs\": 12,<br>    \"freeze_pretrained_embeddings\": true,<br>    \"hidden_dim\": 384,<br>    \"learning_rate\": 2.7176277055296794e-05,<br>    \"num_ffnn_layers\": 0,<br>    \"num_layers\": 2,<br>    \"use_pretrained_embeddings\": false<br>  },<br>  \"user_attrs\": {<br>    \"accuracy\": 0.5076305220883535,<br>    \"macs\": 2630093056.0,<br>    \"model_parameters\": 9160451,<br>    \"model_size_mb\": 34.95258617401123,<br>    \"time_avg_ms\": 0.3496730875895082,<br>    \"time_std_ms\": 0.002263100672350736<br>  }<br>}",
          "{<br>  \"number\": 130,<br>  \"values\": [<br>    0.9908590011107616<br>  ],<br>  \"params\": {<br>    \"epochs\": 1,<br>    \"freeze_pretrained_embeddings\": true,<br>    \"hidden_dim\": 384,<br>    \"learning_rate\": 0.0003303273863832283,<br>    \"num_ffnn_layers\": 2,<br>    \"num_layers\": 2,<br>    \"use_pretrained_embeddings\": false<br>  },<br>  \"user_attrs\": {<br>    \"accuracy\": 0.519277108433735,<br>    \"macs\": 3234072832.0,<br>    \"model_parameters\": 10341635,<br>    \"model_size_mb\": 39.45977592468262,<br>    \"time_avg_ms\": 0.43116968297509606,<br>    \"time_std_ms\": 0.0015940249992016005<br>  }<br>}",
          "{<br>  \"number\": 132,<br>  \"values\": [<br>    1.055333490555103<br>  ],<br>  \"params\": {<br>    \"epochs\": 5,<br>    \"freeze_pretrained_embeddings\": true,<br>    \"hidden_dim\": 256,<br>    \"learning_rate\": 0.0007630483726705063,<br>    \"num_ffnn_layers\": 1,<br>    \"num_layers\": 1,<br>    \"use_pretrained_embeddings\": true<br>  },<br>  \"user_attrs\": {<br>    \"accuracy\": 0.5020080321285141,<br>    \"macs\": 541328896.0,<br>    \"model_parameters\": 5088771,<br>    \"model_size_mb\": 19.420230865478516,<br>    \"time_avg_ms\": 0.35620033740997314,<br>    \"time_std_ms\": 0.001983707707112725<br>  }<br>}",
          "{<br>  \"number\": 139,<br>  \"values\": [<br>    0.9971332213817499<br>  ],<br>  \"params\": {<br>    \"epochs\": 6,<br>    \"freeze_pretrained_embeddings\": false,<br>    \"hidden_dim\": 512,<br>    \"learning_rate\": 0.0009407885277691605,<br>    \"num_ffnn_layers\": 1,<br>    \"num_layers\": 1,<br>    \"use_pretrained_embeddings\": true<br>  },<br>  \"user_attrs\": {<br>    \"accuracy\": 0.5437751004016064,<br>    \"macs\": 1887702016.0,<br>    \"model_parameters\": 7716355,<br>    \"model_size_mb\": 29.443668365478516,<br>    \"time_avg_ms\": 0.3481691846900503,<br>    \"time_std_ms\": 0.0011242174004999356<br>  }<br>}",
          "{<br>  \"number\": 140,<br>  \"values\": [<br>    0.9706434913170643<br>  ],<br>  \"params\": {<br>    \"epochs\": 22,<br>    \"freeze_pretrained_embeddings\": true,<br>    \"hidden_dim\": 512,<br>    \"learning_rate\": 0.0006487560676998994,<br>    \"num_ffnn_layers\": 0,<br>    \"num_layers\": 2,<br>    \"use_pretrained_embeddings\": false<br>  },<br>  \"user_attrs\": {<br>    \"accuracy\": 0.5542168674698795,<br>    \"macs\": 4580445184.0,<br>    \"model_parameters\": 12966403,<br>    \"model_size_mb\": 49.47114086151123,<br>    \"time_avg_ms\": 0.3432008048637327,<br>    \"time_std_ms\": 0.0027529608650260127<br>  }<br>}",
          "{<br>  \"number\": 141,<br>  \"values\": [<br>    1.0168929864198735<br>  ],<br>  \"params\": {<br>    \"epochs\": 1,<br>    \"freeze_pretrained_embeddings\": true,<br>    \"hidden_dim\": 256,<br>    \"learning_rate\": 0.0006954793034479635,<br>    \"num_ffnn_layers\": 1,<br>    \"num_layers\": 1,<br>    \"use_pretrained_embeddings\": true<br>  },<br>  \"user_attrs\": {<br>    \"accuracy\": 0.5020080321285141,<br>    \"macs\": 541328896.0,<br>    \"model_parameters\": 5088771,<br>    \"model_size_mb\": 19.420230865478516,<br>    \"time_avg_ms\": 0.3419597344079793,<br>    \"time_std_ms\": 0.002772960292101828<br>  }<br>}",
          "{<br>  \"number\": 144,<br>  \"values\": [<br>    0.9529685209958981<br>  ],<br>  \"params\": {<br>    \"epochs\": 7,<br>    \"freeze_pretrained_embeddings\": false,<br>    \"hidden_dim\": 640,<br>    \"learning_rate\": 0.0003992539160631163,<br>    \"num_ffnn_layers\": 0,<br>    \"num_layers\": 2,<br>    \"use_pretrained_embeddings\": true<br>  },<br>  \"user_attrs\": {<br>    \"accuracy\": 0.551004016064257,<br>    \"macs\": 7067668224.0,<br>    \"model_parameters\": 17820931,<br>    \"model_size_mb\": 67.98969554901123,<br>    \"time_avg_ms\": 0.33579610088340456,<br>    \"time_std_ms\": 0.003393493677817097<br>  }<br>}",
          "{<br>  \"number\": 148,<br>  \"values\": [<br>    0.9764050902464451<br>  ],<br>  \"params\": {<br>    \"epochs\": 14,<br>    \"freeze_pretrained_embeddings\": true,<br>    \"hidden_dim\": 512,<br>    \"learning_rate\": 0.00022363672684832682,<br>    \"num_ffnn_layers\": 2,<br>    \"num_layers\": 1,<br>    \"use_pretrained_embeddings\": false<br>  },<br>  \"user_attrs\": {<br>    \"accuracy\": 0.5493975903614458,<br>    \"macs\": 2424572928.0,<br>    \"model_parameters\": 8765955,<br>    \"model_size_mb\": 33.44824028015137,<br>    \"time_avg_ms\": 0.3938095625017013,<br>    \"time_std_ms\": 0.0012273894801860508<br>  }<br>}",
          "{<br>  \"number\": 154,<br>  \"values\": [<br>    0.9558826761367993<br>  ],<br>  \"params\": {<br>    \"epochs\": 9,<br>    \"freeze_pretrained_embeddings\": false,<br>    \"hidden_dim\": 384,<br>    \"learning_rate\": 0.0008244137889145929,<br>    \"num_ffnn_layers\": 1,<br>    \"num_layers\": 1,<br>    \"use_pretrained_embeddings\": true<br>  },<br>  \"user_attrs\": {<br>    \"accuracy\": 0.5626506024096386,<br>    \"macs\": 1113852160.0,<br>    \"model_parameters\": 6205955,<br>    \"model_size_mb\": 23.681949615478516,<br>    \"time_avg_ms\": 0.3392121722555757,<br>    \"time_std_ms\": 0.0011762031430095124<br>  }<br>}",
          "{<br>  \"number\": 157,<br>  \"values\": [<br>    0.9593951793817374<br>  ],<br>  \"params\": {<br>    \"epochs\": 9,<br>    \"freeze_pretrained_embeddings\": false,<br>    \"hidden_dim\": 256,<br>    \"learning_rate\": 0.0004225658231219509,<br>    \"num_ffnn_layers\": 0,<br>    \"num_layers\": 1,<br>    \"use_pretrained_embeddings\": true<br>  },<br>  \"user_attrs\": {<br>    \"accuracy\": 0.555421686746988,<br>    \"macs\": 407111168.0,<br>    \"model_parameters\": 4826115,<br>    \"model_size_mb\": 18.41761302947998,<br>    \"time_avg_ms\": 0.2934214092998776,<br>    \"time_std_ms\": 0.005680732930846095<br>  }<br>}",
          "{<br>  \"number\": 160,<br>  \"values\": [<br>    1.1010560332200465<br>  ],<br>  \"params\": {<br>    \"epochs\": 8,<br>    \"freeze_pretrained_embeddings\": false,<br>    \"hidden_dim\": 512,<br>    \"learning_rate\": 5.181467845231157e-05,<br>    \"num_ffnn_layers\": 3,<br>    \"num_layers\": 1,<br>    \"use_pretrained_embeddings\": true<br>  },<br>  \"user_attrs\": {<br>    \"accuracy\": 0.43012048192771085,<br>    \"macs\": 2961443840.0,<br>    \"model_parameters\": 9815555,<br>    \"model_size_mb\": 37.45281219482422,<br>    \"time_avg_ms\": 0.45412956618141226,<br>    \"time_std_ms\": 0.009189559062949897<br>  }<br>}",
          "{<br>  \"number\": 161,<br>  \"values\": [<br>    0.9553201168011396<br>  ],<br>  \"params\": {<br>    \"epochs\": 14,<br>    \"freeze_pretrained_embeddings\": false,<br>    \"hidden_dim\": 256,<br>    \"learning_rate\": 0.0006258109483714201,<br>    \"num_ffnn_layers\": 0,<br>    \"num_layers\": 1,<br>    \"use_pretrained_embeddings\": true<br>  },<br>  \"user_attrs\": {<br>    \"accuracy\": 0.565863453815261,<br>    \"macs\": 407111168.0,<br>    \"model_parameters\": 4826115,<br>    \"model_size_mb\": 18.41761302947998,<br>    \"time_avg_ms\": 0.28716886124670904,<br>    \"time_std_ms\": 0.0024293783920998277<br>  }<br>}",
          "{<br>  \"number\": 168,<br>  \"values\": [<br>    0.9477890332539877<br>  ],<br>  \"params\": {<br>    \"epochs\": 6,<br>    \"freeze_pretrained_embeddings\": false,<br>    \"hidden_dim\": 768,<br>    \"learning_rate\": 0.00018303282853028972,<br>    \"num_ffnn_layers\": 0,<br>    \"num_layers\": 2,<br>    \"use_pretrained_embeddings\": true<br>  },<br>  \"user_attrs\": {<br>    \"accuracy\": 0.5682730923694779,<br>    \"macs\": 10091762176.0,<br>    \"model_parameters\": 23724035,<br>    \"model_size_mb\": 90.50825023651123,<br>    \"time_avg_ms\": 0.3734626294362336,<br>    \"time_std_ms\": 0.0375174014156844<br>  }<br>}",
          "{<br>  \"number\": 171,<br>  \"values\": [<br>    0.9565021288700593<br>  ],<br>  \"params\": {<br>    \"epochs\": 18,<br>    \"freeze_pretrained_embeddings\": false,<br>    \"hidden_dim\": 256,<br>    \"learning_rate\": 0.0007875774545600081,<br>    \"num_ffnn_layers\": 3,<br>    \"num_layers\": 2,<br>    \"use_pretrained_embeddings\": true<br>  },<br>  \"user_attrs\": {<br>    \"accuracy\": 0.5522088353413654,<br>    \"macs\": 1619265024.0,<br>    \"model_parameters\": 7191043,<br>    \"model_size_mb\": 27.44200897216797,<br>    \"time_avg_ms\": 0.4901321047983338,<br>    \"time_std_ms\": 0.0013325511623922105<br>  }<br>}",
          "{<br>  \"number\": 177,<br>  \"values\": [<br>    0.9523017834394406<br>  ],<br>  \"params\": {<br>    \"epochs\": 11,<br>    \"freeze_pretrained_embeddings\": false,<br>    \"hidden_dim\": 128,<br>    \"learning_rate\": 0.0004657241670828082,<br>    \"num_ffnn_layers\": 2,<br>    \"num_layers\": 1,<br>    \"use_pretrained_embeddings\": true<br>  },<br>  \"user_attrs\": {<br>    \"accuracy\": 0.5590361445783133,<br>    \"macs\": 203686656.0,<br>    \"model_parameters\": 4430595,<br>    \"model_size_mb\": 16.910154342651367,<br>    \"time_avg_ms\": 0.3805901411080571,<br>    \"time_std_ms\": 0.0010579905458873444<br>  }<br>}",
          "{<br>  \"number\": 178,<br>  \"values\": [<br>    0.9525717221773587<br>  ],<br>  \"params\": {<br>    \"epochs\": 10,<br>    \"freeze_pretrained_embeddings\": false,<br>    \"hidden_dim\": 128,<br>    \"learning_rate\": 0.0006044232543550331,<br>    \"num_ffnn_layers\": 2,<br>    \"num_layers\": 1,<br>    \"use_pretrained_embeddings\": true<br>  },<br>  \"user_attrs\": {<br>    \"accuracy\": 0.5534136546184739,<br>    \"macs\": 203686656.0,<br>    \"model_parameters\": 4430595,<br>    \"model_size_mb\": 16.910154342651367,<br>    \"time_avg_ms\": 0.36062111742447744,<br>    \"time_std_ms\": 0.0016014018092931387<br>  }<br>}",
          "{<br>  \"number\": 181,<br>  \"values\": [<br>    0.9565970209928659<br>  ],<br>  \"params\": {<br>    \"epochs\": 2,<br>    \"freeze_pretrained_embeddings\": false,<br>    \"hidden_dim\": 768,<br>    \"learning_rate\": 0.0009114395010337978,<br>    \"num_ffnn_layers\": 0,<br>    \"num_layers\": 1,<br>    \"use_pretrained_embeddings\": true<br>  },<br>  \"user_attrs\": {<br>    \"accuracy\": 0.5626506024096386,<br>    \"macs\": 2831421952.0,<br>    \"model_parameters\": 9555971,<br>    \"model_size_mb\": 36.46058177947998,<br>    \"time_avg_ms\": 0.29107641034314813,<br>    \"time_std_ms\": 0.001287036981666851<br>  }<br>}",
          "{<br>  \"number\": 183,<br>  \"values\": [<br>    0.9491461744675269<br>  ],<br>  \"params\": {<br>    \"epochs\": 9,<br>    \"freeze_pretrained_embeddings\": false,<br>    \"hidden_dim\": 640,<br>    \"learning_rate\": 0.000460656581247377,<br>    \"num_ffnn_layers\": 0,<br>    \"num_layers\": 1,<br>    \"use_pretrained_embeddings\": true<br>  },<br>  \"user_attrs\": {<br>    \"accuracy\": 0.5706827309236948,<br>    \"macs\": 2024017664.0,<br>    \"model_parameters\": 7980291,<br>    \"model_size_mb\": 30.44983959197998,<br>    \"time_avg_ms\": 0.2998062553431621,<br>    \"time_std_ms\": 0.00460956451601497<br>  }<br>}",
          "{<br>  \"number\": 189,<br>  \"values\": [<br>    0.9498164669061319<br>  ],<br>  \"params\": {<br>    \"epochs\": 24,<br>    \"freeze_pretrained_embeddings\": false,<br>    \"hidden_dim\": 768,<br>    \"learning_rate\": 0.00038561416379763593,<br>    \"num_ffnn_layers\": 0,<br>    \"num_layers\": 1,<br>    \"use_pretrained_embeddings\": true<br>  },<br>  \"user_attrs\": {<br>    \"accuracy\": 0.5630522088353414,<br>    \"macs\": 2831421952.0,<br>    \"model_parameters\": 9555971,<br>    \"model_size_mb\": 36.46058177947998,<br>    \"time_avg_ms\": 0.29701332561998744,<br>    \"time_std_ms\": 0.002967153974249945<br>  }<br>}",
          "{<br>  \"number\": 190,<br>  \"values\": [<br>    0.950621138780545<br>  ],<br>  \"params\": {<br>    \"epochs\": 14,<br>    \"freeze_pretrained_embeddings\": false,<br>    \"hidden_dim\": 128,<br>    \"learning_rate\": 0.0005113417347525974,<br>    \"num_ffnn_layers\": 2,<br>    \"num_layers\": 1,<br>    \"use_pretrained_embeddings\": true<br>  },<br>  \"user_attrs\": {<br>    \"accuracy\": 0.5590361445783133,<br>    \"macs\": 203686656.0,<br>    \"model_parameters\": 4430595,<br>    \"model_size_mb\": 16.910154342651367,<br>    \"time_avg_ms\": 0.37470100037405674,<br>    \"time_std_ms\": 0.0020936380313186444<br>  }<br>}",
          "{<br>  \"number\": 192,<br>  \"values\": [<br>    0.9477417698273292<br>  ],<br>  \"params\": {<br>    \"epochs\": 24,<br>    \"freeze_pretrained_embeddings\": false,<br>    \"hidden_dim\": 768,<br>    \"learning_rate\": 0.0003701203331213233,<br>    \"num_ffnn_layers\": 0,<br>    \"num_layers\": 1,<br>    \"use_pretrained_embeddings\": true<br>  },<br>  \"user_attrs\": {<br>    \"accuracy\": 0.5678714859437751,<br>    \"macs\": 2831421952.0,<br>    \"model_parameters\": 9555971,<br>    \"model_size_mb\": 36.46058177947998,<br>    \"time_avg_ms\": 0.2954117454854505,<br>    \"time_std_ms\": 0.002178461710304707<br>  }<br>}",
          "{<br>  \"number\": 194,<br>  \"values\": [<br>    0.9441046072886541<br>  ],<br>  \"params\": {<br>    \"epochs\": 25,<br>    \"freeze_pretrained_embeddings\": false,<br>    \"hidden_dim\": 768,<br>    \"learning_rate\": 0.0003836866334060452,<br>    \"num_ffnn_layers\": 0,<br>    \"num_layers\": 1,<br>    \"use_pretrained_embeddings\": true<br>  },<br>  \"user_attrs\": {<br>    \"accuracy\": 0.5666666666666667,<br>    \"macs\": 2831421952.0,<br>    \"model_parameters\": 9555971,<br>    \"model_size_mb\": 36.46058177947998,<br>    \"time_avg_ms\": 0.3034531901096088,<br>    \"time_std_ms\": 0.001998077837934126<br>  }<br>}",
          "{<br>  \"number\": 195,<br>  \"values\": [<br>    0.9475680467409965<br>  ],<br>  \"params\": {<br>    \"epochs\": 25,<br>    \"freeze_pretrained_embeddings\": false,<br>    \"hidden_dim\": 768,<br>    \"learning_rate\": 0.0003730421608579656,<br>    \"num_ffnn_layers\": 0,<br>    \"num_layers\": 1,<br>    \"use_pretrained_embeddings\": true<br>  },<br>  \"user_attrs\": {<br>    \"accuracy\": 0.5630522088353414,<br>    \"macs\": 2831421952.0,<br>    \"model_parameters\": 9555971,<br>    \"model_size_mb\": 36.46058177947998,<br>    \"time_avg_ms\": 0.30636807836283503,<br>    \"time_std_ms\": 0.0016800708159311038<br>  }<br>}",
          "{<br>  \"number\": 197,<br>  \"values\": [<br>    0.9465042658341236<br>  ],<br>  \"params\": {<br>    \"epochs\": 23,<br>    \"freeze_pretrained_embeddings\": false,<br>    \"hidden_dim\": 768,<br>    \"learning_rate\": 0.0003919019304345698,<br>    \"num_ffnn_layers\": 0,<br>    \"num_layers\": 1,<br>    \"use_pretrained_embeddings\": true<br>  },<br>  \"user_attrs\": {<br>    \"accuracy\": 0.5662650602409639,<br>    \"macs\": 2831421952.0,<br>    \"model_parameters\": 9555971,<br>    \"model_size_mb\": 36.46058177947998,<br>    \"time_avg_ms\": 0.3061710422801014,<br>    \"time_std_ms\": 0.0017906808295165004<br>  }<br>}",
          "{<br>  \"number\": 198,<br>  \"values\": [<br>    0.9743382212443229<br>  ],<br>  \"params\": {<br>    \"epochs\": 22,<br>    \"freeze_pretrained_embeddings\": true,<br>    \"hidden_dim\": 256,<br>    \"learning_rate\": 0.0008716892069272439,<br>    \"num_ffnn_layers\": 3,<br>    \"num_layers\": 2,<br>    \"use_pretrained_embeddings\": false<br>  },<br>  \"user_attrs\": {<br>    \"accuracy\": 0.5248995983935743,<br>    \"macs\": 1619265024.0,<br>    \"model_parameters\": 7191043,<br>    \"model_size_mb\": 27.44200897216797,<br>    \"time_avg_ms\": 0.49068789990592954,<br>    \"time_std_ms\": 0.0016022682376838516<br>  }<br>}",
          "{<br>  \"number\": 199,<br>  \"values\": [<br>    0.9778203597435584<br>  ],<br>  \"params\": {<br>    \"epochs\": 18,<br>    \"freeze_pretrained_embeddings\": false,<br>    \"hidden_dim\": 256,<br>    \"learning_rate\": 0.0007897559978194514,<br>    \"num_ffnn_layers\": 3,<br>    \"num_layers\": 2,<br>    \"use_pretrained_embeddings\": true<br>  },<br>  \"user_attrs\": {<br>    \"accuracy\": 0.5349397590361445,<br>    \"macs\": 1619265024.0,<br>    \"model_parameters\": 7191043,<br>    \"model_size_mb\": 27.44200897216797,<br>    \"time_avg_ms\": 0.4657045745261712,<br>    \"time_std_ms\": 0.001427878757952991<br>  }<br>}",
          "{<br>  \"number\": 203,<br>  \"values\": [<br>    0.9487689015192863<br>  ],<br>  \"params\": {<br>    \"epochs\": 25,<br>    \"freeze_pretrained_embeddings\": false,<br>    \"hidden_dim\": 768,<br>    \"learning_rate\": 0.00039314719337908016,<br>    \"num_ffnn_layers\": 0,<br>    \"num_layers\": 1,<br>    \"use_pretrained_embeddings\": true<br>  },<br>  \"user_attrs\": {<br>    \"accuracy\": 0.5682730923694779,<br>    \"macs\": 2831421952.0,<br>    \"model_parameters\": 9555971,<br>    \"model_size_mb\": 36.46058177947998,<br>    \"time_avg_ms\": 0.2976134902440963,<br>    \"time_std_ms\": 0.003220809907888042<br>  }<br>}",
          "{<br>  \"number\": 207,<br>  \"values\": [<br>    0.9928290920379834<br>  ],<br>  \"params\": {<br>    \"epochs\": 2,<br>    \"freeze_pretrained_embeddings\": true,<br>    \"hidden_dim\": 512,<br>    \"learning_rate\": 0.00025809964001511726,<br>    \"num_ffnn_layers\": 2,<br>    \"num_layers\": 2,<br>    \"use_pretrained_embeddings\": true<br>  },<br>  \"user_attrs\": {<br>    \"accuracy\": 0.5160642570281124,<br>    \"macs\": 5654187008.0,<br>    \"model_parameters\": 15065603,<br>    \"model_size_mb\": 57.48028373718262,<br>    \"time_avg_ms\": 0.44513926606706095,<br>    \"time_std_ms\": 0.002001982223707215<br>  }<br>}",
          "{<br>  \"number\": 215,<br>  \"values\": [<br>    0.9485411491149511<br>  ],<br>  \"params\": {<br>    \"epochs\": 11,<br>    \"freeze_pretrained_embeddings\": false,<br>    \"hidden_dim\": 768,<br>    \"learning_rate\": 9.64125497897525e-05,<br>    \"num_ffnn_layers\": 0,<br>    \"num_layers\": 2,<br>    \"use_pretrained_embeddings\": true<br>  },<br>  \"user_attrs\": {<br>    \"accuracy\": 0.5630522088353414,<br>    \"macs\": 10091762176.0,<br>    \"model_parameters\": 23724035,<br>    \"model_size_mb\": 90.50825023651123,<br>    \"time_avg_ms\": 0.3308922581388341,<br>    \"time_std_ms\": 0.0010454193204168154<br>  }<br>}",
          "{<br>  \"number\": 219,<br>  \"values\": [<br>    0.9812047863617922<br>  ],<br>  \"params\": {<br>    \"epochs\": 25,<br>    \"freeze_pretrained_embeddings\": false,<br>    \"hidden_dim\": 384,<br>    \"learning_rate\": 0.0009110179864647531,<br>    \"num_ffnn_layers\": 2,<br>    \"num_layers\": 2,<br>    \"use_pretrained_embeddings\": true<br>  },<br>  \"user_attrs\": {<br>    \"accuracy\": 0.5405622489959839,<br>    \"macs\": 3234072832.0,<br>    \"model_parameters\": 10341635,<br>    \"model_size_mb\": 39.45977592468262,<br>    \"time_avg_ms\": 0.44890642796720687,<br>    \"time_std_ms\": 0.008281275278060657<br>  }<br>}",
          "{<br>  \"number\": 220,<br>  \"values\": [<br>    0.9529737967711228<br>  ],<br>  \"params\": {<br>    \"epochs\": 17,<br>    \"freeze_pretrained_embeddings\": false,<br>    \"hidden_dim\": 256,<br>    \"learning_rate\": 0.00046194556374037075,<br>    \"num_ffnn_layers\": 3,<br>    \"num_layers\": 2,<br>    \"use_pretrained_embeddings\": true<br>  },<br>  \"user_attrs\": {<br>    \"accuracy\": 0.5477911646586345,<br>    \"macs\": 1619265024.0,<br>    \"model_parameters\": 7191043,<br>    \"model_size_mb\": 27.44200897216797,<br>    \"time_avg_ms\": 0.4743967134693756,<br>    \"time_std_ms\": 0.0020669672174949837<br>  }<br>}",
          "{<br>  \"number\": 221,<br>  \"values\": [<br>    0.9629269333986136<br>  ],<br>  \"params\": {<br>    \"epochs\": 4,<br>    \"freeze_pretrained_embeddings\": false,<br>    \"hidden_dim\": 128,<br>    \"learning_rate\": 0.0007135215755170809,<br>    \"num_ffnn_layers\": 1,<br>    \"num_layers\": 1,<br>    \"use_pretrained_embeddings\": true<br>  },<br>  \"user_attrs\": {<br>    \"accuracy\": 0.5614457831325301,<br>    \"macs\": 170132224.0,<br>    \"model_parameters\": 4364803,<br>    \"model_size_mb\": 16.658512115478516,<br>    \"time_avg_ms\": 0.32940851524472237,<br>    \"time_std_ms\": 0.0014324076291415042<br>  }<br>}",
          "{<br>  \"number\": 229,<br>  \"values\": [<br>    0.9528936499204391<br>  ],<br>  \"params\": {<br>    \"epochs\": 4,<br>    \"freeze_pretrained_embeddings\": false,<br>    \"hidden_dim\": 768,<br>    \"learning_rate\": 0.00022755843523809407,<br>    \"num_ffnn_layers\": 0,<br>    \"num_layers\": 2,<br>    \"use_pretrained_embeddings\": true<br>  },<br>  \"user_attrs\": {<br>    \"accuracy\": 0.5714859437751004,<br>    \"macs\": 10091762176.0,<br>    \"model_parameters\": 23724035,<br>    \"model_size_mb\": 90.50825023651123,<br>    \"time_avg_ms\": 0.4217186206369661,<br>    \"time_std_ms\": 0.08301156372887195<br>  }<br>}",
          "{<br>  \"number\": 235,<br>  \"values\": [<br>    0.9690937644396073<br>  ],<br>  \"params\": {<br>    \"epochs\": 17,<br>    \"freeze_pretrained_embeddings\": false,<br>    \"hidden_dim\": 256,<br>    \"learning_rate\": 0.0006013312132349628,<br>    \"num_ffnn_layers\": 3,<br>    \"num_layers\": 2,<br>    \"use_pretrained_embeddings\": true<br>  },<br>  \"user_attrs\": {<br>    \"accuracy\": 0.5373493975903615,<br>    \"macs\": 1619265024.0,<br>    \"model_parameters\": 7191043,<br>    \"model_size_mb\": 27.44200897216797,<br>    \"time_avg_ms\": 0.4736860447219047,<br>    \"time_std_ms\": 0.0015679508656597414<br>  }<br>}",
          "{<br>  \"number\": 236,<br>  \"values\": [<br>    0.9481820662816366<br>  ],<br>  \"params\": {<br>    \"epochs\": 24,<br>    \"freeze_pretrained_embeddings\": false,<br>    \"hidden_dim\": 768,<br>    \"learning_rate\": 0.00017934153946515057,<br>    \"num_ffnn_layers\": 0,<br>    \"num_layers\": 2,<br>    \"use_pretrained_embeddings\": true<br>  },<br>  \"user_attrs\": {<br>    \"accuracy\": 0.5751004016064257,<br>    \"macs\": 10091762176.0,<br>    \"model_parameters\": 23724035,<br>    \"model_size_mb\": 90.50825023651123,<br>    \"time_avg_ms\": 0.3453678455316349,<br>    \"time_std_ms\": 0.0010883087691880072<br>  }<br>}",
          "{<br>  \"number\": 239,<br>  \"values\": [<br>    0.9540965358416239<br>  ],<br>  \"params\": {<br>    \"epochs\": 4,<br>    \"freeze_pretrained_embeddings\": false,<br>    \"hidden_dim\": 768,<br>    \"learning_rate\": 9.04962370915484e-05,<br>    \"num_ffnn_layers\": 0,<br>    \"num_layers\": 2,<br>    \"use_pretrained_embeddings\": true<br>  },<br>  \"user_attrs\": {<br>    \"accuracy\": 0.565863453815261,<br>    \"macs\": 10091762176.0,<br>    \"model_parameters\": 23724035,<br>    \"model_size_mb\": 90.50825023651123,<br>    \"time_avg_ms\": 0.33849661455557606,<br>    \"time_std_ms\": 0.001550747873886741<br>  }<br>}",
          "{<br>  \"number\": 241,<br>  \"values\": [<br>    0.9482754805149176<br>  ],<br>  \"params\": {<br>    \"epochs\": 26,<br>    \"freeze_pretrained_embeddings\": false,<br>    \"hidden_dim\": 640,<br>    \"learning_rate\": 0.00019055330971501122,<br>    \"num_ffnn_layers\": 1,<br>    \"num_layers\": 2,<br>    \"use_pretrained_embeddings\": true<br>  },<br>  \"user_attrs\": {<br>    \"accuracy\": 0.5654618473895582,<br>    \"macs\": 7906529024.0,<br>    \"model_parameters\": 19460611,<br>    \"model_size_mb\": 74.24518203735352,<br>    \"time_avg_ms\": 0.40096410071435434,<br>    \"time_std_ms\": 0.004225952326564581<br>  }<br>}",
          "{<br>  \"number\": 243,<br>  \"values\": [<br>    0.947672976897313<br>  ],<br>  \"params\": {<br>    \"epochs\": 26,<br>    \"freeze_pretrained_embeddings\": false,<br>    \"hidden_dim\": 640,<br>    \"learning_rate\": 0.0002018631777316591,<br>    \"num_ffnn_layers\": 1,<br>    \"num_layers\": 2,<br>    \"use_pretrained_embeddings\": true<br>  },<br>  \"user_attrs\": {<br>    \"accuracy\": 0.5650602409638554,<br>    \"macs\": 7906529024.0,<br>    \"model_parameters\": 19460611,<br>    \"model_size_mb\": 74.24518203735352,<br>    \"time_avg_ms\": 0.400186233243651,<br>    \"time_std_ms\": 0.012351778157393196<br>  }<br>}",
          "{<br>  \"number\": 247,<br>  \"values\": [<br>    0.9674155437029325<br>  ],<br>  \"params\": {<br>    \"epochs\": 14,<br>    \"freeze_pretrained_embeddings\": false,<br>    \"hidden_dim\": 128,<br>    \"learning_rate\": 0.0006782105742303484,<br>    \"num_ffnn_layers\": 3,<br>    \"num_layers\": 2,<br>    \"use_pretrained_embeddings\": true<br>  },<br>  \"user_attrs\": {<br>    \"accuracy\": 0.5381526104417671,<br>    \"macs\": 440664832.0,<br>    \"model_parameters\": 4891651,<br>    \"model_size_mb\": 18.67052459716797,<br>    \"time_avg_ms\": 0.4270976045145056,<br>    \"time_std_ms\": 0.0014364625824093854<br>  }<br>}",
          "{<br>  \"number\": 248,<br>  \"values\": [<br>    1.0381043018438878<br>  ],<br>  \"params\": {<br>    \"epochs\": 24,<br>    \"freeze_pretrained_embeddings\": false,<br>    \"hidden_dim\": 640,<br>    \"learning_rate\": 0.0004859492856674357,<br>    \"num_ffnn_layers\": 2,<br>    \"num_layers\": 2,<br>    \"use_pretrained_embeddings\": true<br>  },<br>  \"user_attrs\": {<br>    \"accuracy\": 0.5590361445783133,<br>    \"macs\": 8745389824.0,<br>    \"model_parameters\": 21100291,<br>    \"model_size_mb\": 80.50079154968262,<br>    \"time_avg_ms\": 0.4459234859244502,<br>    \"time_std_ms\": 0.0016223389659493646<br>  }<br>}",
          "{<br>  \"number\": 251,<br>  \"values\": [<br>    0.9506471202923701<br>  ],<br>  \"params\": {<br>    \"epochs\": 14,<br>    \"freeze_pretrained_embeddings\": false,<br>    \"hidden_dim\": 256,<br>    \"learning_rate\": 0.000521735208847751,<br>    \"num_ffnn_layers\": 2,<br>    \"num_layers\": 1,<br>    \"use_pretrained_embeddings\": true<br>  },<br>  \"user_attrs\": {<br>    \"accuracy\": 0.5542168674698795,<br>    \"macs\": 675546624.0,<br>    \"model_parameters\": 5351427,<br>    \"model_size_mb\": 20.422849655151367,<br>    \"time_avg_ms\": 0.404603677129166,<br>    \"time_std_ms\": 0.001375113500611338<br>  }<br>}",
          "{<br>  \"number\": 254,<br>  \"values\": [<br>    0.9669541227511871<br>  ],<br>  \"params\": {<br>    \"epochs\": 19,<br>    \"freeze_pretrained_embeddings\": false,<br>    \"hidden_dim\": 256,<br>    \"learning_rate\": 0.0007994822964160089,<br>    \"num_ffnn_layers\": 3,<br>    \"num_layers\": 2,<br>    \"use_pretrained_embeddings\": true<br>  },<br>  \"user_attrs\": {<br>    \"accuracy\": 0.5409638554216868,<br>    \"macs\": 1619265024.0,<br>    \"model_parameters\": 7191043,<br>    \"model_size_mb\": 27.44200897216797,<br>    \"time_avg_ms\": 0.47793848654425636,<br>    \"time_std_ms\": 0.0032727662114802854<br>  }<br>}",
          "{<br>  \"number\": 256,<br>  \"values\": [<br>    0.9815313892486768<br>  ],<br>  \"params\": {<br>    \"epochs\": 15,<br>    \"freeze_pretrained_embeddings\": true,<br>    \"hidden_dim\": 384,<br>    \"learning_rate\": 0.00039098073871603444,<br>    \"num_ffnn_layers\": 2,<br>    \"num_layers\": 2,<br>    \"use_pretrained_embeddings\": false<br>  },<br>  \"user_attrs\": {<br>    \"accuracy\": 0.5273092369477912,<br>    \"macs\": 3234072832.0,<br>    \"model_parameters\": 10341635,<br>    \"model_size_mb\": 39.45977592468262,<br>    \"time_avg_ms\": 0.43663197653205676,<br>    \"time_std_ms\": 0.001346146228902734<br>  }<br>}",
          "{<br>  \"number\": 257,<br>  \"values\": [<br>    0.9566877331489172<br>  ],<br>  \"params\": {<br>    \"epochs\": 25,<br>    \"freeze_pretrained_embeddings\": false,<br>    \"hidden_dim\": 128,<br>    \"learning_rate\": 0.00012149442466331795,<br>    \"num_ffnn_layers\": 3,<br>    \"num_layers\": 2,<br>    \"use_pretrained_embeddings\": true<br>  },<br>  \"user_attrs\": {<br>    \"accuracy\": 0.563855421686747,<br>    \"macs\": 440664832.0,<br>    \"model_parameters\": 4891651,<br>    \"model_size_mb\": 18.67052459716797,<br>    \"time_avg_ms\": 0.4252169152531563,<br>    \"time_std_ms\": 0.005532602066041152<br>  }<br>}",
          "{<br>  \"number\": 265,<br>  \"values\": [<br>    0.9560997165166415<br>  ],<br>  \"params\": {<br>    \"epochs\": 20,<br>    \"freeze_pretrained_embeddings\": false,<br>    \"hidden_dim\": 256,<br>    \"learning_rate\": 0.0007512570132929937,<br>    \"num_ffnn_layers\": 2,<br>    \"num_layers\": 2,<br>    \"use_pretrained_embeddings\": true<br>  },<br>  \"user_attrs\": {<br>    \"accuracy\": 0.555421686746988,<br>    \"macs\": 1485047296.0,<br>    \"model_parameters\": 6928387,<br>    \"model_size_mb\": 26.439268112182617,<br>    \"time_avg_ms\": 0.44123795253524023,<br>    \"time_std_ms\": 0.0026709364033313003<br>  }<br>}",
          "{<br>  \"number\": 283,<br>  \"values\": [<br>    1.009037632208604<br>  ],<br>  \"params\": {<br>    \"epochs\": 20,<br>    \"freeze_pretrained_embeddings\": false,<br>    \"hidden_dim\": 512,<br>    \"learning_rate\": 0.0006201439701216915,<br>    \"num_ffnn_layers\": 2,<br>    \"num_layers\": 2,<br>    \"use_pretrained_embeddings\": true<br>  },<br>  \"user_attrs\": {<br>    \"accuracy\": 0.5606425702811245,<br>    \"macs\": 5654187008.0,<br>    \"model_parameters\": 15065603,<br>    \"model_size_mb\": 57.48028373718262,<br>    \"time_avg_ms\": 0.44708813929670976,<br>    \"time_std_ms\": 0.0018908259513880296<br>  }<br>}",
          "{<br>  \"number\": 286,<br>  \"values\": [<br>    0.9545388833070413<br>  ],<br>  \"params\": {<br>    \"epochs\": 23,<br>    \"freeze_pretrained_embeddings\": false,<br>    \"hidden_dim\": 384,<br>    \"learning_rate\": 0.0005644319289983277,<br>    \"num_ffnn_layers\": 1,<br>    \"num_layers\": 2,<br>    \"use_pretrained_embeddings\": true<br>  },<br>  \"user_attrs\": {<br>    \"accuracy\": 0.5650602409638554,<br>    \"macs\": 2932082944.0,<br>    \"model_parameters\": 9751043,<br>    \"model_size_mb\": 37.206119537353516,<br>    \"time_avg_ms\": 0.3908462753142452,<br>    \"time_std_ms\": 0.0048853811792834555<br>  }<br>}",
          "{<br>  \"number\": 287,<br>  \"values\": [<br>    0.9484027165632981<br>  ],<br>  \"params\": {<br>    \"epochs\": 23,<br>    \"freeze_pretrained_embeddings\": false,<br>    \"hidden_dim\": 768,<br>    \"learning_rate\": 0.00019403265053372128,<br>    \"num_ffnn_layers\": 1,<br>    \"num_layers\": 2,<br>    \"use_pretrained_embeddings\": true<br>  },<br>  \"user_attrs\": {<br>    \"accuracy\": 0.5654618473895582,<br>    \"macs\": 11299721728.0,<br>    \"model_parameters\": 26084867,<br>    \"model_size_mb\": 99.51471328735352,<br>    \"time_avg_ms\": 0.39396521801458356,<br>    \"time_std_ms\": 0.0024187793812325675<br>  }<br>}",
          "{<br>  \"number\": 294,<br>  \"values\": [<br>    0.9517336105689024<br>  ],<br>  \"params\": {<br>    \"epochs\": 23,<br>    \"freeze_pretrained_embeddings\": false,<br>    \"hidden_dim\": 384,<br>    \"learning_rate\": 0.0005446863605603037,<br>    \"num_ffnn_layers\": 1,<br>    \"num_layers\": 2,<br>    \"use_pretrained_embeddings\": true<br>  },<br>  \"user_attrs\": {<br>    \"accuracy\": 0.5570281124497992,<br>    \"macs\": 2932082944.0,<br>    \"model_parameters\": 9751043,<br>    \"model_size_mb\": 37.206119537353516,<br>    \"time_avg_ms\": 0.40212647945736535,<br>    \"time_std_ms\": 0.0022454943108239905<br>  }<br>}",
          "{<br>  \"number\": 296,<br>  \"values\": [<br>    0.9532626393513802<br>  ],<br>  \"params\": {<br>    \"epochs\": 10,<br>    \"freeze_pretrained_embeddings\": false,<br>    \"hidden_dim\": 256,<br>    \"learning_rate\": 0.0005794937666778516,<br>    \"num_ffnn_layers\": 2,<br>    \"num_layers\": 1,<br>    \"use_pretrained_embeddings\": true<br>  },<br>  \"user_attrs\": {<br>    \"accuracy\": 0.5586345381526104,<br>    \"macs\": 675546624.0,<br>    \"model_parameters\": 5351427,<br>    \"model_size_mb\": 20.422849655151367,<br>    \"time_avg_ms\": 0.3911329470084686,<br>    \"time_std_ms\": 0.001982984799770953<br>  }<br>}",
          "{<br>  \"number\": 297,<br>  \"values\": [<br>    0.955739866464566<br>  ],<br>  \"params\": {<br>    \"epochs\": 24,<br>    \"freeze_pretrained_embeddings\": false,<br>    \"hidden_dim\": 384,<br>    \"learning_rate\": 0.000553312731251431,<br>    \"num_ffnn_layers\": 1,<br>    \"num_layers\": 2,<br>    \"use_pretrained_embeddings\": true<br>  },<br>  \"user_attrs\": {<br>    \"accuracy\": 0.5550200803212851,<br>    \"macs\": 2932082944.0,<br>    \"model_parameters\": 9751043,<br>    \"model_size_mb\": 37.206119537353516,<br>    \"time_avg_ms\": 0.3976515354859361,<br>    \"time_std_ms\": 0.0029813959550512325<br>  }<br>}",
          "{<br>  \"number\": 298,<br>  \"values\": [<br>    0.9461370462026352<br>  ],<br>  \"params\": {<br>    \"epochs\": 23,<br>    \"freeze_pretrained_embeddings\": false,<br>    \"hidden_dim\": 768,<br>    \"learning_rate\": 0.00023457027857133863,<br>    \"num_ffnn_layers\": 1,<br>    \"num_layers\": 2,<br>    \"use_pretrained_embeddings\": true<br>  },<br>  \"user_attrs\": {<br>    \"accuracy\": 0.5674698795180723,<br>    \"macs\": 11299721728.0,<br>    \"model_parameters\": 26084867,<br>    \"model_size_mb\": 99.51471328735352,<br>    \"time_avg_ms\": 0.3985449185429682,<br>    \"time_std_ms\": 0.0016560517319234357<br>  }<br>}",
          "{<br>  \"number\": 300,<br>  \"values\": [<br>    0.9534597687232189<br>  ],<br>  \"params\": {<br>    \"epochs\": 30,<br>    \"freeze_pretrained_embeddings\": false,<br>    \"hidden_dim\": 512,<br>    \"learning_rate\": 0.000470973153745533,<br>    \"num_ffnn_layers\": 1,<br>    \"num_layers\": 2,<br>    \"use_pretrained_embeddings\": true<br>  },<br>  \"user_attrs\": {<br>    \"accuracy\": 0.5558232931726907,<br>    \"macs\": 5117316096.0,<br>    \"model_parameters\": 14016003,<br>    \"model_size_mb\": 53.475650787353516,<br>    \"time_avg_ms\": 0.3905431436304684,<br>    \"time_std_ms\": 0.0015630367534784511<br>  }<br>}",
          "{<br>  \"number\": 302,<br>  \"values\": [<br>    0.9461302100083767<br>  ],<br>  \"params\": {<br>    \"epochs\": 26,<br>    \"freeze_pretrained_embeddings\": false,<br>    \"hidden_dim\": 768,<br>    \"learning_rate\": 0.00023204541182925804,<br>    \"num_ffnn_layers\": 1,<br>    \"num_layers\": 2,<br>    \"use_pretrained_embeddings\": true<br>  },<br>  \"user_attrs\": {<br>    \"accuracy\": 0.5654618473895582,<br>    \"macs\": 11299721728.0,<br>    \"model_parameters\": 26084867,<br>    \"model_size_mb\": 99.51471328735352,<br>    \"time_avg_ms\": 0.3996552600849258,<br>    \"time_std_ms\": 0.0014184757107169503<br>  }<br>}",
          "{<br>  \"number\": 304,<br>  \"values\": [<br>    0.9436208193118756<br>  ],<br>  \"params\": {<br>    \"epochs\": 24,<br>    \"freeze_pretrained_embeddings\": false,<br>    \"hidden_dim\": 768,<br>    \"learning_rate\": 0.0002288673935559796,<br>    \"num_ffnn_layers\": 1,<br>    \"num_layers\": 2,<br>    \"use_pretrained_embeddings\": true<br>  },<br>  \"user_attrs\": {<br>    \"accuracy\": 0.5678714859437751,<br>    \"macs\": 11299721728.0,<br>    \"model_parameters\": 26084867,<br>    \"model_size_mb\": 99.51471328735352,<br>    \"time_avg_ms\": 0.3889938822687073,<br>    \"time_std_ms\": 0.0016210209660455141<br>  }<br>}",
          "{<br>  \"number\": 306,<br>  \"values\": [<br>    0.9540888529557449<br>  ],<br>  \"params\": {<br>    \"epochs\": 13,<br>    \"freeze_pretrained_embeddings\": false,<br>    \"hidden_dim\": 128,<br>    \"learning_rate\": 0.0006463351784427498,<br>    \"num_ffnn_layers\": 2,<br>    \"num_layers\": 1,<br>    \"use_pretrained_embeddings\": true<br>  },<br>  \"user_attrs\": {<br>    \"accuracy\": 0.5578313253012048,<br>    \"macs\": 203686656.0,<br>    \"model_parameters\": 4430595,<br>    \"model_size_mb\": 16.910154342651367,<br>    \"time_avg_ms\": 0.36362943861244634,<br>    \"time_std_ms\": 0.00116999827618561<br>  }<br>}",
          "{<br>  \"number\": 315,<br>  \"values\": [<br>    0.9480139934099637<br>  ],<br>  \"params\": {<br>    \"epochs\": 5,<br>    \"freeze_pretrained_embeddings\": false,<br>    \"hidden_dim\": 768,<br>    \"learning_rate\": 0.0004010960782028989,<br>    \"num_ffnn_layers\": 0,<br>    \"num_layers\": 1,<br>    \"use_pretrained_embeddings\": true<br>  },<br>  \"user_attrs\": {<br>    \"accuracy\": 0.5682730923694779,<br>    \"macs\": 2831421952.0,<br>    \"model_parameters\": 9555971,<br>    \"model_size_mb\": 36.46058177947998,<br>    \"time_avg_ms\": 0.2948678024536507,<br>    \"time_std_ms\": 0.002016118216209578<br>  }<br>}",
          "{<br>  \"number\": 318,<br>  \"values\": [<br>    0.9499157850558941<br>  ],<br>  \"params\": {<br>    \"epochs\": 4,<br>    \"freeze_pretrained_embeddings\": false,<br>    \"hidden_dim\": 768,<br>    \"learning_rate\": 0.000395877539889765,<br>    \"num_ffnn_layers\": 0,<br>    \"num_layers\": 1,<br>    \"use_pretrained_embeddings\": true<br>  },<br>  \"user_attrs\": {<br>    \"accuracy\": 0.5666666666666667,<br>    \"macs\": 2831421952.0,<br>    \"model_parameters\": 9555971,<br>    \"model_size_mb\": 36.46058177947998,<br>    \"time_avg_ms\": 0.29750287325845826,<br>    \"time_std_ms\": 0.0008184425943725106<br>  }<br>}",
          "{<br>  \"number\": 319,<br>  \"values\": [<br>    0.9501044719647138<br>  ],<br>  \"params\": {<br>    \"epochs\": 4,<br>    \"freeze_pretrained_embeddings\": false,<br>    \"hidden_dim\": 768,<br>    \"learning_rate\": 0.00040138874037819167,<br>    \"num_ffnn_layers\": 0,<br>    \"num_layers\": 1,<br>    \"use_pretrained_embeddings\": true<br>  },<br>  \"user_attrs\": {<br>    \"accuracy\": 0.5666666666666667,<br>    \"macs\": 2831421952.0,<br>    \"model_parameters\": 9555971,<br>    \"model_size_mb\": 36.46058177947998,<br>    \"time_avg_ms\": 0.3067932352968591,<br>    \"time_std_ms\": 0.0013236464464201157<br>  }<br>}",
          "{<br>  \"number\": 320,<br>  \"values\": [<br>    0.9494871267905602<br>  ],<br>  \"params\": {<br>    \"epochs\": 4,<br>    \"freeze_pretrained_embeddings\": false,<br>    \"hidden_dim\": 768,<br>    \"learning_rate\": 0.00039211016798011505,<br>    \"num_ffnn_layers\": 0,<br>    \"num_layers\": 1,<br>    \"use_pretrained_embeddings\": true<br>  },<br>  \"user_attrs\": {<br>    \"accuracy\": 0.5710843373493976,<br>    \"macs\": 2831421952.0,<br>    \"model_parameters\": 9555971,<br>    \"model_size_mb\": 36.46058177947998,<br>    \"time_avg_ms\": 0.2991516702132975,<br>    \"time_std_ms\": 0.0010806023754603774<br>  }<br>}",
          "{<br>  \"number\": 323,<br>  \"values\": [<br>    0.9500446120897929<br>  ],<br>  \"params\": {<br>    \"epochs\": 3,<br>    \"freeze_pretrained_embeddings\": false,<br>    \"hidden_dim\": 768,<br>    \"learning_rate\": 0.00041093233822498223,<br>    \"num_ffnn_layers\": 0,<br>    \"num_layers\": 1,<br>    \"use_pretrained_embeddings\": true<br>  },<br>  \"user_attrs\": {<br>    \"accuracy\": 0.5646586345381526,<br>    \"macs\": 2831421952.0,<br>    \"model_parameters\": 9555971,<br>    \"model_size_mb\": 36.46058177947998,<br>    \"time_avg_ms\": 0.3089577952269665,<br>    \"time_std_ms\": 0.0009351241264442466<br>  }<br>}",
          "{<br>  \"number\": 326,<br>  \"values\": [<br>    0.9499886494416457<br>  ],<br>  \"params\": {<br>    \"epochs\": 3,<br>    \"freeze_pretrained_embeddings\": false,<br>    \"hidden_dim\": 768,<br>    \"learning_rate\": 0.00038553825145071327,<br>    \"num_ffnn_layers\": 0,<br>    \"num_layers\": 1,<br>    \"use_pretrained_embeddings\": true<br>  },<br>  \"user_attrs\": {<br>    \"accuracy\": 0.5674698795180723,<br>    \"macs\": 2831421952.0,<br>    \"model_parameters\": 9555971,<br>    \"model_size_mb\": 36.46058177947998,<br>    \"time_avg_ms\": 0.29873808593018564,<br>    \"time_std_ms\": 0.0011994689956460521<br>  }<br>}",
          "{<br>  \"number\": 327,<br>  \"values\": [<br>    0.9451469549765954<br>  ],<br>  \"params\": {<br>    \"epochs\": 3,<br>    \"freeze_pretrained_embeddings\": false,<br>    \"hidden_dim\": 768,<br>    \"learning_rate\": 0.00037627114330226157,<br>    \"num_ffnn_layers\": 0,<br>    \"num_layers\": 1,<br>    \"use_pretrained_embeddings\": true<br>  },<br>  \"user_attrs\": {<br>    \"accuracy\": 0.5690763052208835,<br>    \"macs\": 2831421952.0,<br>    \"model_parameters\": 9555971,<br>    \"model_size_mb\": 36.46058177947998,<br>    \"time_avg_ms\": 0.325843790403357,<br>    \"time_std_ms\": 0.001028471508689029<br>  }<br>}",
          "{<br>  \"number\": 332,<br>  \"values\": [<br>    0.952758327508584<br>  ],<br>  \"params\": {<br>    \"epochs\": 2,<br>    \"freeze_pretrained_embeddings\": false,<br>    \"hidden_dim\": 768,<br>    \"learning_rate\": 0.00035354697620644234,<br>    \"num_ffnn_layers\": 0,<br>    \"num_layers\": 1,<br>    \"use_pretrained_embeddings\": true<br>  },<br>  \"user_attrs\": {<br>    \"accuracy\": 0.5654618473895582,<br>    \"macs\": 2831421952.0,<br>    \"model_parameters\": 9555971,<br>    \"model_size_mb\": 36.46058177947998,<br>    \"time_avg_ms\": 0.2986108710261426,<br>    \"time_std_ms\": 0.0030580079289006692<br>  }<br>}",
          "{<br>  \"number\": 335,<br>  \"values\": [<br>    0.949889219724215<br>  ],<br>  \"params\": {<br>    \"epochs\": 5,<br>    \"freeze_pretrained_embeddings\": false,<br>    \"hidden_dim\": 768,<br>    \"learning_rate\": 0.0003344657170350466,<br>    \"num_ffnn_layers\": 0,<br>    \"num_layers\": 1,<br>    \"use_pretrained_embeddings\": true<br>  },<br>  \"user_attrs\": {<br>    \"accuracy\": 0.5642570281124498,<br>    \"macs\": 2831421952.0,<br>    \"model_parameters\": 9555971,<br>    \"model_size_mb\": 36.46058177947998,<br>    \"time_avg_ms\": 0.30389235186529284,<br>    \"time_std_ms\": 0.004244945675625922<br>  }<br>}",
          "{<br>  \"number\": 336,<br>  \"values\": [<br>    0.9495139290124942<br>  ],<br>  \"params\": {<br>    \"epochs\": 30,<br>    \"freeze_pretrained_embeddings\": false,<br>    \"hidden_dim\": 640,<br>    \"learning_rate\": 0.0003457609922435089,<br>    \"num_ffnn_layers\": 1,<br>    \"num_layers\": 2,<br>    \"use_pretrained_embeddings\": true<br>  },<br>  \"user_attrs\": {<br>    \"accuracy\": 0.5610441767068273,<br>    \"macs\": 7906529024.0,<br>    \"model_parameters\": 19460611,<br>    \"model_size_mb\": 74.24518203735352,<br>    \"time_avg_ms\": 0.3857071293168701,<br>    \"time_std_ms\": 0.0029823092703444186<br>  }<br>}",
          "{<br>  \"number\": 338,<br>  \"values\": [<br>    0.9548657490656927<br>  ],<br>  \"params\": {<br>    \"epochs\": 11,<br>    \"freeze_pretrained_embeddings\": false,<br>    \"hidden_dim\": 128,<br>    \"learning_rate\": 0.000550625238919484,<br>    \"num_ffnn_layers\": 2,<br>    \"num_layers\": 1,<br>    \"use_pretrained_embeddings\": true<br>  },<br>  \"user_attrs\": {<br>    \"accuracy\": 0.553012048192771,<br>    \"macs\": 203686656.0,<br>    \"model_parameters\": 4430595,<br>    \"model_size_mb\": 16.910154342651367,<br>    \"time_avg_ms\": 0.3783895213124451,<br>    \"time_std_ms\": 0.00432285587474414<br>  }<br>}",
          "{<br>  \"number\": 339,<br>  \"values\": [<br>    0.9487958091955918<br>  ],<br>  \"params\": {<br>    \"epochs\": 5,<br>    \"freeze_pretrained_embeddings\": false,<br>    \"hidden_dim\": 768,<br>    \"learning_rate\": 0.00039196650255114577,<br>    \"num_ffnn_layers\": 0,<br>    \"num_layers\": 1,<br>    \"use_pretrained_embeddings\": true<br>  },<br>  \"user_attrs\": {<br>    \"accuracy\": 0.5698795180722892,<br>    \"macs\": 2831421952.0,<br>    \"model_parameters\": 9555971,<br>    \"model_size_mb\": 36.46058177947998,<br>    \"time_avg_ms\": 0.30476894778670904,<br>    \"time_std_ms\": 0.0019151870381081315<br>  }<br>}",
          "{<br>  \"number\": 340,<br>  \"values\": [<br>    0.9513722184376839<br>  ],<br>  \"params\": {<br>    \"epochs\": 27,<br>    \"freeze_pretrained_embeddings\": false,<br>    \"hidden_dim\": 640,<br>    \"learning_rate\": 0.0003290570753320992,<br>    \"num_ffnn_layers\": 1,<br>    \"num_layers\": 2,<br>    \"use_pretrained_embeddings\": true<br>  },<br>  \"user_attrs\": {<br>    \"accuracy\": 0.5570281124497992,<br>    \"macs\": 7906529024.0,<br>    \"model_parameters\": 19460611,<br>    \"model_size_mb\": 74.24518203735352,<br>    \"time_avg_ms\": 0.38979764697918046,<br>    \"time_std_ms\": 0.0014692917129690512<br>  }<br>}",
          "{<br>  \"number\": 342,<br>  \"values\": [<br>    0.9535193657263731<br>  ],<br>  \"params\": {<br>    \"epochs\": 13,<br>    \"freeze_pretrained_embeddings\": false,<br>    \"hidden_dim\": 128,<br>    \"learning_rate\": 0.0005767867766604951,<br>    \"num_ffnn_layers\": 2,<br>    \"num_layers\": 1,<br>    \"use_pretrained_embeddings\": true<br>  },<br>  \"user_attrs\": {<br>    \"accuracy\": 0.5590361445783133,<br>    \"macs\": 203686656.0,<br>    \"model_parameters\": 4430595,<br>    \"model_size_mb\": 16.910154342651367,<br>    \"time_avg_ms\": 0.3735195270799581,<br>    \"time_std_ms\": 0.0015592173196643864<br>  }<br>}",
          "{<br>  \"number\": 343,<br>  \"values\": [<br>    0.947833796342214<br>  ],<br>  \"params\": {<br>    \"epochs\": 5,<br>    \"freeze_pretrained_embeddings\": false,<br>    \"hidden_dim\": 768,<br>    \"learning_rate\": 0.0003931314567223517,<br>    \"num_ffnn_layers\": 0,<br>    \"num_layers\": 1,<br>    \"use_pretrained_embeddings\": true<br>  },<br>  \"user_attrs\": {<br>    \"accuracy\": 0.5690763052208835,<br>    \"macs\": 2831421952.0,<br>    \"model_parameters\": 9555971,<br>    \"model_size_mb\": 36.46058177947998,<br>    \"time_avg_ms\": 0.3090852393222082,<br>    \"time_std_ms\": 0.001343272941668291<br>  }<br>}",
          "{<br>  \"number\": 345,<br>  \"values\": [<br>    0.9491276053281931<br>  ],<br>  \"params\": {<br>    \"epochs\": 3,<br>    \"freeze_pretrained_embeddings\": false,<br>    \"hidden_dim\": 768,<br>    \"learning_rate\": 0.00036970202492617367,<br>    \"num_ffnn_layers\": 0,<br>    \"num_layers\": 1,<br>    \"use_pretrained_embeddings\": true<br>  },<br>  \"user_attrs\": {<br>    \"accuracy\": 0.5670682730923695,<br>    \"macs\": 2831421952.0,<br>    \"model_parameters\": 9555971,<br>    \"model_size_mb\": 36.46058177947998,<br>    \"time_avg_ms\": 0.3046915006254696,<br>    \"time_std_ms\": 0.004327073767952767<br>  }<br>}",
          "{<br>  \"number\": 352,<br>  \"values\": [<br>    0.9449722507061102<br>  ],<br>  \"params\": {<br>    \"epochs\": 5,<br>    \"freeze_pretrained_embeddings\": false,<br>    \"hidden_dim\": 768,<br>    \"learning_rate\": 0.00038733852757971135,<br>    \"num_ffnn_layers\": 0,<br>    \"num_layers\": 1,<br>    \"use_pretrained_embeddings\": true<br>  },<br>  \"user_attrs\": {<br>    \"accuracy\": 0.5746987951807229,<br>    \"macs\": 2831421952.0,<br>    \"model_parameters\": 9555971,<br>    \"model_size_mb\": 36.46058177947998,<br>    \"time_avg_ms\": 0.31430995719953597,<br>    \"time_std_ms\": 0.0018653028390962882<br>  }<br>}",
          "{<br>  \"number\": 355,<br>  \"values\": [<br>    0.947846036690932<br>  ],<br>  \"params\": {<br>    \"epochs\": 3,<br>    \"freeze_pretrained_embeddings\": false,<br>    \"hidden_dim\": 768,<br>    \"learning_rate\": 0.0003853350396814933,<br>    \"num_ffnn_layers\": 0,<br>    \"num_layers\": 1,<br>    \"use_pretrained_embeddings\": true<br>  },<br>  \"user_attrs\": {<br>    \"accuracy\": 0.5682730923694779,<br>    \"macs\": 2831421952.0,<br>    \"model_parameters\": 9555971,<br>    \"model_size_mb\": 36.46058177947998,<br>    \"time_avg_ms\": 0.33544765901751816,<br>    \"time_std_ms\": 0.021592850368704924<br>  }<br>}",
          "{<br>  \"number\": 358,<br>  \"values\": [<br>    0.9515425196060767<br>  ],<br>  \"params\": {<br>    \"epochs\": 27,<br>    \"freeze_pretrained_embeddings\": false,<br>    \"hidden_dim\": 640,<br>    \"learning_rate\": 0.00033236716264866057,<br>    \"num_ffnn_layers\": 1,<br>    \"num_layers\": 2,<br>    \"use_pretrained_embeddings\": true<br>  },<br>  \"user_attrs\": {<br>    \"accuracy\": 0.5534136546184739,<br>    \"macs\": 7906529024.0,<br>    \"model_parameters\": 19460611,<br>    \"model_size_mb\": 74.24518203735352,<br>    \"time_avg_ms\": 0.4052576098021948,<br>    \"time_std_ms\": 0.0019318444167569975<br>  }<br>}",
          "{<br>  \"number\": 359,<br>  \"values\": [<br>    0.9540657187119509<br>  ],<br>  \"params\": {<br>    \"epochs\": 11,<br>    \"freeze_pretrained_embeddings\": false,<br>    \"hidden_dim\": 128,<br>    \"learning_rate\": 0.0004854958486482069,<br>    \"num_ffnn_layers\": 2,<br>    \"num_layers\": 1,<br>    \"use_pretrained_embeddings\": true<br>  },<br>  \"user_attrs\": {<br>    \"accuracy\": 0.5650602409638554,<br>    \"macs\": 203686656.0,<br>    \"model_parameters\": 4430595,<br>    \"model_size_mb\": 16.910154342651367,<br>    \"time_avg_ms\": 0.37303793694863613,<br>    \"time_std_ms\": 0.001589923909502566<br>  }<br>}",
          "{<br>  \"number\": 362,<br>  \"values\": [<br>    0.9492008808331612<br>  ],<br>  \"params\": {<br>    \"epochs\": 5,<br>    \"freeze_pretrained_embeddings\": false,<br>    \"hidden_dim\": 768,<br>    \"learning_rate\": 0.00041728854740654265,<br>    \"num_ffnn_layers\": 0,<br>    \"num_layers\": 1,<br>    \"use_pretrained_embeddings\": true<br>  },<br>  \"user_attrs\": {<br>    \"accuracy\": 0.5678714859437751,<br>    \"macs\": 2831421952.0,<br>    \"model_parameters\": 9555971,<br>    \"model_size_mb\": 36.46058177947998,<br>    \"time_avg_ms\": 0.31010229442337595,<br>    \"time_std_ms\": 0.0022192239971682644<br>  }<br>}",
          "{<br>  \"number\": 364,<br>  \"values\": [<br>    0.9531015845445486<br>  ],<br>  \"params\": {<br>    \"epochs\": 26,<br>    \"freeze_pretrained_embeddings\": false,<br>    \"hidden_dim\": 640,<br>    \"learning_rate\": 0.000328736791578011,<br>    \"num_ffnn_layers\": 1,<br>    \"num_layers\": 2,<br>    \"use_pretrained_embeddings\": true<br>  },<br>  \"user_attrs\": {<br>    \"accuracy\": 0.5586345381526104,<br>    \"macs\": 7906529024.0,<br>    \"model_parameters\": 19460611,<br>    \"model_size_mb\": 74.24518203735352,<br>    \"time_avg_ms\": 0.4085622867089264,<br>    \"time_std_ms\": 0.0018294834734158619<br>  }<br>}",
          "{<br>  \"number\": 365,<br>  \"values\": [<br>    0.9498771398495405<br>  ],<br>  \"params\": {<br>    \"epochs\": 6,<br>    \"freeze_pretrained_embeddings\": false,<br>    \"hidden_dim\": 768,<br>    \"learning_rate\": 0.00042821085521870997,<br>    \"num_ffnn_layers\": 0,<br>    \"num_layers\": 1,<br>    \"use_pretrained_embeddings\": true<br>  },<br>  \"user_attrs\": {<br>    \"accuracy\": 0.5670682730923695,<br>    \"macs\": 2831421952.0,<br>    \"model_parameters\": 9555971,<br>    \"model_size_mb\": 36.46058177947998,<br>    \"time_avg_ms\": 0.3051887213950977,<br>    \"time_std_ms\": 0.0021391853629950668<br>  }<br>}",
          "{<br>  \"number\": 366,<br>  \"values\": [<br>    0.9493084947268168<br>  ],<br>  \"params\": {<br>    \"epochs\": 6,<br>    \"freeze_pretrained_embeddings\": false,<br>    \"hidden_dim\": 768,<br>    \"learning_rate\": 0.00042327650693996,<br>    \"num_ffnn_layers\": 0,<br>    \"num_layers\": 1,<br>    \"use_pretrained_embeddings\": true<br>  },<br>  \"user_attrs\": {<br>    \"accuracy\": 0.572289156626506,<br>    \"macs\": 2831421952.0,<br>    \"model_parameters\": 9555971,<br>    \"model_size_mb\": 36.46058177947998,<br>    \"time_avg_ms\": 0.34282359993085265,<br>    \"time_std_ms\": 0.02495814395778964<br>  }<br>}",
          "{<br>  \"number\": 370,<br>  \"values\": [<br>    0.9461953853949522<br>  ],<br>  \"params\": {<br>    \"epochs\": 7,<br>    \"freeze_pretrained_embeddings\": false,<br>    \"hidden_dim\": 768,<br>    \"learning_rate\": 0.00044408536992438826,<br>    \"num_ffnn_layers\": 0,<br>    \"num_layers\": 1,<br>    \"use_pretrained_embeddings\": true<br>  },<br>  \"user_attrs\": {<br>    \"accuracy\": 0.5666666666666667,<br>    \"macs\": 2831421952.0,<br>    \"model_parameters\": 9555971,<br>    \"model_size_mb\": 36.46058177947998,<br>    \"time_avg_ms\": 0.31436338346240295,<br>    \"time_std_ms\": 0.0016049054263306615<br>  }<br>}",
          "{<br>  \"number\": 371,<br>  \"values\": [<br>    0.9472557749503698<br>  ],<br>  \"params\": {<br>    \"epochs\": 26,<br>    \"freeze_pretrained_embeddings\": false,<br>    \"hidden_dim\": 768,<br>    \"learning_rate\": 0.00021565250961331958,<br>    \"num_ffnn_layers\": 1,<br>    \"num_layers\": 2,<br>    \"use_pretrained_embeddings\": true<br>  },<br>  \"user_attrs\": {<br>    \"accuracy\": 0.5654618473895582,<br>    \"macs\": 11299721728.0,<br>    \"model_parameters\": 26084867,<br>    \"model_size_mb\": 99.51471328735352,<br>    \"time_avg_ms\": 0.4001962407551801,<br>    \"time_std_ms\": 0.0026484158719295653<br>  }<br>}",
          "{<br>  \"number\": 372,<br>  \"values\": [<br>    0.9591606320478977<br>  ],<br>  \"params\": {<br>    \"epochs\": 8,<br>    \"freeze_pretrained_embeddings\": false,<br>    \"hidden_dim\": 256,<br>    \"learning_rate\": 0.0003994325548872627,<br>    \"num_ffnn_layers\": 1,<br>    \"num_layers\": 1,<br>    \"use_pretrained_embeddings\": true<br>  },<br>  \"user_attrs\": {<br>    \"accuracy\": 0.572289156626506,<br>    \"macs\": 541328896.0,<br>    \"model_parameters\": 5088771,<br>    \"model_size_mb\": 19.420230865478516,<br>    \"time_avg_ms\": 0.3523086925270036,<br>    \"time_std_ms\": 0.0023548465803599045<br>  }<br>}",
          "{<br>  \"number\": 373,<br>  \"values\": [<br>    0.9462949159817818<br>  ],<br>  \"params\": {<br>    \"epochs\": 6,<br>    \"freeze_pretrained_embeddings\": false,<br>    \"hidden_dim\": 768,<br>    \"learning_rate\": 0.0003756509910513666,<br>    \"num_ffnn_layers\": 0,<br>    \"num_layers\": 1,<br>    \"use_pretrained_embeddings\": true<br>  },<br>  \"user_attrs\": {<br>    \"accuracy\": 0.5686746987951807,<br>    \"macs\": 2831421952.0,<br>    \"model_parameters\": 9555971,<br>    \"model_size_mb\": 36.46058177947998,<br>    \"time_avg_ms\": 0.30616844499794144,<br>    \"time_std_ms\": 0.001890037935464244<br>  }<br>}",
          "{<br>  \"number\": 374,<br>  \"values\": [<br>    0.9481731026600568<br>  ],<br>  \"params\": {<br>    \"epochs\": 26,<br>    \"freeze_pretrained_embeddings\": false,<br>    \"hidden_dim\": 768,<br>    \"learning_rate\": 0.00021895593697144093,<br>    \"num_ffnn_layers\": 1,<br>    \"num_layers\": 2,<br>    \"use_pretrained_embeddings\": true<br>  },<br>  \"user_attrs\": {<br>    \"accuracy\": 0.5686746987951807,<br>    \"macs\": 11299721728.0,<br>    \"model_parameters\": 26084867,<br>    \"model_size_mb\": 99.51471328735352,<br>    \"time_avg_ms\": 0.3967602394328898,<br>    \"time_std_ms\": 0.003022401378987875<br>  }<br>}",
          "{<br>  \"number\": 375,<br>  \"values\": [<br>    0.9456977890088007<br>  ],<br>  \"params\": {<br>    \"epochs\": 7,<br>    \"freeze_pretrained_embeddings\": false,<br>    \"hidden_dim\": 768,<br>    \"learning_rate\": 0.00045360299056151356,<br>    \"num_ffnn_layers\": 0,<br>    \"num_layers\": 1,<br>    \"use_pretrained_embeddings\": true<br>  },<br>  \"user_attrs\": {<br>    \"accuracy\": 0.5706827309236948,<br>    \"macs\": 2831421952.0,<br>    \"model_parameters\": 9555971,<br>    \"model_size_mb\": 36.46058177947998,<br>    \"time_avg_ms\": 0.3073774172331799,<br>    \"time_std_ms\": 0.0018332596062445954<br>  }<br>}",
          "{<br>  \"number\": 381,<br>  \"values\": [<br>    0.9497829874356588<br>  ],<br>  \"params\": {<br>    \"epochs\": 8,<br>    \"freeze_pretrained_embeddings\": false,<br>    \"hidden_dim\": 768,<br>    \"learning_rate\": 0.0004437020936169082,<br>    \"num_ffnn_layers\": 0,<br>    \"num_layers\": 1,<br>    \"use_pretrained_embeddings\": true<br>  },<br>  \"user_attrs\": {<br>    \"accuracy\": 0.5686746987951807,<br>    \"macs\": 2831421952.0,<br>    \"model_parameters\": 9555971,<br>    \"model_size_mb\": 36.46058177947998,<br>    \"time_avg_ms\": 0.29666220094797385,<br>    \"time_std_ms\": 0.004251306353830339<br>  }<br>}",
          "{<br>  \"number\": 385,<br>  \"values\": [<br>    0.9475796772883489<br>  ],<br>  \"params\": {<br>    \"epochs\": 30,<br>    \"freeze_pretrained_embeddings\": false,<br>    \"hidden_dim\": 640,<br>    \"learning_rate\": 0.00025235059523734345,<br>    \"num_ffnn_layers\": 1,<br>    \"num_layers\": 2,<br>    \"use_pretrained_embeddings\": true<br>  },<br>  \"user_attrs\": {<br>    \"accuracy\": 0.5662650602409639,<br>    \"macs\": 7906529024.0,<br>    \"model_parameters\": 19460611,<br>    \"model_size_mb\": 74.24518203735352,<br>    \"time_avg_ms\": 0.41078134785897824,<br>    \"time_std_ms\": 0.018384577068263148<br>  }<br>}",
          "{<br>  \"number\": 389,<br>  \"values\": [<br>    0.946032811433841<br>  ],<br>  \"params\": {<br>    \"epochs\": 26,<br>    \"freeze_pretrained_embeddings\": false,<br>    \"hidden_dim\": 768,<br>    \"learning_rate\": 0.00017459897716033047,<br>    \"num_ffnn_layers\": 0,<br>    \"num_layers\": 2,<br>    \"use_pretrained_embeddings\": true<br>  },<br>  \"user_attrs\": {<br>    \"accuracy\": 0.5710843373493976,<br>    \"macs\": 10091762176.0,<br>    \"model_parameters\": 23724035,<br>    \"model_size_mb\": 90.50825023651123,<br>    \"time_avg_ms\": 0.33544391077868213,<br>    \"time_std_ms\": 0.003774121400479058<br>  }<br>}",
          "{<br>  \"number\": 391,<br>  \"values\": [<br>    0.9455859126188816<br>  ],<br>  \"params\": {<br>    \"epochs\": 7,<br>    \"freeze_pretrained_embeddings\": false,<br>    \"hidden_dim\": 768,<br>    \"learning_rate\": 0.0004355759402487838,<br>    \"num_ffnn_layers\": 0,<br>    \"num_layers\": 1,<br>    \"use_pretrained_embeddings\": true<br>  },<br>  \"user_attrs\": {<br>    \"accuracy\": 0.572289156626506,<br>    \"macs\": 2831421952.0,<br>    \"model_parameters\": 9555971,<br>    \"model_size_mb\": 36.46058177947998,<br>    \"time_avg_ms\": 0.2947760839583125,<br>    \"time_std_ms\": 0.0011775405054239693<br>  }<br>}",
          "{<br>  \"number\": 392,<br>  \"values\": [<br>    0.9492456653179266<br>  ],<br>  \"params\": {<br>    \"epochs\": 7,<br>    \"freeze_pretrained_embeddings\": false,<br>    \"hidden_dim\": 768,<br>    \"learning_rate\": 0.0004361131634341756,<br>    \"num_ffnn_layers\": 0,<br>    \"num_layers\": 1,<br>    \"use_pretrained_embeddings\": true<br>  },<br>  \"user_attrs\": {<br>    \"accuracy\": 0.5734939759036145,<br>    \"macs\": 2831421952.0,<br>    \"model_parameters\": 9555971,<br>    \"model_size_mb\": 36.46058177947998,<br>    \"time_avg_ms\": 0.2940735768204854,<br>    \"time_std_ms\": 0.0014557283499619387<br>  }<br>}",
          "{<br>  \"number\": 393,<br>  \"values\": [<br>    0.9491349382278247<br>  ],<br>  \"params\": {<br>    \"epochs\": 7,<br>    \"freeze_pretrained_embeddings\": false,<br>    \"hidden_dim\": 768,<br>    \"learning_rate\": 0.0004416991880879308,<br>    \"num_ffnn_layers\": 0,<br>    \"num_layers\": 1,<br>    \"use_pretrained_embeddings\": true<br>  },<br>  \"user_attrs\": {<br>    \"accuracy\": 0.570281124497992,<br>    \"macs\": 2831421952.0,<br>    \"model_parameters\": 9555971,<br>    \"model_size_mb\": 36.46058177947998,<br>    \"time_avg_ms\": 0.30127008899282187,<br>    \"time_std_ms\": 0.0014207703749168576<br>  }<br>}",
          "{<br>  \"number\": 394,<br>  \"values\": [<br>    0.9540028556799277<br>  ],<br>  \"params\": {<br>    \"epochs\": 12,<br>    \"freeze_pretrained_embeddings\": false,<br>    \"hidden_dim\": 640,<br>    \"learning_rate\": 0.0006697802370678341,<br>    \"num_ffnn_layers\": 1,<br>    \"num_layers\": 2,<br>    \"use_pretrained_embeddings\": true<br>  },<br>  \"user_attrs\": {<br>    \"accuracy\": 0.557429718875502,<br>    \"macs\": 7906529024.0,<br>    \"model_parameters\": 19460611,<br>    \"model_size_mb\": 74.24518203735352,<br>    \"time_avg_ms\": 0.38320886194004966,<br>    \"time_std_ms\": 0.0015860225307937224<br>  }<br>}",
          "{<br>  \"number\": 400,<br>  \"values\": [<br>    0.9485167860984802<br>  ],<br>  \"params\": {<br>    \"epochs\": 7,<br>    \"freeze_pretrained_embeddings\": false,<br>    \"hidden_dim\": 768,<br>    \"learning_rate\": 0.00040456957246294426,<br>    \"num_ffnn_layers\": 0,<br>    \"num_layers\": 1,<br>    \"use_pretrained_embeddings\": true<br>  },<br>  \"user_attrs\": {<br>    \"accuracy\": 0.5642570281124498,<br>    \"macs\": 2831421952.0,<br>    \"model_parameters\": 9555971,<br>    \"model_size_mb\": 36.46058177947998,<br>    \"time_avg_ms\": 0.29794999634185315,<br>    \"time_std_ms\": 0.0010884264904466956<br>  }<br>}",
          "{<br>  \"number\": 403,<br>  \"values\": [<br>    0.9495784319364108<br>  ],<br>  \"params\": {<br>    \"epochs\": 5,<br>    \"freeze_pretrained_embeddings\": false,<br>    \"hidden_dim\": 768,<br>    \"learning_rate\": 0.00040653649437429577,<br>    \"num_ffnn_layers\": 0,<br>    \"num_layers\": 1,<br>    \"use_pretrained_embeddings\": true<br>  },<br>  \"user_attrs\": {<br>    \"accuracy\": 0.5734939759036145,<br>    \"macs\": 2831421952.0,<br>    \"model_parameters\": 9555971,<br>    \"model_size_mb\": 36.46058177947998,<br>    \"time_avg_ms\": 0.29388501397555783,<br>    \"time_std_ms\": 0.0013513306824110794<br>  }<br>}",
          "{<br>  \"number\": 404,<br>  \"values\": [<br>    0.9479010823445443<br>  ],<br>  \"params\": {<br>    \"epochs\": 29,<br>    \"freeze_pretrained_embeddings\": false,<br>    \"hidden_dim\": 128,<br>    \"learning_rate\": 0.0006201360458835376,<br>    \"num_ffnn_layers\": 2,<br>    \"num_layers\": 1,<br>    \"use_pretrained_embeddings\": true<br>  },<br>  \"user_attrs\": {<br>    \"accuracy\": 0.5650602409638554,<br>    \"macs\": 203686656.0,<br>    \"model_parameters\": 4430595,<br>    \"model_size_mb\": 16.910154342651367,<br>    \"time_avg_ms\": 0.36572013050317764,<br>    \"time_std_ms\": 0.0015448291155677337<br>  }<br>}",
          "{<br>  \"number\": 406,<br>  \"values\": [<br>    0.9490889998582693<br>  ],<br>  \"params\": {<br>    \"epochs\": 7,<br>    \"freeze_pretrained_embeddings\": false,<br>    \"hidden_dim\": 768,<br>    \"learning_rate\": 0.0003692526345826121,<br>    \"num_ffnn_layers\": 0,<br>    \"num_layers\": 1,<br>    \"use_pretrained_embeddings\": true<br>  },<br>  \"user_attrs\": {<br>    \"accuracy\": 0.565863453815261,<br>    \"macs\": 2831421952.0,<br>    \"model_parameters\": 9555971,<br>    \"model_size_mb\": 36.46058177947998,<br>    \"time_avg_ms\": 0.302998443657998,<br>    \"time_std_ms\": 0.001528885074790389<br>  }<br>}",
          "{<br>  \"number\": 408,<br>  \"values\": [<br>    0.9478632532633268<br>  ],<br>  \"params\": {<br>    \"epochs\": 7,<br>    \"freeze_pretrained_embeddings\": false,<br>    \"hidden_dim\": 768,<br>    \"learning_rate\": 0.0003679877668049612,<br>    \"num_ffnn_layers\": 0,<br>    \"num_layers\": 1,<br>    \"use_pretrained_embeddings\": true<br>  },<br>  \"user_attrs\": {<br>    \"accuracy\": 0.5694779116465863,<br>    \"macs\": 2831421952.0,<br>    \"model_parameters\": 9555971,<br>    \"model_size_mb\": 36.46058177947998,<br>    \"time_avg_ms\": 0.3080635585568168,<br>    \"time_std_ms\": 0.0009823065619831682<br>  }<br>}",
          "{<br>  \"number\": 412,<br>  \"values\": [<br>    0.9476388769272046<br>  ],<br>  \"params\": {<br>    \"epochs\": 7,<br>    \"freeze_pretrained_embeddings\": false,<br>    \"hidden_dim\": 768,<br>    \"learning_rate\": 0.00036073419048918213,<br>    \"num_ffnn_layers\": 0,<br>    \"num_layers\": 1,<br>    \"use_pretrained_embeddings\": true<br>  },<br>  \"user_attrs\": {<br>    \"accuracy\": 0.5678714859437751,<br>    \"macs\": 2831421952.0,<br>    \"model_parameters\": 9555971,<br>    \"model_size_mb\": 36.46058177947998,<br>    \"time_avg_ms\": 0.3062440619732325,<br>    \"time_std_ms\": 0.0021950418939693777<br>  }<br>}",
          "{<br>  \"number\": 416,<br>  \"values\": [<br>    0.9457916800792401<br>  ],<br>  \"params\": {<br>    \"epochs\": 7,<br>    \"freeze_pretrained_embeddings\": false,<br>    \"hidden_dim\": 768,<br>    \"learning_rate\": 0.0003771576342298714,<br>    \"num_ffnn_layers\": 0,<br>    \"num_layers\": 1,<br>    \"use_pretrained_embeddings\": true<br>  },<br>  \"user_attrs\": {<br>    \"accuracy\": 0.570281124497992,<br>    \"macs\": 2831421952.0,<br>    \"model_parameters\": 9555971,<br>    \"model_size_mb\": 36.46058177947998,<br>    \"time_avg_ms\": 0.3014951273251106,<br>    \"time_std_ms\": 0.001281235254276768<br>  }<br>}",
          "{<br>  \"number\": 418,<br>  \"values\": [<br>    0.9534885638799423<br>  ],<br>  \"params\": {<br>    \"epochs\": 25,<br>    \"freeze_pretrained_embeddings\": false,<br>    \"hidden_dim\": 128,<br>    \"learning_rate\": 0.0005270717458141756,<br>    \"num_ffnn_layers\": 2,<br>    \"num_layers\": 1,<br>    \"use_pretrained_embeddings\": true<br>  },<br>  \"user_attrs\": {<br>    \"accuracy\": 0.5578313253012048,<br>    \"macs\": 203686656.0,<br>    \"model_parameters\": 4430595,<br>    \"model_size_mb\": 16.910154342651367,<br>    \"time_avg_ms\": 0.3693540416587825,<br>    \"time_std_ms\": 0.0021705662204215084<br>  }<br>}",
          "{<br>  \"number\": 419,<br>  \"values\": [<br>    0.9468660247631562<br>  ],<br>  \"params\": {<br>    \"epochs\": 8,<br>    \"freeze_pretrained_embeddings\": false,<br>    \"hidden_dim\": 768,<br>    \"learning_rate\": 0.0003812883441070801,<br>    \"num_ffnn_layers\": 0,<br>    \"num_layers\": 1,<br>    \"use_pretrained_embeddings\": true<br>  },<br>  \"user_attrs\": {<br>    \"accuracy\": 0.5734939759036145,<br>    \"macs\": 2831421952.0,<br>    \"model_parameters\": 9555971,<br>    \"model_size_mb\": 36.46058177947998,<br>    \"time_avg_ms\": 0.2989850308158961,<br>    \"time_std_ms\": 0.0014018039613349217<br>  }<br>}",
          "{<br>  \"number\": 425,<br>  \"values\": [<br>    0.9478657795832708<br>  ],<br>  \"params\": {<br>    \"epochs\": 30,<br>    \"freeze_pretrained_embeddings\": false,<br>    \"hidden_dim\": 128,<br>    \"learning_rate\": 0.0005618915195204112,<br>    \"num_ffnn_layers\": 2,<br>    \"num_layers\": 1,<br>    \"use_pretrained_embeddings\": true<br>  },<br>  \"user_attrs\": {<br>    \"accuracy\": 0.5666666666666667,<br>    \"macs\": 203686656.0,<br>    \"model_parameters\": 4430595,<br>    \"model_size_mb\": 16.910154342651367,<br>    \"time_avg_ms\": 0.37634626666628074,<br>    \"time_std_ms\": 0.0012056913443204698<br>  }<br>}",
          "{<br>  \"number\": 426,<br>  \"values\": [<br>    0.9485376798189603<br>  ],<br>  \"params\": {<br>    \"epochs\": 6,<br>    \"freeze_pretrained_embeddings\": false,<br>    \"hidden_dim\": 768,<br>    \"learning_rate\": 0.0003724554453799744,<br>    \"num_ffnn_layers\": 0,<br>    \"num_layers\": 1,<br>    \"use_pretrained_embeddings\": true<br>  },<br>  \"user_attrs\": {<br>    \"accuracy\": 0.5714859437751004,<br>    \"macs\": 2831421952.0,<br>    \"model_parameters\": 9555971,<br>    \"model_size_mb\": 36.46058177947998,<br>    \"time_avg_ms\": 0.2950312477166215,<br>    \"time_std_ms\": 0.0012561470777782047<br>  }<br>}",
          "{<br>  \"number\": 427,<br>  \"values\": [<br>    0.9496879195555662<br>  ],<br>  \"params\": {<br>    \"epochs\": 6,<br>    \"freeze_pretrained_embeddings\": false,<br>    \"hidden_dim\": 768,<br>    \"learning_rate\": 0.0003911349640055286,<br>    \"num_ffnn_layers\": 0,<br>    \"num_layers\": 1,<br>    \"use_pretrained_embeddings\": true<br>  },<br>  \"user_attrs\": {<br>    \"accuracy\": 0.5642570281124498,<br>    \"macs\": 2831421952.0,<br>    \"model_parameters\": 9555971,<br>    \"model_size_mb\": 36.46058177947998,<br>    \"time_avg_ms\": 0.30453470295153395,<br>    \"time_std_ms\": 0.0011641856072370214<br>  }<br>}",
          "{<br>  \"number\": 428,<br>  \"values\": [<br>    0.9487409927906134<br>  ],<br>  \"params\": {<br>    \"epochs\": 7,<br>    \"freeze_pretrained_embeddings\": false,<br>    \"hidden_dim\": 768,<br>    \"learning_rate\": 0.0003975420786997321,<br>    \"num_ffnn_layers\": 0,<br>    \"num_layers\": 1,<br>    \"use_pretrained_embeddings\": true<br>  },<br>  \"user_attrs\": {<br>    \"accuracy\": 0.5763052208835341,<br>    \"macs\": 2831421952.0,<br>    \"model_parameters\": 9555971,<br>    \"model_size_mb\": 36.46058177947998,<br>    \"time_avg_ms\": 0.3021859372365138,<br>    \"time_std_ms\": 0.0015684754278223196<br>  }<br>}",
          "{<br>  \"number\": 445,<br>  \"values\": [<br>    0.9471812630311037<br>  ],<br>  \"params\": {<br>    \"epochs\": 7,<br>    \"freeze_pretrained_embeddings\": false,<br>    \"hidden_dim\": 768,<br>    \"learning_rate\": 0.00035987879281315866,<br>    \"num_ffnn_layers\": 0,<br>    \"num_layers\": 1,<br>    \"use_pretrained_embeddings\": true<br>  },<br>  \"user_attrs\": {<br>    \"accuracy\": 0.5738955823293173,<br>    \"macs\": 2831421952.0,<br>    \"model_parameters\": 9555971,<br>    \"model_size_mb\": 36.46058177947998,<br>    \"time_avg_ms\": 0.2975112354838626,<br>    \"time_std_ms\": 0.0010189520023243187<br>  }<br>}",
          "{<br>  \"number\": 446,<br>  \"values\": [<br>    0.9479885605665354<br>  ],<br>  \"params\": {<br>    \"epochs\": 27,<br>    \"freeze_pretrained_embeddings\": false,<br>    \"hidden_dim\": 640,<br>    \"learning_rate\": 0.00028126225679294076,<br>    \"num_ffnn_layers\": 1,<br>    \"num_layers\": 2,<br>    \"use_pretrained_embeddings\": true<br>  },<br>  \"user_attrs\": {<br>    \"accuracy\": 0.5682730923694779,<br>    \"macs\": 7906529024.0,<br>    \"model_parameters\": 19460611,<br>    \"model_size_mb\": 74.24518203735352,<br>    \"time_avg_ms\": 0.39888356324344715,<br>    \"time_std_ms\": 0.004120897393915473<br>  }<br>}",
          "{<br>  \"number\": 450,<br>  \"values\": [<br>    0.94932815967462<br>  ],<br>  \"params\": {<br>    \"epochs\": 8,<br>    \"freeze_pretrained_embeddings\": false,<br>    \"hidden_dim\": 768,<br>    \"learning_rate\": 0.0003489259761104527,<br>    \"num_ffnn_layers\": 0,<br>    \"num_layers\": 1,<br>    \"use_pretrained_embeddings\": true<br>  },<br>  \"user_attrs\": {<br>    \"accuracy\": 0.5666666666666667,<br>    \"macs\": 2831421952.0,<br>    \"model_parameters\": 9555971,<br>    \"model_size_mb\": 36.46058177947998,<br>    \"time_avg_ms\": 0.29332901022451763,<br>    \"time_std_ms\": 0.0030999763481538087<br>  }<br>}",
          "{<br>  \"number\": 455,<br>  \"values\": [<br>    0.9484812296353854<br>  ],<br>  \"params\": {<br>    \"epochs\": 22,<br>    \"freeze_pretrained_embeddings\": false,<br>    \"hidden_dim\": 768,<br>    \"learning_rate\": 0.00019808555136325662,<br>    \"num_ffnn_layers\": 1,<br>    \"num_layers\": 2,<br>    \"use_pretrained_embeddings\": true<br>  },<br>  \"user_attrs\": {<br>    \"accuracy\": 0.5642570281124498,<br>    \"macs\": 11299721728.0,<br>    \"model_parameters\": 26084867,<br>    \"model_size_mb\": 99.51471328735352,<br>    \"time_avg_ms\": 0.418781432609287,<br>    \"time_std_ms\": 0.04270592532651337<br>  }<br>}",
          "{<br>  \"number\": 470,<br>  \"values\": [<br>    0.9485731858473557<br>  ],<br>  \"params\": {<br>    \"epochs\": 2,<br>    \"freeze_pretrained_embeddings\": false,<br>    \"hidden_dim\": 640,<br>    \"learning_rate\": 0.0001977084370889376,<br>    \"num_ffnn_layers\": 1,<br>    \"num_layers\": 2,<br>    \"use_pretrained_embeddings\": true<br>  },<br>  \"user_attrs\": {<br>    \"accuracy\": 0.5646586345381526,<br>    \"macs\": 7906529024.0,<br>    \"model_parameters\": 19460611,<br>    \"model_size_mb\": 74.24518203735352,<br>    \"time_avg_ms\": 0.39107103033789564,<br>    \"time_std_ms\": 0.00394503531140767<br>  }<br>}",
          "{<br>  \"number\": 471,<br>  \"values\": [<br>    0.9436369293775314<br>  ],<br>  \"params\": {<br>    \"epochs\": 26,<br>    \"freeze_pretrained_embeddings\": false,<br>    \"hidden_dim\": 768,<br>    \"learning_rate\": 0.00020587859264114045,<br>    \"num_ffnn_layers\": 1,<br>    \"num_layers\": 2,<br>    \"use_pretrained_embeddings\": true<br>  },<br>  \"user_attrs\": {<br>    \"accuracy\": 0.570281124497992,<br>    \"macs\": 11299721728.0,<br>    \"model_parameters\": 26084867,<br>    \"model_size_mb\": 99.51471328735352,<br>    \"time_avg_ms\": 0.39406297894726905,<br>    \"time_std_ms\": 0.001395058005092594<br>  }<br>}",
          "{<br>  \"number\": 472,<br>  \"values\": [<br>    0.9485509731830695<br>  ],<br>  \"params\": {<br>    \"epochs\": 26,<br>    \"freeze_pretrained_embeddings\": false,<br>    \"hidden_dim\": 768,<br>    \"learning_rate\": 0.00020038862482983533,<br>    \"num_ffnn_layers\": 1,<br>    \"num_layers\": 2,<br>    \"use_pretrained_embeddings\": true<br>  },<br>  \"user_attrs\": {<br>    \"accuracy\": 0.5634538152610442,<br>    \"macs\": 11299721728.0,<br>    \"model_parameters\": 26084867,<br>    \"model_size_mb\": 99.51471328735352,<br>    \"time_avg_ms\": 0.3800756127263109,<br>    \"time_std_ms\": 0.0011885919886228437<br>  }<br>}",
          "{<br>  \"number\": 473,<br>  \"values\": [<br>    0.9692168908241467<br>  ],<br>  \"params\": {<br>    \"epochs\": 12,<br>    \"freeze_pretrained_embeddings\": true,<br>    \"hidden_dim\": 640,<br>    \"learning_rate\": 0.0005739006570598081,<br>    \"num_ffnn_layers\": 0,<br>    \"num_layers\": 2,<br>    \"use_pretrained_embeddings\": false<br>  },<br>  \"user_attrs\": {<br>    \"accuracy\": 0.5409638554216868,<br>    \"macs\": 7067668224.0,<br>    \"model_parameters\": 17820931,<br>    \"model_size_mb\": 67.98969554901123,<br>    \"time_avg_ms\": 0.33650197039701435,<br>    \"time_std_ms\": 0.003490931337230377<br>  }<br>}",
          "{<br>  \"number\": 474,<br>  \"values\": [<br>    0.9474510856163807<br>  ],<br>  \"params\": {<br>    \"epochs\": 26,<br>    \"freeze_pretrained_embeddings\": false,<br>    \"hidden_dim\": 768,<br>    \"learning_rate\": 0.0002108305652407768,<br>    \"num_ffnn_layers\": 1,<br>    \"num_layers\": 2,<br>    \"use_pretrained_embeddings\": true<br>  },<br>  \"user_attrs\": {<br>    \"accuracy\": 0.5674698795180723,<br>    \"macs\": 11299721728.0,<br>    \"model_parameters\": 26084867,<br>    \"model_size_mb\": 99.51471328735352,<br>    \"time_avg_ms\": 0.3950969310454934,<br>    \"time_std_ms\": 0.003293550218140915<br>  }<br>}",
          "{<br>  \"number\": 476,<br>  \"values\": [<br>    0.9667009726548806<br>  ],<br>  \"params\": {<br>    \"epochs\": 12,<br>    \"freeze_pretrained_embeddings\": true,<br>    \"hidden_dim\": 640,<br>    \"learning_rate\": 0.0005062430521868126,<br>    \"num_ffnn_layers\": 1,<br>    \"num_layers\": 2,<br>    \"use_pretrained_embeddings\": false<br>  },<br>  \"user_attrs\": {<br>    \"accuracy\": 0.5465863453815261,<br>    \"macs\": 7906529024.0,<br>    \"model_parameters\": 19460611,<br>    \"model_size_mb\": 74.24518203735352,<br>    \"time_avg_ms\": 0.4014835582653943,<br>    \"time_std_ms\": 0.0028901433424478626<br>  }<br>}",
          "{<br>  \"number\": 477,<br>  \"values\": [<br>    0.9586783540554535<br>  ],<br>  \"params\": {<br>    \"epochs\": 10,<br>    \"freeze_pretrained_embeddings\": true,<br>    \"hidden_dim\": 512,<br>    \"learning_rate\": 0.0001288583497822157,<br>    \"num_ffnn_layers\": 0,<br>    \"num_layers\": 2,<br>    \"use_pretrained_embeddings\": true<br>  },<br>  \"user_attrs\": {<br>    \"accuracy\": 0.5413654618473895,<br>    \"macs\": 4580445184.0,<br>    \"model_parameters\": 12966403,<br>    \"model_size_mb\": 49.47114086151123,<br>    \"time_avg_ms\": 0.34319733110880785,<br>    \"time_std_ms\": 0.002608814751577005<br>  }<br>}",
          "{<br>  \"number\": 479,<br>  \"values\": [<br>    0.9587043860019782<br>  ],<br>  \"params\": {<br>    \"epochs\": 1,<br>    \"freeze_pretrained_embeddings\": false,<br>    \"hidden_dim\": 640,<br>    \"learning_rate\": 0.0003084757499625815,<br>    \"num_ffnn_layers\": 0,<br>    \"num_layers\": 2,<br>    \"use_pretrained_embeddings\": true<br>  },<br>  \"user_attrs\": {<br>    \"accuracy\": 0.5497991967871486,<br>    \"macs\": 7067668224.0,<br>    \"model_parameters\": 17820931,<br>    \"model_size_mb\": 67.98969554901123,<br>    \"time_avg_ms\": 0.3458072762721433,<br>    \"time_std_ms\": 0.001001259074525158<br>  }<br>}",
          "{<br>  \"number\": 480,<br>  \"values\": [<br>    0.9502912484682523<br>  ],<br>  \"params\": {<br>    \"epochs\": 3,<br>    \"freeze_pretrained_embeddings\": false,<br>    \"hidden_dim\": 640,<br>    \"learning_rate\": 0.00019105657499067041,<br>    \"num_ffnn_layers\": 1,<br>    \"num_layers\": 2,<br>    \"use_pretrained_embeddings\": true<br>  },<br>  \"user_attrs\": {<br>    \"accuracy\": 0.5682730923694779,<br>    \"macs\": 7906529024.0,<br>    \"model_parameters\": 19460611,<br>    \"model_size_mb\": 74.24518203735352,<br>    \"time_avg_ms\": 0.3876388900809818,<br>    \"time_std_ms\": 0.0010276225252159755<br>  }<br>}",
          "{<br>  \"number\": 481,<br>  \"values\": [<br>    0.9684588175553542<br>  ],<br>  \"params\": {<br>    \"epochs\": 7,<br>    \"freeze_pretrained_embeddings\": true,<br>    \"hidden_dim\": 640,<br>    \"learning_rate\": 0.0004985043609046343,<br>    \"num_ffnn_layers\": 0,<br>    \"num_layers\": 1,<br>    \"use_pretrained_embeddings\": true<br>  },<br>  \"user_attrs\": {<br>    \"accuracy\": 0.5317269076305221,<br>    \"macs\": 2024017664.0,<br>    \"model_parameters\": 7980291,<br>    \"model_size_mb\": 30.44983959197998,<br>    \"time_avg_ms\": 0.30352658569723007,<br>    \"time_std_ms\": 0.003209174530417037<br>  }<br>}",
          "{<br>  \"number\": 483,<br>  \"values\": [<br>    0.9487035671869913<br>  ],<br>  \"params\": {<br>    \"epochs\": 26,<br>    \"freeze_pretrained_embeddings\": false,<br>    \"hidden_dim\": 768,<br>    \"learning_rate\": 0.0002220906716421046,<br>    \"num_ffnn_layers\": 1,<br>    \"num_layers\": 2,<br>    \"use_pretrained_embeddings\": true<br>  },<br>  \"user_attrs\": {<br>    \"accuracy\": 0.5650602409638554,<br>    \"macs\": 11299721728.0,<br>    \"model_parameters\": 26084867,<br>    \"model_size_mb\": 99.51471328735352,<br>    \"time_avg_ms\": 0.3836764337714104,<br>    \"time_std_ms\": 0.002889149463187349<br>  }<br>}",
          "{<br>  \"number\": 487,<br>  \"values\": [<br>    0.9595818397326347<br>  ],<br>  \"params\": {<br>    \"epochs\": 2,<br>    \"freeze_pretrained_embeddings\": false,<br>    \"hidden_dim\": 640,<br>    \"learning_rate\": 0.00013840477028032868,<br>    \"num_ffnn_layers\": 1,<br>    \"num_layers\": 2,<br>    \"use_pretrained_embeddings\": true<br>  },<br>  \"user_attrs\": {<br>    \"accuracy\": 0.5538152610441767,<br>    \"macs\": 7906529024.0,<br>    \"model_parameters\": 19460611,<br>    \"model_size_mb\": 74.24518203735352,<br>    \"time_avg_ms\": 0.3937489692243221,<br>    \"time_std_ms\": 0.0043277945936560334<br>  }<br>}",
          "{<br>  \"number\": 489,<br>  \"values\": [<br>    0.9500804375379514<br>  ],<br>  \"params\": {<br>    \"epochs\": 2,<br>    \"freeze_pretrained_embeddings\": false,<br>    \"hidden_dim\": 640,<br>    \"learning_rate\": 0.0002783577304171645,<br>    \"num_ffnn_layers\": 1,<br>    \"num_layers\": 2,<br>    \"use_pretrained_embeddings\": true<br>  },<br>  \"user_attrs\": {<br>    \"accuracy\": 0.5626506024096386,<br>    \"macs\": 7906529024.0,<br>    \"model_parameters\": 19460611,<br>    \"model_size_mb\": 74.24518203735352,<br>    \"time_avg_ms\": 0.3828293986289817,<br>    \"time_std_ms\": 0.002814009978484784<br>  }<br>}",
          "{<br>  \"number\": 496,<br>  \"values\": [<br>    0.9749274666492755<br>  ],<br>  \"params\": {<br>    \"epochs\": 3,<br>    \"freeze_pretrained_embeddings\": true,<br>    \"hidden_dim\": 640,<br>    \"learning_rate\": 0.0006590712737030384,<br>    \"num_ffnn_layers\": 0,<br>    \"num_layers\": 1,<br>    \"use_pretrained_embeddings\": true<br>  },<br>  \"user_attrs\": {<br>    \"accuracy\": 0.5289156626506024,<br>    \"macs\": 2024017664.0,<br>    \"model_parameters\": 7980291,<br>    \"model_size_mb\": 30.44983959197998,<br>    \"time_avg_ms\": 0.2912108348460779,<br>    \"time_std_ms\": 0.001393790447146447<br>  }<br>}",
          "{<br>  \"number\": 497,<br>  \"values\": [<br>    0.9481209149727454<br>  ],<br>  \"params\": {<br>    \"epochs\": 24,<br>    \"freeze_pretrained_embeddings\": false,<br>    \"hidden_dim\": 768,<br>    \"learning_rate\": 0.00024813199112105997,<br>    \"num_ffnn_layers\": 1,<br>    \"num_layers\": 2,<br>    \"use_pretrained_embeddings\": true<br>  },<br>  \"user_attrs\": {<br>    \"accuracy\": 0.5602409638554217,<br>    \"macs\": 11299721728.0,<br>    \"model_parameters\": 26084867,<br>    \"model_size_mb\": 99.51471328735352,<br>    \"time_avg_ms\": 0.38572822681585833,<br>    \"time_std_ms\": 0.002027358958816136<br>  }<br>}",
          "{<br>  \"number\": 500,<br>  \"values\": [<br>    0.9475037868206317<br>  ],<br>  \"params\": {<br>    \"epochs\": 24,<br>    \"freeze_pretrained_embeddings\": false,<br>    \"hidden_dim\": 768,<br>    \"learning_rate\": 0.0002468765680077713,<br>    \"num_ffnn_layers\": 1,<br>    \"num_layers\": 2,<br>    \"use_pretrained_embeddings\": true<br>  },<br>  \"user_attrs\": {<br>    \"accuracy\": 0.5726907630522088,<br>    \"macs\": 11299721728.0,<br>    \"model_parameters\": 26084867,<br>    \"model_size_mb\": 99.51471328735352,<br>    \"time_avg_ms\": 0.37987105457521064,<br>    \"time_std_ms\": 0.0020416441471595875<br>  }<br>}",
          "{<br>  \"number\": 502,<br>  \"values\": [<br>    0.9463064960944347<br>  ],<br>  \"params\": {<br>    \"epochs\": 9,<br>    \"freeze_pretrained_embeddings\": false,<br>    \"hidden_dim\": 640,<br>    \"learning_rate\": 0.00039804994920822134,<br>    \"num_ffnn_layers\": 0,<br>    \"num_layers\": 1,<br>    \"use_pretrained_embeddings\": true<br>  },<br>  \"user_attrs\": {<br>    \"accuracy\": 0.5670682730923695,<br>    \"macs\": 2024017664.0,<br>    \"model_parameters\": 7980291,<br>    \"model_size_mb\": 30.44983959197998,<br>    \"time_avg_ms\": 0.30733834924724174,<br>    \"time_std_ms\": 0.002713628798003134<br>  }<br>}"
         ],
         "type": "scatter",
         "x": [
          1717831936,
          1350829568,
          13715640832,
          1619265024,
          1619265024,
          3701739264,
          2831421952,
          2630093056,
          1350831104,
          1887702016,
          1887702016,
          811862272,
          10091762176,
          136577792,
          10091762176,
          10091762176,
          1113852160,
          2024017664,
          2831421952,
          2831421952,
          11299721728,
          2831421952,
          11299721728,
          11299721728,
          2024017664,
          203686656,
          203686656,
          11299721728,
          11299721728,
          203686656,
          203686656,
          203686656,
          11299721728,
          675546624,
          203686656,
          203686656,
          2630093056,
          3234072832,
          541328896,
          1887702016,
          4580445184,
          541328896,
          7067668224,
          2424572928,
          1113852160,
          407111168,
          2961443840,
          407111168,
          10091762176,
          1619265024,
          203686656,
          203686656,
          2831421952,
          2024017664,
          2831421952,
          203686656,
          2831421952,
          2831421952,
          2831421952,
          2831421952,
          1619265024,
          1619265024,
          2831421952,
          5654187008,
          10091762176,
          3234072832,
          1619265024,
          170132224,
          10091762176,
          1619265024,
          10091762176,
          10091762176,
          7906529024,
          7906529024,
          440664832,
          8745389824,
          675546624,
          1619265024,
          3234072832,
          440664832,
          1485047296,
          5654187008,
          2932082944,
          11299721728,
          2932082944,
          675546624,
          2932082944,
          11299721728,
          5117316096,
          11299721728,
          11299721728,
          203686656,
          2831421952,
          2831421952,
          2831421952,
          2831421952,
          2831421952,
          2831421952,
          2831421952,
          2831421952,
          2831421952,
          7906529024,
          203686656,
          2831421952,
          7906529024,
          203686656,
          2831421952,
          2831421952,
          2831421952,
          2831421952,
          7906529024,
          203686656,
          2831421952,
          7906529024,
          2831421952,
          2831421952,
          2831421952,
          11299721728,
          541328896,
          2831421952,
          11299721728,
          2831421952,
          2831421952,
          7906529024,
          10091762176,
          2831421952,
          2831421952,
          2831421952,
          7906529024,
          2831421952,
          2831421952,
          203686656,
          2831421952,
          2831421952,
          2831421952,
          2831421952,
          203686656,
          2831421952,
          203686656,
          2831421952,
          2831421952,
          2831421952,
          2831421952,
          7906529024,
          2831421952,
          11299721728,
          7906529024,
          11299721728,
          11299721728,
          7067668224,
          11299721728,
          7906529024,
          4580445184,
          7067668224,
          7906529024,
          2024017664,
          11299721728,
          7906529024,
          7906529024,
          2024017664,
          11299721728,
          11299721728,
          2024017664
         ],
         "y": [
          1.0686463790062146,
          0.9620195031166077,
          1.0539648532867432,
          1.0395975021215587,
          1.102582729779757,
          0.9688196533765548,
          0.9556944492535714,
          0.9719949303529202,
          0.9597057837706345,
          0.9529903332392374,
          0.9682694123341486,
          0.959709263764895,
          0.9518454365241222,
          0.9670460438117002,
          0.9502420578247461,
          0.9455599372203534,
          0.9598207275072733,
          0.9587769416662363,
          0.9547473329764146,
          0.9559801618258158,
          0.9454086789718041,
          0.9540652342331715,
          0.9498240504509363,
          0.9459276550855392,
          0.9601507721803128,
          0.9516543165231363,
          0.9506172308555016,
          0.945554161683107,
          0.9454121360412011,
          0.9534362172469114,
          0.9503639783614721,
          0.9540802912834363,
          0.9483534097671509,
          0.9508934999123598,
          0.9507976113221585,
          0.9488074962909405,
          1.0219842669291375,
          0.9908590011107616,
          1.055333490555103,
          0.9971332213817499,
          0.9706434913170643,
          1.0168929864198735,
          0.9529685209958981,
          0.9764050902464451,
          0.9558826761367993,
          0.9593951793817374,
          1.1010560332200465,
          0.9553201168011396,
          0.9477890332539877,
          0.9565021288700593,
          0.9523017834394406,
          0.9525717221773587,
          0.9565970209928659,
          0.9491461744675269,
          0.9498164669061319,
          0.950621138780545,
          0.9477417698273292,
          0.9441046072886541,
          0.9475680467409965,
          0.9465042658341236,
          0.9743382212443229,
          0.9778203597435584,
          0.9487689015192863,
          0.9928290920379834,
          0.9485411491149511,
          0.9812047863617922,
          0.9529737967711228,
          0.9629269333986136,
          0.9528936499204391,
          0.9690937644396073,
          0.9481820662816366,
          0.9540965358416239,
          0.9482754805149176,
          0.947672976897313,
          0.9674155437029325,
          1.0381043018438878,
          0.9506471202923701,
          0.9669541227511871,
          0.9815313892486768,
          0.9566877331489172,
          0.9560997165166415,
          1.009037632208604,
          0.9545388833070413,
          0.9484027165632981,
          0.9517336105689024,
          0.9532626393513802,
          0.955739866464566,
          0.9461370462026352,
          0.9534597687232189,
          0.9461302100083767,
          0.9436208193118756,
          0.9540888529557449,
          0.9480139934099637,
          0.9499157850558941,
          0.9501044719647138,
          0.9494871267905602,
          0.9500446120897929,
          0.9499886494416457,
          0.9451469549765954,
          0.952758327508584,
          0.949889219724215,
          0.9495139290124942,
          0.9548657490656927,
          0.9487958091955918,
          0.9513722184376839,
          0.9535193657263731,
          0.947833796342214,
          0.9491276053281931,
          0.9449722507061102,
          0.947846036690932,
          0.9515425196060767,
          0.9540657187119509,
          0.9492008808331612,
          0.9531015845445486,
          0.9498771398495405,
          0.9493084947268168,
          0.9461953853949522,
          0.9472557749503698,
          0.9591606320478977,
          0.9462949159817818,
          0.9481731026600568,
          0.9456977890088007,
          0.9497829874356588,
          0.9475796772883489,
          0.946032811433841,
          0.9455859126188816,
          0.9492456653179266,
          0.9491349382278247,
          0.9540028556799277,
          0.9485167860984802,
          0.9495784319364108,
          0.9479010823445443,
          0.9490889998582693,
          0.9478632532633268,
          0.9476388769272046,
          0.9457916800792401,
          0.9534885638799423,
          0.9468660247631562,
          0.9478657795832708,
          0.9485376798189603,
          0.9496879195555662,
          0.9487409927906134,
          0.9471812630311037,
          0.9479885605665354,
          0.94932815967462,
          0.9484812296353854,
          0.9485731858473557,
          0.9436369293775314,
          0.9485509731830695,
          0.9692168908241467,
          0.9474510856163807,
          0.9667009726548806,
          0.9586783540554535,
          0.9587043860019782,
          0.9502912484682523,
          0.9684588175553542,
          0.9487035671869913,
          0.9595818397326347,
          0.9500804375379514,
          0.9749274666492755,
          0.9481209149727454,
          0.9475037868206317,
          0.9463064960944347
         ]
        },
        {
         "hovertemplate": "%{text}<extra>Best Trial</extra>",
         "marker": {
          "color": [
           495
          ],
          "colorbar": {
           "title": {
            "text": "Best Trial"
           },
           "x": 1.1,
           "xpad": 40
          },
          "colorscale": [
           [
            0,
            "rgb(255,245,240)"
           ],
           [
            0.125,
            "rgb(254,224,210)"
           ],
           [
            0.25,
            "rgb(252,187,161)"
           ],
           [
            0.375,
            "rgb(252,146,114)"
           ],
           [
            0.5,
            "rgb(251,106,74)"
           ],
           [
            0.625,
            "rgb(239,59,44)"
           ],
           [
            0.75,
            "rgb(203,24,29)"
           ],
           [
            0.875,
            "rgb(165,15,21)"
           ],
           [
            1,
            "rgb(103,0,13)"
           ]
          ],
          "line": {
           "color": "Grey",
           "width": 0.5
          }
         },
         "mode": "markers",
         "showlegend": false,
         "text": [
          "{<br>  \"number\": 495,<br>  \"values\": [<br>    0.9435003185883547<br>  ],<br>  \"params\": {<br>    \"epochs\": 24,<br>    \"freeze_pretrained_embeddings\": false,<br>    \"hidden_dim\": 768,<br>    \"learning_rate\": 0.00022163995953735505,<br>    \"num_ffnn_layers\": 1,<br>    \"num_layers\": 2,<br>    \"use_pretrained_embeddings\": true<br>  },<br>  \"user_attrs\": {<br>    \"accuracy\": 0.5791164658634538,<br>    \"macs\": 11299721728.0,<br>    \"model_parameters\": 26084867,<br>    \"model_size_mb\": 99.51471328735352,<br>    \"time_avg_ms\": 0.3840332024134277,<br>    \"time_std_ms\": 0.003149893674409026<br>  }<br>}"
         ],
         "type": "scatter",
         "x": [
          11299721728
         ],
         "y": [
          0.9435003185883547
         ]
        }
       ],
       "layout": {
        "template": {
         "data": {
          "bar": [
           {
            "error_x": {
             "color": "#2a3f5f"
            },
            "error_y": {
             "color": "#2a3f5f"
            },
            "marker": {
             "line": {
              "color": "#E5ECF6",
              "width": 0.5
             },
             "pattern": {
              "fillmode": "overlay",
              "size": 10,
              "solidity": 0.2
             }
            },
            "type": "bar"
           }
          ],
          "barpolar": [
           {
            "marker": {
             "line": {
              "color": "#E5ECF6",
              "width": 0.5
             },
             "pattern": {
              "fillmode": "overlay",
              "size": 10,
              "solidity": 0.2
             }
            },
            "type": "barpolar"
           }
          ],
          "carpet": [
           {
            "aaxis": {
             "endlinecolor": "#2a3f5f",
             "gridcolor": "white",
             "linecolor": "white",
             "minorgridcolor": "white",
             "startlinecolor": "#2a3f5f"
            },
            "baxis": {
             "endlinecolor": "#2a3f5f",
             "gridcolor": "white",
             "linecolor": "white",
             "minorgridcolor": "white",
             "startlinecolor": "#2a3f5f"
            },
            "type": "carpet"
           }
          ],
          "choropleth": [
           {
            "colorbar": {
             "outlinewidth": 0,
             "ticks": ""
            },
            "type": "choropleth"
           }
          ],
          "contour": [
           {
            "colorbar": {
             "outlinewidth": 0,
             "ticks": ""
            },
            "colorscale": [
             [
              0,
              "#0d0887"
             ],
             [
              0.1111111111111111,
              "#46039f"
             ],
             [
              0.2222222222222222,
              "#7201a8"
             ],
             [
              0.3333333333333333,
              "#9c179e"
             ],
             [
              0.4444444444444444,
              "#bd3786"
             ],
             [
              0.5555555555555556,
              "#d8576b"
             ],
             [
              0.6666666666666666,
              "#ed7953"
             ],
             [
              0.7777777777777778,
              "#fb9f3a"
             ],
             [
              0.8888888888888888,
              "#fdca26"
             ],
             [
              1,
              "#f0f921"
             ]
            ],
            "type": "contour"
           }
          ],
          "contourcarpet": [
           {
            "colorbar": {
             "outlinewidth": 0,
             "ticks": ""
            },
            "type": "contourcarpet"
           }
          ],
          "heatmap": [
           {
            "colorbar": {
             "outlinewidth": 0,
             "ticks": ""
            },
            "colorscale": [
             [
              0,
              "#0d0887"
             ],
             [
              0.1111111111111111,
              "#46039f"
             ],
             [
              0.2222222222222222,
              "#7201a8"
             ],
             [
              0.3333333333333333,
              "#9c179e"
             ],
             [
              0.4444444444444444,
              "#bd3786"
             ],
             [
              0.5555555555555556,
              "#d8576b"
             ],
             [
              0.6666666666666666,
              "#ed7953"
             ],
             [
              0.7777777777777778,
              "#fb9f3a"
             ],
             [
              0.8888888888888888,
              "#fdca26"
             ],
             [
              1,
              "#f0f921"
             ]
            ],
            "type": "heatmap"
           }
          ],
          "heatmapgl": [
           {
            "colorbar": {
             "outlinewidth": 0,
             "ticks": ""
            },
            "colorscale": [
             [
              0,
              "#0d0887"
             ],
             [
              0.1111111111111111,
              "#46039f"
             ],
             [
              0.2222222222222222,
              "#7201a8"
             ],
             [
              0.3333333333333333,
              "#9c179e"
             ],
             [
              0.4444444444444444,
              "#bd3786"
             ],
             [
              0.5555555555555556,
              "#d8576b"
             ],
             [
              0.6666666666666666,
              "#ed7953"
             ],
             [
              0.7777777777777778,
              "#fb9f3a"
             ],
             [
              0.8888888888888888,
              "#fdca26"
             ],
             [
              1,
              "#f0f921"
             ]
            ],
            "type": "heatmapgl"
           }
          ],
          "histogram": [
           {
            "marker": {
             "pattern": {
              "fillmode": "overlay",
              "size": 10,
              "solidity": 0.2
             }
            },
            "type": "histogram"
           }
          ],
          "histogram2d": [
           {
            "colorbar": {
             "outlinewidth": 0,
             "ticks": ""
            },
            "colorscale": [
             [
              0,
              "#0d0887"
             ],
             [
              0.1111111111111111,
              "#46039f"
             ],
             [
              0.2222222222222222,
              "#7201a8"
             ],
             [
              0.3333333333333333,
              "#9c179e"
             ],
             [
              0.4444444444444444,
              "#bd3786"
             ],
             [
              0.5555555555555556,
              "#d8576b"
             ],
             [
              0.6666666666666666,
              "#ed7953"
             ],
             [
              0.7777777777777778,
              "#fb9f3a"
             ],
             [
              0.8888888888888888,
              "#fdca26"
             ],
             [
              1,
              "#f0f921"
             ]
            ],
            "type": "histogram2d"
           }
          ],
          "histogram2dcontour": [
           {
            "colorbar": {
             "outlinewidth": 0,
             "ticks": ""
            },
            "colorscale": [
             [
              0,
              "#0d0887"
             ],
             [
              0.1111111111111111,
              "#46039f"
             ],
             [
              0.2222222222222222,
              "#7201a8"
             ],
             [
              0.3333333333333333,
              "#9c179e"
             ],
             [
              0.4444444444444444,
              "#bd3786"
             ],
             [
              0.5555555555555556,
              "#d8576b"
             ],
             [
              0.6666666666666666,
              "#ed7953"
             ],
             [
              0.7777777777777778,
              "#fb9f3a"
             ],
             [
              0.8888888888888888,
              "#fdca26"
             ],
             [
              1,
              "#f0f921"
             ]
            ],
            "type": "histogram2dcontour"
           }
          ],
          "mesh3d": [
           {
            "colorbar": {
             "outlinewidth": 0,
             "ticks": ""
            },
            "type": "mesh3d"
           }
          ],
          "parcoords": [
           {
            "line": {
             "colorbar": {
              "outlinewidth": 0,
              "ticks": ""
             }
            },
            "type": "parcoords"
           }
          ],
          "pie": [
           {
            "automargin": true,
            "type": "pie"
           }
          ],
          "scatter": [
           {
            "fillpattern": {
             "fillmode": "overlay",
             "size": 10,
             "solidity": 0.2
            },
            "type": "scatter"
           }
          ],
          "scatter3d": [
           {
            "line": {
             "colorbar": {
              "outlinewidth": 0,
              "ticks": ""
             }
            },
            "marker": {
             "colorbar": {
              "outlinewidth": 0,
              "ticks": ""
             }
            },
            "type": "scatter3d"
           }
          ],
          "scattercarpet": [
           {
            "marker": {
             "colorbar": {
              "outlinewidth": 0,
              "ticks": ""
             }
            },
            "type": "scattercarpet"
           }
          ],
          "scattergeo": [
           {
            "marker": {
             "colorbar": {
              "outlinewidth": 0,
              "ticks": ""
             }
            },
            "type": "scattergeo"
           }
          ],
          "scattergl": [
           {
            "marker": {
             "colorbar": {
              "outlinewidth": 0,
              "ticks": ""
             }
            },
            "type": "scattergl"
           }
          ],
          "scattermapbox": [
           {
            "marker": {
             "colorbar": {
              "outlinewidth": 0,
              "ticks": ""
             }
            },
            "type": "scattermapbox"
           }
          ],
          "scatterpolar": [
           {
            "marker": {
             "colorbar": {
              "outlinewidth": 0,
              "ticks": ""
             }
            },
            "type": "scatterpolar"
           }
          ],
          "scatterpolargl": [
           {
            "marker": {
             "colorbar": {
              "outlinewidth": 0,
              "ticks": ""
             }
            },
            "type": "scatterpolargl"
           }
          ],
          "scatterternary": [
           {
            "marker": {
             "colorbar": {
              "outlinewidth": 0,
              "ticks": ""
             }
            },
            "type": "scatterternary"
           }
          ],
          "surface": [
           {
            "colorbar": {
             "outlinewidth": 0,
             "ticks": ""
            },
            "colorscale": [
             [
              0,
              "#0d0887"
             ],
             [
              0.1111111111111111,
              "#46039f"
             ],
             [
              0.2222222222222222,
              "#7201a8"
             ],
             [
              0.3333333333333333,
              "#9c179e"
             ],
             [
              0.4444444444444444,
              "#bd3786"
             ],
             [
              0.5555555555555556,
              "#d8576b"
             ],
             [
              0.6666666666666666,
              "#ed7953"
             ],
             [
              0.7777777777777778,
              "#fb9f3a"
             ],
             [
              0.8888888888888888,
              "#fdca26"
             ],
             [
              1,
              "#f0f921"
             ]
            ],
            "type": "surface"
           }
          ],
          "table": [
           {
            "cells": {
             "fill": {
              "color": "#EBF0F8"
             },
             "line": {
              "color": "white"
             }
            },
            "header": {
             "fill": {
              "color": "#C8D4E3"
             },
             "line": {
              "color": "white"
             }
            },
            "type": "table"
           }
          ]
         },
         "layout": {
          "annotationdefaults": {
           "arrowcolor": "#2a3f5f",
           "arrowhead": 0,
           "arrowwidth": 1
          },
          "autotypenumbers": "strict",
          "coloraxis": {
           "colorbar": {
            "outlinewidth": 0,
            "ticks": ""
           }
          },
          "colorscale": {
           "diverging": [
            [
             0,
             "#8e0152"
            ],
            [
             0.1,
             "#c51b7d"
            ],
            [
             0.2,
             "#de77ae"
            ],
            [
             0.3,
             "#f1b6da"
            ],
            [
             0.4,
             "#fde0ef"
            ],
            [
             0.5,
             "#f7f7f7"
            ],
            [
             0.6,
             "#e6f5d0"
            ],
            [
             0.7,
             "#b8e186"
            ],
            [
             0.8,
             "#7fbc41"
            ],
            [
             0.9,
             "#4d9221"
            ],
            [
             1,
             "#276419"
            ]
           ],
           "sequential": [
            [
             0,
             "#0d0887"
            ],
            [
             0.1111111111111111,
             "#46039f"
            ],
            [
             0.2222222222222222,
             "#7201a8"
            ],
            [
             0.3333333333333333,
             "#9c179e"
            ],
            [
             0.4444444444444444,
             "#bd3786"
            ],
            [
             0.5555555555555556,
             "#d8576b"
            ],
            [
             0.6666666666666666,
             "#ed7953"
            ],
            [
             0.7777777777777778,
             "#fb9f3a"
            ],
            [
             0.8888888888888888,
             "#fdca26"
            ],
            [
             1,
             "#f0f921"
            ]
           ],
           "sequentialminus": [
            [
             0,
             "#0d0887"
            ],
            [
             0.1111111111111111,
             "#46039f"
            ],
            [
             0.2222222222222222,
             "#7201a8"
            ],
            [
             0.3333333333333333,
             "#9c179e"
            ],
            [
             0.4444444444444444,
             "#bd3786"
            ],
            [
             0.5555555555555556,
             "#d8576b"
            ],
            [
             0.6666666666666666,
             "#ed7953"
            ],
            [
             0.7777777777777778,
             "#fb9f3a"
            ],
            [
             0.8888888888888888,
             "#fdca26"
            ],
            [
             1,
             "#f0f921"
            ]
           ]
          },
          "colorway": [
           "#636efa",
           "#EF553B",
           "#00cc96",
           "#ab63fa",
           "#FFA15A",
           "#19d3f3",
           "#FF6692",
           "#B6E880",
           "#FF97FF",
           "#FECB52"
          ],
          "font": {
           "color": "#2a3f5f"
          },
          "geo": {
           "bgcolor": "white",
           "lakecolor": "white",
           "landcolor": "#E5ECF6",
           "showlakes": true,
           "showland": true,
           "subunitcolor": "white"
          },
          "hoverlabel": {
           "align": "left"
          },
          "hovermode": "closest",
          "mapbox": {
           "style": "light"
          },
          "paper_bgcolor": "white",
          "plot_bgcolor": "#E5ECF6",
          "polar": {
           "angularaxis": {
            "gridcolor": "white",
            "linecolor": "white",
            "ticks": ""
           },
           "bgcolor": "#E5ECF6",
           "radialaxis": {
            "gridcolor": "white",
            "linecolor": "white",
            "ticks": ""
           }
          },
          "scene": {
           "xaxis": {
            "backgroundcolor": "#E5ECF6",
            "gridcolor": "white",
            "gridwidth": 2,
            "linecolor": "white",
            "showbackground": true,
            "ticks": "",
            "zerolinecolor": "white"
           },
           "yaxis": {
            "backgroundcolor": "#E5ECF6",
            "gridcolor": "white",
            "gridwidth": 2,
            "linecolor": "white",
            "showbackground": true,
            "ticks": "",
            "zerolinecolor": "white"
           },
           "zaxis": {
            "backgroundcolor": "#E5ECF6",
            "gridcolor": "white",
            "gridwidth": 2,
            "linecolor": "white",
            "showbackground": true,
            "ticks": "",
            "zerolinecolor": "white"
           }
          },
          "shapedefaults": {
           "line": {
            "color": "#2a3f5f"
           }
          },
          "ternary": {
           "aaxis": {
            "gridcolor": "white",
            "linecolor": "white",
            "ticks": ""
           },
           "baxis": {
            "gridcolor": "white",
            "linecolor": "white",
            "ticks": ""
           },
           "bgcolor": "#E5ECF6",
           "caxis": {
            "gridcolor": "white",
            "linecolor": "white",
            "ticks": ""
           }
          },
          "title": {
           "x": 0.05
          },
          "xaxis": {
           "automargin": true,
           "gridcolor": "white",
           "linecolor": "white",
           "ticks": "",
           "title": {
            "standoff": 15
           },
           "zerolinecolor": "white",
           "zerolinewidth": 2
          },
          "yaxis": {
           "automargin": true,
           "gridcolor": "white",
           "linecolor": "white",
           "ticks": "",
           "title": {
            "standoff": 15
           },
           "zerolinecolor": "white",
           "zerolinewidth": 2
          }
         }
        },
        "title": {
         "text": "Pareto-front Plot"
        },
        "xaxis": {
         "title": {
          "text": "macs"
         }
        },
        "yaxis": {
         "title": {
          "text": "eval_loss"
         }
        }
       }
      },
      "text/html": [
       "<div>                            <div id=\"90e99cc4-c2ae-427a-844f-dd3c00deb46e\" class=\"plotly-graph-div\" style=\"height:525px; width:100%;\"></div>            <script type=\"text/javascript\">                require([\"plotly\"], function(Plotly) {                    window.PLOTLYENV=window.PLOTLYENV || {};                                    if (document.getElementById(\"90e99cc4-c2ae-427a-844f-dd3c00deb46e\")) {                    Plotly.newPlot(                        \"90e99cc4-c2ae-427a-844f-dd3c00deb46e\",                        [{\"hovertemplate\":\"%{text}<extra>Trial</extra>\",\"marker\":{\"color\":[0,1,2,6,9,10,11,12,23,25,27,33,35,36,38,39,41,42,48,49,50,52,56,58,63,65,66,67,70,74,76,79,92,95,106,127,128,130,132,139,140,141,144,148,154,157,160,161,168,171,177,178,181,183,189,190,192,194,195,197,198,199,203,207,215,219,220,221,229,235,236,239,241,243,247,248,251,254,256,257,265,283,286,287,294,296,297,298,300,302,304,306,315,318,319,320,323,326,327,332,335,336,338,339,340,342,343,345,352,355,358,359,362,364,365,366,370,371,372,373,374,375,381,385,389,391,392,393,394,400,403,404,406,408,412,416,418,419,425,426,427,428,445,446,450,455,470,471,472,473,474,476,477,479,480,481,483,487,489,496,497,500,502],\"colorbar\":{\"title\":{\"text\":\"Trial\"}},\"colorscale\":[[0.0,\"rgb(247,251,255)\"],[0.125,\"rgb(222,235,247)\"],[0.25,\"rgb(198,219,239)\"],[0.375,\"rgb(158,202,225)\"],[0.5,\"rgb(107,174,214)\"],[0.625,\"rgb(66,146,198)\"],[0.75,\"rgb(33,113,181)\"],[0.875,\"rgb(8,81,156)\"],[1.0,\"rgb(8,48,107)\"]],\"line\":{\"color\":\"Grey\",\"width\":0.5}},\"mode\":\"markers\",\"showlegend\":false,\"text\":[\"{<br>  \\\"number\\\": 0,<br>  \\\"values\\\": [<br>    1.0686463790062146<br>  ],<br>  \\\"params\\\": {<br>    \\\"epochs\\\": 7,<br>    \\\"freeze_pretrained_embeddings\\\": false,<br>    \\\"hidden_dim\\\": 384,<br>    \\\"learning_rate\\\": 6.224672679059181e-05,<br>    \\\"num_ffnn_layers\\\": 3,<br>    \\\"num_layers\\\": 1,<br>    \\\"use_pretrained_embeddings\\\": true<br>  },<br>  \\\"user_attrs\\\": {<br>    \\\"accuracy\\\": 0.4570281124497992,<br>    \\\"macs\\\": 1717831936.0,<br>    \\\"model_parameters\\\": 7387139,<br>    \\\"model_size_mb\\\": 28.18914031982422,<br>    \\\"time_avg_ms\\\": 0.6630238969863831,<br>    \\\"time_std_ms\\\": 0.015944997378746464<br>  }<br>}\",\"{<br>  \\\"number\\\": 1,<br>  \\\"values\\\": [<br>    0.9620195031166077<br>  ],<br>  \\\"params\\\": {<br>    \\\"epochs\\\": 28,<br>    \\\"freeze_pretrained_embeddings\\\": false,<br>    \\\"hidden_dim\\\": 256,<br>    \\\"learning_rate\\\": 0.00021425286466939477,<br>    \\\"num_ffnn_layers\\\": 1,<br>    \\\"num_layers\\\": 2,<br>    \\\"use_pretrained_embeddings\\\": false<br>  },<br>  \\\"user_attrs\\\": {<br>    \\\"accuracy\\\": 0.5518072289156627,<br>    \\\"macs\\\": 1350829568.0,<br>    \\\"model_parameters\\\": 6665731,<br>    \\\"model_size_mb\\\": 25.436588287353516,<br>    \\\"time_avg_ms\\\": 0.3922844783949625,<br>    \\\"time_std_ms\\\": 0.0012216572831997697<br>  }<br>}\",\"{<br>  \\\"number\\\": 2,<br>  \\\"values\\\": [<br>    1.0539648532867432<br>  ],<br>  \\\"params\\\": {<br>    \\\"epochs\\\": 27,<br>    \\\"freeze_pretrained_embeddings\\\": true,<br>    \\\"hidden_dim\\\": 768,<br>    \\\"learning_rate\\\": 0.00033288168577588225,<br>    \\\"num_ffnn_layers\\\": 3,<br>    \\\"num_layers\\\": 2,<br>    \\\"use_pretrained_embeddings\\\": false<br>  },<br>  \\\"user_attrs\\\": {<br>    \\\"accuracy\\\": 0.4108433734939759,<br>    \\\"macs\\\": 13715640832.0,<br>    \\\"model_parameters\\\": 30806531,<br>    \\\"model_size_mb\\\": 117.52794647216797,<br>    \\\"time_avg_ms\\\": 0.4967682568045954,<br>    \\\"time_std_ms\\\": 0.011271641628881692<br>  }<br>}\",\"{<br>  \\\"number\\\": 6,<br>  \\\"values\\\": [<br>    1.0395975021215587<br>  ],<br>  \\\"params\\\": {<br>    \\\"epochs\\\": 5,<br>    \\\"freeze_pretrained_embeddings\\\": false,<br>    \\\"hidden_dim\\\": 256,<br>    \\\"learning_rate\\\": 4.25474685557244e-05,<br>    \\\"num_ffnn_layers\\\": 3,<br>    \\\"num_layers\\\": 2,<br>    \\\"use_pretrained_embeddings\\\": true<br>  },<br>  \\\"user_attrs\\\": {<br>    \\\"accuracy\\\": 0.4971887550200803,<br>    \\\"macs\\\": 1619265024.0,<br>    \\\"model_parameters\\\": 7191043,<br>    \\\"model_size_mb\\\": 27.44200897216797,<br>    \\\"time_avg_ms\\\": 0.48530681849887936,<br>    \\\"time_std_ms\\\": 0.009806056765203585<br>  }<br>}\",\"{<br>  \\\"number\\\": 9,<br>  \\\"values\\\": [<br>    1.102582729779757<br>  ],<br>  \\\"params\\\": {<br>    \\\"epochs\\\": 1,<br>    \\\"freeze_pretrained_embeddings\\\": true,<br>    \\\"hidden_dim\\\": 256,<br>    \\\"learning_rate\\\": 5.8537419889430346e-05,<br>    \\\"num_ffnn_layers\\\": 3,<br>    \\\"num_layers\\\": 2,<br>    \\\"use_pretrained_embeddings\\\": false<br>  },<br>  \\\"user_attrs\\\": {<br>    \\\"accuracy\\\": 0.36305220883534134,<br>    \\\"macs\\\": 1619265024.0,<br>    \\\"model_parameters\\\": 7191043,<br>    \\\"model_size_mb\\\": 27.44200897216797,<br>    \\\"time_avg_ms\\\": 0.6870038038565932,<br>    \\\"time_std_ms\\\": 0.019082923573836456<br>  }<br>}\",\"{<br>  \\\"number\\\": 10,<br>  \\\"values\\\": [<br>    0.9688196533765548<br>  ],<br>  \\\"params\\\": {<br>    \\\"epochs\\\": 10,<br>    \\\"freeze_pretrained_embeddings\\\": true,<br>    \\\"hidden_dim\\\": 640,<br>    \\\"learning_rate\\\": 0.0001435597474411505,<br>    \\\"num_ffnn_layers\\\": 2,<br>    \\\"num_layers\\\": 1,<br>    \\\"use_pretrained_embeddings\\\": false<br>  },<br>  \\\"user_attrs\\\": {<br>    \\\"accuracy\\\": 0.5433734939759036,<br>    \\\"macs\\\": 3701739264.0,<br>    \\\"model_parameters\\\": 11259651,<br>    \\\"model_size_mb\\\": 42.96093559265137,<br>    \\\"time_avg_ms\\\": 0.42481310447328724,<br>    \\\"time_std_ms\\\": 0.007088842182583405<br>  }<br>}\",\"{<br>  \\\"number\\\": 11,<br>  \\\"values\\\": [<br>    0.9556944492535714<br>  ],<br>  \\\"params\\\": {<br>    \\\"epochs\\\": 22,<br>    \\\"freeze_pretrained_embeddings\\\": false,<br>    \\\"hidden_dim\\\": 768,<br>    \\\"learning_rate\\\": 0.0004734832089416549,<br>    \\\"num_ffnn_layers\\\": 0,<br>    \\\"num_layers\\\": 1,<br>    \\\"use_pretrained_embeddings\\\": true<br>  },<br>  \\\"user_attrs\\\": {<br>    \\\"accuracy\\\": 0.5650602409638554,<br>    \\\"macs\\\": 2831421952.0,<br>    \\\"model_parameters\\\": 9555971,<br>    \\\"model_size_mb\\\": 36.46058177947998,<br>    \\\"time_avg_ms\\\": 0.31827879269094617,<br>    \\\"time_std_ms\\\": 0.006618400599532437<br>  }<br>}\",\"{<br>  \\\"number\\\": 12,<br>  \\\"values\\\": [<br>    0.9719949303529202<br>  ],<br>  \\\"params\\\": {<br>    \\\"epochs\\\": 3,<br>    \\\"freeze_pretrained_embeddings\\\": false,<br>    \\\"hidden_dim\\\": 384,<br>    \\\"learning_rate\\\": 7.946776191948992e-05,<br>    \\\"num_ffnn_layers\\\": 0,<br>    \\\"num_layers\\\": 2,<br>    \\\"use_pretrained_embeddings\\\": true<br>  },<br>  \\\"user_attrs\\\": {<br>    \\\"accuracy\\\": 0.5429718875502008,<br>    \\\"macs\\\": 2630093056.0,<br>    \\\"model_parameters\\\": 9160451,<br>    \\\"model_size_mb\\\": 34.95258617401123,<br>    \\\"time_avg_ms\\\": 0.350160718701043,<br>    \\\"time_std_ms\\\": 0.0012701535737939197<br>  }<br>}\",\"{<br>  \\\"number\\\": 23,<br>  \\\"values\\\": [<br>    0.9597057837706345<br>  ],<br>  \\\"params\\\": {<br>    \\\"epochs\\\": 7,<br>    \\\"freeze_pretrained_embeddings\\\": false,<br>    \\\"hidden_dim\\\": 512,<br>    \\\"learning_rate\\\": 0.0003021443980827148,<br>    \\\"num_ffnn_layers\\\": 0,<br>    \\\"num_layers\\\": 1,<br>    \\\"use_pretrained_embeddings\\\": true<br>  },<br>  \\\"user_attrs\\\": {<br>    \\\"accuracy\\\": 0.5598393574297189,<br>    \\\"macs\\\": 1350831104.0,<br>    \\\"model_parameters\\\": 6666755,<br>    \\\"model_size_mb\\\": 25.43909740447998,<br>    \\\"time_avg_ms\\\": 0.31851390203302526,<br>    \\\"time_std_ms\\\": 0.004240427601835646<br>  }<br>}\",\"{<br>  \\\"number\\\": 25,<br>  \\\"values\\\": [<br>    0.9529903332392374<br>  ],<br>  \\\"params\\\": {<br>    \\\"epochs\\\": 7,<br>    \\\"freeze_pretrained_embeddings\\\": false,<br>    \\\"hidden_dim\\\": 512,<br>    \\\"learning_rate\\\": 0.0003154424760800437,<br>    \\\"num_ffnn_layers\\\": 1,<br>    \\\"num_layers\\\": 1,<br>    \\\"use_pretrained_embeddings\\\": true<br>  },<br>  \\\"user_attrs\\\": {<br>    \\\"accuracy\\\": 0.5646586345381526,<br>    \\\"macs\\\": 1887702016.0,<br>    \\\"model_parameters\\\": 7716355,<br>    \\\"model_size_mb\\\": 29.443668365478516,<br>    \\\"time_avg_ms\\\": 0.34921696182167117,<br>    \\\"time_std_ms\\\": 0.00131917900065617<br>  }<br>}\",\"{<br>  \\\"number\\\": 27,<br>  \\\"values\\\": [<br>    0.9682694123341486<br>  ],<br>  \\\"params\\\": {<br>    \\\"epochs\\\": 7,<br>    \\\"freeze_pretrained_embeddings\\\": false,<br>    \\\"hidden_dim\\\": 512,<br>    \\\"learning_rate\\\": 0.00041392476977007237,<br>    \\\"num_ffnn_layers\\\": 1,<br>    \\\"num_layers\\\": 1,<br>    \\\"use_pretrained_embeddings\\\": true<br>  },<br>  \\\"user_attrs\\\": {<br>    \\\"accuracy\\\": 0.553012048192771,<br>    \\\"macs\\\": 1887702016.0,<br>    \\\"model_parameters\\\": 7716355,<br>    \\\"model_size_mb\\\": 29.443668365478516,<br>    \\\"time_avg_ms\\\": 0.4123163861081456,<br>    \\\"time_std_ms\\\": 0.04547050130152847<br>  }<br>}\",\"{<br>  \\\"number\\\": 33,<br>  \\\"values\\\": [<br>    0.959709263764895<br>  ],<br>  \\\"params\\\": {<br>    \\\"epochs\\\": 15,<br>    \\\"freeze_pretrained_embeddings\\\": false,<br>    \\\"hidden_dim\\\": 384,<br>    \\\"learning_rate\\\": 0.0002589645463893436,<br>    \\\"num_ffnn_layers\\\": 0,<br>    \\\"num_layers\\\": 1,<br>    \\\"use_pretrained_embeddings\\\": true<br>  },<br>  \\\"user_attrs\\\": {<br>    \\\"accuracy\\\": 0.5666666666666667,<br>    \\\"macs\\\": 811862272.0,<br>    \\\"model_parameters\\\": 5615363,<br>    \\\"model_size_mb\\\": 21.42835521697998,<br>    \\\"time_avg_ms\\\": 0.6373080355882809,<br>    \\\"time_std_ms\\\": 0.08953997955050104<br>  }<br>}\",\"{<br>  \\\"number\\\": 35,<br>  \\\"values\\\": [<br>    0.9518454365241222<br>  ],<br>  \\\"params\\\": {<br>    \\\"epochs\\\": 22,<br>    \\\"freeze_pretrained_embeddings\\\": false,<br>    \\\"hidden_dim\\\": 768,<br>    \\\"learning_rate\\\": 0.00013736718770934872,<br>    \\\"num_ffnn_layers\\\": 0,<br>    \\\"num_layers\\\": 2,<br>    \\\"use_pretrained_embeddings\\\": true<br>  },<br>  \\\"user_attrs\\\": {<br>    \\\"accuracy\\\": 0.5694779116465863,<br>    \\\"macs\\\": 10091762176.0,<br>    \\\"model_parameters\\\": 23724035,<br>    \\\"model_size_mb\\\": 90.50825023651123,<br>    \\\"time_avg_ms\\\": 0.3623576287525831,<br>    \\\"time_std_ms\\\": 0.006432216902134279<br>  }<br>}\",\"{<br>  \\\"number\\\": 36,<br>  \\\"values\\\": [<br>    0.9670460438117002<br>  ],<br>  \\\"params\\\": {<br>    \\\"epochs\\\": 5,<br>    \\\"freeze_pretrained_embeddings\\\": false,<br>    \\\"hidden_dim\\\": 128,<br>    \\\"learning_rate\\\": 0.0004943984960062962,<br>    \\\"num_ffnn_layers\\\": 0,<br>    \\\"num_layers\\\": 1,<br>    \\\"use_pretrained_embeddings\\\": true<br>  },<br>  \\\"user_attrs\\\": {<br>    \\\"accuracy\\\": 0.5385542168674698,<br>    \\\"macs\\\": 136577792.0,<br>    \\\"model_parameters\\\": 4299011,<br>    \\\"model_size_mb\\\": 16.40687084197998,<br>    \\\"time_avg_ms\\\": 0.3947676957344239,<br>    \\\"time_std_ms\\\": 0.0084837876754137<br>  }<br>}\",\"{<br>  \\\"number\\\": 38,<br>  \\\"values\\\": [<br>    0.9502420578247461<br>  ],<br>  \\\"params\\\": {<br>    \\\"epochs\\\": 26,<br>    \\\"freeze_pretrained_embeddings\\\": false,<br>    \\\"hidden_dim\\\": 768,<br>    \\\"learning_rate\\\": 0.0002277722772520188,<br>    \\\"num_ffnn_layers\\\": 0,<br>    \\\"num_layers\\\": 2,<br>    \\\"use_pretrained_embeddings\\\": true<br>  },<br>  \\\"user_attrs\\\": {<br>    \\\"accuracy\\\": 0.5598393574297189,<br>    \\\"macs\\\": 10091762176.0,<br>    \\\"model_parameters\\\": 23724035,<br>    \\\"model_size_mb\\\": 90.50825023651123,<br>    \\\"time_avg_ms\\\": 0.36761114024557173,<br>    \\\"time_std_ms\\\": 0.012145495921662395<br>  }<br>}\",\"{<br>  \\\"number\\\": 39,<br>  \\\"values\\\": [<br>    0.9455599372203534<br>  ],<br>  \\\"params\\\": {<br>    \\\"epochs\\\": 24,<br>    \\\"freeze_pretrained_embeddings\\\": false,<br>    \\\"hidden_dim\\\": 768,<br>    \\\"learning_rate\\\": 0.00036829403658503266,<br>    \\\"num_ffnn_layers\\\": 0,<br>    \\\"num_layers\\\": 2,<br>    \\\"use_pretrained_embeddings\\\": true<br>  },<br>  \\\"user_attrs\\\": {<br>    \\\"accuracy\\\": 0.5706827309236948,<br>    \\\"macs\\\": 10091762176.0,<br>    \\\"model_parameters\\\": 23724035,<br>    \\\"model_size_mb\\\": 90.50825023651123,<br>    \\\"time_avg_ms\\\": 0.49869988743930754,<br>    \\\"time_std_ms\\\": 0.027132159799875946<br>  }<br>}\",\"{<br>  \\\"number\\\": 41,<br>  \\\"values\\\": [<br>    0.9598207275072733<br>  ],<br>  \\\"params\\\": {<br>    \\\"epochs\\\": 16,<br>    \\\"freeze_pretrained_embeddings\\\": false,<br>    \\\"hidden_dim\\\": 384,<br>    \\\"learning_rate\\\": 0.00025153607357740406,<br>    \\\"num_ffnn_layers\\\": 1,<br>    \\\"num_layers\\\": 1,<br>    \\\"use_pretrained_embeddings\\\": true<br>  },<br>  \\\"user_attrs\\\": {<br>    \\\"accuracy\\\": 0.5610441767068273,<br>    \\\"macs\\\": 1113852160.0,<br>    \\\"model_parameters\\\": 6205955,<br>    \\\"model_size_mb\\\": 23.681949615478516,<br>    \\\"time_avg_ms\\\": 0.7112164903261071,<br>    \\\"time_std_ms\\\": 0.06018909201043504<br>  }<br>}\",\"{<br>  \\\"number\\\": 42,<br>  \\\"values\\\": [<br>    0.9587769416662363<br>  ],<br>  \\\"params\\\": {<br>    \\\"epochs\\\": 1,<br>    \\\"freeze_pretrained_embeddings\\\": false,<br>    \\\"hidden_dim\\\": 640,<br>    \\\"learning_rate\\\": 0.0007793625652798932,<br>    \\\"num_ffnn_layers\\\": 0,<br>    \\\"num_layers\\\": 1,<br>    \\\"use_pretrained_embeddings\\\": true<br>  },<br>  \\\"user_attrs\\\": {<br>    \\\"accuracy\\\": 0.5550200803212851,<br>    \\\"macs\\\": 2024017664.0,<br>    \\\"model_parameters\\\": 7980291,<br>    \\\"model_size_mb\\\": 30.44983959197998,<br>    \\\"time_avg_ms\\\": 0.31699402569892243,<br>    \\\"time_std_ms\\\": 0.003943905791107256<br>  }<br>}\",\"{<br>  \\\"number\\\": 48,<br>  \\\"values\\\": [<br>    0.9547473329764146<br>  ],<br>  \\\"params\\\": {<br>    \\\"epochs\\\": 1,<br>    \\\"freeze_pretrained_embeddings\\\": false,<br>    \\\"hidden_dim\\\": 768,<br>    \\\"learning_rate\\\": 0.0007569134864486075,<br>    \\\"num_ffnn_layers\\\": 0,<br>    \\\"num_layers\\\": 1,<br>    \\\"use_pretrained_embeddings\\\": true<br>  },<br>  \\\"user_attrs\\\": {<br>    \\\"accuracy\\\": 0.5598393574297189,<br>    \\\"macs\\\": 2831421952.0,<br>    \\\"model_parameters\\\": 9555971,<br>    \\\"model_size_mb\\\": 36.46058177947998,<br>    \\\"time_avg_ms\\\": 0.3125980801246676,<br>    \\\"time_std_ms\\\": 0.005090935037321294<br>  }<br>}\",\"{<br>  \\\"number\\\": 49,<br>  \\\"values\\\": [<br>    0.9559801618258158<br>  ],<br>  \\\"params\\\": {<br>    \\\"epochs\\\": 1,<br>    \\\"freeze_pretrained_embeddings\\\": false,<br>    \\\"hidden_dim\\\": 768,<br>    \\\"learning_rate\\\": 0.0007525442105370293,<br>    \\\"num_ffnn_layers\\\": 0,<br>    \\\"num_layers\\\": 1,<br>    \\\"use_pretrained_embeddings\\\": true<br>  },<br>  \\\"user_attrs\\\": {<br>    \\\"accuracy\\\": 0.563855421686747,<br>    \\\"macs\\\": 2831421952.0,<br>    \\\"model_parameters\\\": 9555971,<br>    \\\"model_size_mb\\\": 36.46058177947998,<br>    \\\"time_avg_ms\\\": 0.30457024033901026,<br>    \\\"time_std_ms\\\": 0.0016862688443860464<br>  }<br>}\",\"{<br>  \\\"number\\\": 50,<br>  \\\"values\\\": [<br>    0.9454086789718041<br>  ],<br>  \\\"params\\\": {<br>    \\\"epochs\\\": 23,<br>    \\\"freeze_pretrained_embeddings\\\": false,<br>    \\\"hidden_dim\\\": 768,<br>    \\\"learning_rate\\\": 0.000214968083566945,<br>    \\\"num_ffnn_layers\\\": 1,<br>    \\\"num_layers\\\": 2,<br>    \\\"use_pretrained_embeddings\\\": true<br>  },<br>  \\\"user_attrs\\\": {<br>    \\\"accuracy\\\": 0.5674698795180723,<br>    \\\"macs\\\": 11299721728.0,<br>    \\\"model_parameters\\\": 26084867,<br>    \\\"model_size_mb\\\": 99.51471328735352,<br>    \\\"time_avg_ms\\\": 0.6756053311911262,<br>    \\\"time_std_ms\\\": 0.10845269427978318<br>  }<br>}\",\"{<br>  \\\"number\\\": 52,<br>  \\\"values\\\": [<br>    0.9540652342331715<br>  ],<br>  \\\"params\\\": {<br>    \\\"epochs\\\": 1,<br>    \\\"freeze_pretrained_embeddings\\\": false,<br>    \\\"hidden_dim\\\": 768,<br>    \\\"learning_rate\\\": 0.0007454021517291521,<br>    \\\"num_ffnn_layers\\\": 0,<br>    \\\"num_layers\\\": 1,<br>    \\\"use_pretrained_embeddings\\\": true<br>  },<br>  \\\"user_attrs\\\": {<br>    \\\"accuracy\\\": 0.5622489959839357,<br>    \\\"macs\\\": 2831421952.0,<br>    \\\"model_parameters\\\": 9555971,<br>    \\\"model_size_mb\\\": 36.46058177947998,<br>    \\\"time_avg_ms\\\": 0.30863455101621873,<br>    \\\"time_std_ms\\\": 0.004729618540192108<br>  }<br>}\",\"{<br>  \\\"number\\\": 56,<br>  \\\"values\\\": [<br>    0.9498240504509363<br>  ],<br>  \\\"params\\\": {<br>    \\\"epochs\\\": 28,<br>    \\\"freeze_pretrained_embeddings\\\": false,<br>    \\\"hidden_dim\\\": 768,<br>    \\\"learning_rate\\\": 0.000197020410896177,<br>    \\\"num_ffnn_layers\\\": 1,<br>    \\\"num_layers\\\": 2,<br>    \\\"use_pretrained_embeddings\\\": true<br>  },<br>  \\\"user_attrs\\\": {<br>    \\\"accuracy\\\": 0.5622489959839357,<br>    \\\"macs\\\": 11299721728.0,<br>    \\\"model_parameters\\\": 26084867,<br>    \\\"model_size_mb\\\": 99.51471328735352,<br>    \\\"time_avg_ms\\\": 0.6266022001967785,<br>    \\\"time_std_ms\\\": 0.0816949649096149<br>  }<br>}\",\"{<br>  \\\"number\\\": 58,<br>  \\\"values\\\": [<br>    0.9459276550855392<br>  ],<br>  \\\"params\\\": {<br>    \\\"epochs\\\": 28,<br>    \\\"freeze_pretrained_embeddings\\\": false,<br>    \\\"hidden_dim\\\": 768,<br>    \\\"learning_rate\\\": 0.0002106281704969786,<br>    \\\"num_ffnn_layers\\\": 1,<br>    \\\"num_layers\\\": 2,<br>    \\\"use_pretrained_embeddings\\\": true<br>  },<br>  \\\"user_attrs\\\": {<br>    \\\"accuracy\\\": 0.572289156626506,<br>    \\\"macs\\\": 11299721728.0,<br>    \\\"model_parameters\\\": 26084867,<br>    \\\"model_size_mb\\\": 99.51471328735352,<br>    \\\"time_avg_ms\\\": 0.5033639470864203,<br>    \\\"time_std_ms\\\": 0.009569571195057554<br>  }<br>}\",\"{<br>  \\\"number\\\": 63,<br>  \\\"values\\\": [<br>    0.9601507721803128<br>  ],<br>  \\\"params\\\": {<br>    \\\"epochs\\\": 30,<br>    \\\"freeze_pretrained_embeddings\\\": false,<br>    \\\"hidden_dim\\\": 640,<br>    \\\"learning_rate\\\": 0.0008832368734361606,<br>    \\\"num_ffnn_layers\\\": 0,<br>    \\\"num_layers\\\": 1,<br>    \\\"use_pretrained_embeddings\\\": true<br>  },<br>  \\\"user_attrs\\\": {<br>    \\\"accuracy\\\": 0.5582329317269076,<br>    \\\"macs\\\": 2024017664.0,<br>    \\\"model_parameters\\\": 7980291,<br>    \\\"model_size_mb\\\": 30.44983959197998,<br>    \\\"time_avg_ms\\\": 0.3636003039175212,<br>    \\\"time_std_ms\\\": 0.009534423877200169<br>  }<br>}\",\"{<br>  \\\"number\\\": 65,<br>  \\\"values\\\": [<br>    0.9516543165231363<br>  ],<br>  \\\"params\\\": {<br>    \\\"epochs\\\": 12,<br>    \\\"freeze_pretrained_embeddings\\\": false,<br>    \\\"hidden_dim\\\": 128,<br>    \\\"learning_rate\\\": 0.0005588432696091143,<br>    \\\"num_ffnn_layers\\\": 2,<br>    \\\"num_layers\\\": 1,<br>    \\\"use_pretrained_embeddings\\\": true<br>  },<br>  \\\"user_attrs\\\": {<br>    \\\"accuracy\\\": 0.557429718875502,<br>    \\\"macs\\\": 203686656.0,<br>    \\\"model_parameters\\\": 4430595,<br>    \\\"model_size_mb\\\": 16.910154342651367,<br>    \\\"time_avg_ms\\\": 0.44505617238189044,<br>    \\\"time_std_ms\\\": 0.013728823377037538<br>  }<br>}\",\"{<br>  \\\"number\\\": 66,<br>  \\\"values\\\": [<br>    0.9506172308555016<br>  ],<br>  \\\"params\\\": {<br>    \\\"epochs\\\": 12,<br>    \\\"freeze_pretrained_embeddings\\\": false,<br>    \\\"hidden_dim\\\": 128,<br>    \\\"learning_rate\\\": 0.0005601132273951511,<br>    \\\"num_ffnn_layers\\\": 2,<br>    \\\"num_layers\\\": 1,<br>    \\\"use_pretrained_embeddings\\\": true<br>  },<br>  \\\"user_attrs\\\": {<br>    \\\"accuracy\\\": 0.5538152610441767,<br>    \\\"macs\\\": 203686656.0,<br>    \\\"model_parameters\\\": 4430595,<br>    \\\"model_size_mb\\\": 16.910154342651367,<br>    \\\"time_avg_ms\\\": 0.46851920820020065,<br>    \\\"time_std_ms\\\": 0.025175738030567853<br>  }<br>}\",\"{<br>  \\\"number\\\": 67,<br>  \\\"values\\\": [<br>    0.945554161683107<br>  ],<br>  \\\"params\\\": {<br>    \\\"epochs\\\": 30,<br>    \\\"freeze_pretrained_embeddings\\\": false,<br>    \\\"hidden_dim\\\": 768,<br>    \\\"learning_rate\\\": 0.0002973031715456811,<br>    \\\"num_ffnn_layers\\\": 1,<br>    \\\"num_layers\\\": 2,<br>    \\\"use_pretrained_embeddings\\\": true<br>  },<br>  \\\"user_attrs\\\": {<br>    \\\"accuracy\\\": 0.559437751004016,<br>    \\\"macs\\\": 11299721728.0,<br>    \\\"model_parameters\\\": 26084867,<br>    \\\"model_size_mb\\\": 99.51471328735352,<br>    \\\"time_avg_ms\\\": 0.4076976728898407,<br>    \\\"time_std_ms\\\": 0.009405673635462245<br>  }<br>}\",\"{<br>  \\\"number\\\": 70,<br>  \\\"values\\\": [<br>    0.9454121360412011<br>  ],<br>  \\\"params\\\": {<br>    \\\"epochs\\\": 28,<br>    \\\"freeze_pretrained_embeddings\\\": false,<br>    \\\"hidden_dim\\\": 768,<br>    \\\"learning_rate\\\": 0.00020528630587690738,<br>    \\\"num_ffnn_layers\\\": 1,<br>    \\\"num_layers\\\": 2,<br>    \\\"use_pretrained_embeddings\\\": true<br>  },<br>  \\\"user_attrs\\\": {<br>    \\\"accuracy\\\": 0.5686746987951807,<br>    \\\"macs\\\": 11299721728.0,<br>    \\\"model_parameters\\\": 26084867,<br>    \\\"model_size_mb\\\": 99.51471328735352,<br>    \\\"time_avg_ms\\\": 0.42301490285186744,<br>    \\\"time_std_ms\\\": 0.009583713481126927<br>  }<br>}\",\"{<br>  \\\"number\\\": 74,<br>  \\\"values\\\": [<br>    0.9534362172469114<br>  ],<br>  \\\"params\\\": {<br>    \\\"epochs\\\": 15,<br>    \\\"freeze_pretrained_embeddings\\\": false,<br>    \\\"hidden_dim\\\": 128,<br>    \\\"learning_rate\\\": 0.00043296845130188155,<br>    \\\"num_ffnn_layers\\\": 2,<br>    \\\"num_layers\\\": 1,<br>    \\\"use_pretrained_embeddings\\\": true<br>  },<br>  \\\"user_attrs\\\": {<br>    \\\"accuracy\\\": 0.5550200803212851,<br>    \\\"macs\\\": 203686656.0,<br>    \\\"model_parameters\\\": 4430595,<br>    \\\"model_size_mb\\\": 16.910154342651367,<br>    \\\"time_avg_ms\\\": 0.3751592469935337,<br>    \\\"time_std_ms\\\": 0.0011354504242117546<br>  }<br>}\",\"{<br>  \\\"number\\\": 76,<br>  \\\"values\\\": [<br>    0.9503639783614721<br>  ],<br>  \\\"params\\\": {<br>    \\\"epochs\\\": 15,<br>    \\\"freeze_pretrained_embeddings\\\": false,<br>    \\\"hidden_dim\\\": 128,<br>    \\\"learning_rate\\\": 0.00040050517913081847,<br>    \\\"num_ffnn_layers\\\": 2,<br>    \\\"num_layers\\\": 1,<br>    \\\"use_pretrained_embeddings\\\": true<br>  },<br>  \\\"user_attrs\\\": {<br>    \\\"accuracy\\\": 0.5586345381526104,<br>    \\\"macs\\\": 203686656.0,<br>    \\\"model_parameters\\\": 4430595,<br>    \\\"model_size_mb\\\": 16.910154342651367,<br>    \\\"time_avg_ms\\\": 0.37317937553933495,<br>    \\\"time_std_ms\\\": 0.0031724198549360825<br>  }<br>}\",\"{<br>  \\\"number\\\": 79,<br>  \\\"values\\\": [<br>    0.9540802912834363<br>  ],<br>  \\\"params\\\": {<br>    \\\"epochs\\\": 13,<br>    \\\"freeze_pretrained_embeddings\\\": false,<br>    \\\"hidden_dim\\\": 128,<br>    \\\"learning_rate\\\": 0.00034610556750912203,<br>    \\\"num_ffnn_layers\\\": 2,<br>    \\\"num_layers\\\": 1,<br>    \\\"use_pretrained_embeddings\\\": true<br>  },<br>  \\\"user_attrs\\\": {<br>    \\\"accuracy\\\": 0.5646586345381526,<br>    \\\"macs\\\": 203686656.0,<br>    \\\"model_parameters\\\": 4430595,<br>    \\\"model_size_mb\\\": 16.910154342651367,<br>    \\\"time_avg_ms\\\": 0.37523615173995495,<br>    \\\"time_std_ms\\\": 0.0020629979698192566<br>  }<br>}\",\"{<br>  \\\"number\\\": 92,<br>  \\\"values\\\": [<br>    0.9483534097671509<br>  ],<br>  \\\"params\\\": {<br>    \\\"epochs\\\": 26,<br>    \\\"freeze_pretrained_embeddings\\\": false,<br>    \\\"hidden_dim\\\": 768,<br>    \\\"learning_rate\\\": 0.00015406813448762206,<br>    \\\"num_ffnn_layers\\\": 1,<br>    \\\"num_layers\\\": 2,<br>    \\\"use_pretrained_embeddings\\\": true<br>  },<br>  \\\"user_attrs\\\": {<br>    \\\"accuracy\\\": 0.5650602409638554,<br>    \\\"macs\\\": 11299721728.0,<br>    \\\"model_parameters\\\": 26084867,<br>    \\\"model_size_mb\\\": 99.51471328735352,<br>    \\\"time_avg_ms\\\": 0.41716223906563676,<br>    \\\"time_std_ms\\\": 0.0015878039979634409<br>  }<br>}\",\"{<br>  \\\"number\\\": 95,<br>  \\\"values\\\": [<br>    0.9508934999123598<br>  ],<br>  \\\"params\\\": {<br>    \\\"epochs\\\": 18,<br>    \\\"freeze_pretrained_embeddings\\\": false,<br>    \\\"hidden_dim\\\": 256,<br>    \\\"learning_rate\\\": 0.0004946523565003151,<br>    \\\"num_ffnn_layers\\\": 2,<br>    \\\"num_layers\\\": 1,<br>    \\\"use_pretrained_embeddings\\\": true<br>  },<br>  \\\"user_attrs\\\": {<br>    \\\"accuracy\\\": 0.563855421686747,<br>    \\\"macs\\\": 675546624.0,<br>    \\\"model_parameters\\\": 5351427,<br>    \\\"model_size_mb\\\": 20.422849655151367,<br>    \\\"time_avg_ms\\\": 0.4134156260189119,<br>    \\\"time_std_ms\\\": 0.0015012155138882494<br>  }<br>}\",\"{<br>  \\\"number\\\": 106,<br>  \\\"values\\\": [<br>    0.9507976113221585<br>  ],<br>  \\\"params\\\": {<br>    \\\"epochs\\\": 18,<br>    \\\"freeze_pretrained_embeddings\\\": false,<br>    \\\"hidden_dim\\\": 128,<br>    \\\"learning_rate\\\": 0.0006068504317812656,<br>    \\\"num_ffnn_layers\\\": 2,<br>    \\\"num_layers\\\": 1,<br>    \\\"use_pretrained_embeddings\\\": true<br>  },<br>  \\\"user_attrs\\\": {<br>    \\\"accuracy\\\": 0.5546184738955823,<br>    \\\"macs\\\": 203686656.0,<br>    \\\"model_parameters\\\": 4430595,<br>    \\\"model_size_mb\\\": 16.910154342651367,<br>    \\\"time_avg_ms\\\": 0.3989888503751222,<br>    \\\"time_std_ms\\\": 0.0018681404011813764<br>  }<br>}\",\"{<br>  \\\"number\\\": 127,<br>  \\\"values\\\": [<br>    0.9488074962909405<br>  ],<br>  \\\"params\\\": {<br>    \\\"epochs\\\": 29,<br>    \\\"freeze_pretrained_embeddings\\\": false,<br>    \\\"hidden_dim\\\": 128,<br>    \\\"learning_rate\\\": 0.0005821205339837451,<br>    \\\"num_ffnn_layers\\\": 2,<br>    \\\"num_layers\\\": 1,<br>    \\\"use_pretrained_embeddings\\\": true<br>  },<br>  \\\"user_attrs\\\": {<br>    \\\"accuracy\\\": 0.5630522088353414,<br>    \\\"macs\\\": 203686656.0,<br>    \\\"model_parameters\\\": 4430595,<br>    \\\"model_size_mb\\\": 16.910154342651367,<br>    \\\"time_avg_ms\\\": 0.367238291630656,<br>    \\\"time_std_ms\\\": 0.0015251594735037723<br>  }<br>}\",\"{<br>  \\\"number\\\": 128,<br>  \\\"values\\\": [<br>    1.0219842669291375<br>  ],<br>  \\\"params\\\": {<br>    \\\"epochs\\\": 12,<br>    \\\"freeze_pretrained_embeddings\\\": true,<br>    \\\"hidden_dim\\\": 384,<br>    \\\"learning_rate\\\": 2.7176277055296794e-05,<br>    \\\"num_ffnn_layers\\\": 0,<br>    \\\"num_layers\\\": 2,<br>    \\\"use_pretrained_embeddings\\\": false<br>  },<br>  \\\"user_attrs\\\": {<br>    \\\"accuracy\\\": 0.5076305220883535,<br>    \\\"macs\\\": 2630093056.0,<br>    \\\"model_parameters\\\": 9160451,<br>    \\\"model_size_mb\\\": 34.95258617401123,<br>    \\\"time_avg_ms\\\": 0.3496730875895082,<br>    \\\"time_std_ms\\\": 0.002263100672350736<br>  }<br>}\",\"{<br>  \\\"number\\\": 130,<br>  \\\"values\\\": [<br>    0.9908590011107616<br>  ],<br>  \\\"params\\\": {<br>    \\\"epochs\\\": 1,<br>    \\\"freeze_pretrained_embeddings\\\": true,<br>    \\\"hidden_dim\\\": 384,<br>    \\\"learning_rate\\\": 0.0003303273863832283,<br>    \\\"num_ffnn_layers\\\": 2,<br>    \\\"num_layers\\\": 2,<br>    \\\"use_pretrained_embeddings\\\": false<br>  },<br>  \\\"user_attrs\\\": {<br>    \\\"accuracy\\\": 0.519277108433735,<br>    \\\"macs\\\": 3234072832.0,<br>    \\\"model_parameters\\\": 10341635,<br>    \\\"model_size_mb\\\": 39.45977592468262,<br>    \\\"time_avg_ms\\\": 0.43116968297509606,<br>    \\\"time_std_ms\\\": 0.0015940249992016005<br>  }<br>}\",\"{<br>  \\\"number\\\": 132,<br>  \\\"values\\\": [<br>    1.055333490555103<br>  ],<br>  \\\"params\\\": {<br>    \\\"epochs\\\": 5,<br>    \\\"freeze_pretrained_embeddings\\\": true,<br>    \\\"hidden_dim\\\": 256,<br>    \\\"learning_rate\\\": 0.0007630483726705063,<br>    \\\"num_ffnn_layers\\\": 1,<br>    \\\"num_layers\\\": 1,<br>    \\\"use_pretrained_embeddings\\\": true<br>  },<br>  \\\"user_attrs\\\": {<br>    \\\"accuracy\\\": 0.5020080321285141,<br>    \\\"macs\\\": 541328896.0,<br>    \\\"model_parameters\\\": 5088771,<br>    \\\"model_size_mb\\\": 19.420230865478516,<br>    \\\"time_avg_ms\\\": 0.35620033740997314,<br>    \\\"time_std_ms\\\": 0.001983707707112725<br>  }<br>}\",\"{<br>  \\\"number\\\": 139,<br>  \\\"values\\\": [<br>    0.9971332213817499<br>  ],<br>  \\\"params\\\": {<br>    \\\"epochs\\\": 6,<br>    \\\"freeze_pretrained_embeddings\\\": false,<br>    \\\"hidden_dim\\\": 512,<br>    \\\"learning_rate\\\": 0.0009407885277691605,<br>    \\\"num_ffnn_layers\\\": 1,<br>    \\\"num_layers\\\": 1,<br>    \\\"use_pretrained_embeddings\\\": true<br>  },<br>  \\\"user_attrs\\\": {<br>    \\\"accuracy\\\": 0.5437751004016064,<br>    \\\"macs\\\": 1887702016.0,<br>    \\\"model_parameters\\\": 7716355,<br>    \\\"model_size_mb\\\": 29.443668365478516,<br>    \\\"time_avg_ms\\\": 0.3481691846900503,<br>    \\\"time_std_ms\\\": 0.0011242174004999356<br>  }<br>}\",\"{<br>  \\\"number\\\": 140,<br>  \\\"values\\\": [<br>    0.9706434913170643<br>  ],<br>  \\\"params\\\": {<br>    \\\"epochs\\\": 22,<br>    \\\"freeze_pretrained_embeddings\\\": true,<br>    \\\"hidden_dim\\\": 512,<br>    \\\"learning_rate\\\": 0.0006487560676998994,<br>    \\\"num_ffnn_layers\\\": 0,<br>    \\\"num_layers\\\": 2,<br>    \\\"use_pretrained_embeddings\\\": false<br>  },<br>  \\\"user_attrs\\\": {<br>    \\\"accuracy\\\": 0.5542168674698795,<br>    \\\"macs\\\": 4580445184.0,<br>    \\\"model_parameters\\\": 12966403,<br>    \\\"model_size_mb\\\": 49.47114086151123,<br>    \\\"time_avg_ms\\\": 0.3432008048637327,<br>    \\\"time_std_ms\\\": 0.0027529608650260127<br>  }<br>}\",\"{<br>  \\\"number\\\": 141,<br>  \\\"values\\\": [<br>    1.0168929864198735<br>  ],<br>  \\\"params\\\": {<br>    \\\"epochs\\\": 1,<br>    \\\"freeze_pretrained_embeddings\\\": true,<br>    \\\"hidden_dim\\\": 256,<br>    \\\"learning_rate\\\": 0.0006954793034479635,<br>    \\\"num_ffnn_layers\\\": 1,<br>    \\\"num_layers\\\": 1,<br>    \\\"use_pretrained_embeddings\\\": true<br>  },<br>  \\\"user_attrs\\\": {<br>    \\\"accuracy\\\": 0.5020080321285141,<br>    \\\"macs\\\": 541328896.0,<br>    \\\"model_parameters\\\": 5088771,<br>    \\\"model_size_mb\\\": 19.420230865478516,<br>    \\\"time_avg_ms\\\": 0.3419597344079793,<br>    \\\"time_std_ms\\\": 0.002772960292101828<br>  }<br>}\",\"{<br>  \\\"number\\\": 144,<br>  \\\"values\\\": [<br>    0.9529685209958981<br>  ],<br>  \\\"params\\\": {<br>    \\\"epochs\\\": 7,<br>    \\\"freeze_pretrained_embeddings\\\": false,<br>    \\\"hidden_dim\\\": 640,<br>    \\\"learning_rate\\\": 0.0003992539160631163,<br>    \\\"num_ffnn_layers\\\": 0,<br>    \\\"num_layers\\\": 2,<br>    \\\"use_pretrained_embeddings\\\": true<br>  },<br>  \\\"user_attrs\\\": {<br>    \\\"accuracy\\\": 0.551004016064257,<br>    \\\"macs\\\": 7067668224.0,<br>    \\\"model_parameters\\\": 17820931,<br>    \\\"model_size_mb\\\": 67.98969554901123,<br>    \\\"time_avg_ms\\\": 0.33579610088340456,<br>    \\\"time_std_ms\\\": 0.003393493677817097<br>  }<br>}\",\"{<br>  \\\"number\\\": 148,<br>  \\\"values\\\": [<br>    0.9764050902464451<br>  ],<br>  \\\"params\\\": {<br>    \\\"epochs\\\": 14,<br>    \\\"freeze_pretrained_embeddings\\\": true,<br>    \\\"hidden_dim\\\": 512,<br>    \\\"learning_rate\\\": 0.00022363672684832682,<br>    \\\"num_ffnn_layers\\\": 2,<br>    \\\"num_layers\\\": 1,<br>    \\\"use_pretrained_embeddings\\\": false<br>  },<br>  \\\"user_attrs\\\": {<br>    \\\"accuracy\\\": 0.5493975903614458,<br>    \\\"macs\\\": 2424572928.0,<br>    \\\"model_parameters\\\": 8765955,<br>    \\\"model_size_mb\\\": 33.44824028015137,<br>    \\\"time_avg_ms\\\": 0.3938095625017013,<br>    \\\"time_std_ms\\\": 0.0012273894801860508<br>  }<br>}\",\"{<br>  \\\"number\\\": 154,<br>  \\\"values\\\": [<br>    0.9558826761367993<br>  ],<br>  \\\"params\\\": {<br>    \\\"epochs\\\": 9,<br>    \\\"freeze_pretrained_embeddings\\\": false,<br>    \\\"hidden_dim\\\": 384,<br>    \\\"learning_rate\\\": 0.0008244137889145929,<br>    \\\"num_ffnn_layers\\\": 1,<br>    \\\"num_layers\\\": 1,<br>    \\\"use_pretrained_embeddings\\\": true<br>  },<br>  \\\"user_attrs\\\": {<br>    \\\"accuracy\\\": 0.5626506024096386,<br>    \\\"macs\\\": 1113852160.0,<br>    \\\"model_parameters\\\": 6205955,<br>    \\\"model_size_mb\\\": 23.681949615478516,<br>    \\\"time_avg_ms\\\": 0.3392121722555757,<br>    \\\"time_std_ms\\\": 0.0011762031430095124<br>  }<br>}\",\"{<br>  \\\"number\\\": 157,<br>  \\\"values\\\": [<br>    0.9593951793817374<br>  ],<br>  \\\"params\\\": {<br>    \\\"epochs\\\": 9,<br>    \\\"freeze_pretrained_embeddings\\\": false,<br>    \\\"hidden_dim\\\": 256,<br>    \\\"learning_rate\\\": 0.0004225658231219509,<br>    \\\"num_ffnn_layers\\\": 0,<br>    \\\"num_layers\\\": 1,<br>    \\\"use_pretrained_embeddings\\\": true<br>  },<br>  \\\"user_attrs\\\": {<br>    \\\"accuracy\\\": 0.555421686746988,<br>    \\\"macs\\\": 407111168.0,<br>    \\\"model_parameters\\\": 4826115,<br>    \\\"model_size_mb\\\": 18.41761302947998,<br>    \\\"time_avg_ms\\\": 0.2934214092998776,<br>    \\\"time_std_ms\\\": 0.005680732930846095<br>  }<br>}\",\"{<br>  \\\"number\\\": 160,<br>  \\\"values\\\": [<br>    1.1010560332200465<br>  ],<br>  \\\"params\\\": {<br>    \\\"epochs\\\": 8,<br>    \\\"freeze_pretrained_embeddings\\\": false,<br>    \\\"hidden_dim\\\": 512,<br>    \\\"learning_rate\\\": 5.181467845231157e-05,<br>    \\\"num_ffnn_layers\\\": 3,<br>    \\\"num_layers\\\": 1,<br>    \\\"use_pretrained_embeddings\\\": true<br>  },<br>  \\\"user_attrs\\\": {<br>    \\\"accuracy\\\": 0.43012048192771085,<br>    \\\"macs\\\": 2961443840.0,<br>    \\\"model_parameters\\\": 9815555,<br>    \\\"model_size_mb\\\": 37.45281219482422,<br>    \\\"time_avg_ms\\\": 0.45412956618141226,<br>    \\\"time_std_ms\\\": 0.009189559062949897<br>  }<br>}\",\"{<br>  \\\"number\\\": 161,<br>  \\\"values\\\": [<br>    0.9553201168011396<br>  ],<br>  \\\"params\\\": {<br>    \\\"epochs\\\": 14,<br>    \\\"freeze_pretrained_embeddings\\\": false,<br>    \\\"hidden_dim\\\": 256,<br>    \\\"learning_rate\\\": 0.0006258109483714201,<br>    \\\"num_ffnn_layers\\\": 0,<br>    \\\"num_layers\\\": 1,<br>    \\\"use_pretrained_embeddings\\\": true<br>  },<br>  \\\"user_attrs\\\": {<br>    \\\"accuracy\\\": 0.565863453815261,<br>    \\\"macs\\\": 407111168.0,<br>    \\\"model_parameters\\\": 4826115,<br>    \\\"model_size_mb\\\": 18.41761302947998,<br>    \\\"time_avg_ms\\\": 0.28716886124670904,<br>    \\\"time_std_ms\\\": 0.0024293783920998277<br>  }<br>}\",\"{<br>  \\\"number\\\": 168,<br>  \\\"values\\\": [<br>    0.9477890332539877<br>  ],<br>  \\\"params\\\": {<br>    \\\"epochs\\\": 6,<br>    \\\"freeze_pretrained_embeddings\\\": false,<br>    \\\"hidden_dim\\\": 768,<br>    \\\"learning_rate\\\": 0.00018303282853028972,<br>    \\\"num_ffnn_layers\\\": 0,<br>    \\\"num_layers\\\": 2,<br>    \\\"use_pretrained_embeddings\\\": true<br>  },<br>  \\\"user_attrs\\\": {<br>    \\\"accuracy\\\": 0.5682730923694779,<br>    \\\"macs\\\": 10091762176.0,<br>    \\\"model_parameters\\\": 23724035,<br>    \\\"model_size_mb\\\": 90.50825023651123,<br>    \\\"time_avg_ms\\\": 0.3734626294362336,<br>    \\\"time_std_ms\\\": 0.0375174014156844<br>  }<br>}\",\"{<br>  \\\"number\\\": 171,<br>  \\\"values\\\": [<br>    0.9565021288700593<br>  ],<br>  \\\"params\\\": {<br>    \\\"epochs\\\": 18,<br>    \\\"freeze_pretrained_embeddings\\\": false,<br>    \\\"hidden_dim\\\": 256,<br>    \\\"learning_rate\\\": 0.0007875774545600081,<br>    \\\"num_ffnn_layers\\\": 3,<br>    \\\"num_layers\\\": 2,<br>    \\\"use_pretrained_embeddings\\\": true<br>  },<br>  \\\"user_attrs\\\": {<br>    \\\"accuracy\\\": 0.5522088353413654,<br>    \\\"macs\\\": 1619265024.0,<br>    \\\"model_parameters\\\": 7191043,<br>    \\\"model_size_mb\\\": 27.44200897216797,<br>    \\\"time_avg_ms\\\": 0.4901321047983338,<br>    \\\"time_std_ms\\\": 0.0013325511623922105<br>  }<br>}\",\"{<br>  \\\"number\\\": 177,<br>  \\\"values\\\": [<br>    0.9523017834394406<br>  ],<br>  \\\"params\\\": {<br>    \\\"epochs\\\": 11,<br>    \\\"freeze_pretrained_embeddings\\\": false,<br>    \\\"hidden_dim\\\": 128,<br>    \\\"learning_rate\\\": 0.0004657241670828082,<br>    \\\"num_ffnn_layers\\\": 2,<br>    \\\"num_layers\\\": 1,<br>    \\\"use_pretrained_embeddings\\\": true<br>  },<br>  \\\"user_attrs\\\": {<br>    \\\"accuracy\\\": 0.5590361445783133,<br>    \\\"macs\\\": 203686656.0,<br>    \\\"model_parameters\\\": 4430595,<br>    \\\"model_size_mb\\\": 16.910154342651367,<br>    \\\"time_avg_ms\\\": 0.3805901411080571,<br>    \\\"time_std_ms\\\": 0.0010579905458873444<br>  }<br>}\",\"{<br>  \\\"number\\\": 178,<br>  \\\"values\\\": [<br>    0.9525717221773587<br>  ],<br>  \\\"params\\\": {<br>    \\\"epochs\\\": 10,<br>    \\\"freeze_pretrained_embeddings\\\": false,<br>    \\\"hidden_dim\\\": 128,<br>    \\\"learning_rate\\\": 0.0006044232543550331,<br>    \\\"num_ffnn_layers\\\": 2,<br>    \\\"num_layers\\\": 1,<br>    \\\"use_pretrained_embeddings\\\": true<br>  },<br>  \\\"user_attrs\\\": {<br>    \\\"accuracy\\\": 0.5534136546184739,<br>    \\\"macs\\\": 203686656.0,<br>    \\\"model_parameters\\\": 4430595,<br>    \\\"model_size_mb\\\": 16.910154342651367,<br>    \\\"time_avg_ms\\\": 0.36062111742447744,<br>    \\\"time_std_ms\\\": 0.0016014018092931387<br>  }<br>}\",\"{<br>  \\\"number\\\": 181,<br>  \\\"values\\\": [<br>    0.9565970209928659<br>  ],<br>  \\\"params\\\": {<br>    \\\"epochs\\\": 2,<br>    \\\"freeze_pretrained_embeddings\\\": false,<br>    \\\"hidden_dim\\\": 768,<br>    \\\"learning_rate\\\": 0.0009114395010337978,<br>    \\\"num_ffnn_layers\\\": 0,<br>    \\\"num_layers\\\": 1,<br>    \\\"use_pretrained_embeddings\\\": true<br>  },<br>  \\\"user_attrs\\\": {<br>    \\\"accuracy\\\": 0.5626506024096386,<br>    \\\"macs\\\": 2831421952.0,<br>    \\\"model_parameters\\\": 9555971,<br>    \\\"model_size_mb\\\": 36.46058177947998,<br>    \\\"time_avg_ms\\\": 0.29107641034314813,<br>    \\\"time_std_ms\\\": 0.001287036981666851<br>  }<br>}\",\"{<br>  \\\"number\\\": 183,<br>  \\\"values\\\": [<br>    0.9491461744675269<br>  ],<br>  \\\"params\\\": {<br>    \\\"epochs\\\": 9,<br>    \\\"freeze_pretrained_embeddings\\\": false,<br>    \\\"hidden_dim\\\": 640,<br>    \\\"learning_rate\\\": 0.000460656581247377,<br>    \\\"num_ffnn_layers\\\": 0,<br>    \\\"num_layers\\\": 1,<br>    \\\"use_pretrained_embeddings\\\": true<br>  },<br>  \\\"user_attrs\\\": {<br>    \\\"accuracy\\\": 0.5706827309236948,<br>    \\\"macs\\\": 2024017664.0,<br>    \\\"model_parameters\\\": 7980291,<br>    \\\"model_size_mb\\\": 30.44983959197998,<br>    \\\"time_avg_ms\\\": 0.2998062553431621,<br>    \\\"time_std_ms\\\": 0.00460956451601497<br>  }<br>}\",\"{<br>  \\\"number\\\": 189,<br>  \\\"values\\\": [<br>    0.9498164669061319<br>  ],<br>  \\\"params\\\": {<br>    \\\"epochs\\\": 24,<br>    \\\"freeze_pretrained_embeddings\\\": false,<br>    \\\"hidden_dim\\\": 768,<br>    \\\"learning_rate\\\": 0.00038561416379763593,<br>    \\\"num_ffnn_layers\\\": 0,<br>    \\\"num_layers\\\": 1,<br>    \\\"use_pretrained_embeddings\\\": true<br>  },<br>  \\\"user_attrs\\\": {<br>    \\\"accuracy\\\": 0.5630522088353414,<br>    \\\"macs\\\": 2831421952.0,<br>    \\\"model_parameters\\\": 9555971,<br>    \\\"model_size_mb\\\": 36.46058177947998,<br>    \\\"time_avg_ms\\\": 0.29701332561998744,<br>    \\\"time_std_ms\\\": 0.002967153974249945<br>  }<br>}\",\"{<br>  \\\"number\\\": 190,<br>  \\\"values\\\": [<br>    0.950621138780545<br>  ],<br>  \\\"params\\\": {<br>    \\\"epochs\\\": 14,<br>    \\\"freeze_pretrained_embeddings\\\": false,<br>    \\\"hidden_dim\\\": 128,<br>    \\\"learning_rate\\\": 0.0005113417347525974,<br>    \\\"num_ffnn_layers\\\": 2,<br>    \\\"num_layers\\\": 1,<br>    \\\"use_pretrained_embeddings\\\": true<br>  },<br>  \\\"user_attrs\\\": {<br>    \\\"accuracy\\\": 0.5590361445783133,<br>    \\\"macs\\\": 203686656.0,<br>    \\\"model_parameters\\\": 4430595,<br>    \\\"model_size_mb\\\": 16.910154342651367,<br>    \\\"time_avg_ms\\\": 0.37470100037405674,<br>    \\\"time_std_ms\\\": 0.0020936380313186444<br>  }<br>}\",\"{<br>  \\\"number\\\": 192,<br>  \\\"values\\\": [<br>    0.9477417698273292<br>  ],<br>  \\\"params\\\": {<br>    \\\"epochs\\\": 24,<br>    \\\"freeze_pretrained_embeddings\\\": false,<br>    \\\"hidden_dim\\\": 768,<br>    \\\"learning_rate\\\": 0.0003701203331213233,<br>    \\\"num_ffnn_layers\\\": 0,<br>    \\\"num_layers\\\": 1,<br>    \\\"use_pretrained_embeddings\\\": true<br>  },<br>  \\\"user_attrs\\\": {<br>    \\\"accuracy\\\": 0.5678714859437751,<br>    \\\"macs\\\": 2831421952.0,<br>    \\\"model_parameters\\\": 9555971,<br>    \\\"model_size_mb\\\": 36.46058177947998,<br>    \\\"time_avg_ms\\\": 0.2954117454854505,<br>    \\\"time_std_ms\\\": 0.002178461710304707<br>  }<br>}\",\"{<br>  \\\"number\\\": 194,<br>  \\\"values\\\": [<br>    0.9441046072886541<br>  ],<br>  \\\"params\\\": {<br>    \\\"epochs\\\": 25,<br>    \\\"freeze_pretrained_embeddings\\\": false,<br>    \\\"hidden_dim\\\": 768,<br>    \\\"learning_rate\\\": 0.0003836866334060452,<br>    \\\"num_ffnn_layers\\\": 0,<br>    \\\"num_layers\\\": 1,<br>    \\\"use_pretrained_embeddings\\\": true<br>  },<br>  \\\"user_attrs\\\": {<br>    \\\"accuracy\\\": 0.5666666666666667,<br>    \\\"macs\\\": 2831421952.0,<br>    \\\"model_parameters\\\": 9555971,<br>    \\\"model_size_mb\\\": 36.46058177947998,<br>    \\\"time_avg_ms\\\": 0.3034531901096088,<br>    \\\"time_std_ms\\\": 0.001998077837934126<br>  }<br>}\",\"{<br>  \\\"number\\\": 195,<br>  \\\"values\\\": [<br>    0.9475680467409965<br>  ],<br>  \\\"params\\\": {<br>    \\\"epochs\\\": 25,<br>    \\\"freeze_pretrained_embeddings\\\": false,<br>    \\\"hidden_dim\\\": 768,<br>    \\\"learning_rate\\\": 0.0003730421608579656,<br>    \\\"num_ffnn_layers\\\": 0,<br>    \\\"num_layers\\\": 1,<br>    \\\"use_pretrained_embeddings\\\": true<br>  },<br>  \\\"user_attrs\\\": {<br>    \\\"accuracy\\\": 0.5630522088353414,<br>    \\\"macs\\\": 2831421952.0,<br>    \\\"model_parameters\\\": 9555971,<br>    \\\"model_size_mb\\\": 36.46058177947998,<br>    \\\"time_avg_ms\\\": 0.30636807836283503,<br>    \\\"time_std_ms\\\": 0.0016800708159311038<br>  }<br>}\",\"{<br>  \\\"number\\\": 197,<br>  \\\"values\\\": [<br>    0.9465042658341236<br>  ],<br>  \\\"params\\\": {<br>    \\\"epochs\\\": 23,<br>    \\\"freeze_pretrained_embeddings\\\": false,<br>    \\\"hidden_dim\\\": 768,<br>    \\\"learning_rate\\\": 0.0003919019304345698,<br>    \\\"num_ffnn_layers\\\": 0,<br>    \\\"num_layers\\\": 1,<br>    \\\"use_pretrained_embeddings\\\": true<br>  },<br>  \\\"user_attrs\\\": {<br>    \\\"accuracy\\\": 0.5662650602409639,<br>    \\\"macs\\\": 2831421952.0,<br>    \\\"model_parameters\\\": 9555971,<br>    \\\"model_size_mb\\\": 36.46058177947998,<br>    \\\"time_avg_ms\\\": 0.3061710422801014,<br>    \\\"time_std_ms\\\": 0.0017906808295165004<br>  }<br>}\",\"{<br>  \\\"number\\\": 198,<br>  \\\"values\\\": [<br>    0.9743382212443229<br>  ],<br>  \\\"params\\\": {<br>    \\\"epochs\\\": 22,<br>    \\\"freeze_pretrained_embeddings\\\": true,<br>    \\\"hidden_dim\\\": 256,<br>    \\\"learning_rate\\\": 0.0008716892069272439,<br>    \\\"num_ffnn_layers\\\": 3,<br>    \\\"num_layers\\\": 2,<br>    \\\"use_pretrained_embeddings\\\": false<br>  },<br>  \\\"user_attrs\\\": {<br>    \\\"accuracy\\\": 0.5248995983935743,<br>    \\\"macs\\\": 1619265024.0,<br>    \\\"model_parameters\\\": 7191043,<br>    \\\"model_size_mb\\\": 27.44200897216797,<br>    \\\"time_avg_ms\\\": 0.49068789990592954,<br>    \\\"time_std_ms\\\": 0.0016022682376838516<br>  }<br>}\",\"{<br>  \\\"number\\\": 199,<br>  \\\"values\\\": [<br>    0.9778203597435584<br>  ],<br>  \\\"params\\\": {<br>    \\\"epochs\\\": 18,<br>    \\\"freeze_pretrained_embeddings\\\": false,<br>    \\\"hidden_dim\\\": 256,<br>    \\\"learning_rate\\\": 0.0007897559978194514,<br>    \\\"num_ffnn_layers\\\": 3,<br>    \\\"num_layers\\\": 2,<br>    \\\"use_pretrained_embeddings\\\": true<br>  },<br>  \\\"user_attrs\\\": {<br>    \\\"accuracy\\\": 0.5349397590361445,<br>    \\\"macs\\\": 1619265024.0,<br>    \\\"model_parameters\\\": 7191043,<br>    \\\"model_size_mb\\\": 27.44200897216797,<br>    \\\"time_avg_ms\\\": 0.4657045745261712,<br>    \\\"time_std_ms\\\": 0.001427878757952991<br>  }<br>}\",\"{<br>  \\\"number\\\": 203,<br>  \\\"values\\\": [<br>    0.9487689015192863<br>  ],<br>  \\\"params\\\": {<br>    \\\"epochs\\\": 25,<br>    \\\"freeze_pretrained_embeddings\\\": false,<br>    \\\"hidden_dim\\\": 768,<br>    \\\"learning_rate\\\": 0.00039314719337908016,<br>    \\\"num_ffnn_layers\\\": 0,<br>    \\\"num_layers\\\": 1,<br>    \\\"use_pretrained_embeddings\\\": true<br>  },<br>  \\\"user_attrs\\\": {<br>    \\\"accuracy\\\": 0.5682730923694779,<br>    \\\"macs\\\": 2831421952.0,<br>    \\\"model_parameters\\\": 9555971,<br>    \\\"model_size_mb\\\": 36.46058177947998,<br>    \\\"time_avg_ms\\\": 0.2976134902440963,<br>    \\\"time_std_ms\\\": 0.003220809907888042<br>  }<br>}\",\"{<br>  \\\"number\\\": 207,<br>  \\\"values\\\": [<br>    0.9928290920379834<br>  ],<br>  \\\"params\\\": {<br>    \\\"epochs\\\": 2,<br>    \\\"freeze_pretrained_embeddings\\\": true,<br>    \\\"hidden_dim\\\": 512,<br>    \\\"learning_rate\\\": 0.00025809964001511726,<br>    \\\"num_ffnn_layers\\\": 2,<br>    \\\"num_layers\\\": 2,<br>    \\\"use_pretrained_embeddings\\\": true<br>  },<br>  \\\"user_attrs\\\": {<br>    \\\"accuracy\\\": 0.5160642570281124,<br>    \\\"macs\\\": 5654187008.0,<br>    \\\"model_parameters\\\": 15065603,<br>    \\\"model_size_mb\\\": 57.48028373718262,<br>    \\\"time_avg_ms\\\": 0.44513926606706095,<br>    \\\"time_std_ms\\\": 0.002001982223707215<br>  }<br>}\",\"{<br>  \\\"number\\\": 215,<br>  \\\"values\\\": [<br>    0.9485411491149511<br>  ],<br>  \\\"params\\\": {<br>    \\\"epochs\\\": 11,<br>    \\\"freeze_pretrained_embeddings\\\": false,<br>    \\\"hidden_dim\\\": 768,<br>    \\\"learning_rate\\\": 9.64125497897525e-05,<br>    \\\"num_ffnn_layers\\\": 0,<br>    \\\"num_layers\\\": 2,<br>    \\\"use_pretrained_embeddings\\\": true<br>  },<br>  \\\"user_attrs\\\": {<br>    \\\"accuracy\\\": 0.5630522088353414,<br>    \\\"macs\\\": 10091762176.0,<br>    \\\"model_parameters\\\": 23724035,<br>    \\\"model_size_mb\\\": 90.50825023651123,<br>    \\\"time_avg_ms\\\": 0.3308922581388341,<br>    \\\"time_std_ms\\\": 0.0010454193204168154<br>  }<br>}\",\"{<br>  \\\"number\\\": 219,<br>  \\\"values\\\": [<br>    0.9812047863617922<br>  ],<br>  \\\"params\\\": {<br>    \\\"epochs\\\": 25,<br>    \\\"freeze_pretrained_embeddings\\\": false,<br>    \\\"hidden_dim\\\": 384,<br>    \\\"learning_rate\\\": 0.0009110179864647531,<br>    \\\"num_ffnn_layers\\\": 2,<br>    \\\"num_layers\\\": 2,<br>    \\\"use_pretrained_embeddings\\\": true<br>  },<br>  \\\"user_attrs\\\": {<br>    \\\"accuracy\\\": 0.5405622489959839,<br>    \\\"macs\\\": 3234072832.0,<br>    \\\"model_parameters\\\": 10341635,<br>    \\\"model_size_mb\\\": 39.45977592468262,<br>    \\\"time_avg_ms\\\": 0.44890642796720687,<br>    \\\"time_std_ms\\\": 0.008281275278060657<br>  }<br>}\",\"{<br>  \\\"number\\\": 220,<br>  \\\"values\\\": [<br>    0.9529737967711228<br>  ],<br>  \\\"params\\\": {<br>    \\\"epochs\\\": 17,<br>    \\\"freeze_pretrained_embeddings\\\": false,<br>    \\\"hidden_dim\\\": 256,<br>    \\\"learning_rate\\\": 0.00046194556374037075,<br>    \\\"num_ffnn_layers\\\": 3,<br>    \\\"num_layers\\\": 2,<br>    \\\"use_pretrained_embeddings\\\": true<br>  },<br>  \\\"user_attrs\\\": {<br>    \\\"accuracy\\\": 0.5477911646586345,<br>    \\\"macs\\\": 1619265024.0,<br>    \\\"model_parameters\\\": 7191043,<br>    \\\"model_size_mb\\\": 27.44200897216797,<br>    \\\"time_avg_ms\\\": 0.4743967134693756,<br>    \\\"time_std_ms\\\": 0.0020669672174949837<br>  }<br>}\",\"{<br>  \\\"number\\\": 221,<br>  \\\"values\\\": [<br>    0.9629269333986136<br>  ],<br>  \\\"params\\\": {<br>    \\\"epochs\\\": 4,<br>    \\\"freeze_pretrained_embeddings\\\": false,<br>    \\\"hidden_dim\\\": 128,<br>    \\\"learning_rate\\\": 0.0007135215755170809,<br>    \\\"num_ffnn_layers\\\": 1,<br>    \\\"num_layers\\\": 1,<br>    \\\"use_pretrained_embeddings\\\": true<br>  },<br>  \\\"user_attrs\\\": {<br>    \\\"accuracy\\\": 0.5614457831325301,<br>    \\\"macs\\\": 170132224.0,<br>    \\\"model_parameters\\\": 4364803,<br>    \\\"model_size_mb\\\": 16.658512115478516,<br>    \\\"time_avg_ms\\\": 0.32940851524472237,<br>    \\\"time_std_ms\\\": 0.0014324076291415042<br>  }<br>}\",\"{<br>  \\\"number\\\": 229,<br>  \\\"values\\\": [<br>    0.9528936499204391<br>  ],<br>  \\\"params\\\": {<br>    \\\"epochs\\\": 4,<br>    \\\"freeze_pretrained_embeddings\\\": false,<br>    \\\"hidden_dim\\\": 768,<br>    \\\"learning_rate\\\": 0.00022755843523809407,<br>    \\\"num_ffnn_layers\\\": 0,<br>    \\\"num_layers\\\": 2,<br>    \\\"use_pretrained_embeddings\\\": true<br>  },<br>  \\\"user_attrs\\\": {<br>    \\\"accuracy\\\": 0.5714859437751004,<br>    \\\"macs\\\": 10091762176.0,<br>    \\\"model_parameters\\\": 23724035,<br>    \\\"model_size_mb\\\": 90.50825023651123,<br>    \\\"time_avg_ms\\\": 0.4217186206369661,<br>    \\\"time_std_ms\\\": 0.08301156372887195<br>  }<br>}\",\"{<br>  \\\"number\\\": 235,<br>  \\\"values\\\": [<br>    0.9690937644396073<br>  ],<br>  \\\"params\\\": {<br>    \\\"epochs\\\": 17,<br>    \\\"freeze_pretrained_embeddings\\\": false,<br>    \\\"hidden_dim\\\": 256,<br>    \\\"learning_rate\\\": 0.0006013312132349628,<br>    \\\"num_ffnn_layers\\\": 3,<br>    \\\"num_layers\\\": 2,<br>    \\\"use_pretrained_embeddings\\\": true<br>  },<br>  \\\"user_attrs\\\": {<br>    \\\"accuracy\\\": 0.5373493975903615,<br>    \\\"macs\\\": 1619265024.0,<br>    \\\"model_parameters\\\": 7191043,<br>    \\\"model_size_mb\\\": 27.44200897216797,<br>    \\\"time_avg_ms\\\": 0.4736860447219047,<br>    \\\"time_std_ms\\\": 0.0015679508656597414<br>  }<br>}\",\"{<br>  \\\"number\\\": 236,<br>  \\\"values\\\": [<br>    0.9481820662816366<br>  ],<br>  \\\"params\\\": {<br>    \\\"epochs\\\": 24,<br>    \\\"freeze_pretrained_embeddings\\\": false,<br>    \\\"hidden_dim\\\": 768,<br>    \\\"learning_rate\\\": 0.00017934153946515057,<br>    \\\"num_ffnn_layers\\\": 0,<br>    \\\"num_layers\\\": 2,<br>    \\\"use_pretrained_embeddings\\\": true<br>  },<br>  \\\"user_attrs\\\": {<br>    \\\"accuracy\\\": 0.5751004016064257,<br>    \\\"macs\\\": 10091762176.0,<br>    \\\"model_parameters\\\": 23724035,<br>    \\\"model_size_mb\\\": 90.50825023651123,<br>    \\\"time_avg_ms\\\": 0.3453678455316349,<br>    \\\"time_std_ms\\\": 0.0010883087691880072<br>  }<br>}\",\"{<br>  \\\"number\\\": 239,<br>  \\\"values\\\": [<br>    0.9540965358416239<br>  ],<br>  \\\"params\\\": {<br>    \\\"epochs\\\": 4,<br>    \\\"freeze_pretrained_embeddings\\\": false,<br>    \\\"hidden_dim\\\": 768,<br>    \\\"learning_rate\\\": 9.04962370915484e-05,<br>    \\\"num_ffnn_layers\\\": 0,<br>    \\\"num_layers\\\": 2,<br>    \\\"use_pretrained_embeddings\\\": true<br>  },<br>  \\\"user_attrs\\\": {<br>    \\\"accuracy\\\": 0.565863453815261,<br>    \\\"macs\\\": 10091762176.0,<br>    \\\"model_parameters\\\": 23724035,<br>    \\\"model_size_mb\\\": 90.50825023651123,<br>    \\\"time_avg_ms\\\": 0.33849661455557606,<br>    \\\"time_std_ms\\\": 0.001550747873886741<br>  }<br>}\",\"{<br>  \\\"number\\\": 241,<br>  \\\"values\\\": [<br>    0.9482754805149176<br>  ],<br>  \\\"params\\\": {<br>    \\\"epochs\\\": 26,<br>    \\\"freeze_pretrained_embeddings\\\": false,<br>    \\\"hidden_dim\\\": 640,<br>    \\\"learning_rate\\\": 0.00019055330971501122,<br>    \\\"num_ffnn_layers\\\": 1,<br>    \\\"num_layers\\\": 2,<br>    \\\"use_pretrained_embeddings\\\": true<br>  },<br>  \\\"user_attrs\\\": {<br>    \\\"accuracy\\\": 0.5654618473895582,<br>    \\\"macs\\\": 7906529024.0,<br>    \\\"model_parameters\\\": 19460611,<br>    \\\"model_size_mb\\\": 74.24518203735352,<br>    \\\"time_avg_ms\\\": 0.40096410071435434,<br>    \\\"time_std_ms\\\": 0.004225952326564581<br>  }<br>}\",\"{<br>  \\\"number\\\": 243,<br>  \\\"values\\\": [<br>    0.947672976897313<br>  ],<br>  \\\"params\\\": {<br>    \\\"epochs\\\": 26,<br>    \\\"freeze_pretrained_embeddings\\\": false,<br>    \\\"hidden_dim\\\": 640,<br>    \\\"learning_rate\\\": 0.0002018631777316591,<br>    \\\"num_ffnn_layers\\\": 1,<br>    \\\"num_layers\\\": 2,<br>    \\\"use_pretrained_embeddings\\\": true<br>  },<br>  \\\"user_attrs\\\": {<br>    \\\"accuracy\\\": 0.5650602409638554,<br>    \\\"macs\\\": 7906529024.0,<br>    \\\"model_parameters\\\": 19460611,<br>    \\\"model_size_mb\\\": 74.24518203735352,<br>    \\\"time_avg_ms\\\": 0.400186233243651,<br>    \\\"time_std_ms\\\": 0.012351778157393196<br>  }<br>}\",\"{<br>  \\\"number\\\": 247,<br>  \\\"values\\\": [<br>    0.9674155437029325<br>  ],<br>  \\\"params\\\": {<br>    \\\"epochs\\\": 14,<br>    \\\"freeze_pretrained_embeddings\\\": false,<br>    \\\"hidden_dim\\\": 128,<br>    \\\"learning_rate\\\": 0.0006782105742303484,<br>    \\\"num_ffnn_layers\\\": 3,<br>    \\\"num_layers\\\": 2,<br>    \\\"use_pretrained_embeddings\\\": true<br>  },<br>  \\\"user_attrs\\\": {<br>    \\\"accuracy\\\": 0.5381526104417671,<br>    \\\"macs\\\": 440664832.0,<br>    \\\"model_parameters\\\": 4891651,<br>    \\\"model_size_mb\\\": 18.67052459716797,<br>    \\\"time_avg_ms\\\": 0.4270976045145056,<br>    \\\"time_std_ms\\\": 0.0014364625824093854<br>  }<br>}\",\"{<br>  \\\"number\\\": 248,<br>  \\\"values\\\": [<br>    1.0381043018438878<br>  ],<br>  \\\"params\\\": {<br>    \\\"epochs\\\": 24,<br>    \\\"freeze_pretrained_embeddings\\\": false,<br>    \\\"hidden_dim\\\": 640,<br>    \\\"learning_rate\\\": 0.0004859492856674357,<br>    \\\"num_ffnn_layers\\\": 2,<br>    \\\"num_layers\\\": 2,<br>    \\\"use_pretrained_embeddings\\\": true<br>  },<br>  \\\"user_attrs\\\": {<br>    \\\"accuracy\\\": 0.5590361445783133,<br>    \\\"macs\\\": 8745389824.0,<br>    \\\"model_parameters\\\": 21100291,<br>    \\\"model_size_mb\\\": 80.50079154968262,<br>    \\\"time_avg_ms\\\": 0.4459234859244502,<br>    \\\"time_std_ms\\\": 0.0016223389659493646<br>  }<br>}\",\"{<br>  \\\"number\\\": 251,<br>  \\\"values\\\": [<br>    0.9506471202923701<br>  ],<br>  \\\"params\\\": {<br>    \\\"epochs\\\": 14,<br>    \\\"freeze_pretrained_embeddings\\\": false,<br>    \\\"hidden_dim\\\": 256,<br>    \\\"learning_rate\\\": 0.000521735208847751,<br>    \\\"num_ffnn_layers\\\": 2,<br>    \\\"num_layers\\\": 1,<br>    \\\"use_pretrained_embeddings\\\": true<br>  },<br>  \\\"user_attrs\\\": {<br>    \\\"accuracy\\\": 0.5542168674698795,<br>    \\\"macs\\\": 675546624.0,<br>    \\\"model_parameters\\\": 5351427,<br>    \\\"model_size_mb\\\": 20.422849655151367,<br>    \\\"time_avg_ms\\\": 0.404603677129166,<br>    \\\"time_std_ms\\\": 0.001375113500611338<br>  }<br>}\",\"{<br>  \\\"number\\\": 254,<br>  \\\"values\\\": [<br>    0.9669541227511871<br>  ],<br>  \\\"params\\\": {<br>    \\\"epochs\\\": 19,<br>    \\\"freeze_pretrained_embeddings\\\": false,<br>    \\\"hidden_dim\\\": 256,<br>    \\\"learning_rate\\\": 0.0007994822964160089,<br>    \\\"num_ffnn_layers\\\": 3,<br>    \\\"num_layers\\\": 2,<br>    \\\"use_pretrained_embeddings\\\": true<br>  },<br>  \\\"user_attrs\\\": {<br>    \\\"accuracy\\\": 0.5409638554216868,<br>    \\\"macs\\\": 1619265024.0,<br>    \\\"model_parameters\\\": 7191043,<br>    \\\"model_size_mb\\\": 27.44200897216797,<br>    \\\"time_avg_ms\\\": 0.47793848654425636,<br>    \\\"time_std_ms\\\": 0.0032727662114802854<br>  }<br>}\",\"{<br>  \\\"number\\\": 256,<br>  \\\"values\\\": [<br>    0.9815313892486768<br>  ],<br>  \\\"params\\\": {<br>    \\\"epochs\\\": 15,<br>    \\\"freeze_pretrained_embeddings\\\": true,<br>    \\\"hidden_dim\\\": 384,<br>    \\\"learning_rate\\\": 0.00039098073871603444,<br>    \\\"num_ffnn_layers\\\": 2,<br>    \\\"num_layers\\\": 2,<br>    \\\"use_pretrained_embeddings\\\": false<br>  },<br>  \\\"user_attrs\\\": {<br>    \\\"accuracy\\\": 0.5273092369477912,<br>    \\\"macs\\\": 3234072832.0,<br>    \\\"model_parameters\\\": 10341635,<br>    \\\"model_size_mb\\\": 39.45977592468262,<br>    \\\"time_avg_ms\\\": 0.43663197653205676,<br>    \\\"time_std_ms\\\": 0.001346146228902734<br>  }<br>}\",\"{<br>  \\\"number\\\": 257,<br>  \\\"values\\\": [<br>    0.9566877331489172<br>  ],<br>  \\\"params\\\": {<br>    \\\"epochs\\\": 25,<br>    \\\"freeze_pretrained_embeddings\\\": false,<br>    \\\"hidden_dim\\\": 128,<br>    \\\"learning_rate\\\": 0.00012149442466331795,<br>    \\\"num_ffnn_layers\\\": 3,<br>    \\\"num_layers\\\": 2,<br>    \\\"use_pretrained_embeddings\\\": true<br>  },<br>  \\\"user_attrs\\\": {<br>    \\\"accuracy\\\": 0.563855421686747,<br>    \\\"macs\\\": 440664832.0,<br>    \\\"model_parameters\\\": 4891651,<br>    \\\"model_size_mb\\\": 18.67052459716797,<br>    \\\"time_avg_ms\\\": 0.4252169152531563,<br>    \\\"time_std_ms\\\": 0.005532602066041152<br>  }<br>}\",\"{<br>  \\\"number\\\": 265,<br>  \\\"values\\\": [<br>    0.9560997165166415<br>  ],<br>  \\\"params\\\": {<br>    \\\"epochs\\\": 20,<br>    \\\"freeze_pretrained_embeddings\\\": false,<br>    \\\"hidden_dim\\\": 256,<br>    \\\"learning_rate\\\": 0.0007512570132929937,<br>    \\\"num_ffnn_layers\\\": 2,<br>    \\\"num_layers\\\": 2,<br>    \\\"use_pretrained_embeddings\\\": true<br>  },<br>  \\\"user_attrs\\\": {<br>    \\\"accuracy\\\": 0.555421686746988,<br>    \\\"macs\\\": 1485047296.0,<br>    \\\"model_parameters\\\": 6928387,<br>    \\\"model_size_mb\\\": 26.439268112182617,<br>    \\\"time_avg_ms\\\": 0.44123795253524023,<br>    \\\"time_std_ms\\\": 0.0026709364033313003<br>  }<br>}\",\"{<br>  \\\"number\\\": 283,<br>  \\\"values\\\": [<br>    1.009037632208604<br>  ],<br>  \\\"params\\\": {<br>    \\\"epochs\\\": 20,<br>    \\\"freeze_pretrained_embeddings\\\": false,<br>    \\\"hidden_dim\\\": 512,<br>    \\\"learning_rate\\\": 0.0006201439701216915,<br>    \\\"num_ffnn_layers\\\": 2,<br>    \\\"num_layers\\\": 2,<br>    \\\"use_pretrained_embeddings\\\": true<br>  },<br>  \\\"user_attrs\\\": {<br>    \\\"accuracy\\\": 0.5606425702811245,<br>    \\\"macs\\\": 5654187008.0,<br>    \\\"model_parameters\\\": 15065603,<br>    \\\"model_size_mb\\\": 57.48028373718262,<br>    \\\"time_avg_ms\\\": 0.44708813929670976,<br>    \\\"time_std_ms\\\": 0.0018908259513880296<br>  }<br>}\",\"{<br>  \\\"number\\\": 286,<br>  \\\"values\\\": [<br>    0.9545388833070413<br>  ],<br>  \\\"params\\\": {<br>    \\\"epochs\\\": 23,<br>    \\\"freeze_pretrained_embeddings\\\": false,<br>    \\\"hidden_dim\\\": 384,<br>    \\\"learning_rate\\\": 0.0005644319289983277,<br>    \\\"num_ffnn_layers\\\": 1,<br>    \\\"num_layers\\\": 2,<br>    \\\"use_pretrained_embeddings\\\": true<br>  },<br>  \\\"user_attrs\\\": {<br>    \\\"accuracy\\\": 0.5650602409638554,<br>    \\\"macs\\\": 2932082944.0,<br>    \\\"model_parameters\\\": 9751043,<br>    \\\"model_size_mb\\\": 37.206119537353516,<br>    \\\"time_avg_ms\\\": 0.3908462753142452,<br>    \\\"time_std_ms\\\": 0.0048853811792834555<br>  }<br>}\",\"{<br>  \\\"number\\\": 287,<br>  \\\"values\\\": [<br>    0.9484027165632981<br>  ],<br>  \\\"params\\\": {<br>    \\\"epochs\\\": 23,<br>    \\\"freeze_pretrained_embeddings\\\": false,<br>    \\\"hidden_dim\\\": 768,<br>    \\\"learning_rate\\\": 0.00019403265053372128,<br>    \\\"num_ffnn_layers\\\": 1,<br>    \\\"num_layers\\\": 2,<br>    \\\"use_pretrained_embeddings\\\": true<br>  },<br>  \\\"user_attrs\\\": {<br>    \\\"accuracy\\\": 0.5654618473895582,<br>    \\\"macs\\\": 11299721728.0,<br>    \\\"model_parameters\\\": 26084867,<br>    \\\"model_size_mb\\\": 99.51471328735352,<br>    \\\"time_avg_ms\\\": 0.39396521801458356,<br>    \\\"time_std_ms\\\": 0.0024187793812325675<br>  }<br>}\",\"{<br>  \\\"number\\\": 294,<br>  \\\"values\\\": [<br>    0.9517336105689024<br>  ],<br>  \\\"params\\\": {<br>    \\\"epochs\\\": 23,<br>    \\\"freeze_pretrained_embeddings\\\": false,<br>    \\\"hidden_dim\\\": 384,<br>    \\\"learning_rate\\\": 0.0005446863605603037,<br>    \\\"num_ffnn_layers\\\": 1,<br>    \\\"num_layers\\\": 2,<br>    \\\"use_pretrained_embeddings\\\": true<br>  },<br>  \\\"user_attrs\\\": {<br>    \\\"accuracy\\\": 0.5570281124497992,<br>    \\\"macs\\\": 2932082944.0,<br>    \\\"model_parameters\\\": 9751043,<br>    \\\"model_size_mb\\\": 37.206119537353516,<br>    \\\"time_avg_ms\\\": 0.40212647945736535,<br>    \\\"time_std_ms\\\": 0.0022454943108239905<br>  }<br>}\",\"{<br>  \\\"number\\\": 296,<br>  \\\"values\\\": [<br>    0.9532626393513802<br>  ],<br>  \\\"params\\\": {<br>    \\\"epochs\\\": 10,<br>    \\\"freeze_pretrained_embeddings\\\": false,<br>    \\\"hidden_dim\\\": 256,<br>    \\\"learning_rate\\\": 0.0005794937666778516,<br>    \\\"num_ffnn_layers\\\": 2,<br>    \\\"num_layers\\\": 1,<br>    \\\"use_pretrained_embeddings\\\": true<br>  },<br>  \\\"user_attrs\\\": {<br>    \\\"accuracy\\\": 0.5586345381526104,<br>    \\\"macs\\\": 675546624.0,<br>    \\\"model_parameters\\\": 5351427,<br>    \\\"model_size_mb\\\": 20.422849655151367,<br>    \\\"time_avg_ms\\\": 0.3911329470084686,<br>    \\\"time_std_ms\\\": 0.001982984799770953<br>  }<br>}\",\"{<br>  \\\"number\\\": 297,<br>  \\\"values\\\": [<br>    0.955739866464566<br>  ],<br>  \\\"params\\\": {<br>    \\\"epochs\\\": 24,<br>    \\\"freeze_pretrained_embeddings\\\": false,<br>    \\\"hidden_dim\\\": 384,<br>    \\\"learning_rate\\\": 0.000553312731251431,<br>    \\\"num_ffnn_layers\\\": 1,<br>    \\\"num_layers\\\": 2,<br>    \\\"use_pretrained_embeddings\\\": true<br>  },<br>  \\\"user_attrs\\\": {<br>    \\\"accuracy\\\": 0.5550200803212851,<br>    \\\"macs\\\": 2932082944.0,<br>    \\\"model_parameters\\\": 9751043,<br>    \\\"model_size_mb\\\": 37.206119537353516,<br>    \\\"time_avg_ms\\\": 0.3976515354859361,<br>    \\\"time_std_ms\\\": 0.0029813959550512325<br>  }<br>}\",\"{<br>  \\\"number\\\": 298,<br>  \\\"values\\\": [<br>    0.9461370462026352<br>  ],<br>  \\\"params\\\": {<br>    \\\"epochs\\\": 23,<br>    \\\"freeze_pretrained_embeddings\\\": false,<br>    \\\"hidden_dim\\\": 768,<br>    \\\"learning_rate\\\": 0.00023457027857133863,<br>    \\\"num_ffnn_layers\\\": 1,<br>    \\\"num_layers\\\": 2,<br>    \\\"use_pretrained_embeddings\\\": true<br>  },<br>  \\\"user_attrs\\\": {<br>    \\\"accuracy\\\": 0.5674698795180723,<br>    \\\"macs\\\": 11299721728.0,<br>    \\\"model_parameters\\\": 26084867,<br>    \\\"model_size_mb\\\": 99.51471328735352,<br>    \\\"time_avg_ms\\\": 0.3985449185429682,<br>    \\\"time_std_ms\\\": 0.0016560517319234357<br>  }<br>}\",\"{<br>  \\\"number\\\": 300,<br>  \\\"values\\\": [<br>    0.9534597687232189<br>  ],<br>  \\\"params\\\": {<br>    \\\"epochs\\\": 30,<br>    \\\"freeze_pretrained_embeddings\\\": false,<br>    \\\"hidden_dim\\\": 512,<br>    \\\"learning_rate\\\": 0.000470973153745533,<br>    \\\"num_ffnn_layers\\\": 1,<br>    \\\"num_layers\\\": 2,<br>    \\\"use_pretrained_embeddings\\\": true<br>  },<br>  \\\"user_attrs\\\": {<br>    \\\"accuracy\\\": 0.5558232931726907,<br>    \\\"macs\\\": 5117316096.0,<br>    \\\"model_parameters\\\": 14016003,<br>    \\\"model_size_mb\\\": 53.475650787353516,<br>    \\\"time_avg_ms\\\": 0.3905431436304684,<br>    \\\"time_std_ms\\\": 0.0015630367534784511<br>  }<br>}\",\"{<br>  \\\"number\\\": 302,<br>  \\\"values\\\": [<br>    0.9461302100083767<br>  ],<br>  \\\"params\\\": {<br>    \\\"epochs\\\": 26,<br>    \\\"freeze_pretrained_embeddings\\\": false,<br>    \\\"hidden_dim\\\": 768,<br>    \\\"learning_rate\\\": 0.00023204541182925804,<br>    \\\"num_ffnn_layers\\\": 1,<br>    \\\"num_layers\\\": 2,<br>    \\\"use_pretrained_embeddings\\\": true<br>  },<br>  \\\"user_attrs\\\": {<br>    \\\"accuracy\\\": 0.5654618473895582,<br>    \\\"macs\\\": 11299721728.0,<br>    \\\"model_parameters\\\": 26084867,<br>    \\\"model_size_mb\\\": 99.51471328735352,<br>    \\\"time_avg_ms\\\": 0.3996552600849258,<br>    \\\"time_std_ms\\\": 0.0014184757107169503<br>  }<br>}\",\"{<br>  \\\"number\\\": 304,<br>  \\\"values\\\": [<br>    0.9436208193118756<br>  ],<br>  \\\"params\\\": {<br>    \\\"epochs\\\": 24,<br>    \\\"freeze_pretrained_embeddings\\\": false,<br>    \\\"hidden_dim\\\": 768,<br>    \\\"learning_rate\\\": 0.0002288673935559796,<br>    \\\"num_ffnn_layers\\\": 1,<br>    \\\"num_layers\\\": 2,<br>    \\\"use_pretrained_embeddings\\\": true<br>  },<br>  \\\"user_attrs\\\": {<br>    \\\"accuracy\\\": 0.5678714859437751,<br>    \\\"macs\\\": 11299721728.0,<br>    \\\"model_parameters\\\": 26084867,<br>    \\\"model_size_mb\\\": 99.51471328735352,<br>    \\\"time_avg_ms\\\": 0.3889938822687073,<br>    \\\"time_std_ms\\\": 0.0016210209660455141<br>  }<br>}\",\"{<br>  \\\"number\\\": 306,<br>  \\\"values\\\": [<br>    0.9540888529557449<br>  ],<br>  \\\"params\\\": {<br>    \\\"epochs\\\": 13,<br>    \\\"freeze_pretrained_embeddings\\\": false,<br>    \\\"hidden_dim\\\": 128,<br>    \\\"learning_rate\\\": 0.0006463351784427498,<br>    \\\"num_ffnn_layers\\\": 2,<br>    \\\"num_layers\\\": 1,<br>    \\\"use_pretrained_embeddings\\\": true<br>  },<br>  \\\"user_attrs\\\": {<br>    \\\"accuracy\\\": 0.5578313253012048,<br>    \\\"macs\\\": 203686656.0,<br>    \\\"model_parameters\\\": 4430595,<br>    \\\"model_size_mb\\\": 16.910154342651367,<br>    \\\"time_avg_ms\\\": 0.36362943861244634,<br>    \\\"time_std_ms\\\": 0.00116999827618561<br>  }<br>}\",\"{<br>  \\\"number\\\": 315,<br>  \\\"values\\\": [<br>    0.9480139934099637<br>  ],<br>  \\\"params\\\": {<br>    \\\"epochs\\\": 5,<br>    \\\"freeze_pretrained_embeddings\\\": false,<br>    \\\"hidden_dim\\\": 768,<br>    \\\"learning_rate\\\": 0.0004010960782028989,<br>    \\\"num_ffnn_layers\\\": 0,<br>    \\\"num_layers\\\": 1,<br>    \\\"use_pretrained_embeddings\\\": true<br>  },<br>  \\\"user_attrs\\\": {<br>    \\\"accuracy\\\": 0.5682730923694779,<br>    \\\"macs\\\": 2831421952.0,<br>    \\\"model_parameters\\\": 9555971,<br>    \\\"model_size_mb\\\": 36.46058177947998,<br>    \\\"time_avg_ms\\\": 0.2948678024536507,<br>    \\\"time_std_ms\\\": 0.002016118216209578<br>  }<br>}\",\"{<br>  \\\"number\\\": 318,<br>  \\\"values\\\": [<br>    0.9499157850558941<br>  ],<br>  \\\"params\\\": {<br>    \\\"epochs\\\": 4,<br>    \\\"freeze_pretrained_embeddings\\\": false,<br>    \\\"hidden_dim\\\": 768,<br>    \\\"learning_rate\\\": 0.000395877539889765,<br>    \\\"num_ffnn_layers\\\": 0,<br>    \\\"num_layers\\\": 1,<br>    \\\"use_pretrained_embeddings\\\": true<br>  },<br>  \\\"user_attrs\\\": {<br>    \\\"accuracy\\\": 0.5666666666666667,<br>    \\\"macs\\\": 2831421952.0,<br>    \\\"model_parameters\\\": 9555971,<br>    \\\"model_size_mb\\\": 36.46058177947998,<br>    \\\"time_avg_ms\\\": 0.29750287325845826,<br>    \\\"time_std_ms\\\": 0.0008184425943725106<br>  }<br>}\",\"{<br>  \\\"number\\\": 319,<br>  \\\"values\\\": [<br>    0.9501044719647138<br>  ],<br>  \\\"params\\\": {<br>    \\\"epochs\\\": 4,<br>    \\\"freeze_pretrained_embeddings\\\": false,<br>    \\\"hidden_dim\\\": 768,<br>    \\\"learning_rate\\\": 0.00040138874037819167,<br>    \\\"num_ffnn_layers\\\": 0,<br>    \\\"num_layers\\\": 1,<br>    \\\"use_pretrained_embeddings\\\": true<br>  },<br>  \\\"user_attrs\\\": {<br>    \\\"accuracy\\\": 0.5666666666666667,<br>    \\\"macs\\\": 2831421952.0,<br>    \\\"model_parameters\\\": 9555971,<br>    \\\"model_size_mb\\\": 36.46058177947998,<br>    \\\"time_avg_ms\\\": 0.3067932352968591,<br>    \\\"time_std_ms\\\": 0.0013236464464201157<br>  }<br>}\",\"{<br>  \\\"number\\\": 320,<br>  \\\"values\\\": [<br>    0.9494871267905602<br>  ],<br>  \\\"params\\\": {<br>    \\\"epochs\\\": 4,<br>    \\\"freeze_pretrained_embeddings\\\": false,<br>    \\\"hidden_dim\\\": 768,<br>    \\\"learning_rate\\\": 0.00039211016798011505,<br>    \\\"num_ffnn_layers\\\": 0,<br>    \\\"num_layers\\\": 1,<br>    \\\"use_pretrained_embeddings\\\": true<br>  },<br>  \\\"user_attrs\\\": {<br>    \\\"accuracy\\\": 0.5710843373493976,<br>    \\\"macs\\\": 2831421952.0,<br>    \\\"model_parameters\\\": 9555971,<br>    \\\"model_size_mb\\\": 36.46058177947998,<br>    \\\"time_avg_ms\\\": 0.2991516702132975,<br>    \\\"time_std_ms\\\": 0.0010806023754603774<br>  }<br>}\",\"{<br>  \\\"number\\\": 323,<br>  \\\"values\\\": [<br>    0.9500446120897929<br>  ],<br>  \\\"params\\\": {<br>    \\\"epochs\\\": 3,<br>    \\\"freeze_pretrained_embeddings\\\": false,<br>    \\\"hidden_dim\\\": 768,<br>    \\\"learning_rate\\\": 0.00041093233822498223,<br>    \\\"num_ffnn_layers\\\": 0,<br>    \\\"num_layers\\\": 1,<br>    \\\"use_pretrained_embeddings\\\": true<br>  },<br>  \\\"user_attrs\\\": {<br>    \\\"accuracy\\\": 0.5646586345381526,<br>    \\\"macs\\\": 2831421952.0,<br>    \\\"model_parameters\\\": 9555971,<br>    \\\"model_size_mb\\\": 36.46058177947998,<br>    \\\"time_avg_ms\\\": 0.3089577952269665,<br>    \\\"time_std_ms\\\": 0.0009351241264442466<br>  }<br>}\",\"{<br>  \\\"number\\\": 326,<br>  \\\"values\\\": [<br>    0.9499886494416457<br>  ],<br>  \\\"params\\\": {<br>    \\\"epochs\\\": 3,<br>    \\\"freeze_pretrained_embeddings\\\": false,<br>    \\\"hidden_dim\\\": 768,<br>    \\\"learning_rate\\\": 0.00038553825145071327,<br>    \\\"num_ffnn_layers\\\": 0,<br>    \\\"num_layers\\\": 1,<br>    \\\"use_pretrained_embeddings\\\": true<br>  },<br>  \\\"user_attrs\\\": {<br>    \\\"accuracy\\\": 0.5674698795180723,<br>    \\\"macs\\\": 2831421952.0,<br>    \\\"model_parameters\\\": 9555971,<br>    \\\"model_size_mb\\\": 36.46058177947998,<br>    \\\"time_avg_ms\\\": 0.29873808593018564,<br>    \\\"time_std_ms\\\": 0.0011994689956460521<br>  }<br>}\",\"{<br>  \\\"number\\\": 327,<br>  \\\"values\\\": [<br>    0.9451469549765954<br>  ],<br>  \\\"params\\\": {<br>    \\\"epochs\\\": 3,<br>    \\\"freeze_pretrained_embeddings\\\": false,<br>    \\\"hidden_dim\\\": 768,<br>    \\\"learning_rate\\\": 0.00037627114330226157,<br>    \\\"num_ffnn_layers\\\": 0,<br>    \\\"num_layers\\\": 1,<br>    \\\"use_pretrained_embeddings\\\": true<br>  },<br>  \\\"user_attrs\\\": {<br>    \\\"accuracy\\\": 0.5690763052208835,<br>    \\\"macs\\\": 2831421952.0,<br>    \\\"model_parameters\\\": 9555971,<br>    \\\"model_size_mb\\\": 36.46058177947998,<br>    \\\"time_avg_ms\\\": 0.325843790403357,<br>    \\\"time_std_ms\\\": 0.001028471508689029<br>  }<br>}\",\"{<br>  \\\"number\\\": 332,<br>  \\\"values\\\": [<br>    0.952758327508584<br>  ],<br>  \\\"params\\\": {<br>    \\\"epochs\\\": 2,<br>    \\\"freeze_pretrained_embeddings\\\": false,<br>    \\\"hidden_dim\\\": 768,<br>    \\\"learning_rate\\\": 0.00035354697620644234,<br>    \\\"num_ffnn_layers\\\": 0,<br>    \\\"num_layers\\\": 1,<br>    \\\"use_pretrained_embeddings\\\": true<br>  },<br>  \\\"user_attrs\\\": {<br>    \\\"accuracy\\\": 0.5654618473895582,<br>    \\\"macs\\\": 2831421952.0,<br>    \\\"model_parameters\\\": 9555971,<br>    \\\"model_size_mb\\\": 36.46058177947998,<br>    \\\"time_avg_ms\\\": 0.2986108710261426,<br>    \\\"time_std_ms\\\": 0.0030580079289006692<br>  }<br>}\",\"{<br>  \\\"number\\\": 335,<br>  \\\"values\\\": [<br>    0.949889219724215<br>  ],<br>  \\\"params\\\": {<br>    \\\"epochs\\\": 5,<br>    \\\"freeze_pretrained_embeddings\\\": false,<br>    \\\"hidden_dim\\\": 768,<br>    \\\"learning_rate\\\": 0.0003344657170350466,<br>    \\\"num_ffnn_layers\\\": 0,<br>    \\\"num_layers\\\": 1,<br>    \\\"use_pretrained_embeddings\\\": true<br>  },<br>  \\\"user_attrs\\\": {<br>    \\\"accuracy\\\": 0.5642570281124498,<br>    \\\"macs\\\": 2831421952.0,<br>    \\\"model_parameters\\\": 9555971,<br>    \\\"model_size_mb\\\": 36.46058177947998,<br>    \\\"time_avg_ms\\\": 0.30389235186529284,<br>    \\\"time_std_ms\\\": 0.004244945675625922<br>  }<br>}\",\"{<br>  \\\"number\\\": 336,<br>  \\\"values\\\": [<br>    0.9495139290124942<br>  ],<br>  \\\"params\\\": {<br>    \\\"epochs\\\": 30,<br>    \\\"freeze_pretrained_embeddings\\\": false,<br>    \\\"hidden_dim\\\": 640,<br>    \\\"learning_rate\\\": 0.0003457609922435089,<br>    \\\"num_ffnn_layers\\\": 1,<br>    \\\"num_layers\\\": 2,<br>    \\\"use_pretrained_embeddings\\\": true<br>  },<br>  \\\"user_attrs\\\": {<br>    \\\"accuracy\\\": 0.5610441767068273,<br>    \\\"macs\\\": 7906529024.0,<br>    \\\"model_parameters\\\": 19460611,<br>    \\\"model_size_mb\\\": 74.24518203735352,<br>    \\\"time_avg_ms\\\": 0.3857071293168701,<br>    \\\"time_std_ms\\\": 0.0029823092703444186<br>  }<br>}\",\"{<br>  \\\"number\\\": 338,<br>  \\\"values\\\": [<br>    0.9548657490656927<br>  ],<br>  \\\"params\\\": {<br>    \\\"epochs\\\": 11,<br>    \\\"freeze_pretrained_embeddings\\\": false,<br>    \\\"hidden_dim\\\": 128,<br>    \\\"learning_rate\\\": 0.000550625238919484,<br>    \\\"num_ffnn_layers\\\": 2,<br>    \\\"num_layers\\\": 1,<br>    \\\"use_pretrained_embeddings\\\": true<br>  },<br>  \\\"user_attrs\\\": {<br>    \\\"accuracy\\\": 0.553012048192771,<br>    \\\"macs\\\": 203686656.0,<br>    \\\"model_parameters\\\": 4430595,<br>    \\\"model_size_mb\\\": 16.910154342651367,<br>    \\\"time_avg_ms\\\": 0.3783895213124451,<br>    \\\"time_std_ms\\\": 0.00432285587474414<br>  }<br>}\",\"{<br>  \\\"number\\\": 339,<br>  \\\"values\\\": [<br>    0.9487958091955918<br>  ],<br>  \\\"params\\\": {<br>    \\\"epochs\\\": 5,<br>    \\\"freeze_pretrained_embeddings\\\": false,<br>    \\\"hidden_dim\\\": 768,<br>    \\\"learning_rate\\\": 0.00039196650255114577,<br>    \\\"num_ffnn_layers\\\": 0,<br>    \\\"num_layers\\\": 1,<br>    \\\"use_pretrained_embeddings\\\": true<br>  },<br>  \\\"user_attrs\\\": {<br>    \\\"accuracy\\\": 0.5698795180722892,<br>    \\\"macs\\\": 2831421952.0,<br>    \\\"model_parameters\\\": 9555971,<br>    \\\"model_size_mb\\\": 36.46058177947998,<br>    \\\"time_avg_ms\\\": 0.30476894778670904,<br>    \\\"time_std_ms\\\": 0.0019151870381081315<br>  }<br>}\",\"{<br>  \\\"number\\\": 340,<br>  \\\"values\\\": [<br>    0.9513722184376839<br>  ],<br>  \\\"params\\\": {<br>    \\\"epochs\\\": 27,<br>    \\\"freeze_pretrained_embeddings\\\": false,<br>    \\\"hidden_dim\\\": 640,<br>    \\\"learning_rate\\\": 0.0003290570753320992,<br>    \\\"num_ffnn_layers\\\": 1,<br>    \\\"num_layers\\\": 2,<br>    \\\"use_pretrained_embeddings\\\": true<br>  },<br>  \\\"user_attrs\\\": {<br>    \\\"accuracy\\\": 0.5570281124497992,<br>    \\\"macs\\\": 7906529024.0,<br>    \\\"model_parameters\\\": 19460611,<br>    \\\"model_size_mb\\\": 74.24518203735352,<br>    \\\"time_avg_ms\\\": 0.38979764697918046,<br>    \\\"time_std_ms\\\": 0.0014692917129690512<br>  }<br>}\",\"{<br>  \\\"number\\\": 342,<br>  \\\"values\\\": [<br>    0.9535193657263731<br>  ],<br>  \\\"params\\\": {<br>    \\\"epochs\\\": 13,<br>    \\\"freeze_pretrained_embeddings\\\": false,<br>    \\\"hidden_dim\\\": 128,<br>    \\\"learning_rate\\\": 0.0005767867766604951,<br>    \\\"num_ffnn_layers\\\": 2,<br>    \\\"num_layers\\\": 1,<br>    \\\"use_pretrained_embeddings\\\": true<br>  },<br>  \\\"user_attrs\\\": {<br>    \\\"accuracy\\\": 0.5590361445783133,<br>    \\\"macs\\\": 203686656.0,<br>    \\\"model_parameters\\\": 4430595,<br>    \\\"model_size_mb\\\": 16.910154342651367,<br>    \\\"time_avg_ms\\\": 0.3735195270799581,<br>    \\\"time_std_ms\\\": 0.0015592173196643864<br>  }<br>}\",\"{<br>  \\\"number\\\": 343,<br>  \\\"values\\\": [<br>    0.947833796342214<br>  ],<br>  \\\"params\\\": {<br>    \\\"epochs\\\": 5,<br>    \\\"freeze_pretrained_embeddings\\\": false,<br>    \\\"hidden_dim\\\": 768,<br>    \\\"learning_rate\\\": 0.0003931314567223517,<br>    \\\"num_ffnn_layers\\\": 0,<br>    \\\"num_layers\\\": 1,<br>    \\\"use_pretrained_embeddings\\\": true<br>  },<br>  \\\"user_attrs\\\": {<br>    \\\"accuracy\\\": 0.5690763052208835,<br>    \\\"macs\\\": 2831421952.0,<br>    \\\"model_parameters\\\": 9555971,<br>    \\\"model_size_mb\\\": 36.46058177947998,<br>    \\\"time_avg_ms\\\": 0.3090852393222082,<br>    \\\"time_std_ms\\\": 0.001343272941668291<br>  }<br>}\",\"{<br>  \\\"number\\\": 345,<br>  \\\"values\\\": [<br>    0.9491276053281931<br>  ],<br>  \\\"params\\\": {<br>    \\\"epochs\\\": 3,<br>    \\\"freeze_pretrained_embeddings\\\": false,<br>    \\\"hidden_dim\\\": 768,<br>    \\\"learning_rate\\\": 0.00036970202492617367,<br>    \\\"num_ffnn_layers\\\": 0,<br>    \\\"num_layers\\\": 1,<br>    \\\"use_pretrained_embeddings\\\": true<br>  },<br>  \\\"user_attrs\\\": {<br>    \\\"accuracy\\\": 0.5670682730923695,<br>    \\\"macs\\\": 2831421952.0,<br>    \\\"model_parameters\\\": 9555971,<br>    \\\"model_size_mb\\\": 36.46058177947998,<br>    \\\"time_avg_ms\\\": 0.3046915006254696,<br>    \\\"time_std_ms\\\": 0.004327073767952767<br>  }<br>}\",\"{<br>  \\\"number\\\": 352,<br>  \\\"values\\\": [<br>    0.9449722507061102<br>  ],<br>  \\\"params\\\": {<br>    \\\"epochs\\\": 5,<br>    \\\"freeze_pretrained_embeddings\\\": false,<br>    \\\"hidden_dim\\\": 768,<br>    \\\"learning_rate\\\": 0.00038733852757971135,<br>    \\\"num_ffnn_layers\\\": 0,<br>    \\\"num_layers\\\": 1,<br>    \\\"use_pretrained_embeddings\\\": true<br>  },<br>  \\\"user_attrs\\\": {<br>    \\\"accuracy\\\": 0.5746987951807229,<br>    \\\"macs\\\": 2831421952.0,<br>    \\\"model_parameters\\\": 9555971,<br>    \\\"model_size_mb\\\": 36.46058177947998,<br>    \\\"time_avg_ms\\\": 0.31430995719953597,<br>    \\\"time_std_ms\\\": 0.0018653028390962882<br>  }<br>}\",\"{<br>  \\\"number\\\": 355,<br>  \\\"values\\\": [<br>    0.947846036690932<br>  ],<br>  \\\"params\\\": {<br>    \\\"epochs\\\": 3,<br>    \\\"freeze_pretrained_embeddings\\\": false,<br>    \\\"hidden_dim\\\": 768,<br>    \\\"learning_rate\\\": 0.0003853350396814933,<br>    \\\"num_ffnn_layers\\\": 0,<br>    \\\"num_layers\\\": 1,<br>    \\\"use_pretrained_embeddings\\\": true<br>  },<br>  \\\"user_attrs\\\": {<br>    \\\"accuracy\\\": 0.5682730923694779,<br>    \\\"macs\\\": 2831421952.0,<br>    \\\"model_parameters\\\": 9555971,<br>    \\\"model_size_mb\\\": 36.46058177947998,<br>    \\\"time_avg_ms\\\": 0.33544765901751816,<br>    \\\"time_std_ms\\\": 0.021592850368704924<br>  }<br>}\",\"{<br>  \\\"number\\\": 358,<br>  \\\"values\\\": [<br>    0.9515425196060767<br>  ],<br>  \\\"params\\\": {<br>    \\\"epochs\\\": 27,<br>    \\\"freeze_pretrained_embeddings\\\": false,<br>    \\\"hidden_dim\\\": 640,<br>    \\\"learning_rate\\\": 0.00033236716264866057,<br>    \\\"num_ffnn_layers\\\": 1,<br>    \\\"num_layers\\\": 2,<br>    \\\"use_pretrained_embeddings\\\": true<br>  },<br>  \\\"user_attrs\\\": {<br>    \\\"accuracy\\\": 0.5534136546184739,<br>    \\\"macs\\\": 7906529024.0,<br>    \\\"model_parameters\\\": 19460611,<br>    \\\"model_size_mb\\\": 74.24518203735352,<br>    \\\"time_avg_ms\\\": 0.4052576098021948,<br>    \\\"time_std_ms\\\": 0.0019318444167569975<br>  }<br>}\",\"{<br>  \\\"number\\\": 359,<br>  \\\"values\\\": [<br>    0.9540657187119509<br>  ],<br>  \\\"params\\\": {<br>    \\\"epochs\\\": 11,<br>    \\\"freeze_pretrained_embeddings\\\": false,<br>    \\\"hidden_dim\\\": 128,<br>    \\\"learning_rate\\\": 0.0004854958486482069,<br>    \\\"num_ffnn_layers\\\": 2,<br>    \\\"num_layers\\\": 1,<br>    \\\"use_pretrained_embeddings\\\": true<br>  },<br>  \\\"user_attrs\\\": {<br>    \\\"accuracy\\\": 0.5650602409638554,<br>    \\\"macs\\\": 203686656.0,<br>    \\\"model_parameters\\\": 4430595,<br>    \\\"model_size_mb\\\": 16.910154342651367,<br>    \\\"time_avg_ms\\\": 0.37303793694863613,<br>    \\\"time_std_ms\\\": 0.001589923909502566<br>  }<br>}\",\"{<br>  \\\"number\\\": 362,<br>  \\\"values\\\": [<br>    0.9492008808331612<br>  ],<br>  \\\"params\\\": {<br>    \\\"epochs\\\": 5,<br>    \\\"freeze_pretrained_embeddings\\\": false,<br>    \\\"hidden_dim\\\": 768,<br>    \\\"learning_rate\\\": 0.00041728854740654265,<br>    \\\"num_ffnn_layers\\\": 0,<br>    \\\"num_layers\\\": 1,<br>    \\\"use_pretrained_embeddings\\\": true<br>  },<br>  \\\"user_attrs\\\": {<br>    \\\"accuracy\\\": 0.5678714859437751,<br>    \\\"macs\\\": 2831421952.0,<br>    \\\"model_parameters\\\": 9555971,<br>    \\\"model_size_mb\\\": 36.46058177947998,<br>    \\\"time_avg_ms\\\": 0.31010229442337595,<br>    \\\"time_std_ms\\\": 0.0022192239971682644<br>  }<br>}\",\"{<br>  \\\"number\\\": 364,<br>  \\\"values\\\": [<br>    0.9531015845445486<br>  ],<br>  \\\"params\\\": {<br>    \\\"epochs\\\": 26,<br>    \\\"freeze_pretrained_embeddings\\\": false,<br>    \\\"hidden_dim\\\": 640,<br>    \\\"learning_rate\\\": 0.000328736791578011,<br>    \\\"num_ffnn_layers\\\": 1,<br>    \\\"num_layers\\\": 2,<br>    \\\"use_pretrained_embeddings\\\": true<br>  },<br>  \\\"user_attrs\\\": {<br>    \\\"accuracy\\\": 0.5586345381526104,<br>    \\\"macs\\\": 7906529024.0,<br>    \\\"model_parameters\\\": 19460611,<br>    \\\"model_size_mb\\\": 74.24518203735352,<br>    \\\"time_avg_ms\\\": 0.4085622867089264,<br>    \\\"time_std_ms\\\": 0.0018294834734158619<br>  }<br>}\",\"{<br>  \\\"number\\\": 365,<br>  \\\"values\\\": [<br>    0.9498771398495405<br>  ],<br>  \\\"params\\\": {<br>    \\\"epochs\\\": 6,<br>    \\\"freeze_pretrained_embeddings\\\": false,<br>    \\\"hidden_dim\\\": 768,<br>    \\\"learning_rate\\\": 0.00042821085521870997,<br>    \\\"num_ffnn_layers\\\": 0,<br>    \\\"num_layers\\\": 1,<br>    \\\"use_pretrained_embeddings\\\": true<br>  },<br>  \\\"user_attrs\\\": {<br>    \\\"accuracy\\\": 0.5670682730923695,<br>    \\\"macs\\\": 2831421952.0,<br>    \\\"model_parameters\\\": 9555971,<br>    \\\"model_size_mb\\\": 36.46058177947998,<br>    \\\"time_avg_ms\\\": 0.3051887213950977,<br>    \\\"time_std_ms\\\": 0.0021391853629950668<br>  }<br>}\",\"{<br>  \\\"number\\\": 366,<br>  \\\"values\\\": [<br>    0.9493084947268168<br>  ],<br>  \\\"params\\\": {<br>    \\\"epochs\\\": 6,<br>    \\\"freeze_pretrained_embeddings\\\": false,<br>    \\\"hidden_dim\\\": 768,<br>    \\\"learning_rate\\\": 0.00042327650693996,<br>    \\\"num_ffnn_layers\\\": 0,<br>    \\\"num_layers\\\": 1,<br>    \\\"use_pretrained_embeddings\\\": true<br>  },<br>  \\\"user_attrs\\\": {<br>    \\\"accuracy\\\": 0.572289156626506,<br>    \\\"macs\\\": 2831421952.0,<br>    \\\"model_parameters\\\": 9555971,<br>    \\\"model_size_mb\\\": 36.46058177947998,<br>    \\\"time_avg_ms\\\": 0.34282359993085265,<br>    \\\"time_std_ms\\\": 0.02495814395778964<br>  }<br>}\",\"{<br>  \\\"number\\\": 370,<br>  \\\"values\\\": [<br>    0.9461953853949522<br>  ],<br>  \\\"params\\\": {<br>    \\\"epochs\\\": 7,<br>    \\\"freeze_pretrained_embeddings\\\": false,<br>    \\\"hidden_dim\\\": 768,<br>    \\\"learning_rate\\\": 0.00044408536992438826,<br>    \\\"num_ffnn_layers\\\": 0,<br>    \\\"num_layers\\\": 1,<br>    \\\"use_pretrained_embeddings\\\": true<br>  },<br>  \\\"user_attrs\\\": {<br>    \\\"accuracy\\\": 0.5666666666666667,<br>    \\\"macs\\\": 2831421952.0,<br>    \\\"model_parameters\\\": 9555971,<br>    \\\"model_size_mb\\\": 36.46058177947998,<br>    \\\"time_avg_ms\\\": 0.31436338346240295,<br>    \\\"time_std_ms\\\": 0.0016049054263306615<br>  }<br>}\",\"{<br>  \\\"number\\\": 371,<br>  \\\"values\\\": [<br>    0.9472557749503698<br>  ],<br>  \\\"params\\\": {<br>    \\\"epochs\\\": 26,<br>    \\\"freeze_pretrained_embeddings\\\": false,<br>    \\\"hidden_dim\\\": 768,<br>    \\\"learning_rate\\\": 0.00021565250961331958,<br>    \\\"num_ffnn_layers\\\": 1,<br>    \\\"num_layers\\\": 2,<br>    \\\"use_pretrained_embeddings\\\": true<br>  },<br>  \\\"user_attrs\\\": {<br>    \\\"accuracy\\\": 0.5654618473895582,<br>    \\\"macs\\\": 11299721728.0,<br>    \\\"model_parameters\\\": 26084867,<br>    \\\"model_size_mb\\\": 99.51471328735352,<br>    \\\"time_avg_ms\\\": 0.4001962407551801,<br>    \\\"time_std_ms\\\": 0.0026484158719295653<br>  }<br>}\",\"{<br>  \\\"number\\\": 372,<br>  \\\"values\\\": [<br>    0.9591606320478977<br>  ],<br>  \\\"params\\\": {<br>    \\\"epochs\\\": 8,<br>    \\\"freeze_pretrained_embeddings\\\": false,<br>    \\\"hidden_dim\\\": 256,<br>    \\\"learning_rate\\\": 0.0003994325548872627,<br>    \\\"num_ffnn_layers\\\": 1,<br>    \\\"num_layers\\\": 1,<br>    \\\"use_pretrained_embeddings\\\": true<br>  },<br>  \\\"user_attrs\\\": {<br>    \\\"accuracy\\\": 0.572289156626506,<br>    \\\"macs\\\": 541328896.0,<br>    \\\"model_parameters\\\": 5088771,<br>    \\\"model_size_mb\\\": 19.420230865478516,<br>    \\\"time_avg_ms\\\": 0.3523086925270036,<br>    \\\"time_std_ms\\\": 0.0023548465803599045<br>  }<br>}\",\"{<br>  \\\"number\\\": 373,<br>  \\\"values\\\": [<br>    0.9462949159817818<br>  ],<br>  \\\"params\\\": {<br>    \\\"epochs\\\": 6,<br>    \\\"freeze_pretrained_embeddings\\\": false,<br>    \\\"hidden_dim\\\": 768,<br>    \\\"learning_rate\\\": 0.0003756509910513666,<br>    \\\"num_ffnn_layers\\\": 0,<br>    \\\"num_layers\\\": 1,<br>    \\\"use_pretrained_embeddings\\\": true<br>  },<br>  \\\"user_attrs\\\": {<br>    \\\"accuracy\\\": 0.5686746987951807,<br>    \\\"macs\\\": 2831421952.0,<br>    \\\"model_parameters\\\": 9555971,<br>    \\\"model_size_mb\\\": 36.46058177947998,<br>    \\\"time_avg_ms\\\": 0.30616844499794144,<br>    \\\"time_std_ms\\\": 0.001890037935464244<br>  }<br>}\",\"{<br>  \\\"number\\\": 374,<br>  \\\"values\\\": [<br>    0.9481731026600568<br>  ],<br>  \\\"params\\\": {<br>    \\\"epochs\\\": 26,<br>    \\\"freeze_pretrained_embeddings\\\": false,<br>    \\\"hidden_dim\\\": 768,<br>    \\\"learning_rate\\\": 0.00021895593697144093,<br>    \\\"num_ffnn_layers\\\": 1,<br>    \\\"num_layers\\\": 2,<br>    \\\"use_pretrained_embeddings\\\": true<br>  },<br>  \\\"user_attrs\\\": {<br>    \\\"accuracy\\\": 0.5686746987951807,<br>    \\\"macs\\\": 11299721728.0,<br>    \\\"model_parameters\\\": 26084867,<br>    \\\"model_size_mb\\\": 99.51471328735352,<br>    \\\"time_avg_ms\\\": 0.3967602394328898,<br>    \\\"time_std_ms\\\": 0.003022401378987875<br>  }<br>}\",\"{<br>  \\\"number\\\": 375,<br>  \\\"values\\\": [<br>    0.9456977890088007<br>  ],<br>  \\\"params\\\": {<br>    \\\"epochs\\\": 7,<br>    \\\"freeze_pretrained_embeddings\\\": false,<br>    \\\"hidden_dim\\\": 768,<br>    \\\"learning_rate\\\": 0.00045360299056151356,<br>    \\\"num_ffnn_layers\\\": 0,<br>    \\\"num_layers\\\": 1,<br>    \\\"use_pretrained_embeddings\\\": true<br>  },<br>  \\\"user_attrs\\\": {<br>    \\\"accuracy\\\": 0.5706827309236948,<br>    \\\"macs\\\": 2831421952.0,<br>    \\\"model_parameters\\\": 9555971,<br>    \\\"model_size_mb\\\": 36.46058177947998,<br>    \\\"time_avg_ms\\\": 0.3073774172331799,<br>    \\\"time_std_ms\\\": 0.0018332596062445954<br>  }<br>}\",\"{<br>  \\\"number\\\": 381,<br>  \\\"values\\\": [<br>    0.9497829874356588<br>  ],<br>  \\\"params\\\": {<br>    \\\"epochs\\\": 8,<br>    \\\"freeze_pretrained_embeddings\\\": false,<br>    \\\"hidden_dim\\\": 768,<br>    \\\"learning_rate\\\": 0.0004437020936169082,<br>    \\\"num_ffnn_layers\\\": 0,<br>    \\\"num_layers\\\": 1,<br>    \\\"use_pretrained_embeddings\\\": true<br>  },<br>  \\\"user_attrs\\\": {<br>    \\\"accuracy\\\": 0.5686746987951807,<br>    \\\"macs\\\": 2831421952.0,<br>    \\\"model_parameters\\\": 9555971,<br>    \\\"model_size_mb\\\": 36.46058177947998,<br>    \\\"time_avg_ms\\\": 0.29666220094797385,<br>    \\\"time_std_ms\\\": 0.004251306353830339<br>  }<br>}\",\"{<br>  \\\"number\\\": 385,<br>  \\\"values\\\": [<br>    0.9475796772883489<br>  ],<br>  \\\"params\\\": {<br>    \\\"epochs\\\": 30,<br>    \\\"freeze_pretrained_embeddings\\\": false,<br>    \\\"hidden_dim\\\": 640,<br>    \\\"learning_rate\\\": 0.00025235059523734345,<br>    \\\"num_ffnn_layers\\\": 1,<br>    \\\"num_layers\\\": 2,<br>    \\\"use_pretrained_embeddings\\\": true<br>  },<br>  \\\"user_attrs\\\": {<br>    \\\"accuracy\\\": 0.5662650602409639,<br>    \\\"macs\\\": 7906529024.0,<br>    \\\"model_parameters\\\": 19460611,<br>    \\\"model_size_mb\\\": 74.24518203735352,<br>    \\\"time_avg_ms\\\": 0.41078134785897824,<br>    \\\"time_std_ms\\\": 0.018384577068263148<br>  }<br>}\",\"{<br>  \\\"number\\\": 389,<br>  \\\"values\\\": [<br>    0.946032811433841<br>  ],<br>  \\\"params\\\": {<br>    \\\"epochs\\\": 26,<br>    \\\"freeze_pretrained_embeddings\\\": false,<br>    \\\"hidden_dim\\\": 768,<br>    \\\"learning_rate\\\": 0.00017459897716033047,<br>    \\\"num_ffnn_layers\\\": 0,<br>    \\\"num_layers\\\": 2,<br>    \\\"use_pretrained_embeddings\\\": true<br>  },<br>  \\\"user_attrs\\\": {<br>    \\\"accuracy\\\": 0.5710843373493976,<br>    \\\"macs\\\": 10091762176.0,<br>    \\\"model_parameters\\\": 23724035,<br>    \\\"model_size_mb\\\": 90.50825023651123,<br>    \\\"time_avg_ms\\\": 0.33544391077868213,<br>    \\\"time_std_ms\\\": 0.003774121400479058<br>  }<br>}\",\"{<br>  \\\"number\\\": 391,<br>  \\\"values\\\": [<br>    0.9455859126188816<br>  ],<br>  \\\"params\\\": {<br>    \\\"epochs\\\": 7,<br>    \\\"freeze_pretrained_embeddings\\\": false,<br>    \\\"hidden_dim\\\": 768,<br>    \\\"learning_rate\\\": 0.0004355759402487838,<br>    \\\"num_ffnn_layers\\\": 0,<br>    \\\"num_layers\\\": 1,<br>    \\\"use_pretrained_embeddings\\\": true<br>  },<br>  \\\"user_attrs\\\": {<br>    \\\"accuracy\\\": 0.572289156626506,<br>    \\\"macs\\\": 2831421952.0,<br>    \\\"model_parameters\\\": 9555971,<br>    \\\"model_size_mb\\\": 36.46058177947998,<br>    \\\"time_avg_ms\\\": 0.2947760839583125,<br>    \\\"time_std_ms\\\": 0.0011775405054239693<br>  }<br>}\",\"{<br>  \\\"number\\\": 392,<br>  \\\"values\\\": [<br>    0.9492456653179266<br>  ],<br>  \\\"params\\\": {<br>    \\\"epochs\\\": 7,<br>    \\\"freeze_pretrained_embeddings\\\": false,<br>    \\\"hidden_dim\\\": 768,<br>    \\\"learning_rate\\\": 0.0004361131634341756,<br>    \\\"num_ffnn_layers\\\": 0,<br>    \\\"num_layers\\\": 1,<br>    \\\"use_pretrained_embeddings\\\": true<br>  },<br>  \\\"user_attrs\\\": {<br>    \\\"accuracy\\\": 0.5734939759036145,<br>    \\\"macs\\\": 2831421952.0,<br>    \\\"model_parameters\\\": 9555971,<br>    \\\"model_size_mb\\\": 36.46058177947998,<br>    \\\"time_avg_ms\\\": 0.2940735768204854,<br>    \\\"time_std_ms\\\": 0.0014557283499619387<br>  }<br>}\",\"{<br>  \\\"number\\\": 393,<br>  \\\"values\\\": [<br>    0.9491349382278247<br>  ],<br>  \\\"params\\\": {<br>    \\\"epochs\\\": 7,<br>    \\\"freeze_pretrained_embeddings\\\": false,<br>    \\\"hidden_dim\\\": 768,<br>    \\\"learning_rate\\\": 0.0004416991880879308,<br>    \\\"num_ffnn_layers\\\": 0,<br>    \\\"num_layers\\\": 1,<br>    \\\"use_pretrained_embeddings\\\": true<br>  },<br>  \\\"user_attrs\\\": {<br>    \\\"accuracy\\\": 0.570281124497992,<br>    \\\"macs\\\": 2831421952.0,<br>    \\\"model_parameters\\\": 9555971,<br>    \\\"model_size_mb\\\": 36.46058177947998,<br>    \\\"time_avg_ms\\\": 0.30127008899282187,<br>    \\\"time_std_ms\\\": 0.0014207703749168576<br>  }<br>}\",\"{<br>  \\\"number\\\": 394,<br>  \\\"values\\\": [<br>    0.9540028556799277<br>  ],<br>  \\\"params\\\": {<br>    \\\"epochs\\\": 12,<br>    \\\"freeze_pretrained_embeddings\\\": false,<br>    \\\"hidden_dim\\\": 640,<br>    \\\"learning_rate\\\": 0.0006697802370678341,<br>    \\\"num_ffnn_layers\\\": 1,<br>    \\\"num_layers\\\": 2,<br>    \\\"use_pretrained_embeddings\\\": true<br>  },<br>  \\\"user_attrs\\\": {<br>    \\\"accuracy\\\": 0.557429718875502,<br>    \\\"macs\\\": 7906529024.0,<br>    \\\"model_parameters\\\": 19460611,<br>    \\\"model_size_mb\\\": 74.24518203735352,<br>    \\\"time_avg_ms\\\": 0.38320886194004966,<br>    \\\"time_std_ms\\\": 0.0015860225307937224<br>  }<br>}\",\"{<br>  \\\"number\\\": 400,<br>  \\\"values\\\": [<br>    0.9485167860984802<br>  ],<br>  \\\"params\\\": {<br>    \\\"epochs\\\": 7,<br>    \\\"freeze_pretrained_embeddings\\\": false,<br>    \\\"hidden_dim\\\": 768,<br>    \\\"learning_rate\\\": 0.00040456957246294426,<br>    \\\"num_ffnn_layers\\\": 0,<br>    \\\"num_layers\\\": 1,<br>    \\\"use_pretrained_embeddings\\\": true<br>  },<br>  \\\"user_attrs\\\": {<br>    \\\"accuracy\\\": 0.5642570281124498,<br>    \\\"macs\\\": 2831421952.0,<br>    \\\"model_parameters\\\": 9555971,<br>    \\\"model_size_mb\\\": 36.46058177947998,<br>    \\\"time_avg_ms\\\": 0.29794999634185315,<br>    \\\"time_std_ms\\\": 0.0010884264904466956<br>  }<br>}\",\"{<br>  \\\"number\\\": 403,<br>  \\\"values\\\": [<br>    0.9495784319364108<br>  ],<br>  \\\"params\\\": {<br>    \\\"epochs\\\": 5,<br>    \\\"freeze_pretrained_embeddings\\\": false,<br>    \\\"hidden_dim\\\": 768,<br>    \\\"learning_rate\\\": 0.00040653649437429577,<br>    \\\"num_ffnn_layers\\\": 0,<br>    \\\"num_layers\\\": 1,<br>    \\\"use_pretrained_embeddings\\\": true<br>  },<br>  \\\"user_attrs\\\": {<br>    \\\"accuracy\\\": 0.5734939759036145,<br>    \\\"macs\\\": 2831421952.0,<br>    \\\"model_parameters\\\": 9555971,<br>    \\\"model_size_mb\\\": 36.46058177947998,<br>    \\\"time_avg_ms\\\": 0.29388501397555783,<br>    \\\"time_std_ms\\\": 0.0013513306824110794<br>  }<br>}\",\"{<br>  \\\"number\\\": 404,<br>  \\\"values\\\": [<br>    0.9479010823445443<br>  ],<br>  \\\"params\\\": {<br>    \\\"epochs\\\": 29,<br>    \\\"freeze_pretrained_embeddings\\\": false,<br>    \\\"hidden_dim\\\": 128,<br>    \\\"learning_rate\\\": 0.0006201360458835376,<br>    \\\"num_ffnn_layers\\\": 2,<br>    \\\"num_layers\\\": 1,<br>    \\\"use_pretrained_embeddings\\\": true<br>  },<br>  \\\"user_attrs\\\": {<br>    \\\"accuracy\\\": 0.5650602409638554,<br>    \\\"macs\\\": 203686656.0,<br>    \\\"model_parameters\\\": 4430595,<br>    \\\"model_size_mb\\\": 16.910154342651367,<br>    \\\"time_avg_ms\\\": 0.36572013050317764,<br>    \\\"time_std_ms\\\": 0.0015448291155677337<br>  }<br>}\",\"{<br>  \\\"number\\\": 406,<br>  \\\"values\\\": [<br>    0.9490889998582693<br>  ],<br>  \\\"params\\\": {<br>    \\\"epochs\\\": 7,<br>    \\\"freeze_pretrained_embeddings\\\": false,<br>    \\\"hidden_dim\\\": 768,<br>    \\\"learning_rate\\\": 0.0003692526345826121,<br>    \\\"num_ffnn_layers\\\": 0,<br>    \\\"num_layers\\\": 1,<br>    \\\"use_pretrained_embeddings\\\": true<br>  },<br>  \\\"user_attrs\\\": {<br>    \\\"accuracy\\\": 0.565863453815261,<br>    \\\"macs\\\": 2831421952.0,<br>    \\\"model_parameters\\\": 9555971,<br>    \\\"model_size_mb\\\": 36.46058177947998,<br>    \\\"time_avg_ms\\\": 0.302998443657998,<br>    \\\"time_std_ms\\\": 0.001528885074790389<br>  }<br>}\",\"{<br>  \\\"number\\\": 408,<br>  \\\"values\\\": [<br>    0.9478632532633268<br>  ],<br>  \\\"params\\\": {<br>    \\\"epochs\\\": 7,<br>    \\\"freeze_pretrained_embeddings\\\": false,<br>    \\\"hidden_dim\\\": 768,<br>    \\\"learning_rate\\\": 0.0003679877668049612,<br>    \\\"num_ffnn_layers\\\": 0,<br>    \\\"num_layers\\\": 1,<br>    \\\"use_pretrained_embeddings\\\": true<br>  },<br>  \\\"user_attrs\\\": {<br>    \\\"accuracy\\\": 0.5694779116465863,<br>    \\\"macs\\\": 2831421952.0,<br>    \\\"model_parameters\\\": 9555971,<br>    \\\"model_size_mb\\\": 36.46058177947998,<br>    \\\"time_avg_ms\\\": 0.3080635585568168,<br>    \\\"time_std_ms\\\": 0.0009823065619831682<br>  }<br>}\",\"{<br>  \\\"number\\\": 412,<br>  \\\"values\\\": [<br>    0.9476388769272046<br>  ],<br>  \\\"params\\\": {<br>    \\\"epochs\\\": 7,<br>    \\\"freeze_pretrained_embeddings\\\": false,<br>    \\\"hidden_dim\\\": 768,<br>    \\\"learning_rate\\\": 0.00036073419048918213,<br>    \\\"num_ffnn_layers\\\": 0,<br>    \\\"num_layers\\\": 1,<br>    \\\"use_pretrained_embeddings\\\": true<br>  },<br>  \\\"user_attrs\\\": {<br>    \\\"accuracy\\\": 0.5678714859437751,<br>    \\\"macs\\\": 2831421952.0,<br>    \\\"model_parameters\\\": 9555971,<br>    \\\"model_size_mb\\\": 36.46058177947998,<br>    \\\"time_avg_ms\\\": 0.3062440619732325,<br>    \\\"time_std_ms\\\": 0.0021950418939693777<br>  }<br>}\",\"{<br>  \\\"number\\\": 416,<br>  \\\"values\\\": [<br>    0.9457916800792401<br>  ],<br>  \\\"params\\\": {<br>    \\\"epochs\\\": 7,<br>    \\\"freeze_pretrained_embeddings\\\": false,<br>    \\\"hidden_dim\\\": 768,<br>    \\\"learning_rate\\\": 0.0003771576342298714,<br>    \\\"num_ffnn_layers\\\": 0,<br>    \\\"num_layers\\\": 1,<br>    \\\"use_pretrained_embeddings\\\": true<br>  },<br>  \\\"user_attrs\\\": {<br>    \\\"accuracy\\\": 0.570281124497992,<br>    \\\"macs\\\": 2831421952.0,<br>    \\\"model_parameters\\\": 9555971,<br>    \\\"model_size_mb\\\": 36.46058177947998,<br>    \\\"time_avg_ms\\\": 0.3014951273251106,<br>    \\\"time_std_ms\\\": 0.001281235254276768<br>  }<br>}\",\"{<br>  \\\"number\\\": 418,<br>  \\\"values\\\": [<br>    0.9534885638799423<br>  ],<br>  \\\"params\\\": {<br>    \\\"epochs\\\": 25,<br>    \\\"freeze_pretrained_embeddings\\\": false,<br>    \\\"hidden_dim\\\": 128,<br>    \\\"learning_rate\\\": 0.0005270717458141756,<br>    \\\"num_ffnn_layers\\\": 2,<br>    \\\"num_layers\\\": 1,<br>    \\\"use_pretrained_embeddings\\\": true<br>  },<br>  \\\"user_attrs\\\": {<br>    \\\"accuracy\\\": 0.5578313253012048,<br>    \\\"macs\\\": 203686656.0,<br>    \\\"model_parameters\\\": 4430595,<br>    \\\"model_size_mb\\\": 16.910154342651367,<br>    \\\"time_avg_ms\\\": 0.3693540416587825,<br>    \\\"time_std_ms\\\": 0.0021705662204215084<br>  }<br>}\",\"{<br>  \\\"number\\\": 419,<br>  \\\"values\\\": [<br>    0.9468660247631562<br>  ],<br>  \\\"params\\\": {<br>    \\\"epochs\\\": 8,<br>    \\\"freeze_pretrained_embeddings\\\": false,<br>    \\\"hidden_dim\\\": 768,<br>    \\\"learning_rate\\\": 0.0003812883441070801,<br>    \\\"num_ffnn_layers\\\": 0,<br>    \\\"num_layers\\\": 1,<br>    \\\"use_pretrained_embeddings\\\": true<br>  },<br>  \\\"user_attrs\\\": {<br>    \\\"accuracy\\\": 0.5734939759036145,<br>    \\\"macs\\\": 2831421952.0,<br>    \\\"model_parameters\\\": 9555971,<br>    \\\"model_size_mb\\\": 36.46058177947998,<br>    \\\"time_avg_ms\\\": 0.2989850308158961,<br>    \\\"time_std_ms\\\": 0.0014018039613349217<br>  }<br>}\",\"{<br>  \\\"number\\\": 425,<br>  \\\"values\\\": [<br>    0.9478657795832708<br>  ],<br>  \\\"params\\\": {<br>    \\\"epochs\\\": 30,<br>    \\\"freeze_pretrained_embeddings\\\": false,<br>    \\\"hidden_dim\\\": 128,<br>    \\\"learning_rate\\\": 0.0005618915195204112,<br>    \\\"num_ffnn_layers\\\": 2,<br>    \\\"num_layers\\\": 1,<br>    \\\"use_pretrained_embeddings\\\": true<br>  },<br>  \\\"user_attrs\\\": {<br>    \\\"accuracy\\\": 0.5666666666666667,<br>    \\\"macs\\\": 203686656.0,<br>    \\\"model_parameters\\\": 4430595,<br>    \\\"model_size_mb\\\": 16.910154342651367,<br>    \\\"time_avg_ms\\\": 0.37634626666628074,<br>    \\\"time_std_ms\\\": 0.0012056913443204698<br>  }<br>}\",\"{<br>  \\\"number\\\": 426,<br>  \\\"values\\\": [<br>    0.9485376798189603<br>  ],<br>  \\\"params\\\": {<br>    \\\"epochs\\\": 6,<br>    \\\"freeze_pretrained_embeddings\\\": false,<br>    \\\"hidden_dim\\\": 768,<br>    \\\"learning_rate\\\": 0.0003724554453799744,<br>    \\\"num_ffnn_layers\\\": 0,<br>    \\\"num_layers\\\": 1,<br>    \\\"use_pretrained_embeddings\\\": true<br>  },<br>  \\\"user_attrs\\\": {<br>    \\\"accuracy\\\": 0.5714859437751004,<br>    \\\"macs\\\": 2831421952.0,<br>    \\\"model_parameters\\\": 9555971,<br>    \\\"model_size_mb\\\": 36.46058177947998,<br>    \\\"time_avg_ms\\\": 0.2950312477166215,<br>    \\\"time_std_ms\\\": 0.0012561470777782047<br>  }<br>}\",\"{<br>  \\\"number\\\": 427,<br>  \\\"values\\\": [<br>    0.9496879195555662<br>  ],<br>  \\\"params\\\": {<br>    \\\"epochs\\\": 6,<br>    \\\"freeze_pretrained_embeddings\\\": false,<br>    \\\"hidden_dim\\\": 768,<br>    \\\"learning_rate\\\": 0.0003911349640055286,<br>    \\\"num_ffnn_layers\\\": 0,<br>    \\\"num_layers\\\": 1,<br>    \\\"use_pretrained_embeddings\\\": true<br>  },<br>  \\\"user_attrs\\\": {<br>    \\\"accuracy\\\": 0.5642570281124498,<br>    \\\"macs\\\": 2831421952.0,<br>    \\\"model_parameters\\\": 9555971,<br>    \\\"model_size_mb\\\": 36.46058177947998,<br>    \\\"time_avg_ms\\\": 0.30453470295153395,<br>    \\\"time_std_ms\\\": 0.0011641856072370214<br>  }<br>}\",\"{<br>  \\\"number\\\": 428,<br>  \\\"values\\\": [<br>    0.9487409927906134<br>  ],<br>  \\\"params\\\": {<br>    \\\"epochs\\\": 7,<br>    \\\"freeze_pretrained_embeddings\\\": false,<br>    \\\"hidden_dim\\\": 768,<br>    \\\"learning_rate\\\": 0.0003975420786997321,<br>    \\\"num_ffnn_layers\\\": 0,<br>    \\\"num_layers\\\": 1,<br>    \\\"use_pretrained_embeddings\\\": true<br>  },<br>  \\\"user_attrs\\\": {<br>    \\\"accuracy\\\": 0.5763052208835341,<br>    \\\"macs\\\": 2831421952.0,<br>    \\\"model_parameters\\\": 9555971,<br>    \\\"model_size_mb\\\": 36.46058177947998,<br>    \\\"time_avg_ms\\\": 0.3021859372365138,<br>    \\\"time_std_ms\\\": 0.0015684754278223196<br>  }<br>}\",\"{<br>  \\\"number\\\": 445,<br>  \\\"values\\\": [<br>    0.9471812630311037<br>  ],<br>  \\\"params\\\": {<br>    \\\"epochs\\\": 7,<br>    \\\"freeze_pretrained_embeddings\\\": false,<br>    \\\"hidden_dim\\\": 768,<br>    \\\"learning_rate\\\": 0.00035987879281315866,<br>    \\\"num_ffnn_layers\\\": 0,<br>    \\\"num_layers\\\": 1,<br>    \\\"use_pretrained_embeddings\\\": true<br>  },<br>  \\\"user_attrs\\\": {<br>    \\\"accuracy\\\": 0.5738955823293173,<br>    \\\"macs\\\": 2831421952.0,<br>    \\\"model_parameters\\\": 9555971,<br>    \\\"model_size_mb\\\": 36.46058177947998,<br>    \\\"time_avg_ms\\\": 0.2975112354838626,<br>    \\\"time_std_ms\\\": 0.0010189520023243187<br>  }<br>}\",\"{<br>  \\\"number\\\": 446,<br>  \\\"values\\\": [<br>    0.9479885605665354<br>  ],<br>  \\\"params\\\": {<br>    \\\"epochs\\\": 27,<br>    \\\"freeze_pretrained_embeddings\\\": false,<br>    \\\"hidden_dim\\\": 640,<br>    \\\"learning_rate\\\": 0.00028126225679294076,<br>    \\\"num_ffnn_layers\\\": 1,<br>    \\\"num_layers\\\": 2,<br>    \\\"use_pretrained_embeddings\\\": true<br>  },<br>  \\\"user_attrs\\\": {<br>    \\\"accuracy\\\": 0.5682730923694779,<br>    \\\"macs\\\": 7906529024.0,<br>    \\\"model_parameters\\\": 19460611,<br>    \\\"model_size_mb\\\": 74.24518203735352,<br>    \\\"time_avg_ms\\\": 0.39888356324344715,<br>    \\\"time_std_ms\\\": 0.004120897393915473<br>  }<br>}\",\"{<br>  \\\"number\\\": 450,<br>  \\\"values\\\": [<br>    0.94932815967462<br>  ],<br>  \\\"params\\\": {<br>    \\\"epochs\\\": 8,<br>    \\\"freeze_pretrained_embeddings\\\": false,<br>    \\\"hidden_dim\\\": 768,<br>    \\\"learning_rate\\\": 0.0003489259761104527,<br>    \\\"num_ffnn_layers\\\": 0,<br>    \\\"num_layers\\\": 1,<br>    \\\"use_pretrained_embeddings\\\": true<br>  },<br>  \\\"user_attrs\\\": {<br>    \\\"accuracy\\\": 0.5666666666666667,<br>    \\\"macs\\\": 2831421952.0,<br>    \\\"model_parameters\\\": 9555971,<br>    \\\"model_size_mb\\\": 36.46058177947998,<br>    \\\"time_avg_ms\\\": 0.29332901022451763,<br>    \\\"time_std_ms\\\": 0.0030999763481538087<br>  }<br>}\",\"{<br>  \\\"number\\\": 455,<br>  \\\"values\\\": [<br>    0.9484812296353854<br>  ],<br>  \\\"params\\\": {<br>    \\\"epochs\\\": 22,<br>    \\\"freeze_pretrained_embeddings\\\": false,<br>    \\\"hidden_dim\\\": 768,<br>    \\\"learning_rate\\\": 0.00019808555136325662,<br>    \\\"num_ffnn_layers\\\": 1,<br>    \\\"num_layers\\\": 2,<br>    \\\"use_pretrained_embeddings\\\": true<br>  },<br>  \\\"user_attrs\\\": {<br>    \\\"accuracy\\\": 0.5642570281124498,<br>    \\\"macs\\\": 11299721728.0,<br>    \\\"model_parameters\\\": 26084867,<br>    \\\"model_size_mb\\\": 99.51471328735352,<br>    \\\"time_avg_ms\\\": 0.418781432609287,<br>    \\\"time_std_ms\\\": 0.04270592532651337<br>  }<br>}\",\"{<br>  \\\"number\\\": 470,<br>  \\\"values\\\": [<br>    0.9485731858473557<br>  ],<br>  \\\"params\\\": {<br>    \\\"epochs\\\": 2,<br>    \\\"freeze_pretrained_embeddings\\\": false,<br>    \\\"hidden_dim\\\": 640,<br>    \\\"learning_rate\\\": 0.0001977084370889376,<br>    \\\"num_ffnn_layers\\\": 1,<br>    \\\"num_layers\\\": 2,<br>    \\\"use_pretrained_embeddings\\\": true<br>  },<br>  \\\"user_attrs\\\": {<br>    \\\"accuracy\\\": 0.5646586345381526,<br>    \\\"macs\\\": 7906529024.0,<br>    \\\"model_parameters\\\": 19460611,<br>    \\\"model_size_mb\\\": 74.24518203735352,<br>    \\\"time_avg_ms\\\": 0.39107103033789564,<br>    \\\"time_std_ms\\\": 0.00394503531140767<br>  }<br>}\",\"{<br>  \\\"number\\\": 471,<br>  \\\"values\\\": [<br>    0.9436369293775314<br>  ],<br>  \\\"params\\\": {<br>    \\\"epochs\\\": 26,<br>    \\\"freeze_pretrained_embeddings\\\": false,<br>    \\\"hidden_dim\\\": 768,<br>    \\\"learning_rate\\\": 0.00020587859264114045,<br>    \\\"num_ffnn_layers\\\": 1,<br>    \\\"num_layers\\\": 2,<br>    \\\"use_pretrained_embeddings\\\": true<br>  },<br>  \\\"user_attrs\\\": {<br>    \\\"accuracy\\\": 0.570281124497992,<br>    \\\"macs\\\": 11299721728.0,<br>    \\\"model_parameters\\\": 26084867,<br>    \\\"model_size_mb\\\": 99.51471328735352,<br>    \\\"time_avg_ms\\\": 0.39406297894726905,<br>    \\\"time_std_ms\\\": 0.001395058005092594<br>  }<br>}\",\"{<br>  \\\"number\\\": 472,<br>  \\\"values\\\": [<br>    0.9485509731830695<br>  ],<br>  \\\"params\\\": {<br>    \\\"epochs\\\": 26,<br>    \\\"freeze_pretrained_embeddings\\\": false,<br>    \\\"hidden_dim\\\": 768,<br>    \\\"learning_rate\\\": 0.00020038862482983533,<br>    \\\"num_ffnn_layers\\\": 1,<br>    \\\"num_layers\\\": 2,<br>    \\\"use_pretrained_embeddings\\\": true<br>  },<br>  \\\"user_attrs\\\": {<br>    \\\"accuracy\\\": 0.5634538152610442,<br>    \\\"macs\\\": 11299721728.0,<br>    \\\"model_parameters\\\": 26084867,<br>    \\\"model_size_mb\\\": 99.51471328735352,<br>    \\\"time_avg_ms\\\": 0.3800756127263109,<br>    \\\"time_std_ms\\\": 0.0011885919886228437<br>  }<br>}\",\"{<br>  \\\"number\\\": 473,<br>  \\\"values\\\": [<br>    0.9692168908241467<br>  ],<br>  \\\"params\\\": {<br>    \\\"epochs\\\": 12,<br>    \\\"freeze_pretrained_embeddings\\\": true,<br>    \\\"hidden_dim\\\": 640,<br>    \\\"learning_rate\\\": 0.0005739006570598081,<br>    \\\"num_ffnn_layers\\\": 0,<br>    \\\"num_layers\\\": 2,<br>    \\\"use_pretrained_embeddings\\\": false<br>  },<br>  \\\"user_attrs\\\": {<br>    \\\"accuracy\\\": 0.5409638554216868,<br>    \\\"macs\\\": 7067668224.0,<br>    \\\"model_parameters\\\": 17820931,<br>    \\\"model_size_mb\\\": 67.98969554901123,<br>    \\\"time_avg_ms\\\": 0.33650197039701435,<br>    \\\"time_std_ms\\\": 0.003490931337230377<br>  }<br>}\",\"{<br>  \\\"number\\\": 474,<br>  \\\"values\\\": [<br>    0.9474510856163807<br>  ],<br>  \\\"params\\\": {<br>    \\\"epochs\\\": 26,<br>    \\\"freeze_pretrained_embeddings\\\": false,<br>    \\\"hidden_dim\\\": 768,<br>    \\\"learning_rate\\\": 0.0002108305652407768,<br>    \\\"num_ffnn_layers\\\": 1,<br>    \\\"num_layers\\\": 2,<br>    \\\"use_pretrained_embeddings\\\": true<br>  },<br>  \\\"user_attrs\\\": {<br>    \\\"accuracy\\\": 0.5674698795180723,<br>    \\\"macs\\\": 11299721728.0,<br>    \\\"model_parameters\\\": 26084867,<br>    \\\"model_size_mb\\\": 99.51471328735352,<br>    \\\"time_avg_ms\\\": 0.3950969310454934,<br>    \\\"time_std_ms\\\": 0.003293550218140915<br>  }<br>}\",\"{<br>  \\\"number\\\": 476,<br>  \\\"values\\\": [<br>    0.9667009726548806<br>  ],<br>  \\\"params\\\": {<br>    \\\"epochs\\\": 12,<br>    \\\"freeze_pretrained_embeddings\\\": true,<br>    \\\"hidden_dim\\\": 640,<br>    \\\"learning_rate\\\": 0.0005062430521868126,<br>    \\\"num_ffnn_layers\\\": 1,<br>    \\\"num_layers\\\": 2,<br>    \\\"use_pretrained_embeddings\\\": false<br>  },<br>  \\\"user_attrs\\\": {<br>    \\\"accuracy\\\": 0.5465863453815261,<br>    \\\"macs\\\": 7906529024.0,<br>    \\\"model_parameters\\\": 19460611,<br>    \\\"model_size_mb\\\": 74.24518203735352,<br>    \\\"time_avg_ms\\\": 0.4014835582653943,<br>    \\\"time_std_ms\\\": 0.0028901433424478626<br>  }<br>}\",\"{<br>  \\\"number\\\": 477,<br>  \\\"values\\\": [<br>    0.9586783540554535<br>  ],<br>  \\\"params\\\": {<br>    \\\"epochs\\\": 10,<br>    \\\"freeze_pretrained_embeddings\\\": true,<br>    \\\"hidden_dim\\\": 512,<br>    \\\"learning_rate\\\": 0.0001288583497822157,<br>    \\\"num_ffnn_layers\\\": 0,<br>    \\\"num_layers\\\": 2,<br>    \\\"use_pretrained_embeddings\\\": true<br>  },<br>  \\\"user_attrs\\\": {<br>    \\\"accuracy\\\": 0.5413654618473895,<br>    \\\"macs\\\": 4580445184.0,<br>    \\\"model_parameters\\\": 12966403,<br>    \\\"model_size_mb\\\": 49.47114086151123,<br>    \\\"time_avg_ms\\\": 0.34319733110880785,<br>    \\\"time_std_ms\\\": 0.002608814751577005<br>  }<br>}\",\"{<br>  \\\"number\\\": 479,<br>  \\\"values\\\": [<br>    0.9587043860019782<br>  ],<br>  \\\"params\\\": {<br>    \\\"epochs\\\": 1,<br>    \\\"freeze_pretrained_embeddings\\\": false,<br>    \\\"hidden_dim\\\": 640,<br>    \\\"learning_rate\\\": 0.0003084757499625815,<br>    \\\"num_ffnn_layers\\\": 0,<br>    \\\"num_layers\\\": 2,<br>    \\\"use_pretrained_embeddings\\\": true<br>  },<br>  \\\"user_attrs\\\": {<br>    \\\"accuracy\\\": 0.5497991967871486,<br>    \\\"macs\\\": 7067668224.0,<br>    \\\"model_parameters\\\": 17820931,<br>    \\\"model_size_mb\\\": 67.98969554901123,<br>    \\\"time_avg_ms\\\": 0.3458072762721433,<br>    \\\"time_std_ms\\\": 0.001001259074525158<br>  }<br>}\",\"{<br>  \\\"number\\\": 480,<br>  \\\"values\\\": [<br>    0.9502912484682523<br>  ],<br>  \\\"params\\\": {<br>    \\\"epochs\\\": 3,<br>    \\\"freeze_pretrained_embeddings\\\": false,<br>    \\\"hidden_dim\\\": 640,<br>    \\\"learning_rate\\\": 0.00019105657499067041,<br>    \\\"num_ffnn_layers\\\": 1,<br>    \\\"num_layers\\\": 2,<br>    \\\"use_pretrained_embeddings\\\": true<br>  },<br>  \\\"user_attrs\\\": {<br>    \\\"accuracy\\\": 0.5682730923694779,<br>    \\\"macs\\\": 7906529024.0,<br>    \\\"model_parameters\\\": 19460611,<br>    \\\"model_size_mb\\\": 74.24518203735352,<br>    \\\"time_avg_ms\\\": 0.3876388900809818,<br>    \\\"time_std_ms\\\": 0.0010276225252159755<br>  }<br>}\",\"{<br>  \\\"number\\\": 481,<br>  \\\"values\\\": [<br>    0.9684588175553542<br>  ],<br>  \\\"params\\\": {<br>    \\\"epochs\\\": 7,<br>    \\\"freeze_pretrained_embeddings\\\": true,<br>    \\\"hidden_dim\\\": 640,<br>    \\\"learning_rate\\\": 0.0004985043609046343,<br>    \\\"num_ffnn_layers\\\": 0,<br>    \\\"num_layers\\\": 1,<br>    \\\"use_pretrained_embeddings\\\": true<br>  },<br>  \\\"user_attrs\\\": {<br>    \\\"accuracy\\\": 0.5317269076305221,<br>    \\\"macs\\\": 2024017664.0,<br>    \\\"model_parameters\\\": 7980291,<br>    \\\"model_size_mb\\\": 30.44983959197998,<br>    \\\"time_avg_ms\\\": 0.30352658569723007,<br>    \\\"time_std_ms\\\": 0.003209174530417037<br>  }<br>}\",\"{<br>  \\\"number\\\": 483,<br>  \\\"values\\\": [<br>    0.9487035671869913<br>  ],<br>  \\\"params\\\": {<br>    \\\"epochs\\\": 26,<br>    \\\"freeze_pretrained_embeddings\\\": false,<br>    \\\"hidden_dim\\\": 768,<br>    \\\"learning_rate\\\": 0.0002220906716421046,<br>    \\\"num_ffnn_layers\\\": 1,<br>    \\\"num_layers\\\": 2,<br>    \\\"use_pretrained_embeddings\\\": true<br>  },<br>  \\\"user_attrs\\\": {<br>    \\\"accuracy\\\": 0.5650602409638554,<br>    \\\"macs\\\": 11299721728.0,<br>    \\\"model_parameters\\\": 26084867,<br>    \\\"model_size_mb\\\": 99.51471328735352,<br>    \\\"time_avg_ms\\\": 0.3836764337714104,<br>    \\\"time_std_ms\\\": 0.002889149463187349<br>  }<br>}\",\"{<br>  \\\"number\\\": 487,<br>  \\\"values\\\": [<br>    0.9595818397326347<br>  ],<br>  \\\"params\\\": {<br>    \\\"epochs\\\": 2,<br>    \\\"freeze_pretrained_embeddings\\\": false,<br>    \\\"hidden_dim\\\": 640,<br>    \\\"learning_rate\\\": 0.00013840477028032868,<br>    \\\"num_ffnn_layers\\\": 1,<br>    \\\"num_layers\\\": 2,<br>    \\\"use_pretrained_embeddings\\\": true<br>  },<br>  \\\"user_attrs\\\": {<br>    \\\"accuracy\\\": 0.5538152610441767,<br>    \\\"macs\\\": 7906529024.0,<br>    \\\"model_parameters\\\": 19460611,<br>    \\\"model_size_mb\\\": 74.24518203735352,<br>    \\\"time_avg_ms\\\": 0.3937489692243221,<br>    \\\"time_std_ms\\\": 0.0043277945936560334<br>  }<br>}\",\"{<br>  \\\"number\\\": 489,<br>  \\\"values\\\": [<br>    0.9500804375379514<br>  ],<br>  \\\"params\\\": {<br>    \\\"epochs\\\": 2,<br>    \\\"freeze_pretrained_embeddings\\\": false,<br>    \\\"hidden_dim\\\": 640,<br>    \\\"learning_rate\\\": 0.0002783577304171645,<br>    \\\"num_ffnn_layers\\\": 1,<br>    \\\"num_layers\\\": 2,<br>    \\\"use_pretrained_embeddings\\\": true<br>  },<br>  \\\"user_attrs\\\": {<br>    \\\"accuracy\\\": 0.5626506024096386,<br>    \\\"macs\\\": 7906529024.0,<br>    \\\"model_parameters\\\": 19460611,<br>    \\\"model_size_mb\\\": 74.24518203735352,<br>    \\\"time_avg_ms\\\": 0.3828293986289817,<br>    \\\"time_std_ms\\\": 0.002814009978484784<br>  }<br>}\",\"{<br>  \\\"number\\\": 496,<br>  \\\"values\\\": [<br>    0.9749274666492755<br>  ],<br>  \\\"params\\\": {<br>    \\\"epochs\\\": 3,<br>    \\\"freeze_pretrained_embeddings\\\": true,<br>    \\\"hidden_dim\\\": 640,<br>    \\\"learning_rate\\\": 0.0006590712737030384,<br>    \\\"num_ffnn_layers\\\": 0,<br>    \\\"num_layers\\\": 1,<br>    \\\"use_pretrained_embeddings\\\": true<br>  },<br>  \\\"user_attrs\\\": {<br>    \\\"accuracy\\\": 0.5289156626506024,<br>    \\\"macs\\\": 2024017664.0,<br>    \\\"model_parameters\\\": 7980291,<br>    \\\"model_size_mb\\\": 30.44983959197998,<br>    \\\"time_avg_ms\\\": 0.2912108348460779,<br>    \\\"time_std_ms\\\": 0.001393790447146447<br>  }<br>}\",\"{<br>  \\\"number\\\": 497,<br>  \\\"values\\\": [<br>    0.9481209149727454<br>  ],<br>  \\\"params\\\": {<br>    \\\"epochs\\\": 24,<br>    \\\"freeze_pretrained_embeddings\\\": false,<br>    \\\"hidden_dim\\\": 768,<br>    \\\"learning_rate\\\": 0.00024813199112105997,<br>    \\\"num_ffnn_layers\\\": 1,<br>    \\\"num_layers\\\": 2,<br>    \\\"use_pretrained_embeddings\\\": true<br>  },<br>  \\\"user_attrs\\\": {<br>    \\\"accuracy\\\": 0.5602409638554217,<br>    \\\"macs\\\": 11299721728.0,<br>    \\\"model_parameters\\\": 26084867,<br>    \\\"model_size_mb\\\": 99.51471328735352,<br>    \\\"time_avg_ms\\\": 0.38572822681585833,<br>    \\\"time_std_ms\\\": 0.002027358958816136<br>  }<br>}\",\"{<br>  \\\"number\\\": 500,<br>  \\\"values\\\": [<br>    0.9475037868206317<br>  ],<br>  \\\"params\\\": {<br>    \\\"epochs\\\": 24,<br>    \\\"freeze_pretrained_embeddings\\\": false,<br>    \\\"hidden_dim\\\": 768,<br>    \\\"learning_rate\\\": 0.0002468765680077713,<br>    \\\"num_ffnn_layers\\\": 1,<br>    \\\"num_layers\\\": 2,<br>    \\\"use_pretrained_embeddings\\\": true<br>  },<br>  \\\"user_attrs\\\": {<br>    \\\"accuracy\\\": 0.5726907630522088,<br>    \\\"macs\\\": 11299721728.0,<br>    \\\"model_parameters\\\": 26084867,<br>    \\\"model_size_mb\\\": 99.51471328735352,<br>    \\\"time_avg_ms\\\": 0.37987105457521064,<br>    \\\"time_std_ms\\\": 0.0020416441471595875<br>  }<br>}\",\"{<br>  \\\"number\\\": 502,<br>  \\\"values\\\": [<br>    0.9463064960944347<br>  ],<br>  \\\"params\\\": {<br>    \\\"epochs\\\": 9,<br>    \\\"freeze_pretrained_embeddings\\\": false,<br>    \\\"hidden_dim\\\": 640,<br>    \\\"learning_rate\\\": 0.00039804994920822134,<br>    \\\"num_ffnn_layers\\\": 0,<br>    \\\"num_layers\\\": 1,<br>    \\\"use_pretrained_embeddings\\\": true<br>  },<br>  \\\"user_attrs\\\": {<br>    \\\"accuracy\\\": 0.5670682730923695,<br>    \\\"macs\\\": 2024017664.0,<br>    \\\"model_parameters\\\": 7980291,<br>    \\\"model_size_mb\\\": 30.44983959197998,<br>    \\\"time_avg_ms\\\": 0.30733834924724174,<br>    \\\"time_std_ms\\\": 0.002713628798003134<br>  }<br>}\"],\"x\":[1717831936.0,1350829568.0,13715640832.0,1619265024.0,1619265024.0,3701739264.0,2831421952.0,2630093056.0,1350831104.0,1887702016.0,1887702016.0,811862272.0,10091762176.0,136577792.0,10091762176.0,10091762176.0,1113852160.0,2024017664.0,2831421952.0,2831421952.0,11299721728.0,2831421952.0,11299721728.0,11299721728.0,2024017664.0,203686656.0,203686656.0,11299721728.0,11299721728.0,203686656.0,203686656.0,203686656.0,11299721728.0,675546624.0,203686656.0,203686656.0,2630093056.0,3234072832.0,541328896.0,1887702016.0,4580445184.0,541328896.0,7067668224.0,2424572928.0,1113852160.0,407111168.0,2961443840.0,407111168.0,10091762176.0,1619265024.0,203686656.0,203686656.0,2831421952.0,2024017664.0,2831421952.0,203686656.0,2831421952.0,2831421952.0,2831421952.0,2831421952.0,1619265024.0,1619265024.0,2831421952.0,5654187008.0,10091762176.0,3234072832.0,1619265024.0,170132224.0,10091762176.0,1619265024.0,10091762176.0,10091762176.0,7906529024.0,7906529024.0,440664832.0,8745389824.0,675546624.0,1619265024.0,3234072832.0,440664832.0,1485047296.0,5654187008.0,2932082944.0,11299721728.0,2932082944.0,675546624.0,2932082944.0,11299721728.0,5117316096.0,11299721728.0,11299721728.0,203686656.0,2831421952.0,2831421952.0,2831421952.0,2831421952.0,2831421952.0,2831421952.0,2831421952.0,2831421952.0,2831421952.0,7906529024.0,203686656.0,2831421952.0,7906529024.0,203686656.0,2831421952.0,2831421952.0,2831421952.0,2831421952.0,7906529024.0,203686656.0,2831421952.0,7906529024.0,2831421952.0,2831421952.0,2831421952.0,11299721728.0,541328896.0,2831421952.0,11299721728.0,2831421952.0,2831421952.0,7906529024.0,10091762176.0,2831421952.0,2831421952.0,2831421952.0,7906529024.0,2831421952.0,2831421952.0,203686656.0,2831421952.0,2831421952.0,2831421952.0,2831421952.0,203686656.0,2831421952.0,203686656.0,2831421952.0,2831421952.0,2831421952.0,2831421952.0,7906529024.0,2831421952.0,11299721728.0,7906529024.0,11299721728.0,11299721728.0,7067668224.0,11299721728.0,7906529024.0,4580445184.0,7067668224.0,7906529024.0,2024017664.0,11299721728.0,7906529024.0,7906529024.0,2024017664.0,11299721728.0,11299721728.0,2024017664.0],\"y\":[1.0686463790062146,0.9620195031166077,1.0539648532867432,1.0395975021215587,1.102582729779757,0.9688196533765548,0.9556944492535714,0.9719949303529202,0.9597057837706345,0.9529903332392374,0.9682694123341486,0.959709263764895,0.9518454365241222,0.9670460438117002,0.9502420578247461,0.9455599372203534,0.9598207275072733,0.9587769416662363,0.9547473329764146,0.9559801618258158,0.9454086789718041,0.9540652342331715,0.9498240504509363,0.9459276550855392,0.9601507721803128,0.9516543165231363,0.9506172308555016,0.945554161683107,0.9454121360412011,0.9534362172469114,0.9503639783614721,0.9540802912834363,0.9483534097671509,0.9508934999123598,0.9507976113221585,0.9488074962909405,1.0219842669291375,0.9908590011107616,1.055333490555103,0.9971332213817499,0.9706434913170643,1.0168929864198735,0.9529685209958981,0.9764050902464451,0.9558826761367993,0.9593951793817374,1.1010560332200465,0.9553201168011396,0.9477890332539877,0.9565021288700593,0.9523017834394406,0.9525717221773587,0.9565970209928659,0.9491461744675269,0.9498164669061319,0.950621138780545,0.9477417698273292,0.9441046072886541,0.9475680467409965,0.9465042658341236,0.9743382212443229,0.9778203597435584,0.9487689015192863,0.9928290920379834,0.9485411491149511,0.9812047863617922,0.9529737967711228,0.9629269333986136,0.9528936499204391,0.9690937644396073,0.9481820662816366,0.9540965358416239,0.9482754805149176,0.947672976897313,0.9674155437029325,1.0381043018438878,0.9506471202923701,0.9669541227511871,0.9815313892486768,0.9566877331489172,0.9560997165166415,1.009037632208604,0.9545388833070413,0.9484027165632981,0.9517336105689024,0.9532626393513802,0.955739866464566,0.9461370462026352,0.9534597687232189,0.9461302100083767,0.9436208193118756,0.9540888529557449,0.9480139934099637,0.9499157850558941,0.9501044719647138,0.9494871267905602,0.9500446120897929,0.9499886494416457,0.9451469549765954,0.952758327508584,0.949889219724215,0.9495139290124942,0.9548657490656927,0.9487958091955918,0.9513722184376839,0.9535193657263731,0.947833796342214,0.9491276053281931,0.9449722507061102,0.947846036690932,0.9515425196060767,0.9540657187119509,0.9492008808331612,0.9531015845445486,0.9498771398495405,0.9493084947268168,0.9461953853949522,0.9472557749503698,0.9591606320478977,0.9462949159817818,0.9481731026600568,0.9456977890088007,0.9497829874356588,0.9475796772883489,0.946032811433841,0.9455859126188816,0.9492456653179266,0.9491349382278247,0.9540028556799277,0.9485167860984802,0.9495784319364108,0.9479010823445443,0.9490889998582693,0.9478632532633268,0.9476388769272046,0.9457916800792401,0.9534885638799423,0.9468660247631562,0.9478657795832708,0.9485376798189603,0.9496879195555662,0.9487409927906134,0.9471812630311037,0.9479885605665354,0.94932815967462,0.9484812296353854,0.9485731858473557,0.9436369293775314,0.9485509731830695,0.9692168908241467,0.9474510856163807,0.9667009726548806,0.9586783540554535,0.9587043860019782,0.9502912484682523,0.9684588175553542,0.9487035671869913,0.9595818397326347,0.9500804375379514,0.9749274666492755,0.9481209149727454,0.9475037868206317,0.9463064960944347],\"type\":\"scatter\"},{\"hovertemplate\":\"%{text}<extra>Best Trial</extra>\",\"marker\":{\"color\":[495],\"colorbar\":{\"title\":{\"text\":\"Best Trial\"},\"x\":1.1,\"xpad\":40},\"colorscale\":[[0.0,\"rgb(255,245,240)\"],[0.125,\"rgb(254,224,210)\"],[0.25,\"rgb(252,187,161)\"],[0.375,\"rgb(252,146,114)\"],[0.5,\"rgb(251,106,74)\"],[0.625,\"rgb(239,59,44)\"],[0.75,\"rgb(203,24,29)\"],[0.875,\"rgb(165,15,21)\"],[1.0,\"rgb(103,0,13)\"]],\"line\":{\"color\":\"Grey\",\"width\":0.5}},\"mode\":\"markers\",\"showlegend\":false,\"text\":[\"{<br>  \\\"number\\\": 495,<br>  \\\"values\\\": [<br>    0.9435003185883547<br>  ],<br>  \\\"params\\\": {<br>    \\\"epochs\\\": 24,<br>    \\\"freeze_pretrained_embeddings\\\": false,<br>    \\\"hidden_dim\\\": 768,<br>    \\\"learning_rate\\\": 0.00022163995953735505,<br>    \\\"num_ffnn_layers\\\": 1,<br>    \\\"num_layers\\\": 2,<br>    \\\"use_pretrained_embeddings\\\": true<br>  },<br>  \\\"user_attrs\\\": {<br>    \\\"accuracy\\\": 0.5791164658634538,<br>    \\\"macs\\\": 11299721728.0,<br>    \\\"model_parameters\\\": 26084867,<br>    \\\"model_size_mb\\\": 99.51471328735352,<br>    \\\"time_avg_ms\\\": 0.3840332024134277,<br>    \\\"time_std_ms\\\": 0.003149893674409026<br>  }<br>}\"],\"x\":[11299721728.0],\"y\":[0.9435003185883547],\"type\":\"scatter\"}],                        {\"title\":{\"text\":\"Pareto-front Plot\"},\"xaxis\":{\"title\":{\"text\":\"macs\"}},\"yaxis\":{\"title\":{\"text\":\"eval_loss\"}},\"template\":{\"data\":{\"histogram2dcontour\":[{\"type\":\"histogram2dcontour\",\"colorbar\":{\"outlinewidth\":0,\"ticks\":\"\"},\"colorscale\":[[0.0,\"#0d0887\"],[0.1111111111111111,\"#46039f\"],[0.2222222222222222,\"#7201a8\"],[0.3333333333333333,\"#9c179e\"],[0.4444444444444444,\"#bd3786\"],[0.5555555555555556,\"#d8576b\"],[0.6666666666666666,\"#ed7953\"],[0.7777777777777778,\"#fb9f3a\"],[0.8888888888888888,\"#fdca26\"],[1.0,\"#f0f921\"]]}],\"choropleth\":[{\"type\":\"choropleth\",\"colorbar\":{\"outlinewidth\":0,\"ticks\":\"\"}}],\"histogram2d\":[{\"type\":\"histogram2d\",\"colorbar\":{\"outlinewidth\":0,\"ticks\":\"\"},\"colorscale\":[[0.0,\"#0d0887\"],[0.1111111111111111,\"#46039f\"],[0.2222222222222222,\"#7201a8\"],[0.3333333333333333,\"#9c179e\"],[0.4444444444444444,\"#bd3786\"],[0.5555555555555556,\"#d8576b\"],[0.6666666666666666,\"#ed7953\"],[0.7777777777777778,\"#fb9f3a\"],[0.8888888888888888,\"#fdca26\"],[1.0,\"#f0f921\"]]}],\"heatmap\":[{\"type\":\"heatmap\",\"colorbar\":{\"outlinewidth\":0,\"ticks\":\"\"},\"colorscale\":[[0.0,\"#0d0887\"],[0.1111111111111111,\"#46039f\"],[0.2222222222222222,\"#7201a8\"],[0.3333333333333333,\"#9c179e\"],[0.4444444444444444,\"#bd3786\"],[0.5555555555555556,\"#d8576b\"],[0.6666666666666666,\"#ed7953\"],[0.7777777777777778,\"#fb9f3a\"],[0.8888888888888888,\"#fdca26\"],[1.0,\"#f0f921\"]]}],\"heatmapgl\":[{\"type\":\"heatmapgl\",\"colorbar\":{\"outlinewidth\":0,\"ticks\":\"\"},\"colorscale\":[[0.0,\"#0d0887\"],[0.1111111111111111,\"#46039f\"],[0.2222222222222222,\"#7201a8\"],[0.3333333333333333,\"#9c179e\"],[0.4444444444444444,\"#bd3786\"],[0.5555555555555556,\"#d8576b\"],[0.6666666666666666,\"#ed7953\"],[0.7777777777777778,\"#fb9f3a\"],[0.8888888888888888,\"#fdca26\"],[1.0,\"#f0f921\"]]}],\"contourcarpet\":[{\"type\":\"contourcarpet\",\"colorbar\":{\"outlinewidth\":0,\"ticks\":\"\"}}],\"contour\":[{\"type\":\"contour\",\"colorbar\":{\"outlinewidth\":0,\"ticks\":\"\"},\"colorscale\":[[0.0,\"#0d0887\"],[0.1111111111111111,\"#46039f\"],[0.2222222222222222,\"#7201a8\"],[0.3333333333333333,\"#9c179e\"],[0.4444444444444444,\"#bd3786\"],[0.5555555555555556,\"#d8576b\"],[0.6666666666666666,\"#ed7953\"],[0.7777777777777778,\"#fb9f3a\"],[0.8888888888888888,\"#fdca26\"],[1.0,\"#f0f921\"]]}],\"surface\":[{\"type\":\"surface\",\"colorbar\":{\"outlinewidth\":0,\"ticks\":\"\"},\"colorscale\":[[0.0,\"#0d0887\"],[0.1111111111111111,\"#46039f\"],[0.2222222222222222,\"#7201a8\"],[0.3333333333333333,\"#9c179e\"],[0.4444444444444444,\"#bd3786\"],[0.5555555555555556,\"#d8576b\"],[0.6666666666666666,\"#ed7953\"],[0.7777777777777778,\"#fb9f3a\"],[0.8888888888888888,\"#fdca26\"],[1.0,\"#f0f921\"]]}],\"mesh3d\":[{\"type\":\"mesh3d\",\"colorbar\":{\"outlinewidth\":0,\"ticks\":\"\"}}],\"scatter\":[{\"fillpattern\":{\"fillmode\":\"overlay\",\"size\":10,\"solidity\":0.2},\"type\":\"scatter\"}],\"parcoords\":[{\"type\":\"parcoords\",\"line\":{\"colorbar\":{\"outlinewidth\":0,\"ticks\":\"\"}}}],\"scatterpolargl\":[{\"type\":\"scatterpolargl\",\"marker\":{\"colorbar\":{\"outlinewidth\":0,\"ticks\":\"\"}}}],\"bar\":[{\"error_x\":{\"color\":\"#2a3f5f\"},\"error_y\":{\"color\":\"#2a3f5f\"},\"marker\":{\"line\":{\"color\":\"#E5ECF6\",\"width\":0.5},\"pattern\":{\"fillmode\":\"overlay\",\"size\":10,\"solidity\":0.2}},\"type\":\"bar\"}],\"scattergeo\":[{\"type\":\"scattergeo\",\"marker\":{\"colorbar\":{\"outlinewidth\":0,\"ticks\":\"\"}}}],\"scatterpolar\":[{\"type\":\"scatterpolar\",\"marker\":{\"colorbar\":{\"outlinewidth\":0,\"ticks\":\"\"}}}],\"histogram\":[{\"marker\":{\"pattern\":{\"fillmode\":\"overlay\",\"size\":10,\"solidity\":0.2}},\"type\":\"histogram\"}],\"scattergl\":[{\"type\":\"scattergl\",\"marker\":{\"colorbar\":{\"outlinewidth\":0,\"ticks\":\"\"}}}],\"scatter3d\":[{\"type\":\"scatter3d\",\"line\":{\"colorbar\":{\"outlinewidth\":0,\"ticks\":\"\"}},\"marker\":{\"colorbar\":{\"outlinewidth\":0,\"ticks\":\"\"}}}],\"scattermapbox\":[{\"type\":\"scattermapbox\",\"marker\":{\"colorbar\":{\"outlinewidth\":0,\"ticks\":\"\"}}}],\"scatterternary\":[{\"type\":\"scatterternary\",\"marker\":{\"colorbar\":{\"outlinewidth\":0,\"ticks\":\"\"}}}],\"scattercarpet\":[{\"type\":\"scattercarpet\",\"marker\":{\"colorbar\":{\"outlinewidth\":0,\"ticks\":\"\"}}}],\"carpet\":[{\"aaxis\":{\"endlinecolor\":\"#2a3f5f\",\"gridcolor\":\"white\",\"linecolor\":\"white\",\"minorgridcolor\":\"white\",\"startlinecolor\":\"#2a3f5f\"},\"baxis\":{\"endlinecolor\":\"#2a3f5f\",\"gridcolor\":\"white\",\"linecolor\":\"white\",\"minorgridcolor\":\"white\",\"startlinecolor\":\"#2a3f5f\"},\"type\":\"carpet\"}],\"table\":[{\"cells\":{\"fill\":{\"color\":\"#EBF0F8\"},\"line\":{\"color\":\"white\"}},\"header\":{\"fill\":{\"color\":\"#C8D4E3\"},\"line\":{\"color\":\"white\"}},\"type\":\"table\"}],\"barpolar\":[{\"marker\":{\"line\":{\"color\":\"#E5ECF6\",\"width\":0.5},\"pattern\":{\"fillmode\":\"overlay\",\"size\":10,\"solidity\":0.2}},\"type\":\"barpolar\"}],\"pie\":[{\"automargin\":true,\"type\":\"pie\"}]},\"layout\":{\"autotypenumbers\":\"strict\",\"colorway\":[\"#636efa\",\"#EF553B\",\"#00cc96\",\"#ab63fa\",\"#FFA15A\",\"#19d3f3\",\"#FF6692\",\"#B6E880\",\"#FF97FF\",\"#FECB52\"],\"font\":{\"color\":\"#2a3f5f\"},\"hovermode\":\"closest\",\"hoverlabel\":{\"align\":\"left\"},\"paper_bgcolor\":\"white\",\"plot_bgcolor\":\"#E5ECF6\",\"polar\":{\"bgcolor\":\"#E5ECF6\",\"angularaxis\":{\"gridcolor\":\"white\",\"linecolor\":\"white\",\"ticks\":\"\"},\"radialaxis\":{\"gridcolor\":\"white\",\"linecolor\":\"white\",\"ticks\":\"\"}},\"ternary\":{\"bgcolor\":\"#E5ECF6\",\"aaxis\":{\"gridcolor\":\"white\",\"linecolor\":\"white\",\"ticks\":\"\"},\"baxis\":{\"gridcolor\":\"white\",\"linecolor\":\"white\",\"ticks\":\"\"},\"caxis\":{\"gridcolor\":\"white\",\"linecolor\":\"white\",\"ticks\":\"\"}},\"coloraxis\":{\"colorbar\":{\"outlinewidth\":0,\"ticks\":\"\"}},\"colorscale\":{\"sequential\":[[0.0,\"#0d0887\"],[0.1111111111111111,\"#46039f\"],[0.2222222222222222,\"#7201a8\"],[0.3333333333333333,\"#9c179e\"],[0.4444444444444444,\"#bd3786\"],[0.5555555555555556,\"#d8576b\"],[0.6666666666666666,\"#ed7953\"],[0.7777777777777778,\"#fb9f3a\"],[0.8888888888888888,\"#fdca26\"],[1.0,\"#f0f921\"]],\"sequentialminus\":[[0.0,\"#0d0887\"],[0.1111111111111111,\"#46039f\"],[0.2222222222222222,\"#7201a8\"],[0.3333333333333333,\"#9c179e\"],[0.4444444444444444,\"#bd3786\"],[0.5555555555555556,\"#d8576b\"],[0.6666666666666666,\"#ed7953\"],[0.7777777777777778,\"#fb9f3a\"],[0.8888888888888888,\"#fdca26\"],[1.0,\"#f0f921\"]],\"diverging\":[[0,\"#8e0152\"],[0.1,\"#c51b7d\"],[0.2,\"#de77ae\"],[0.3,\"#f1b6da\"],[0.4,\"#fde0ef\"],[0.5,\"#f7f7f7\"],[0.6,\"#e6f5d0\"],[0.7,\"#b8e186\"],[0.8,\"#7fbc41\"],[0.9,\"#4d9221\"],[1,\"#276419\"]]},\"xaxis\":{\"gridcolor\":\"white\",\"linecolor\":\"white\",\"ticks\":\"\",\"title\":{\"standoff\":15},\"zerolinecolor\":\"white\",\"automargin\":true,\"zerolinewidth\":2},\"yaxis\":{\"gridcolor\":\"white\",\"linecolor\":\"white\",\"ticks\":\"\",\"title\":{\"standoff\":15},\"zerolinecolor\":\"white\",\"automargin\":true,\"zerolinewidth\":2},\"scene\":{\"xaxis\":{\"backgroundcolor\":\"#E5ECF6\",\"gridcolor\":\"white\",\"linecolor\":\"white\",\"showbackground\":true,\"ticks\":\"\",\"zerolinecolor\":\"white\",\"gridwidth\":2},\"yaxis\":{\"backgroundcolor\":\"#E5ECF6\",\"gridcolor\":\"white\",\"linecolor\":\"white\",\"showbackground\":true,\"ticks\":\"\",\"zerolinecolor\":\"white\",\"gridwidth\":2},\"zaxis\":{\"backgroundcolor\":\"#E5ECF6\",\"gridcolor\":\"white\",\"linecolor\":\"white\",\"showbackground\":true,\"ticks\":\"\",\"zerolinecolor\":\"white\",\"gridwidth\":2}},\"shapedefaults\":{\"line\":{\"color\":\"#2a3f5f\"}},\"annotationdefaults\":{\"arrowcolor\":\"#2a3f5f\",\"arrowhead\":0,\"arrowwidth\":1},\"geo\":{\"bgcolor\":\"white\",\"landcolor\":\"#E5ECF6\",\"subunitcolor\":\"white\",\"showland\":true,\"showlakes\":true,\"lakecolor\":\"white\"},\"title\":{\"x\":0.05},\"mapbox\":{\"style\":\"light\"}}}},                        {\"responsive\": true}                    ).then(function(){\n",
       "                            \n",
       "var gd = document.getElementById('90e99cc4-c2ae-427a-844f-dd3c00deb46e');\n",
       "var x = new MutationObserver(function (mutations, observer) {{\n",
       "        var display = window.getComputedStyle(gd).display;\n",
       "        if (!display || display === 'none') {{\n",
       "            console.log([gd, 'removed!']);\n",
       "            Plotly.purge(gd);\n",
       "            observer.disconnect();\n",
       "        }}\n",
       "}});\n",
       "\n",
       "// Listen for the removal of the full notebook cells\n",
       "var notebookContainer = gd.closest('#notebook-container');\n",
       "if (notebookContainer) {{\n",
       "    x.observe(notebookContainer, {childList: true});\n",
       "}}\n",
       "\n",
       "// Listen for the clearing of the current output cell\n",
       "var outputEl = gd.closest('.output');\n",
       "if (outputEl) {{\n",
       "    x.observe(outputEl, {childList: true});\n",
       "}}\n",
       "\n",
       "                        })                };                });            </script>        </div>"
      ]
     },
     "metadata": {},
     "output_type": "display_data"
    }
   ],
   "source": [
    "optuna.visualization.plot_pareto_front(bilstm_study, targets=lambda x: (x.user_attrs[\"macs\"], x.value), target_names=[\"macs\", \"eval_loss\"])"
   ]
  },
  {
   "cell_type": "code",
   "execution_count": null,
   "metadata": {},
   "outputs": [],
   "source": []
  }
 ],
 "metadata": {
  "kernelspec": {
   "display_name": "Python 3.10.6 ('venv': conda)",
   "language": "python",
   "name": "python3"
  },
  "language_info": {
   "codemirror_mode": {
    "name": "ipython",
    "version": 3
   },
   "file_extension": ".py",
   "mimetype": "text/x-python",
   "name": "python",
   "nbconvert_exporter": "python",
   "pygments_lexer": "ipython3",
   "version": "3.10.4 (main, Mar 31 2022, 08:41:55) [GCC 7.5.0]"
  },
  "orig_nbformat": 4,
  "vscode": {
   "interpreter": {
    "hash": "c3175efc3b274e1d54a7134fdd59b334853db162209510ed398ec4d20c059e4a"
   }
  }
 },
 "nbformat": 4,
 "nbformat_minor": 2
}

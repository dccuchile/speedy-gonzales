{
 "cells": [
  {
   "cell_type": "code",
   "execution_count": 82,
   "metadata": {},
   "outputs": [],
   "source": [
    "import pandas as pd\n",
    "import os\n",
    "import plotly.express as px"
   ]
  },
  {
   "cell_type": "code",
   "execution_count": 83,
   "metadata": {},
   "outputs": [],
   "source": [
    "results_dir = './ts-results/'"
   ]
  },
  {
   "cell_type": "code",
   "execution_count": 84,
   "metadata": {},
   "outputs": [],
   "source": [
    "models_df = []\n",
    "for file_path in os.listdir(results_dir):\n",
    "    model_name = str(file_path).replace('gs_teachers_student_', '').replace('.csv', '').replace('_', '-').replace('albert', 'albeto')\n",
    "    model_df = pd.read_csv(os.path.join(results_dir, file_path))\n",
    "    model_df['student_model_name_or_path'] = model_name\n",
    "    models_df.append(model_df)\n",
    "\n",
    "merged_df = pd.concat(models_df)"
   ]
  },
  {
   "cell_type": "code",
   "execution_count": 85,
   "metadata": {},
   "outputs": [
    {
     "data": {
      "text/html": [
       "<div>\n",
       "<style scoped>\n",
       "    .dataframe tbody tr th:only-of-type {\n",
       "        vertical-align: middle;\n",
       "    }\n",
       "\n",
       "    .dataframe tbody tr th {\n",
       "        vertical-align: top;\n",
       "    }\n",
       "\n",
       "    .dataframe thead th {\n",
       "        text-align: right;\n",
       "    }\n",
       "</style>\n",
       "<table border=\"1\" class=\"dataframe\">\n",
       "  <thead>\n",
       "    <tr style=\"text-align: right;\">\n",
       "      <th></th>\n",
       "      <th>teacher_model_name_or_path</th>\n",
       "      <th>learning_rate</th>\n",
       "      <th>kd_alpha</th>\n",
       "      <th>kd_temperature</th>\n",
       "      <th>kd_loss_type</th>\n",
       "      <th>completed_epochs</th>\n",
       "      <th>validation_loss</th>\n",
       "      <th>validation_accuracy</th>\n",
       "      <th>student_model_name_or_path</th>\n",
       "    </tr>\n",
       "  </thead>\n",
       "  <tbody>\n",
       "    <tr>\n",
       "      <th>0</th>\n",
       "      <td>CenIA/albert-base-spanish-finetuned-pawsx</td>\n",
       "      <td>0.00010</td>\n",
       "      <td>0.0</td>\n",
       "      <td>1.0</td>\n",
       "      <td>mse</td>\n",
       "      <td>47</td>\n",
       "      <td>0.370038</td>\n",
       "      <td>0.8565</td>\n",
       "      <td>albeto-base-4</td>\n",
       "    </tr>\n",
       "    <tr>\n",
       "      <th>1</th>\n",
       "      <td>CenIA/albert-base-spanish-finetuned-pawsx</td>\n",
       "      <td>0.00005</td>\n",
       "      <td>0.0</td>\n",
       "      <td>1.0</td>\n",
       "      <td>mse</td>\n",
       "      <td>46</td>\n",
       "      <td>0.393434</td>\n",
       "      <td>0.8445</td>\n",
       "      <td>albeto-base-4</td>\n",
       "    </tr>\n",
       "    <tr>\n",
       "      <th>2</th>\n",
       "      <td>CenIA/albert-base-spanish-finetuned-pawsx</td>\n",
       "      <td>0.00010</td>\n",
       "      <td>0.0</td>\n",
       "      <td>1.0</td>\n",
       "      <td>ce</td>\n",
       "      <td>32</td>\n",
       "      <td>0.391136</td>\n",
       "      <td>0.8435</td>\n",
       "      <td>albeto-base-4</td>\n",
       "    </tr>\n",
       "    <tr>\n",
       "      <th>3</th>\n",
       "      <td>CenIA/albert-base-spanish-finetuned-pawsx</td>\n",
       "      <td>0.00005</td>\n",
       "      <td>0.0</td>\n",
       "      <td>1.0</td>\n",
       "      <td>ce</td>\n",
       "      <td>23</td>\n",
       "      <td>0.383098</td>\n",
       "      <td>0.8390</td>\n",
       "      <td>albeto-base-4</td>\n",
       "    </tr>\n",
       "    <tr>\n",
       "      <th>4</th>\n",
       "      <td>CenIA/albert-base-spanish-finetuned-pawsx</td>\n",
       "      <td>0.00010</td>\n",
       "      <td>0.0</td>\n",
       "      <td>1.0</td>\n",
       "      <td>kldiv</td>\n",
       "      <td>18</td>\n",
       "      <td>0.404174</td>\n",
       "      <td>0.8265</td>\n",
       "      <td>albeto-base-4</td>\n",
       "    </tr>\n",
       "    <tr>\n",
       "      <th>...</th>\n",
       "      <td>...</td>\n",
       "      <td>...</td>\n",
       "      <td>...</td>\n",
       "      <td>...</td>\n",
       "      <td>...</td>\n",
       "      <td>...</td>\n",
       "      <td>...</td>\n",
       "      <td>...</td>\n",
       "      <td>...</td>\n",
       "    </tr>\n",
       "    <tr>\n",
       "      <th>19</th>\n",
       "      <td>CenIA/albert-xxlarge-spanish-finetuned-pawsx</td>\n",
       "      <td>0.00005</td>\n",
       "      <td>0.0</td>\n",
       "      <td>1.0</td>\n",
       "      <td>mse</td>\n",
       "      <td>27</td>\n",
       "      <td>0.277516</td>\n",
       "      <td>0.8925</td>\n",
       "      <td>albeto-base-8</td>\n",
       "    </tr>\n",
       "    <tr>\n",
       "      <th>20</th>\n",
       "      <td>CenIA/albert-xxlarge-spanish-finetuned-pawsx</td>\n",
       "      <td>0.00010</td>\n",
       "      <td>0.0</td>\n",
       "      <td>1.0</td>\n",
       "      <td>ce</td>\n",
       "      <td>24</td>\n",
       "      <td>0.360358</td>\n",
       "      <td>0.8505</td>\n",
       "      <td>albeto-base-8</td>\n",
       "    </tr>\n",
       "    <tr>\n",
       "      <th>21</th>\n",
       "      <td>CenIA/albert-xxlarge-spanish-finetuned-pawsx</td>\n",
       "      <td>0.00005</td>\n",
       "      <td>0.0</td>\n",
       "      <td>1.0</td>\n",
       "      <td>ce</td>\n",
       "      <td>29</td>\n",
       "      <td>0.271350</td>\n",
       "      <td>0.8975</td>\n",
       "      <td>albeto-base-8</td>\n",
       "    </tr>\n",
       "    <tr>\n",
       "      <th>22</th>\n",
       "      <td>CenIA/albert-xxlarge-spanish-finetuned-pawsx</td>\n",
       "      <td>0.00010</td>\n",
       "      <td>0.0</td>\n",
       "      <td>1.0</td>\n",
       "      <td>kldiv</td>\n",
       "      <td>22</td>\n",
       "      <td>0.278520</td>\n",
       "      <td>0.8830</td>\n",
       "      <td>albeto-base-8</td>\n",
       "    </tr>\n",
       "    <tr>\n",
       "      <th>23</th>\n",
       "      <td>CenIA/albert-xxlarge-spanish-finetuned-pawsx</td>\n",
       "      <td>0.00005</td>\n",
       "      <td>0.0</td>\n",
       "      <td>1.0</td>\n",
       "      <td>kldiv</td>\n",
       "      <td>24</td>\n",
       "      <td>0.275566</td>\n",
       "      <td>0.8905</td>\n",
       "      <td>albeto-base-8</td>\n",
       "    </tr>\n",
       "  </tbody>\n",
       "</table>\n",
       "<p>234 rows × 9 columns</p>\n",
       "</div>"
      ],
      "text/plain": [
       "                      teacher_model_name_or_path  learning_rate  kd_alpha  \\\n",
       "0      CenIA/albert-base-spanish-finetuned-pawsx        0.00010       0.0   \n",
       "1      CenIA/albert-base-spanish-finetuned-pawsx        0.00005       0.0   \n",
       "2      CenIA/albert-base-spanish-finetuned-pawsx        0.00010       0.0   \n",
       "3      CenIA/albert-base-spanish-finetuned-pawsx        0.00005       0.0   \n",
       "4      CenIA/albert-base-spanish-finetuned-pawsx        0.00010       0.0   \n",
       "..                                           ...            ...       ...   \n",
       "19  CenIA/albert-xxlarge-spanish-finetuned-pawsx        0.00005       0.0   \n",
       "20  CenIA/albert-xxlarge-spanish-finetuned-pawsx        0.00010       0.0   \n",
       "21  CenIA/albert-xxlarge-spanish-finetuned-pawsx        0.00005       0.0   \n",
       "22  CenIA/albert-xxlarge-spanish-finetuned-pawsx        0.00010       0.0   \n",
       "23  CenIA/albert-xxlarge-spanish-finetuned-pawsx        0.00005       0.0   \n",
       "\n",
       "    kd_temperature kd_loss_type  completed_epochs  validation_loss  \\\n",
       "0              1.0          mse                47         0.370038   \n",
       "1              1.0          mse                46         0.393434   \n",
       "2              1.0           ce                32         0.391136   \n",
       "3              1.0           ce                23         0.383098   \n",
       "4              1.0        kldiv                18         0.404174   \n",
       "..             ...          ...               ...              ...   \n",
       "19             1.0          mse                27         0.277516   \n",
       "20             1.0           ce                24         0.360358   \n",
       "21             1.0           ce                29         0.271350   \n",
       "22             1.0        kldiv                22         0.278520   \n",
       "23             1.0        kldiv                24         0.275566   \n",
       "\n",
       "    validation_accuracy student_model_name_or_path  \n",
       "0                0.8565              albeto-base-4  \n",
       "1                0.8445              albeto-base-4  \n",
       "2                0.8435              albeto-base-4  \n",
       "3                0.8390              albeto-base-4  \n",
       "4                0.8265              albeto-base-4  \n",
       "..                  ...                        ...  \n",
       "19               0.8925              albeto-base-8  \n",
       "20               0.8505              albeto-base-8  \n",
       "21               0.8975              albeto-base-8  \n",
       "22               0.8830              albeto-base-8  \n",
       "23               0.8905              albeto-base-8  \n",
       "\n",
       "[234 rows x 9 columns]"
      ]
     },
     "execution_count": 85,
     "metadata": {},
     "output_type": "execute_result"
    }
   ],
   "source": [
    "merged_df"
   ]
  },
  {
   "cell_type": "code",
   "execution_count": 86,
   "metadata": {},
   "outputs": [],
   "source": [
    "performance_results_previous = pd.read_csv('./performance-results/clean_benchmark_100.csv')\n",
    "performance_results_new = pd.read_csv('./performance-results/albetos_clean_benchmark_100.csv')\n",
    "merged_performance_df = pd.concat([performance_results_previous, performance_results_new])"
   ]
  },
  {
   "cell_type": "code",
   "execution_count": 87,
   "metadata": {},
   "outputs": [
    {
     "data": {
      "text/html": [
       "<div>\n",
       "<style scoped>\n",
       "    .dataframe tbody tr th:only-of-type {\n",
       "        vertical-align: middle;\n",
       "    }\n",
       "\n",
       "    .dataframe tbody tr th {\n",
       "        vertical-align: top;\n",
       "    }\n",
       "\n",
       "    .dataframe thead th {\n",
       "        text-align: right;\n",
       "    }\n",
       "</style>\n",
       "<table border=\"1\" class=\"dataframe\">\n",
       "  <thead>\n",
       "    <tr style=\"text-align: right;\">\n",
       "      <th></th>\n",
       "      <th>config_id</th>\n",
       "      <th>device</th>\n",
       "      <th>size_mb</th>\n",
       "      <th>parameter_count</th>\n",
       "      <th>batch_size</th>\n",
       "      <th>sequence_length</th>\n",
       "      <th>macs</th>\n",
       "      <th>time_avg_ms</th>\n",
       "      <th>time_std_ms</th>\n",
       "    </tr>\n",
       "  </thead>\n",
       "  <tbody>\n",
       "    <tr>\n",
       "      <th>0</th>\n",
       "      <td>beto-uncased</td>\n",
       "      <td>cpu</td>\n",
       "      <td>419.135053</td>\n",
       "      <td>109853187</td>\n",
       "      <td>1</td>\n",
       "      <td>128</td>\n",
       "      <td>1.088206e+10</td>\n",
       "      <td>47.712724</td>\n",
       "      <td>1.291311</td>\n",
       "    </tr>\n",
       "    <tr>\n",
       "      <th>1</th>\n",
       "      <td>beto-uncased</td>\n",
       "      <td>cpu</td>\n",
       "      <td>419.135053</td>\n",
       "      <td>109853187</td>\n",
       "      <td>1</td>\n",
       "      <td>256</td>\n",
       "      <td>2.176352e+10</td>\n",
       "      <td>105.371606</td>\n",
       "      <td>2.314280</td>\n",
       "    </tr>\n",
       "    <tr>\n",
       "      <th>2</th>\n",
       "      <td>beto-uncased</td>\n",
       "      <td>cpu</td>\n",
       "      <td>419.135053</td>\n",
       "      <td>109853187</td>\n",
       "      <td>1</td>\n",
       "      <td>512</td>\n",
       "      <td>4.352646e+10</td>\n",
       "      <td>252.277194</td>\n",
       "      <td>2.556717</td>\n",
       "    </tr>\n",
       "    <tr>\n",
       "      <th>3</th>\n",
       "      <td>beto-uncased</td>\n",
       "      <td>cpu</td>\n",
       "      <td>419.135053</td>\n",
       "      <td>109853187</td>\n",
       "      <td>2</td>\n",
       "      <td>128</td>\n",
       "      <td>2.176412e+10</td>\n",
       "      <td>97.894741</td>\n",
       "      <td>0.879934</td>\n",
       "    </tr>\n",
       "    <tr>\n",
       "      <th>4</th>\n",
       "      <td>beto-uncased</td>\n",
       "      <td>cpu</td>\n",
       "      <td>419.135053</td>\n",
       "      <td>109853187</td>\n",
       "      <td>2</td>\n",
       "      <td>256</td>\n",
       "      <td>4.352705e+10</td>\n",
       "      <td>205.131415</td>\n",
       "      <td>3.000170</td>\n",
       "    </tr>\n",
       "    <tr>\n",
       "      <th>...</th>\n",
       "      <td>...</td>\n",
       "      <td>...</td>\n",
       "      <td>...</td>\n",
       "      <td>...</td>\n",
       "      <td>...</td>\n",
       "      <td>...</td>\n",
       "      <td>...</td>\n",
       "      <td>...</td>\n",
       "      <td>...</td>\n",
       "    </tr>\n",
       "    <tr>\n",
       "      <th>43</th>\n",
       "      <td>albeto-base-10</td>\n",
       "      <td>cpu</td>\n",
       "      <td>45.079183</td>\n",
       "      <td>11813891</td>\n",
       "      <td>1</td>\n",
       "      <td>256</td>\n",
       "      <td>1.816101e+10</td>\n",
       "      <td>421.266052</td>\n",
       "      <td>3.240950</td>\n",
       "    </tr>\n",
       "    <tr>\n",
       "      <th>44</th>\n",
       "      <td>albeto-base-10</td>\n",
       "      <td>cpu</td>\n",
       "      <td>45.079183</td>\n",
       "      <td>11813891</td>\n",
       "      <td>1</td>\n",
       "      <td>512</td>\n",
       "      <td>3.632143e+10</td>\n",
       "      <td>884.867789</td>\n",
       "      <td>7.987553</td>\n",
       "    </tr>\n",
       "    <tr>\n",
       "      <th>45</th>\n",
       "      <td>albeto-base-10</td>\n",
       "      <td>NVIDIA GeForce RTX 3090</td>\n",
       "      <td>45.079610</td>\n",
       "      <td>11813891</td>\n",
       "      <td>1</td>\n",
       "      <td>128</td>\n",
       "      <td>9.080802e+09</td>\n",
       "      <td>6.478412</td>\n",
       "      <td>0.059682</td>\n",
       "    </tr>\n",
       "    <tr>\n",
       "      <th>46</th>\n",
       "      <td>albeto-base-10</td>\n",
       "      <td>NVIDIA GeForce RTX 3090</td>\n",
       "      <td>45.079610</td>\n",
       "      <td>11813891</td>\n",
       "      <td>1</td>\n",
       "      <td>256</td>\n",
       "      <td>1.816101e+10</td>\n",
       "      <td>6.295311</td>\n",
       "      <td>0.091840</td>\n",
       "    </tr>\n",
       "    <tr>\n",
       "      <th>47</th>\n",
       "      <td>albeto-base-10</td>\n",
       "      <td>NVIDIA GeForce RTX 3090</td>\n",
       "      <td>45.079610</td>\n",
       "      <td>11813891</td>\n",
       "      <td>1</td>\n",
       "      <td>512</td>\n",
       "      <td>3.632143e+10</td>\n",
       "      <td>7.885349</td>\n",
       "      <td>0.019641</td>\n",
       "    </tr>\n",
       "  </tbody>\n",
       "</table>\n",
       "<p>741 rows × 9 columns</p>\n",
       "</div>"
      ],
      "text/plain": [
       "         config_id                   device     size_mb  parameter_count  \\\n",
       "0     beto-uncased                      cpu  419.135053        109853187   \n",
       "1     beto-uncased                      cpu  419.135053        109853187   \n",
       "2     beto-uncased                      cpu  419.135053        109853187   \n",
       "3     beto-uncased                      cpu  419.135053        109853187   \n",
       "4     beto-uncased                      cpu  419.135053        109853187   \n",
       "..             ...                      ...         ...              ...   \n",
       "43  albeto-base-10                      cpu   45.079183         11813891   \n",
       "44  albeto-base-10                      cpu   45.079183         11813891   \n",
       "45  albeto-base-10  NVIDIA GeForce RTX 3090   45.079610         11813891   \n",
       "46  albeto-base-10  NVIDIA GeForce RTX 3090   45.079610         11813891   \n",
       "47  albeto-base-10  NVIDIA GeForce RTX 3090   45.079610         11813891   \n",
       "\n",
       "    batch_size  sequence_length          macs  time_avg_ms  time_std_ms  \n",
       "0            1              128  1.088206e+10    47.712724     1.291311  \n",
       "1            1              256  2.176352e+10   105.371606     2.314280  \n",
       "2            1              512  4.352646e+10   252.277194     2.556717  \n",
       "3            2              128  2.176412e+10    97.894741     0.879934  \n",
       "4            2              256  4.352705e+10   205.131415     3.000170  \n",
       "..         ...              ...           ...          ...          ...  \n",
       "43           1              256  1.816101e+10   421.266052     3.240950  \n",
       "44           1              512  3.632143e+10   884.867789     7.987553  \n",
       "45           1              128  9.080802e+09     6.478412     0.059682  \n",
       "46           1              256  1.816101e+10     6.295311     0.091840  \n",
       "47           1              512  3.632143e+10     7.885349     0.019641  \n",
       "\n",
       "[741 rows x 9 columns]"
      ]
     },
     "execution_count": 87,
     "metadata": {},
     "output_type": "execute_result"
    }
   ],
   "source": [
    "merged_performance_df"
   ]
  },
  {
   "cell_type": "code",
   "execution_count": 88,
   "metadata": {},
   "outputs": [],
   "source": [
    "inference_performance_df = merged_performance_df.query(\"batch_size == 1 and sequence_length == 512 and device == 'cpu'\")"
   ]
  },
  {
   "cell_type": "code",
   "execution_count": 89,
   "metadata": {},
   "outputs": [
    {
     "data": {
      "text/html": [
       "<div>\n",
       "<style scoped>\n",
       "    .dataframe tbody tr th:only-of-type {\n",
       "        vertical-align: middle;\n",
       "    }\n",
       "\n",
       "    .dataframe tbody tr th {\n",
       "        vertical-align: top;\n",
       "    }\n",
       "\n",
       "    .dataframe thead th {\n",
       "        text-align: right;\n",
       "    }\n",
       "</style>\n",
       "<table border=\"1\" class=\"dataframe\">\n",
       "  <thead>\n",
       "    <tr style=\"text-align: right;\">\n",
       "      <th></th>\n",
       "      <th>config_id</th>\n",
       "      <th>device</th>\n",
       "      <th>size_mb</th>\n",
       "      <th>parameter_count</th>\n",
       "      <th>batch_size</th>\n",
       "      <th>sequence_length</th>\n",
       "      <th>macs</th>\n",
       "      <th>time_avg_ms</th>\n",
       "      <th>time_std_ms</th>\n",
       "    </tr>\n",
       "  </thead>\n",
       "  <tbody>\n",
       "    <tr>\n",
       "      <th>2</th>\n",
       "      <td>beto-uncased</td>\n",
       "      <td>cpu</td>\n",
       "      <td>419.135053</td>\n",
       "      <td>109853187</td>\n",
       "      <td>1</td>\n",
       "      <td>512</td>\n",
       "      <td>4.352646e+10</td>\n",
       "      <td>252.277194</td>\n",
       "      <td>2.556717</td>\n",
       "    </tr>\n",
       "    <tr>\n",
       "      <th>23</th>\n",
       "      <td>beto-cased</td>\n",
       "      <td>cpu</td>\n",
       "      <td>419.138589</td>\n",
       "      <td>109853187</td>\n",
       "      <td>1</td>\n",
       "      <td>512</td>\n",
       "      <td>4.352646e+10</td>\n",
       "      <td>234.212814</td>\n",
       "      <td>2.625953</td>\n",
       "    </tr>\n",
       "    <tr>\n",
       "      <th>44</th>\n",
       "      <td>distilbeto</td>\n",
       "      <td>cpu</td>\n",
       "      <td>256.861432</td>\n",
       "      <td>67324419</td>\n",
       "      <td>1</td>\n",
       "      <td>512</td>\n",
       "      <td>2.176431e+10</td>\n",
       "      <td>109.530484</td>\n",
       "      <td>0.068368</td>\n",
       "    </tr>\n",
       "    <tr>\n",
       "      <th>65</th>\n",
       "      <td>albeto-tiny</td>\n",
       "      <td>cpu</td>\n",
       "      <td>20.404307</td>\n",
       "      <td>5345075</td>\n",
       "      <td>1</td>\n",
       "      <td>512</td>\n",
       "      <td>2.418246e+09</td>\n",
       "      <td>30.735343</td>\n",
       "      <td>0.022186</td>\n",
       "    </tr>\n",
       "    <tr>\n",
       "      <th>86</th>\n",
       "      <td>albeto-base</td>\n",
       "      <td>cpu</td>\n",
       "      <td>45.081065</td>\n",
       "      <td>11813891</td>\n",
       "      <td>1</td>\n",
       "      <td>512</td>\n",
       "      <td>4.357548e+10</td>\n",
       "      <td>221.911622</td>\n",
       "      <td>0.067955</td>\n",
       "    </tr>\n",
       "    <tr>\n",
       "      <th>107</th>\n",
       "      <td>albeto-large</td>\n",
       "      <td>cpu</td>\n",
       "      <td>67.973643</td>\n",
       "      <td>17815043</td>\n",
       "      <td>1</td>\n",
       "      <td>512</td>\n",
       "      <td>1.547879e+11</td>\n",
       "      <td>770.358034</td>\n",
       "      <td>0.151052</td>\n",
       "    </tr>\n",
       "    <tr>\n",
       "      <th>128</th>\n",
       "      <td>albeto-xlarge</td>\n",
       "      <td>cpu</td>\n",
       "      <td>224.543956</td>\n",
       "      <td>58859011</td>\n",
       "      <td>1</td>\n",
       "      <td>512</td>\n",
       "      <td>6.188153e+11</td>\n",
       "      <td>2835.483220</td>\n",
       "      <td>1.046723</td>\n",
       "    </tr>\n",
       "    <tr>\n",
       "      <th>149</th>\n",
       "      <td>albeto-xxlarge</td>\n",
       "      <td>cpu</td>\n",
       "      <td>849.684581</td>\n",
       "      <td>222735875</td>\n",
       "      <td>1</td>\n",
       "      <td>512</td>\n",
       "      <td>1.237437e+12</td>\n",
       "      <td>6743.775185</td>\n",
       "      <td>479.338146</td>\n",
       "    </tr>\n",
       "    <tr>\n",
       "      <th>170</th>\n",
       "      <td>bertin-roberta-base</td>\n",
       "      <td>cpu</td>\n",
       "      <td>475.568582</td>\n",
       "      <td>124645635</td>\n",
       "      <td>1</td>\n",
       "      <td>512</td>\n",
       "      <td>4.352646e+10</td>\n",
       "      <td>250.360140</td>\n",
       "      <td>1.950505</td>\n",
       "    </tr>\n",
       "    <tr>\n",
       "      <th>191</th>\n",
       "      <td>bne-roberta-base</td>\n",
       "      <td>cpu</td>\n",
       "      <td>475.568582</td>\n",
       "      <td>124645635</td>\n",
       "      <td>1</td>\n",
       "      <td>512</td>\n",
       "      <td>4.352646e+10</td>\n",
       "      <td>261.741655</td>\n",
       "      <td>0.245191</td>\n",
       "    </tr>\n",
       "    <tr>\n",
       "      <th>212</th>\n",
       "      <td>bne-roberta-large</td>\n",
       "      <td>cpu</td>\n",
       "      <td>1355.749734</td>\n",
       "      <td>355359747</td>\n",
       "      <td>1</td>\n",
       "      <td>512</td>\n",
       "      <td>1.547226e+11</td>\n",
       "      <td>842.707925</td>\n",
       "      <td>0.230458</td>\n",
       "    </tr>\n",
       "    <tr>\n",
       "      <th>2</th>\n",
       "      <td>albeto-tiny-6</td>\n",
       "      <td>cpu</td>\n",
       "      <td>20.402974</td>\n",
       "      <td>5345075</td>\n",
       "      <td>1</td>\n",
       "      <td>512</td>\n",
       "      <td>3.616965e+09</td>\n",
       "      <td>152.739005</td>\n",
       "      <td>4.327522</td>\n",
       "    </tr>\n",
       "    <tr>\n",
       "      <th>8</th>\n",
       "      <td>albeto-tiny-8</td>\n",
       "      <td>cpu</td>\n",
       "      <td>20.402974</td>\n",
       "      <td>5345075</td>\n",
       "      <td>1</td>\n",
       "      <td>512</td>\n",
       "      <td>4.815684e+09</td>\n",
       "      <td>247.827020</td>\n",
       "      <td>4.858063</td>\n",
       "    </tr>\n",
       "    <tr>\n",
       "      <th>14</th>\n",
       "      <td>albeto-tiny-12</td>\n",
       "      <td>cpu</td>\n",
       "      <td>20.402974</td>\n",
       "      <td>5345075</td>\n",
       "      <td>1</td>\n",
       "      <td>512</td>\n",
       "      <td>7.213122e+09</td>\n",
       "      <td>273.375720</td>\n",
       "      <td>3.700167</td>\n",
       "    </tr>\n",
       "    <tr>\n",
       "      <th>20</th>\n",
       "      <td>albeto-base-2</td>\n",
       "      <td>cpu</td>\n",
       "      <td>45.079183</td>\n",
       "      <td>11813891</td>\n",
       "      <td>1</td>\n",
       "      <td>512</td>\n",
       "      <td>7.305235e+09</td>\n",
       "      <td>185.937312</td>\n",
       "      <td>3.319381</td>\n",
       "    </tr>\n",
       "    <tr>\n",
       "      <th>26</th>\n",
       "      <td>albeto-base-4</td>\n",
       "      <td>cpu</td>\n",
       "      <td>45.079183</td>\n",
       "      <td>11813891</td>\n",
       "      <td>1</td>\n",
       "      <td>512</td>\n",
       "      <td>1.455928e+10</td>\n",
       "      <td>359.037122</td>\n",
       "      <td>5.607591</td>\n",
       "    </tr>\n",
       "    <tr>\n",
       "      <th>32</th>\n",
       "      <td>albeto-base-6</td>\n",
       "      <td>cpu</td>\n",
       "      <td>45.079183</td>\n",
       "      <td>11813891</td>\n",
       "      <td>1</td>\n",
       "      <td>512</td>\n",
       "      <td>2.181333e+10</td>\n",
       "      <td>536.476909</td>\n",
       "      <td>7.591760</td>\n",
       "    </tr>\n",
       "    <tr>\n",
       "      <th>38</th>\n",
       "      <td>albeto-base-8</td>\n",
       "      <td>cpu</td>\n",
       "      <td>45.079183</td>\n",
       "      <td>11813891</td>\n",
       "      <td>1</td>\n",
       "      <td>512</td>\n",
       "      <td>2.906738e+10</td>\n",
       "      <td>711.765307</td>\n",
       "      <td>9.929388</td>\n",
       "    </tr>\n",
       "    <tr>\n",
       "      <th>44</th>\n",
       "      <td>albeto-base-10</td>\n",
       "      <td>cpu</td>\n",
       "      <td>45.079183</td>\n",
       "      <td>11813891</td>\n",
       "      <td>1</td>\n",
       "      <td>512</td>\n",
       "      <td>3.632143e+10</td>\n",
       "      <td>884.867789</td>\n",
       "      <td>7.987553</td>\n",
       "    </tr>\n",
       "  </tbody>\n",
       "</table>\n",
       "</div>"
      ],
      "text/plain": [
       "               config_id device      size_mb  parameter_count  batch_size  \\\n",
       "2           beto-uncased    cpu   419.135053        109853187           1   \n",
       "23            beto-cased    cpu   419.138589        109853187           1   \n",
       "44            distilbeto    cpu   256.861432         67324419           1   \n",
       "65           albeto-tiny    cpu    20.404307          5345075           1   \n",
       "86           albeto-base    cpu    45.081065         11813891           1   \n",
       "107         albeto-large    cpu    67.973643         17815043           1   \n",
       "128        albeto-xlarge    cpu   224.543956         58859011           1   \n",
       "149       albeto-xxlarge    cpu   849.684581        222735875           1   \n",
       "170  bertin-roberta-base    cpu   475.568582        124645635           1   \n",
       "191     bne-roberta-base    cpu   475.568582        124645635           1   \n",
       "212    bne-roberta-large    cpu  1355.749734        355359747           1   \n",
       "2          albeto-tiny-6    cpu    20.402974          5345075           1   \n",
       "8          albeto-tiny-8    cpu    20.402974          5345075           1   \n",
       "14        albeto-tiny-12    cpu    20.402974          5345075           1   \n",
       "20         albeto-base-2    cpu    45.079183         11813891           1   \n",
       "26         albeto-base-4    cpu    45.079183         11813891           1   \n",
       "32         albeto-base-6    cpu    45.079183         11813891           1   \n",
       "38         albeto-base-8    cpu    45.079183         11813891           1   \n",
       "44        albeto-base-10    cpu    45.079183         11813891           1   \n",
       "\n",
       "     sequence_length          macs  time_avg_ms  time_std_ms  \n",
       "2                512  4.352646e+10   252.277194     2.556717  \n",
       "23               512  4.352646e+10   234.212814     2.625953  \n",
       "44               512  2.176431e+10   109.530484     0.068368  \n",
       "65               512  2.418246e+09    30.735343     0.022186  \n",
       "86               512  4.357548e+10   221.911622     0.067955  \n",
       "107              512  1.547879e+11   770.358034     0.151052  \n",
       "128              512  6.188153e+11  2835.483220     1.046723  \n",
       "149              512  1.237437e+12  6743.775185   479.338146  \n",
       "170              512  4.352646e+10   250.360140     1.950505  \n",
       "191              512  4.352646e+10   261.741655     0.245191  \n",
       "212              512  1.547226e+11   842.707925     0.230458  \n",
       "2                512  3.616965e+09   152.739005     4.327522  \n",
       "8                512  4.815684e+09   247.827020     4.858063  \n",
       "14               512  7.213122e+09   273.375720     3.700167  \n",
       "20               512  7.305235e+09   185.937312     3.319381  \n",
       "26               512  1.455928e+10   359.037122     5.607591  \n",
       "32               512  2.181333e+10   536.476909     7.591760  \n",
       "38               512  2.906738e+10   711.765307     9.929388  \n",
       "44               512  3.632143e+10   884.867789     7.987553  "
      ]
     },
     "execution_count": 89,
     "metadata": {},
     "output_type": "execute_result"
    }
   ],
   "source": [
    "inference_performance_df"
   ]
  },
  {
   "cell_type": "code",
   "execution_count": 90,
   "metadata": {},
   "outputs": [],
   "source": [
    "df = pd.merge(merged_df, inference_performance_df, left_on=\"student_model_name_or_path\", right_on=\"config_id\")"
   ]
  },
  {
   "cell_type": "code",
   "execution_count": 91,
   "metadata": {},
   "outputs": [
    {
     "name": "stdout",
     "output_type": "stream",
     "text": [
      "<class 'pandas.core.frame.DataFrame'>\n",
      "Int64Index: 234 entries, 0 to 233\n",
      "Data columns (total 18 columns):\n",
      " #   Column                      Non-Null Count  Dtype  \n",
      "---  ------                      --------------  -----  \n",
      " 0   teacher_model_name_or_path  234 non-null    object \n",
      " 1   learning_rate               234 non-null    float64\n",
      " 2   kd_alpha                    234 non-null    float64\n",
      " 3   kd_temperature              234 non-null    float64\n",
      " 4   kd_loss_type                234 non-null    object \n",
      " 5   completed_epochs            234 non-null    int64  \n",
      " 6   validation_loss             234 non-null    float64\n",
      " 7   validation_accuracy         234 non-null    float64\n",
      " 8   student_model_name_or_path  234 non-null    object \n",
      " 9   config_id                   234 non-null    object \n",
      " 10  device                      234 non-null    object \n",
      " 11  size_mb                     234 non-null    float64\n",
      " 12  parameter_count             234 non-null    int64  \n",
      " 13  batch_size                  234 non-null    int64  \n",
      " 14  sequence_length             234 non-null    int64  \n",
      " 15  macs                        234 non-null    float64\n",
      " 16  time_avg_ms                 234 non-null    float64\n",
      " 17  time_std_ms                 234 non-null    float64\n",
      "dtypes: float64(9), int64(4), object(5)\n",
      "memory usage: 34.7+ KB\n"
     ]
    }
   ],
   "source": [
    "df.info()"
   ]
  },
  {
   "cell_type": "code",
   "execution_count": 97,
   "metadata": {},
   "outputs": [
    {
     "data": {
      "application/vnd.plotly.v1+json": {
       "config": {
        "plotlyServerURL": "https://plot.ly"
       },
       "data": [
        {
         "alignmentgroup": "True",
         "hovertemplate": "teacher_model_name_or_path=%{x}<br>validation_accuracy=%{y}<extra></extra>",
         "legendgroup": "CenIA/albert-base-spanish-finetuned-pawsx",
         "marker": {
          "color": "#636efa"
         },
         "name": "CenIA/albert-base-spanish-finetuned-pawsx",
         "notched": false,
         "offsetgroup": "CenIA/albert-base-spanish-finetuned-pawsx",
         "orientation": "v",
         "showlegend": true,
         "type": "box",
         "x": [
          "CenIA/albert-base-spanish-finetuned-pawsx",
          "CenIA/albert-base-spanish-finetuned-pawsx",
          "CenIA/albert-base-spanish-finetuned-pawsx",
          "CenIA/albert-base-spanish-finetuned-pawsx",
          "CenIA/albert-base-spanish-finetuned-pawsx",
          "CenIA/albert-base-spanish-finetuned-pawsx",
          "CenIA/albert-base-spanish-finetuned-pawsx",
          "CenIA/albert-base-spanish-finetuned-pawsx",
          "CenIA/albert-base-spanish-finetuned-pawsx",
          "CenIA/albert-base-spanish-finetuned-pawsx",
          "CenIA/albert-base-spanish-finetuned-pawsx",
          "CenIA/albert-base-spanish-finetuned-pawsx",
          "CenIA/albert-base-spanish-finetuned-pawsx",
          "CenIA/albert-base-spanish-finetuned-pawsx",
          "CenIA/albert-base-spanish-finetuned-pawsx",
          "CenIA/albert-base-spanish-finetuned-pawsx",
          "CenIA/albert-base-spanish-finetuned-pawsx",
          "CenIA/albert-base-spanish-finetuned-pawsx",
          "CenIA/albert-base-spanish-finetuned-pawsx",
          "CenIA/albert-base-spanish-finetuned-pawsx",
          "CenIA/albert-base-spanish-finetuned-pawsx",
          "CenIA/albert-base-spanish-finetuned-pawsx",
          "CenIA/albert-base-spanish-finetuned-pawsx",
          "CenIA/albert-base-spanish-finetuned-pawsx",
          "CenIA/albert-base-spanish-finetuned-pawsx",
          "CenIA/albert-base-spanish-finetuned-pawsx",
          "CenIA/albert-base-spanish-finetuned-pawsx",
          "CenIA/albert-base-spanish-finetuned-pawsx",
          "CenIA/albert-base-spanish-finetuned-pawsx",
          "CenIA/albert-base-spanish-finetuned-pawsx",
          "CenIA/albert-base-spanish-finetuned-pawsx",
          "CenIA/albert-base-spanish-finetuned-pawsx",
          "CenIA/albert-base-spanish-finetuned-pawsx",
          "CenIA/albert-base-spanish-finetuned-pawsx",
          "CenIA/albert-base-spanish-finetuned-pawsx",
          "CenIA/albert-base-spanish-finetuned-pawsx",
          "CenIA/albert-base-spanish-finetuned-pawsx",
          "CenIA/albert-base-spanish-finetuned-pawsx",
          "CenIA/albert-base-spanish-finetuned-pawsx",
          "CenIA/albert-base-spanish-finetuned-pawsx",
          "CenIA/albert-base-spanish-finetuned-pawsx",
          "CenIA/albert-base-spanish-finetuned-pawsx",
          "CenIA/albert-base-spanish-finetuned-pawsx",
          "CenIA/albert-base-spanish-finetuned-pawsx",
          "CenIA/albert-base-spanish-finetuned-pawsx",
          "CenIA/albert-base-spanish-finetuned-pawsx"
         ],
         "x0": " ",
         "xaxis": "x",
         "y": [
          0.8565,
          0.8445,
          0.8435,
          0.839,
          0.8265,
          0.8535,
          0.7965,
          0.7545,
          0.744,
          0.7555,
          0.7475,
          0.761,
          0.8645,
          0.8845,
          0.8875,
          0.879,
          0.867,
          0.876,
          0.82,
          0.8135,
          0.8135,
          0.8345,
          0.8435,
          0.8405,
          0.843,
          0.909,
          0.892,
          0.9025,
          0.906,
          0.8975,
          0.901,
          0.901,
          0.911,
          0.899,
          0.8325,
          0.8185,
          0.831,
          0.8155,
          0.8215,
          0.825,
          0.826,
          0.887,
          0.902,
          0.901,
          0.8905,
          0.888
         ],
         "y0": " ",
         "yaxis": "y"
        },
        {
         "alignmentgroup": "True",
         "hovertemplate": "teacher_model_name_or_path=%{x}<br>validation_accuracy=%{y}<extra></extra>",
         "legendgroup": "CenIA/bert-base-spanish-wwm-cased-finetuned-pawsx",
         "marker": {
          "color": "#EF553B"
         },
         "name": "CenIA/bert-base-spanish-wwm-cased-finetuned-pawsx",
         "notched": false,
         "offsetgroup": "CenIA/bert-base-spanish-wwm-cased-finetuned-pawsx",
         "orientation": "v",
         "showlegend": true,
         "type": "box",
         "x": [
          "CenIA/bert-base-spanish-wwm-cased-finetuned-pawsx",
          "CenIA/bert-base-spanish-wwm-cased-finetuned-pawsx",
          "CenIA/bert-base-spanish-wwm-cased-finetuned-pawsx",
          "CenIA/bert-base-spanish-wwm-cased-finetuned-pawsx",
          "CenIA/bert-base-spanish-wwm-cased-finetuned-pawsx",
          "CenIA/bert-base-spanish-wwm-cased-finetuned-pawsx",
          "CenIA/bert-base-spanish-wwm-cased-finetuned-pawsx",
          "CenIA/bert-base-spanish-wwm-cased-finetuned-pawsx",
          "CenIA/bert-base-spanish-wwm-cased-finetuned-pawsx",
          "CenIA/bert-base-spanish-wwm-cased-finetuned-pawsx",
          "CenIA/bert-base-spanish-wwm-cased-finetuned-pawsx",
          "CenIA/bert-base-spanish-wwm-cased-finetuned-pawsx",
          "CenIA/bert-base-spanish-wwm-cased-finetuned-pawsx",
          "CenIA/bert-base-spanish-wwm-cased-finetuned-pawsx",
          "CenIA/bert-base-spanish-wwm-cased-finetuned-pawsx",
          "CenIA/bert-base-spanish-wwm-cased-finetuned-pawsx",
          "CenIA/bert-base-spanish-wwm-cased-finetuned-pawsx",
          "CenIA/bert-base-spanish-wwm-cased-finetuned-pawsx",
          "CenIA/bert-base-spanish-wwm-cased-finetuned-pawsx",
          "CenIA/bert-base-spanish-wwm-cased-finetuned-pawsx",
          "CenIA/bert-base-spanish-wwm-cased-finetuned-pawsx",
          "CenIA/bert-base-spanish-wwm-cased-finetuned-pawsx",
          "CenIA/bert-base-spanish-wwm-cased-finetuned-pawsx",
          "CenIA/bert-base-spanish-wwm-cased-finetuned-pawsx",
          "CenIA/bert-base-spanish-wwm-cased-finetuned-pawsx",
          "CenIA/bert-base-spanish-wwm-cased-finetuned-pawsx",
          "CenIA/bert-base-spanish-wwm-cased-finetuned-pawsx",
          "CenIA/bert-base-spanish-wwm-cased-finetuned-pawsx",
          "CenIA/bert-base-spanish-wwm-cased-finetuned-pawsx",
          "CenIA/bert-base-spanish-wwm-cased-finetuned-pawsx",
          "CenIA/bert-base-spanish-wwm-cased-finetuned-pawsx",
          "CenIA/bert-base-spanish-wwm-cased-finetuned-pawsx",
          "CenIA/bert-base-spanish-wwm-cased-finetuned-pawsx",
          "CenIA/bert-base-spanish-wwm-cased-finetuned-pawsx",
          "CenIA/bert-base-spanish-wwm-cased-finetuned-pawsx",
          "CenIA/bert-base-spanish-wwm-cased-finetuned-pawsx",
          "CenIA/bert-base-spanish-wwm-cased-finetuned-pawsx",
          "CenIA/bert-base-spanish-wwm-cased-finetuned-pawsx",
          "CenIA/bert-base-spanish-wwm-cased-finetuned-pawsx",
          "CenIA/bert-base-spanish-wwm-cased-finetuned-pawsx",
          "CenIA/bert-base-spanish-wwm-cased-finetuned-pawsx",
          "CenIA/bert-base-spanish-wwm-cased-finetuned-pawsx",
          "CenIA/bert-base-spanish-wwm-cased-finetuned-pawsx",
          "CenIA/bert-base-spanish-wwm-cased-finetuned-pawsx",
          "CenIA/bert-base-spanish-wwm-cased-finetuned-pawsx",
          "CenIA/bert-base-spanish-wwm-cased-finetuned-pawsx",
          "CenIA/bert-base-spanish-wwm-cased-finetuned-pawsx",
          "CenIA/bert-base-spanish-wwm-cased-finetuned-pawsx"
         ],
         "x0": " ",
         "xaxis": "x",
         "y": [
          0.836,
          0.8405,
          0.8185,
          0.81,
          0.805,
          0.795,
          0.759,
          0.736,
          0.7275,
          0.7415,
          0.7455,
          0.7605,
          0.8725,
          0.88,
          0.85,
          0.8715,
          0.8645,
          0.8695,
          0.807,
          0.784,
          0.789,
          0.83,
          0.785,
          0.799,
          0.788,
          0.7825,
          0.788,
          0.8995,
          0.8985,
          0.899,
          0.899,
          0.902,
          0.8845,
          0.9055,
          0.903,
          0.9055,
          0.8255,
          0.8125,
          0.7925,
          0.807,
          0.788,
          0.7975,
          0.902,
          0.896,
          0.8945,
          0.8915,
          0.8925,
          0.885
         ],
         "y0": " ",
         "yaxis": "y"
        },
        {
         "alignmentgroup": "True",
         "hovertemplate": "teacher_model_name_or_path=%{x}<br>validation_accuracy=%{y}<extra></extra>",
         "legendgroup": "CenIA/roberta-large-bne-finetuned-pawsx",
         "marker": {
          "color": "#00cc96"
         },
         "name": "CenIA/roberta-large-bne-finetuned-pawsx",
         "notched": false,
         "offsetgroup": "CenIA/roberta-large-bne-finetuned-pawsx",
         "orientation": "v",
         "showlegend": true,
         "type": "box",
         "x": [
          "CenIA/roberta-large-bne-finetuned-pawsx",
          "CenIA/roberta-large-bne-finetuned-pawsx",
          "CenIA/roberta-large-bne-finetuned-pawsx",
          "CenIA/roberta-large-bne-finetuned-pawsx",
          "CenIA/roberta-large-bne-finetuned-pawsx",
          "CenIA/roberta-large-bne-finetuned-pawsx",
          "CenIA/roberta-large-bne-finetuned-pawsx",
          "CenIA/roberta-large-bne-finetuned-pawsx",
          "CenIA/roberta-large-bne-finetuned-pawsx",
          "CenIA/roberta-large-bne-finetuned-pawsx",
          "CenIA/roberta-large-bne-finetuned-pawsx",
          "CenIA/roberta-large-bne-finetuned-pawsx",
          "CenIA/roberta-large-bne-finetuned-pawsx",
          "CenIA/roberta-large-bne-finetuned-pawsx",
          "CenIA/roberta-large-bne-finetuned-pawsx",
          "CenIA/roberta-large-bne-finetuned-pawsx",
          "CenIA/roberta-large-bne-finetuned-pawsx",
          "CenIA/roberta-large-bne-finetuned-pawsx",
          "CenIA/roberta-large-bne-finetuned-pawsx",
          "CenIA/roberta-large-bne-finetuned-pawsx",
          "CenIA/roberta-large-bne-finetuned-pawsx",
          "CenIA/roberta-large-bne-finetuned-pawsx",
          "CenIA/roberta-large-bne-finetuned-pawsx",
          "CenIA/roberta-large-bne-finetuned-pawsx",
          "CenIA/roberta-large-bne-finetuned-pawsx",
          "CenIA/roberta-large-bne-finetuned-pawsx",
          "CenIA/roberta-large-bne-finetuned-pawsx",
          "CenIA/roberta-large-bne-finetuned-pawsx",
          "CenIA/roberta-large-bne-finetuned-pawsx",
          "CenIA/roberta-large-bne-finetuned-pawsx",
          "CenIA/roberta-large-bne-finetuned-pawsx",
          "CenIA/roberta-large-bne-finetuned-pawsx",
          "CenIA/roberta-large-bne-finetuned-pawsx",
          "CenIA/roberta-large-bne-finetuned-pawsx",
          "CenIA/roberta-large-bne-finetuned-pawsx",
          "CenIA/roberta-large-bne-finetuned-pawsx",
          "CenIA/roberta-large-bne-finetuned-pawsx",
          "CenIA/roberta-large-bne-finetuned-pawsx",
          "CenIA/roberta-large-bne-finetuned-pawsx",
          "CenIA/roberta-large-bne-finetuned-pawsx",
          "CenIA/roberta-large-bne-finetuned-pawsx",
          "CenIA/roberta-large-bne-finetuned-pawsx",
          "CenIA/roberta-large-bne-finetuned-pawsx",
          "CenIA/roberta-large-bne-finetuned-pawsx",
          "CenIA/roberta-large-bne-finetuned-pawsx",
          "CenIA/roberta-large-bne-finetuned-pawsx"
         ],
         "x0": " ",
         "xaxis": "x",
         "y": [
          0.852,
          0.854,
          0.8295,
          0.838,
          0.847,
          0.846,
          0.804,
          0.793,
          0.7835,
          0.7585,
          0.7695,
          0.776,
          0.88,
          0.8765,
          0.874,
          0.877,
          0.885,
          0.877,
          0.715,
          0.829,
          0.824,
          0.828,
          0.8285,
          0.825,
          0.8455,
          0.8265,
          0.9075,
          0.902,
          0.9045,
          0.906,
          0.897,
          0.9015,
          0.903,
          0.9035,
          0.9035,
          0.8295,
          0.812,
          0.846,
          0.817,
          0.835,
          0.8255,
          0.8985,
          0.8835,
          0.89,
          0.891,
          0.8915
         ],
         "y0": " ",
         "yaxis": "y"
        },
        {
         "alignmentgroup": "True",
         "hovertemplate": "teacher_model_name_or_path=%{x}<br>validation_accuracy=%{y}<extra></extra>",
         "legendgroup": "CenIA/albert-xxlarge-spanish-finetuned-pawsx",
         "marker": {
          "color": "#ab63fa"
         },
         "name": "CenIA/albert-xxlarge-spanish-finetuned-pawsx",
         "notched": false,
         "offsetgroup": "CenIA/albert-xxlarge-spanish-finetuned-pawsx",
         "orientation": "v",
         "showlegend": true,
         "type": "box",
         "x": [
          "CenIA/albert-xxlarge-spanish-finetuned-pawsx",
          "CenIA/albert-xxlarge-spanish-finetuned-pawsx",
          "CenIA/albert-xxlarge-spanish-finetuned-pawsx",
          "CenIA/albert-xxlarge-spanish-finetuned-pawsx",
          "CenIA/albert-xxlarge-spanish-finetuned-pawsx",
          "CenIA/albert-xxlarge-spanish-finetuned-pawsx",
          "CenIA/albert-xxlarge-spanish-finetuned-pawsx",
          "CenIA/albert-xxlarge-spanish-finetuned-pawsx",
          "CenIA/albert-xxlarge-spanish-finetuned-pawsx",
          "CenIA/albert-xxlarge-spanish-finetuned-pawsx",
          "CenIA/albert-xxlarge-spanish-finetuned-pawsx",
          "CenIA/albert-xxlarge-spanish-finetuned-pawsx",
          "CenIA/albert-xxlarge-spanish-finetuned-pawsx",
          "CenIA/albert-xxlarge-spanish-finetuned-pawsx",
          "CenIA/albert-xxlarge-spanish-finetuned-pawsx",
          "CenIA/albert-xxlarge-spanish-finetuned-pawsx",
          "CenIA/albert-xxlarge-spanish-finetuned-pawsx",
          "CenIA/albert-xxlarge-spanish-finetuned-pawsx",
          "CenIA/albert-xxlarge-spanish-finetuned-pawsx",
          "CenIA/albert-xxlarge-spanish-finetuned-pawsx",
          "CenIA/albert-xxlarge-spanish-finetuned-pawsx",
          "CenIA/albert-xxlarge-spanish-finetuned-pawsx",
          "CenIA/albert-xxlarge-spanish-finetuned-pawsx",
          "CenIA/albert-xxlarge-spanish-finetuned-pawsx",
          "CenIA/albert-xxlarge-spanish-finetuned-pawsx",
          "CenIA/albert-xxlarge-spanish-finetuned-pawsx",
          "CenIA/albert-xxlarge-spanish-finetuned-pawsx",
          "CenIA/albert-xxlarge-spanish-finetuned-pawsx",
          "CenIA/albert-xxlarge-spanish-finetuned-pawsx",
          "CenIA/albert-xxlarge-spanish-finetuned-pawsx",
          "CenIA/albert-xxlarge-spanish-finetuned-pawsx",
          "CenIA/albert-xxlarge-spanish-finetuned-pawsx",
          "CenIA/albert-xxlarge-spanish-finetuned-pawsx",
          "CenIA/albert-xxlarge-spanish-finetuned-pawsx",
          "CenIA/albert-xxlarge-spanish-finetuned-pawsx",
          "CenIA/albert-xxlarge-spanish-finetuned-pawsx",
          "CenIA/albert-xxlarge-spanish-finetuned-pawsx",
          "CenIA/albert-xxlarge-spanish-finetuned-pawsx",
          "CenIA/albert-xxlarge-spanish-finetuned-pawsx",
          "CenIA/albert-xxlarge-spanish-finetuned-pawsx",
          "CenIA/albert-xxlarge-spanish-finetuned-pawsx",
          "CenIA/albert-xxlarge-spanish-finetuned-pawsx",
          "CenIA/albert-xxlarge-spanish-finetuned-pawsx",
          "CenIA/albert-xxlarge-spanish-finetuned-pawsx",
          "CenIA/albert-xxlarge-spanish-finetuned-pawsx",
          "CenIA/albert-xxlarge-spanish-finetuned-pawsx",
          "CenIA/albert-xxlarge-spanish-finetuned-pawsx",
          "CenIA/albert-xxlarge-spanish-finetuned-pawsx",
          "CenIA/albert-xxlarge-spanish-finetuned-pawsx"
         ],
         "x0": " ",
         "xaxis": "x",
         "y": [
          0.863,
          0.8415,
          0.836,
          0.8515,
          0.8465,
          0.836,
          0.7955,
          0.757,
          0.7815,
          0.7555,
          0.751,
          0.761,
          0.8795,
          0.88,
          0.888,
          0.8795,
          0.891,
          0.88,
          0.7785,
          0.818,
          0.814,
          0.8225,
          0.84,
          0.8385,
          0.8185,
          0.828,
          0.831,
          0.809,
          0.856,
          0.89,
          0.894,
          0.907,
          0.9005,
          0.9,
          0.91,
          0.8965,
          0.9115,
          0.8285,
          0.836,
          0.823,
          0.8285,
          0.8335,
          0.8135,
          0.903,
          0.8925,
          0.8505,
          0.8975,
          0.883,
          0.8905
         ],
         "y0": " ",
         "yaxis": "y"
        },
        {
         "alignmentgroup": "True",
         "hovertemplate": "teacher_model_name_or_path=%{x}<br>validation_accuracy=%{y}<extra></extra>",
         "legendgroup": "CenIA/distillbert-base-spanish-uncased-finetuned-pawsx",
         "marker": {
          "color": "#FFA15A"
         },
         "name": "CenIA/distillbert-base-spanish-uncased-finetuned-pawsx",
         "notched": false,
         "offsetgroup": "CenIA/distillbert-base-spanish-uncased-finetuned-pawsx",
         "orientation": "v",
         "showlegend": true,
         "type": "box",
         "x": [
          "CenIA/distillbert-base-spanish-uncased-finetuned-pawsx",
          "CenIA/distillbert-base-spanish-uncased-finetuned-pawsx",
          "CenIA/distillbert-base-spanish-uncased-finetuned-pawsx",
          "CenIA/distillbert-base-spanish-uncased-finetuned-pawsx",
          "CenIA/distillbert-base-spanish-uncased-finetuned-pawsx",
          "CenIA/distillbert-base-spanish-uncased-finetuned-pawsx",
          "CenIA/distillbert-base-spanish-uncased-finetuned-pawsx",
          "CenIA/distillbert-base-spanish-uncased-finetuned-pawsx",
          "CenIA/distillbert-base-spanish-uncased-finetuned-pawsx",
          "CenIA/distillbert-base-spanish-uncased-finetuned-pawsx",
          "CenIA/distillbert-base-spanish-uncased-finetuned-pawsx",
          "CenIA/distillbert-base-spanish-uncased-finetuned-pawsx",
          "CenIA/distillbert-base-spanish-uncased-finetuned-pawsx",
          "CenIA/distillbert-base-spanish-uncased-finetuned-pawsx",
          "CenIA/distillbert-base-spanish-uncased-finetuned-pawsx",
          "CenIA/distillbert-base-spanish-uncased-finetuned-pawsx",
          "CenIA/distillbert-base-spanish-uncased-finetuned-pawsx",
          "CenIA/distillbert-base-spanish-uncased-finetuned-pawsx"
         ],
         "x0": " ",
         "xaxis": "x",
         "y": [
          0.7875,
          0.782,
          0.795,
          0.7925,
          0.7815,
          0.7965,
          0.829,
          0.8275,
          0.798,
          0.8255,
          0.7965,
          0.826,
          0.7915,
          0.774,
          0.793,
          0.779,
          0.783,
          0.7865
         ],
         "y0": " ",
         "yaxis": "y"
        }
       ],
       "layout": {
        "boxmode": "overlay",
        "legend": {
         "title": {
          "text": "teacher_model_name_or_path"
         },
         "tracegroupgap": 0
        },
        "margin": {
         "t": 60
        },
        "template": {
         "data": {
          "bar": [
           {
            "error_x": {
             "color": "#2a3f5f"
            },
            "error_y": {
             "color": "#2a3f5f"
            },
            "marker": {
             "line": {
              "color": "#E5ECF6",
              "width": 0.5
             },
             "pattern": {
              "fillmode": "overlay",
              "size": 10,
              "solidity": 0.2
             }
            },
            "type": "bar"
           }
          ],
          "barpolar": [
           {
            "marker": {
             "line": {
              "color": "#E5ECF6",
              "width": 0.5
             },
             "pattern": {
              "fillmode": "overlay",
              "size": 10,
              "solidity": 0.2
             }
            },
            "type": "barpolar"
           }
          ],
          "carpet": [
           {
            "aaxis": {
             "endlinecolor": "#2a3f5f",
             "gridcolor": "white",
             "linecolor": "white",
             "minorgridcolor": "white",
             "startlinecolor": "#2a3f5f"
            },
            "baxis": {
             "endlinecolor": "#2a3f5f",
             "gridcolor": "white",
             "linecolor": "white",
             "minorgridcolor": "white",
             "startlinecolor": "#2a3f5f"
            },
            "type": "carpet"
           }
          ],
          "choropleth": [
           {
            "colorbar": {
             "outlinewidth": 0,
             "ticks": ""
            },
            "type": "choropleth"
           }
          ],
          "contour": [
           {
            "colorbar": {
             "outlinewidth": 0,
             "ticks": ""
            },
            "colorscale": [
             [
              0,
              "#0d0887"
             ],
             [
              0.1111111111111111,
              "#46039f"
             ],
             [
              0.2222222222222222,
              "#7201a8"
             ],
             [
              0.3333333333333333,
              "#9c179e"
             ],
             [
              0.4444444444444444,
              "#bd3786"
             ],
             [
              0.5555555555555556,
              "#d8576b"
             ],
             [
              0.6666666666666666,
              "#ed7953"
             ],
             [
              0.7777777777777778,
              "#fb9f3a"
             ],
             [
              0.8888888888888888,
              "#fdca26"
             ],
             [
              1,
              "#f0f921"
             ]
            ],
            "type": "contour"
           }
          ],
          "contourcarpet": [
           {
            "colorbar": {
             "outlinewidth": 0,
             "ticks": ""
            },
            "type": "contourcarpet"
           }
          ],
          "heatmap": [
           {
            "colorbar": {
             "outlinewidth": 0,
             "ticks": ""
            },
            "colorscale": [
             [
              0,
              "#0d0887"
             ],
             [
              0.1111111111111111,
              "#46039f"
             ],
             [
              0.2222222222222222,
              "#7201a8"
             ],
             [
              0.3333333333333333,
              "#9c179e"
             ],
             [
              0.4444444444444444,
              "#bd3786"
             ],
             [
              0.5555555555555556,
              "#d8576b"
             ],
             [
              0.6666666666666666,
              "#ed7953"
             ],
             [
              0.7777777777777778,
              "#fb9f3a"
             ],
             [
              0.8888888888888888,
              "#fdca26"
             ],
             [
              1,
              "#f0f921"
             ]
            ],
            "type": "heatmap"
           }
          ],
          "heatmapgl": [
           {
            "colorbar": {
             "outlinewidth": 0,
             "ticks": ""
            },
            "colorscale": [
             [
              0,
              "#0d0887"
             ],
             [
              0.1111111111111111,
              "#46039f"
             ],
             [
              0.2222222222222222,
              "#7201a8"
             ],
             [
              0.3333333333333333,
              "#9c179e"
             ],
             [
              0.4444444444444444,
              "#bd3786"
             ],
             [
              0.5555555555555556,
              "#d8576b"
             ],
             [
              0.6666666666666666,
              "#ed7953"
             ],
             [
              0.7777777777777778,
              "#fb9f3a"
             ],
             [
              0.8888888888888888,
              "#fdca26"
             ],
             [
              1,
              "#f0f921"
             ]
            ],
            "type": "heatmapgl"
           }
          ],
          "histogram": [
           {
            "marker": {
             "pattern": {
              "fillmode": "overlay",
              "size": 10,
              "solidity": 0.2
             }
            },
            "type": "histogram"
           }
          ],
          "histogram2d": [
           {
            "colorbar": {
             "outlinewidth": 0,
             "ticks": ""
            },
            "colorscale": [
             [
              0,
              "#0d0887"
             ],
             [
              0.1111111111111111,
              "#46039f"
             ],
             [
              0.2222222222222222,
              "#7201a8"
             ],
             [
              0.3333333333333333,
              "#9c179e"
             ],
             [
              0.4444444444444444,
              "#bd3786"
             ],
             [
              0.5555555555555556,
              "#d8576b"
             ],
             [
              0.6666666666666666,
              "#ed7953"
             ],
             [
              0.7777777777777778,
              "#fb9f3a"
             ],
             [
              0.8888888888888888,
              "#fdca26"
             ],
             [
              1,
              "#f0f921"
             ]
            ],
            "type": "histogram2d"
           }
          ],
          "histogram2dcontour": [
           {
            "colorbar": {
             "outlinewidth": 0,
             "ticks": ""
            },
            "colorscale": [
             [
              0,
              "#0d0887"
             ],
             [
              0.1111111111111111,
              "#46039f"
             ],
             [
              0.2222222222222222,
              "#7201a8"
             ],
             [
              0.3333333333333333,
              "#9c179e"
             ],
             [
              0.4444444444444444,
              "#bd3786"
             ],
             [
              0.5555555555555556,
              "#d8576b"
             ],
             [
              0.6666666666666666,
              "#ed7953"
             ],
             [
              0.7777777777777778,
              "#fb9f3a"
             ],
             [
              0.8888888888888888,
              "#fdca26"
             ],
             [
              1,
              "#f0f921"
             ]
            ],
            "type": "histogram2dcontour"
           }
          ],
          "mesh3d": [
           {
            "colorbar": {
             "outlinewidth": 0,
             "ticks": ""
            },
            "type": "mesh3d"
           }
          ],
          "parcoords": [
           {
            "line": {
             "colorbar": {
              "outlinewidth": 0,
              "ticks": ""
             }
            },
            "type": "parcoords"
           }
          ],
          "pie": [
           {
            "automargin": true,
            "type": "pie"
           }
          ],
          "scatter": [
           {
            "fillpattern": {
             "fillmode": "overlay",
             "size": 10,
             "solidity": 0.2
            },
            "type": "scatter"
           }
          ],
          "scatter3d": [
           {
            "line": {
             "colorbar": {
              "outlinewidth": 0,
              "ticks": ""
             }
            },
            "marker": {
             "colorbar": {
              "outlinewidth": 0,
              "ticks": ""
             }
            },
            "type": "scatter3d"
           }
          ],
          "scattercarpet": [
           {
            "marker": {
             "colorbar": {
              "outlinewidth": 0,
              "ticks": ""
             }
            },
            "type": "scattercarpet"
           }
          ],
          "scattergeo": [
           {
            "marker": {
             "colorbar": {
              "outlinewidth": 0,
              "ticks": ""
             }
            },
            "type": "scattergeo"
           }
          ],
          "scattergl": [
           {
            "marker": {
             "colorbar": {
              "outlinewidth": 0,
              "ticks": ""
             }
            },
            "type": "scattergl"
           }
          ],
          "scattermapbox": [
           {
            "marker": {
             "colorbar": {
              "outlinewidth": 0,
              "ticks": ""
             }
            },
            "type": "scattermapbox"
           }
          ],
          "scatterpolar": [
           {
            "marker": {
             "colorbar": {
              "outlinewidth": 0,
              "ticks": ""
             }
            },
            "type": "scatterpolar"
           }
          ],
          "scatterpolargl": [
           {
            "marker": {
             "colorbar": {
              "outlinewidth": 0,
              "ticks": ""
             }
            },
            "type": "scatterpolargl"
           }
          ],
          "scatterternary": [
           {
            "marker": {
             "colorbar": {
              "outlinewidth": 0,
              "ticks": ""
             }
            },
            "type": "scatterternary"
           }
          ],
          "surface": [
           {
            "colorbar": {
             "outlinewidth": 0,
             "ticks": ""
            },
            "colorscale": [
             [
              0,
              "#0d0887"
             ],
             [
              0.1111111111111111,
              "#46039f"
             ],
             [
              0.2222222222222222,
              "#7201a8"
             ],
             [
              0.3333333333333333,
              "#9c179e"
             ],
             [
              0.4444444444444444,
              "#bd3786"
             ],
             [
              0.5555555555555556,
              "#d8576b"
             ],
             [
              0.6666666666666666,
              "#ed7953"
             ],
             [
              0.7777777777777778,
              "#fb9f3a"
             ],
             [
              0.8888888888888888,
              "#fdca26"
             ],
             [
              1,
              "#f0f921"
             ]
            ],
            "type": "surface"
           }
          ],
          "table": [
           {
            "cells": {
             "fill": {
              "color": "#EBF0F8"
             },
             "line": {
              "color": "white"
             }
            },
            "header": {
             "fill": {
              "color": "#C8D4E3"
             },
             "line": {
              "color": "white"
             }
            },
            "type": "table"
           }
          ]
         },
         "layout": {
          "annotationdefaults": {
           "arrowcolor": "#2a3f5f",
           "arrowhead": 0,
           "arrowwidth": 1
          },
          "autotypenumbers": "strict",
          "coloraxis": {
           "colorbar": {
            "outlinewidth": 0,
            "ticks": ""
           }
          },
          "colorscale": {
           "diverging": [
            [
             0,
             "#8e0152"
            ],
            [
             0.1,
             "#c51b7d"
            ],
            [
             0.2,
             "#de77ae"
            ],
            [
             0.3,
             "#f1b6da"
            ],
            [
             0.4,
             "#fde0ef"
            ],
            [
             0.5,
             "#f7f7f7"
            ],
            [
             0.6,
             "#e6f5d0"
            ],
            [
             0.7,
             "#b8e186"
            ],
            [
             0.8,
             "#7fbc41"
            ],
            [
             0.9,
             "#4d9221"
            ],
            [
             1,
             "#276419"
            ]
           ],
           "sequential": [
            [
             0,
             "#0d0887"
            ],
            [
             0.1111111111111111,
             "#46039f"
            ],
            [
             0.2222222222222222,
             "#7201a8"
            ],
            [
             0.3333333333333333,
             "#9c179e"
            ],
            [
             0.4444444444444444,
             "#bd3786"
            ],
            [
             0.5555555555555556,
             "#d8576b"
            ],
            [
             0.6666666666666666,
             "#ed7953"
            ],
            [
             0.7777777777777778,
             "#fb9f3a"
            ],
            [
             0.8888888888888888,
             "#fdca26"
            ],
            [
             1,
             "#f0f921"
            ]
           ],
           "sequentialminus": [
            [
             0,
             "#0d0887"
            ],
            [
             0.1111111111111111,
             "#46039f"
            ],
            [
             0.2222222222222222,
             "#7201a8"
            ],
            [
             0.3333333333333333,
             "#9c179e"
            ],
            [
             0.4444444444444444,
             "#bd3786"
            ],
            [
             0.5555555555555556,
             "#d8576b"
            ],
            [
             0.6666666666666666,
             "#ed7953"
            ],
            [
             0.7777777777777778,
             "#fb9f3a"
            ],
            [
             0.8888888888888888,
             "#fdca26"
            ],
            [
             1,
             "#f0f921"
            ]
           ]
          },
          "colorway": [
           "#636efa",
           "#EF553B",
           "#00cc96",
           "#ab63fa",
           "#FFA15A",
           "#19d3f3",
           "#FF6692",
           "#B6E880",
           "#FF97FF",
           "#FECB52"
          ],
          "font": {
           "color": "#2a3f5f"
          },
          "geo": {
           "bgcolor": "white",
           "lakecolor": "white",
           "landcolor": "#E5ECF6",
           "showlakes": true,
           "showland": true,
           "subunitcolor": "white"
          },
          "hoverlabel": {
           "align": "left"
          },
          "hovermode": "closest",
          "mapbox": {
           "style": "light"
          },
          "paper_bgcolor": "white",
          "plot_bgcolor": "#E5ECF6",
          "polar": {
           "angularaxis": {
            "gridcolor": "white",
            "linecolor": "white",
            "ticks": ""
           },
           "bgcolor": "#E5ECF6",
           "radialaxis": {
            "gridcolor": "white",
            "linecolor": "white",
            "ticks": ""
           }
          },
          "scene": {
           "xaxis": {
            "backgroundcolor": "#E5ECF6",
            "gridcolor": "white",
            "gridwidth": 2,
            "linecolor": "white",
            "showbackground": true,
            "ticks": "",
            "zerolinecolor": "white"
           },
           "yaxis": {
            "backgroundcolor": "#E5ECF6",
            "gridcolor": "white",
            "gridwidth": 2,
            "linecolor": "white",
            "showbackground": true,
            "ticks": "",
            "zerolinecolor": "white"
           },
           "zaxis": {
            "backgroundcolor": "#E5ECF6",
            "gridcolor": "white",
            "gridwidth": 2,
            "linecolor": "white",
            "showbackground": true,
            "ticks": "",
            "zerolinecolor": "white"
           }
          },
          "shapedefaults": {
           "line": {
            "color": "#2a3f5f"
           }
          },
          "ternary": {
           "aaxis": {
            "gridcolor": "white",
            "linecolor": "white",
            "ticks": ""
           },
           "baxis": {
            "gridcolor": "white",
            "linecolor": "white",
            "ticks": ""
           },
           "bgcolor": "#E5ECF6",
           "caxis": {
            "gridcolor": "white",
            "linecolor": "white",
            "ticks": ""
           }
          },
          "title": {
           "x": 0.05
          },
          "xaxis": {
           "automargin": true,
           "gridcolor": "white",
           "linecolor": "white",
           "ticks": "",
           "title": {
            "standoff": 15
           },
           "zerolinecolor": "white",
           "zerolinewidth": 2
          },
          "yaxis": {
           "automargin": true,
           "gridcolor": "white",
           "linecolor": "white",
           "ticks": "",
           "title": {
            "standoff": 15
           },
           "zerolinecolor": "white",
           "zerolinewidth": 2
          }
         }
        },
        "xaxis": {
         "anchor": "y",
         "categoryarray": [
          "CenIA/albert-base-spanish-finetuned-pawsx",
          "CenIA/bert-base-spanish-wwm-cased-finetuned-pawsx",
          "CenIA/roberta-large-bne-finetuned-pawsx",
          "CenIA/albert-xxlarge-spanish-finetuned-pawsx",
          "CenIA/distillbert-base-spanish-uncased-finetuned-pawsx"
         ],
         "categoryorder": "array",
         "domain": [
          0,
          1
         ],
         "title": {
          "text": "teacher_model_name_or_path"
         }
        },
        "yaxis": {
         "anchor": "x",
         "domain": [
          0,
          1
         ],
         "title": {
          "text": "validation_accuracy"
         }
        }
       }
      },
      "text/html": [
       "<div>                            <div id=\"4ef6c233-25d9-449f-91e8-9c5d6abc5479\" class=\"plotly-graph-div\" style=\"height:525px; width:100%;\"></div>            <script type=\"text/javascript\">                require([\"plotly\"], function(Plotly) {                    window.PLOTLYENV=window.PLOTLYENV || {};                                    if (document.getElementById(\"4ef6c233-25d9-449f-91e8-9c5d6abc5479\")) {                    Plotly.newPlot(                        \"4ef6c233-25d9-449f-91e8-9c5d6abc5479\",                        [{\"alignmentgroup\":\"True\",\"hovertemplate\":\"teacher_model_name_or_path=%{x}<br>validation_accuracy=%{y}<extra></extra>\",\"legendgroup\":\"CenIA/albert-base-spanish-finetuned-pawsx\",\"marker\":{\"color\":\"#636efa\"},\"name\":\"CenIA/albert-base-spanish-finetuned-pawsx\",\"notched\":false,\"offsetgroup\":\"CenIA/albert-base-spanish-finetuned-pawsx\",\"orientation\":\"v\",\"showlegend\":true,\"x\":[\"CenIA/albert-base-spanish-finetuned-pawsx\",\"CenIA/albert-base-spanish-finetuned-pawsx\",\"CenIA/albert-base-spanish-finetuned-pawsx\",\"CenIA/albert-base-spanish-finetuned-pawsx\",\"CenIA/albert-base-spanish-finetuned-pawsx\",\"CenIA/albert-base-spanish-finetuned-pawsx\",\"CenIA/albert-base-spanish-finetuned-pawsx\",\"CenIA/albert-base-spanish-finetuned-pawsx\",\"CenIA/albert-base-spanish-finetuned-pawsx\",\"CenIA/albert-base-spanish-finetuned-pawsx\",\"CenIA/albert-base-spanish-finetuned-pawsx\",\"CenIA/albert-base-spanish-finetuned-pawsx\",\"CenIA/albert-base-spanish-finetuned-pawsx\",\"CenIA/albert-base-spanish-finetuned-pawsx\",\"CenIA/albert-base-spanish-finetuned-pawsx\",\"CenIA/albert-base-spanish-finetuned-pawsx\",\"CenIA/albert-base-spanish-finetuned-pawsx\",\"CenIA/albert-base-spanish-finetuned-pawsx\",\"CenIA/albert-base-spanish-finetuned-pawsx\",\"CenIA/albert-base-spanish-finetuned-pawsx\",\"CenIA/albert-base-spanish-finetuned-pawsx\",\"CenIA/albert-base-spanish-finetuned-pawsx\",\"CenIA/albert-base-spanish-finetuned-pawsx\",\"CenIA/albert-base-spanish-finetuned-pawsx\",\"CenIA/albert-base-spanish-finetuned-pawsx\",\"CenIA/albert-base-spanish-finetuned-pawsx\",\"CenIA/albert-base-spanish-finetuned-pawsx\",\"CenIA/albert-base-spanish-finetuned-pawsx\",\"CenIA/albert-base-spanish-finetuned-pawsx\",\"CenIA/albert-base-spanish-finetuned-pawsx\",\"CenIA/albert-base-spanish-finetuned-pawsx\",\"CenIA/albert-base-spanish-finetuned-pawsx\",\"CenIA/albert-base-spanish-finetuned-pawsx\",\"CenIA/albert-base-spanish-finetuned-pawsx\",\"CenIA/albert-base-spanish-finetuned-pawsx\",\"CenIA/albert-base-spanish-finetuned-pawsx\",\"CenIA/albert-base-spanish-finetuned-pawsx\",\"CenIA/albert-base-spanish-finetuned-pawsx\",\"CenIA/albert-base-spanish-finetuned-pawsx\",\"CenIA/albert-base-spanish-finetuned-pawsx\",\"CenIA/albert-base-spanish-finetuned-pawsx\",\"CenIA/albert-base-spanish-finetuned-pawsx\",\"CenIA/albert-base-spanish-finetuned-pawsx\",\"CenIA/albert-base-spanish-finetuned-pawsx\",\"CenIA/albert-base-spanish-finetuned-pawsx\",\"CenIA/albert-base-spanish-finetuned-pawsx\"],\"x0\":\" \",\"xaxis\":\"x\",\"y\":[0.8565,0.8445,0.8435,0.839,0.8265,0.8535,0.7965,0.7545,0.744,0.7555,0.7475,0.761,0.8645,0.8845,0.8875,0.879,0.867,0.876,0.82,0.8135,0.8135,0.8345,0.8435,0.8405,0.843,0.909,0.892,0.9025,0.906,0.8975,0.901,0.901,0.911,0.899,0.8325,0.8185,0.831,0.8155,0.8215,0.825,0.826,0.887,0.902,0.901,0.8905,0.888],\"y0\":\" \",\"yaxis\":\"y\",\"type\":\"box\"},{\"alignmentgroup\":\"True\",\"hovertemplate\":\"teacher_model_name_or_path=%{x}<br>validation_accuracy=%{y}<extra></extra>\",\"legendgroup\":\"CenIA/bert-base-spanish-wwm-cased-finetuned-pawsx\",\"marker\":{\"color\":\"#EF553B\"},\"name\":\"CenIA/bert-base-spanish-wwm-cased-finetuned-pawsx\",\"notched\":false,\"offsetgroup\":\"CenIA/bert-base-spanish-wwm-cased-finetuned-pawsx\",\"orientation\":\"v\",\"showlegend\":true,\"x\":[\"CenIA/bert-base-spanish-wwm-cased-finetuned-pawsx\",\"CenIA/bert-base-spanish-wwm-cased-finetuned-pawsx\",\"CenIA/bert-base-spanish-wwm-cased-finetuned-pawsx\",\"CenIA/bert-base-spanish-wwm-cased-finetuned-pawsx\",\"CenIA/bert-base-spanish-wwm-cased-finetuned-pawsx\",\"CenIA/bert-base-spanish-wwm-cased-finetuned-pawsx\",\"CenIA/bert-base-spanish-wwm-cased-finetuned-pawsx\",\"CenIA/bert-base-spanish-wwm-cased-finetuned-pawsx\",\"CenIA/bert-base-spanish-wwm-cased-finetuned-pawsx\",\"CenIA/bert-base-spanish-wwm-cased-finetuned-pawsx\",\"CenIA/bert-base-spanish-wwm-cased-finetuned-pawsx\",\"CenIA/bert-base-spanish-wwm-cased-finetuned-pawsx\",\"CenIA/bert-base-spanish-wwm-cased-finetuned-pawsx\",\"CenIA/bert-base-spanish-wwm-cased-finetuned-pawsx\",\"CenIA/bert-base-spanish-wwm-cased-finetuned-pawsx\",\"CenIA/bert-base-spanish-wwm-cased-finetuned-pawsx\",\"CenIA/bert-base-spanish-wwm-cased-finetuned-pawsx\",\"CenIA/bert-base-spanish-wwm-cased-finetuned-pawsx\",\"CenIA/bert-base-spanish-wwm-cased-finetuned-pawsx\",\"CenIA/bert-base-spanish-wwm-cased-finetuned-pawsx\",\"CenIA/bert-base-spanish-wwm-cased-finetuned-pawsx\",\"CenIA/bert-base-spanish-wwm-cased-finetuned-pawsx\",\"CenIA/bert-base-spanish-wwm-cased-finetuned-pawsx\",\"CenIA/bert-base-spanish-wwm-cased-finetuned-pawsx\",\"CenIA/bert-base-spanish-wwm-cased-finetuned-pawsx\",\"CenIA/bert-base-spanish-wwm-cased-finetuned-pawsx\",\"CenIA/bert-base-spanish-wwm-cased-finetuned-pawsx\",\"CenIA/bert-base-spanish-wwm-cased-finetuned-pawsx\",\"CenIA/bert-base-spanish-wwm-cased-finetuned-pawsx\",\"CenIA/bert-base-spanish-wwm-cased-finetuned-pawsx\",\"CenIA/bert-base-spanish-wwm-cased-finetuned-pawsx\",\"CenIA/bert-base-spanish-wwm-cased-finetuned-pawsx\",\"CenIA/bert-base-spanish-wwm-cased-finetuned-pawsx\",\"CenIA/bert-base-spanish-wwm-cased-finetuned-pawsx\",\"CenIA/bert-base-spanish-wwm-cased-finetuned-pawsx\",\"CenIA/bert-base-spanish-wwm-cased-finetuned-pawsx\",\"CenIA/bert-base-spanish-wwm-cased-finetuned-pawsx\",\"CenIA/bert-base-spanish-wwm-cased-finetuned-pawsx\",\"CenIA/bert-base-spanish-wwm-cased-finetuned-pawsx\",\"CenIA/bert-base-spanish-wwm-cased-finetuned-pawsx\",\"CenIA/bert-base-spanish-wwm-cased-finetuned-pawsx\",\"CenIA/bert-base-spanish-wwm-cased-finetuned-pawsx\",\"CenIA/bert-base-spanish-wwm-cased-finetuned-pawsx\",\"CenIA/bert-base-spanish-wwm-cased-finetuned-pawsx\",\"CenIA/bert-base-spanish-wwm-cased-finetuned-pawsx\",\"CenIA/bert-base-spanish-wwm-cased-finetuned-pawsx\",\"CenIA/bert-base-spanish-wwm-cased-finetuned-pawsx\",\"CenIA/bert-base-spanish-wwm-cased-finetuned-pawsx\"],\"x0\":\" \",\"xaxis\":\"x\",\"y\":[0.836,0.8405,0.8185,0.81,0.805,0.795,0.759,0.736,0.7275,0.7415,0.7455,0.7605,0.8725,0.88,0.85,0.8715,0.8645,0.8695,0.807,0.784,0.789,0.83,0.785,0.799,0.788,0.7825,0.788,0.8995,0.8985,0.899,0.899,0.902,0.8845,0.9055,0.903,0.9055,0.8255,0.8125,0.7925,0.807,0.788,0.7975,0.902,0.896,0.8945,0.8915,0.8925,0.885],\"y0\":\" \",\"yaxis\":\"y\",\"type\":\"box\"},{\"alignmentgroup\":\"True\",\"hovertemplate\":\"teacher_model_name_or_path=%{x}<br>validation_accuracy=%{y}<extra></extra>\",\"legendgroup\":\"CenIA/roberta-large-bne-finetuned-pawsx\",\"marker\":{\"color\":\"#00cc96\"},\"name\":\"CenIA/roberta-large-bne-finetuned-pawsx\",\"notched\":false,\"offsetgroup\":\"CenIA/roberta-large-bne-finetuned-pawsx\",\"orientation\":\"v\",\"showlegend\":true,\"x\":[\"CenIA/roberta-large-bne-finetuned-pawsx\",\"CenIA/roberta-large-bne-finetuned-pawsx\",\"CenIA/roberta-large-bne-finetuned-pawsx\",\"CenIA/roberta-large-bne-finetuned-pawsx\",\"CenIA/roberta-large-bne-finetuned-pawsx\",\"CenIA/roberta-large-bne-finetuned-pawsx\",\"CenIA/roberta-large-bne-finetuned-pawsx\",\"CenIA/roberta-large-bne-finetuned-pawsx\",\"CenIA/roberta-large-bne-finetuned-pawsx\",\"CenIA/roberta-large-bne-finetuned-pawsx\",\"CenIA/roberta-large-bne-finetuned-pawsx\",\"CenIA/roberta-large-bne-finetuned-pawsx\",\"CenIA/roberta-large-bne-finetuned-pawsx\",\"CenIA/roberta-large-bne-finetuned-pawsx\",\"CenIA/roberta-large-bne-finetuned-pawsx\",\"CenIA/roberta-large-bne-finetuned-pawsx\",\"CenIA/roberta-large-bne-finetuned-pawsx\",\"CenIA/roberta-large-bne-finetuned-pawsx\",\"CenIA/roberta-large-bne-finetuned-pawsx\",\"CenIA/roberta-large-bne-finetuned-pawsx\",\"CenIA/roberta-large-bne-finetuned-pawsx\",\"CenIA/roberta-large-bne-finetuned-pawsx\",\"CenIA/roberta-large-bne-finetuned-pawsx\",\"CenIA/roberta-large-bne-finetuned-pawsx\",\"CenIA/roberta-large-bne-finetuned-pawsx\",\"CenIA/roberta-large-bne-finetuned-pawsx\",\"CenIA/roberta-large-bne-finetuned-pawsx\",\"CenIA/roberta-large-bne-finetuned-pawsx\",\"CenIA/roberta-large-bne-finetuned-pawsx\",\"CenIA/roberta-large-bne-finetuned-pawsx\",\"CenIA/roberta-large-bne-finetuned-pawsx\",\"CenIA/roberta-large-bne-finetuned-pawsx\",\"CenIA/roberta-large-bne-finetuned-pawsx\",\"CenIA/roberta-large-bne-finetuned-pawsx\",\"CenIA/roberta-large-bne-finetuned-pawsx\",\"CenIA/roberta-large-bne-finetuned-pawsx\",\"CenIA/roberta-large-bne-finetuned-pawsx\",\"CenIA/roberta-large-bne-finetuned-pawsx\",\"CenIA/roberta-large-bne-finetuned-pawsx\",\"CenIA/roberta-large-bne-finetuned-pawsx\",\"CenIA/roberta-large-bne-finetuned-pawsx\",\"CenIA/roberta-large-bne-finetuned-pawsx\",\"CenIA/roberta-large-bne-finetuned-pawsx\",\"CenIA/roberta-large-bne-finetuned-pawsx\",\"CenIA/roberta-large-bne-finetuned-pawsx\",\"CenIA/roberta-large-bne-finetuned-pawsx\"],\"x0\":\" \",\"xaxis\":\"x\",\"y\":[0.852,0.854,0.8295,0.838,0.847,0.846,0.804,0.793,0.7835,0.7585,0.7695,0.776,0.88,0.8765,0.874,0.877,0.885,0.877,0.715,0.829,0.824,0.828,0.8285,0.825,0.8455,0.8265,0.9075,0.902,0.9045,0.906,0.897,0.9015,0.903,0.9035,0.9035,0.8295,0.812,0.846,0.817,0.835,0.8255,0.8985,0.8835,0.89,0.891,0.8915],\"y0\":\" \",\"yaxis\":\"y\",\"type\":\"box\"},{\"alignmentgroup\":\"True\",\"hovertemplate\":\"teacher_model_name_or_path=%{x}<br>validation_accuracy=%{y}<extra></extra>\",\"legendgroup\":\"CenIA/albert-xxlarge-spanish-finetuned-pawsx\",\"marker\":{\"color\":\"#ab63fa\"},\"name\":\"CenIA/albert-xxlarge-spanish-finetuned-pawsx\",\"notched\":false,\"offsetgroup\":\"CenIA/albert-xxlarge-spanish-finetuned-pawsx\",\"orientation\":\"v\",\"showlegend\":true,\"x\":[\"CenIA/albert-xxlarge-spanish-finetuned-pawsx\",\"CenIA/albert-xxlarge-spanish-finetuned-pawsx\",\"CenIA/albert-xxlarge-spanish-finetuned-pawsx\",\"CenIA/albert-xxlarge-spanish-finetuned-pawsx\",\"CenIA/albert-xxlarge-spanish-finetuned-pawsx\",\"CenIA/albert-xxlarge-spanish-finetuned-pawsx\",\"CenIA/albert-xxlarge-spanish-finetuned-pawsx\",\"CenIA/albert-xxlarge-spanish-finetuned-pawsx\",\"CenIA/albert-xxlarge-spanish-finetuned-pawsx\",\"CenIA/albert-xxlarge-spanish-finetuned-pawsx\",\"CenIA/albert-xxlarge-spanish-finetuned-pawsx\",\"CenIA/albert-xxlarge-spanish-finetuned-pawsx\",\"CenIA/albert-xxlarge-spanish-finetuned-pawsx\",\"CenIA/albert-xxlarge-spanish-finetuned-pawsx\",\"CenIA/albert-xxlarge-spanish-finetuned-pawsx\",\"CenIA/albert-xxlarge-spanish-finetuned-pawsx\",\"CenIA/albert-xxlarge-spanish-finetuned-pawsx\",\"CenIA/albert-xxlarge-spanish-finetuned-pawsx\",\"CenIA/albert-xxlarge-spanish-finetuned-pawsx\",\"CenIA/albert-xxlarge-spanish-finetuned-pawsx\",\"CenIA/albert-xxlarge-spanish-finetuned-pawsx\",\"CenIA/albert-xxlarge-spanish-finetuned-pawsx\",\"CenIA/albert-xxlarge-spanish-finetuned-pawsx\",\"CenIA/albert-xxlarge-spanish-finetuned-pawsx\",\"CenIA/albert-xxlarge-spanish-finetuned-pawsx\",\"CenIA/albert-xxlarge-spanish-finetuned-pawsx\",\"CenIA/albert-xxlarge-spanish-finetuned-pawsx\",\"CenIA/albert-xxlarge-spanish-finetuned-pawsx\",\"CenIA/albert-xxlarge-spanish-finetuned-pawsx\",\"CenIA/albert-xxlarge-spanish-finetuned-pawsx\",\"CenIA/albert-xxlarge-spanish-finetuned-pawsx\",\"CenIA/albert-xxlarge-spanish-finetuned-pawsx\",\"CenIA/albert-xxlarge-spanish-finetuned-pawsx\",\"CenIA/albert-xxlarge-spanish-finetuned-pawsx\",\"CenIA/albert-xxlarge-spanish-finetuned-pawsx\",\"CenIA/albert-xxlarge-spanish-finetuned-pawsx\",\"CenIA/albert-xxlarge-spanish-finetuned-pawsx\",\"CenIA/albert-xxlarge-spanish-finetuned-pawsx\",\"CenIA/albert-xxlarge-spanish-finetuned-pawsx\",\"CenIA/albert-xxlarge-spanish-finetuned-pawsx\",\"CenIA/albert-xxlarge-spanish-finetuned-pawsx\",\"CenIA/albert-xxlarge-spanish-finetuned-pawsx\",\"CenIA/albert-xxlarge-spanish-finetuned-pawsx\",\"CenIA/albert-xxlarge-spanish-finetuned-pawsx\",\"CenIA/albert-xxlarge-spanish-finetuned-pawsx\",\"CenIA/albert-xxlarge-spanish-finetuned-pawsx\",\"CenIA/albert-xxlarge-spanish-finetuned-pawsx\",\"CenIA/albert-xxlarge-spanish-finetuned-pawsx\",\"CenIA/albert-xxlarge-spanish-finetuned-pawsx\"],\"x0\":\" \",\"xaxis\":\"x\",\"y\":[0.863,0.8415,0.836,0.8515,0.8465,0.836,0.7955,0.757,0.7815,0.7555,0.751,0.761,0.8795,0.88,0.888,0.8795,0.891,0.88,0.7785,0.818,0.814,0.8225,0.84,0.8385,0.8185,0.828,0.831,0.809,0.856,0.89,0.894,0.907,0.9005,0.9,0.91,0.8965,0.9115,0.8285,0.836,0.823,0.8285,0.8335,0.8135,0.903,0.8925,0.8505,0.8975,0.883,0.8905],\"y0\":\" \",\"yaxis\":\"y\",\"type\":\"box\"},{\"alignmentgroup\":\"True\",\"hovertemplate\":\"teacher_model_name_or_path=%{x}<br>validation_accuracy=%{y}<extra></extra>\",\"legendgroup\":\"CenIA/distillbert-base-spanish-uncased-finetuned-pawsx\",\"marker\":{\"color\":\"#FFA15A\"},\"name\":\"CenIA/distillbert-base-spanish-uncased-finetuned-pawsx\",\"notched\":false,\"offsetgroup\":\"CenIA/distillbert-base-spanish-uncased-finetuned-pawsx\",\"orientation\":\"v\",\"showlegend\":true,\"x\":[\"CenIA/distillbert-base-spanish-uncased-finetuned-pawsx\",\"CenIA/distillbert-base-spanish-uncased-finetuned-pawsx\",\"CenIA/distillbert-base-spanish-uncased-finetuned-pawsx\",\"CenIA/distillbert-base-spanish-uncased-finetuned-pawsx\",\"CenIA/distillbert-base-spanish-uncased-finetuned-pawsx\",\"CenIA/distillbert-base-spanish-uncased-finetuned-pawsx\",\"CenIA/distillbert-base-spanish-uncased-finetuned-pawsx\",\"CenIA/distillbert-base-spanish-uncased-finetuned-pawsx\",\"CenIA/distillbert-base-spanish-uncased-finetuned-pawsx\",\"CenIA/distillbert-base-spanish-uncased-finetuned-pawsx\",\"CenIA/distillbert-base-spanish-uncased-finetuned-pawsx\",\"CenIA/distillbert-base-spanish-uncased-finetuned-pawsx\",\"CenIA/distillbert-base-spanish-uncased-finetuned-pawsx\",\"CenIA/distillbert-base-spanish-uncased-finetuned-pawsx\",\"CenIA/distillbert-base-spanish-uncased-finetuned-pawsx\",\"CenIA/distillbert-base-spanish-uncased-finetuned-pawsx\",\"CenIA/distillbert-base-spanish-uncased-finetuned-pawsx\",\"CenIA/distillbert-base-spanish-uncased-finetuned-pawsx\"],\"x0\":\" \",\"xaxis\":\"x\",\"y\":[0.7875,0.782,0.795,0.7925,0.7815,0.7965,0.829,0.8275,0.798,0.8255,0.7965,0.826,0.7915,0.774,0.793,0.779,0.783,0.7865],\"y0\":\" \",\"yaxis\":\"y\",\"type\":\"box\"}],                        {\"template\":{\"data\":{\"histogram2dcontour\":[{\"type\":\"histogram2dcontour\",\"colorbar\":{\"outlinewidth\":0,\"ticks\":\"\"},\"colorscale\":[[0.0,\"#0d0887\"],[0.1111111111111111,\"#46039f\"],[0.2222222222222222,\"#7201a8\"],[0.3333333333333333,\"#9c179e\"],[0.4444444444444444,\"#bd3786\"],[0.5555555555555556,\"#d8576b\"],[0.6666666666666666,\"#ed7953\"],[0.7777777777777778,\"#fb9f3a\"],[0.8888888888888888,\"#fdca26\"],[1.0,\"#f0f921\"]]}],\"choropleth\":[{\"type\":\"choropleth\",\"colorbar\":{\"outlinewidth\":0,\"ticks\":\"\"}}],\"histogram2d\":[{\"type\":\"histogram2d\",\"colorbar\":{\"outlinewidth\":0,\"ticks\":\"\"},\"colorscale\":[[0.0,\"#0d0887\"],[0.1111111111111111,\"#46039f\"],[0.2222222222222222,\"#7201a8\"],[0.3333333333333333,\"#9c179e\"],[0.4444444444444444,\"#bd3786\"],[0.5555555555555556,\"#d8576b\"],[0.6666666666666666,\"#ed7953\"],[0.7777777777777778,\"#fb9f3a\"],[0.8888888888888888,\"#fdca26\"],[1.0,\"#f0f921\"]]}],\"heatmap\":[{\"type\":\"heatmap\",\"colorbar\":{\"outlinewidth\":0,\"ticks\":\"\"},\"colorscale\":[[0.0,\"#0d0887\"],[0.1111111111111111,\"#46039f\"],[0.2222222222222222,\"#7201a8\"],[0.3333333333333333,\"#9c179e\"],[0.4444444444444444,\"#bd3786\"],[0.5555555555555556,\"#d8576b\"],[0.6666666666666666,\"#ed7953\"],[0.7777777777777778,\"#fb9f3a\"],[0.8888888888888888,\"#fdca26\"],[1.0,\"#f0f921\"]]}],\"heatmapgl\":[{\"type\":\"heatmapgl\",\"colorbar\":{\"outlinewidth\":0,\"ticks\":\"\"},\"colorscale\":[[0.0,\"#0d0887\"],[0.1111111111111111,\"#46039f\"],[0.2222222222222222,\"#7201a8\"],[0.3333333333333333,\"#9c179e\"],[0.4444444444444444,\"#bd3786\"],[0.5555555555555556,\"#d8576b\"],[0.6666666666666666,\"#ed7953\"],[0.7777777777777778,\"#fb9f3a\"],[0.8888888888888888,\"#fdca26\"],[1.0,\"#f0f921\"]]}],\"contourcarpet\":[{\"type\":\"contourcarpet\",\"colorbar\":{\"outlinewidth\":0,\"ticks\":\"\"}}],\"contour\":[{\"type\":\"contour\",\"colorbar\":{\"outlinewidth\":0,\"ticks\":\"\"},\"colorscale\":[[0.0,\"#0d0887\"],[0.1111111111111111,\"#46039f\"],[0.2222222222222222,\"#7201a8\"],[0.3333333333333333,\"#9c179e\"],[0.4444444444444444,\"#bd3786\"],[0.5555555555555556,\"#d8576b\"],[0.6666666666666666,\"#ed7953\"],[0.7777777777777778,\"#fb9f3a\"],[0.8888888888888888,\"#fdca26\"],[1.0,\"#f0f921\"]]}],\"surface\":[{\"type\":\"surface\",\"colorbar\":{\"outlinewidth\":0,\"ticks\":\"\"},\"colorscale\":[[0.0,\"#0d0887\"],[0.1111111111111111,\"#46039f\"],[0.2222222222222222,\"#7201a8\"],[0.3333333333333333,\"#9c179e\"],[0.4444444444444444,\"#bd3786\"],[0.5555555555555556,\"#d8576b\"],[0.6666666666666666,\"#ed7953\"],[0.7777777777777778,\"#fb9f3a\"],[0.8888888888888888,\"#fdca26\"],[1.0,\"#f0f921\"]]}],\"mesh3d\":[{\"type\":\"mesh3d\",\"colorbar\":{\"outlinewidth\":0,\"ticks\":\"\"}}],\"scatter\":[{\"fillpattern\":{\"fillmode\":\"overlay\",\"size\":10,\"solidity\":0.2},\"type\":\"scatter\"}],\"parcoords\":[{\"type\":\"parcoords\",\"line\":{\"colorbar\":{\"outlinewidth\":0,\"ticks\":\"\"}}}],\"scatterpolargl\":[{\"type\":\"scatterpolargl\",\"marker\":{\"colorbar\":{\"outlinewidth\":0,\"ticks\":\"\"}}}],\"bar\":[{\"error_x\":{\"color\":\"#2a3f5f\"},\"error_y\":{\"color\":\"#2a3f5f\"},\"marker\":{\"line\":{\"color\":\"#E5ECF6\",\"width\":0.5},\"pattern\":{\"fillmode\":\"overlay\",\"size\":10,\"solidity\":0.2}},\"type\":\"bar\"}],\"scattergeo\":[{\"type\":\"scattergeo\",\"marker\":{\"colorbar\":{\"outlinewidth\":0,\"ticks\":\"\"}}}],\"scatterpolar\":[{\"type\":\"scatterpolar\",\"marker\":{\"colorbar\":{\"outlinewidth\":0,\"ticks\":\"\"}}}],\"histogram\":[{\"marker\":{\"pattern\":{\"fillmode\":\"overlay\",\"size\":10,\"solidity\":0.2}},\"type\":\"histogram\"}],\"scattergl\":[{\"type\":\"scattergl\",\"marker\":{\"colorbar\":{\"outlinewidth\":0,\"ticks\":\"\"}}}],\"scatter3d\":[{\"type\":\"scatter3d\",\"line\":{\"colorbar\":{\"outlinewidth\":0,\"ticks\":\"\"}},\"marker\":{\"colorbar\":{\"outlinewidth\":0,\"ticks\":\"\"}}}],\"scattermapbox\":[{\"type\":\"scattermapbox\",\"marker\":{\"colorbar\":{\"outlinewidth\":0,\"ticks\":\"\"}}}],\"scatterternary\":[{\"type\":\"scatterternary\",\"marker\":{\"colorbar\":{\"outlinewidth\":0,\"ticks\":\"\"}}}],\"scattercarpet\":[{\"type\":\"scattercarpet\",\"marker\":{\"colorbar\":{\"outlinewidth\":0,\"ticks\":\"\"}}}],\"carpet\":[{\"aaxis\":{\"endlinecolor\":\"#2a3f5f\",\"gridcolor\":\"white\",\"linecolor\":\"white\",\"minorgridcolor\":\"white\",\"startlinecolor\":\"#2a3f5f\"},\"baxis\":{\"endlinecolor\":\"#2a3f5f\",\"gridcolor\":\"white\",\"linecolor\":\"white\",\"minorgridcolor\":\"white\",\"startlinecolor\":\"#2a3f5f\"},\"type\":\"carpet\"}],\"table\":[{\"cells\":{\"fill\":{\"color\":\"#EBF0F8\"},\"line\":{\"color\":\"white\"}},\"header\":{\"fill\":{\"color\":\"#C8D4E3\"},\"line\":{\"color\":\"white\"}},\"type\":\"table\"}],\"barpolar\":[{\"marker\":{\"line\":{\"color\":\"#E5ECF6\",\"width\":0.5},\"pattern\":{\"fillmode\":\"overlay\",\"size\":10,\"solidity\":0.2}},\"type\":\"barpolar\"}],\"pie\":[{\"automargin\":true,\"type\":\"pie\"}]},\"layout\":{\"autotypenumbers\":\"strict\",\"colorway\":[\"#636efa\",\"#EF553B\",\"#00cc96\",\"#ab63fa\",\"#FFA15A\",\"#19d3f3\",\"#FF6692\",\"#B6E880\",\"#FF97FF\",\"#FECB52\"],\"font\":{\"color\":\"#2a3f5f\"},\"hovermode\":\"closest\",\"hoverlabel\":{\"align\":\"left\"},\"paper_bgcolor\":\"white\",\"plot_bgcolor\":\"#E5ECF6\",\"polar\":{\"bgcolor\":\"#E5ECF6\",\"angularaxis\":{\"gridcolor\":\"white\",\"linecolor\":\"white\",\"ticks\":\"\"},\"radialaxis\":{\"gridcolor\":\"white\",\"linecolor\":\"white\",\"ticks\":\"\"}},\"ternary\":{\"bgcolor\":\"#E5ECF6\",\"aaxis\":{\"gridcolor\":\"white\",\"linecolor\":\"white\",\"ticks\":\"\"},\"baxis\":{\"gridcolor\":\"white\",\"linecolor\":\"white\",\"ticks\":\"\"},\"caxis\":{\"gridcolor\":\"white\",\"linecolor\":\"white\",\"ticks\":\"\"}},\"coloraxis\":{\"colorbar\":{\"outlinewidth\":0,\"ticks\":\"\"}},\"colorscale\":{\"sequential\":[[0.0,\"#0d0887\"],[0.1111111111111111,\"#46039f\"],[0.2222222222222222,\"#7201a8\"],[0.3333333333333333,\"#9c179e\"],[0.4444444444444444,\"#bd3786\"],[0.5555555555555556,\"#d8576b\"],[0.6666666666666666,\"#ed7953\"],[0.7777777777777778,\"#fb9f3a\"],[0.8888888888888888,\"#fdca26\"],[1.0,\"#f0f921\"]],\"sequentialminus\":[[0.0,\"#0d0887\"],[0.1111111111111111,\"#46039f\"],[0.2222222222222222,\"#7201a8\"],[0.3333333333333333,\"#9c179e\"],[0.4444444444444444,\"#bd3786\"],[0.5555555555555556,\"#d8576b\"],[0.6666666666666666,\"#ed7953\"],[0.7777777777777778,\"#fb9f3a\"],[0.8888888888888888,\"#fdca26\"],[1.0,\"#f0f921\"]],\"diverging\":[[0,\"#8e0152\"],[0.1,\"#c51b7d\"],[0.2,\"#de77ae\"],[0.3,\"#f1b6da\"],[0.4,\"#fde0ef\"],[0.5,\"#f7f7f7\"],[0.6,\"#e6f5d0\"],[0.7,\"#b8e186\"],[0.8,\"#7fbc41\"],[0.9,\"#4d9221\"],[1,\"#276419\"]]},\"xaxis\":{\"gridcolor\":\"white\",\"linecolor\":\"white\",\"ticks\":\"\",\"title\":{\"standoff\":15},\"zerolinecolor\":\"white\",\"automargin\":true,\"zerolinewidth\":2},\"yaxis\":{\"gridcolor\":\"white\",\"linecolor\":\"white\",\"ticks\":\"\",\"title\":{\"standoff\":15},\"zerolinecolor\":\"white\",\"automargin\":true,\"zerolinewidth\":2},\"scene\":{\"xaxis\":{\"backgroundcolor\":\"#E5ECF6\",\"gridcolor\":\"white\",\"linecolor\":\"white\",\"showbackground\":true,\"ticks\":\"\",\"zerolinecolor\":\"white\",\"gridwidth\":2},\"yaxis\":{\"backgroundcolor\":\"#E5ECF6\",\"gridcolor\":\"white\",\"linecolor\":\"white\",\"showbackground\":true,\"ticks\":\"\",\"zerolinecolor\":\"white\",\"gridwidth\":2},\"zaxis\":{\"backgroundcolor\":\"#E5ECF6\",\"gridcolor\":\"white\",\"linecolor\":\"white\",\"showbackground\":true,\"ticks\":\"\",\"zerolinecolor\":\"white\",\"gridwidth\":2}},\"shapedefaults\":{\"line\":{\"color\":\"#2a3f5f\"}},\"annotationdefaults\":{\"arrowcolor\":\"#2a3f5f\",\"arrowhead\":0,\"arrowwidth\":1},\"geo\":{\"bgcolor\":\"white\",\"landcolor\":\"#E5ECF6\",\"subunitcolor\":\"white\",\"showland\":true,\"showlakes\":true,\"lakecolor\":\"white\"},\"title\":{\"x\":0.05},\"mapbox\":{\"style\":\"light\"}}},\"xaxis\":{\"anchor\":\"y\",\"domain\":[0.0,1.0],\"title\":{\"text\":\"teacher_model_name_or_path\"},\"categoryorder\":\"array\",\"categoryarray\":[\"CenIA/albert-base-spanish-finetuned-pawsx\",\"CenIA/bert-base-spanish-wwm-cased-finetuned-pawsx\",\"CenIA/roberta-large-bne-finetuned-pawsx\",\"CenIA/albert-xxlarge-spanish-finetuned-pawsx\",\"CenIA/distillbert-base-spanish-uncased-finetuned-pawsx\"]},\"yaxis\":{\"anchor\":\"x\",\"domain\":[0.0,1.0],\"title\":{\"text\":\"validation_accuracy\"}},\"legend\":{\"title\":{\"text\":\"teacher_model_name_or_path\"},\"tracegroupgap\":0},\"margin\":{\"t\":60},\"boxmode\":\"overlay\"},                        {\"responsive\": true}                    ).then(function(){\n",
       "                            \n",
       "var gd = document.getElementById('4ef6c233-25d9-449f-91e8-9c5d6abc5479');\n",
       "var x = new MutationObserver(function (mutations, observer) {{\n",
       "        var display = window.getComputedStyle(gd).display;\n",
       "        if (!display || display === 'none') {{\n",
       "            console.log([gd, 'removed!']);\n",
       "            Plotly.purge(gd);\n",
       "            observer.disconnect();\n",
       "        }}\n",
       "}});\n",
       "\n",
       "// Listen for the removal of the full notebook cells\n",
       "var notebookContainer = gd.closest('#notebook-container');\n",
       "if (notebookContainer) {{\n",
       "    x.observe(notebookContainer, {childList: true});\n",
       "}}\n",
       "\n",
       "// Listen for the clearing of the current output cell\n",
       "var outputEl = gd.closest('.output');\n",
       "if (outputEl) {{\n",
       "    x.observe(outputEl, {childList: true});\n",
       "}}\n",
       "\n",
       "                        })                };                });            </script>        </div>"
      ]
     },
     "metadata": {},
     "output_type": "display_data"
    }
   ],
   "source": [
    "fig = px.box(df.query('validation_accuracy > 0.6'), x=\"teacher_model_name_or_path\", y=\"validation_accuracy\", color=\"teacher_model_name_or_path\")\n",
    "fig.show()"
   ]
  },
  {
   "cell_type": "code",
   "execution_count": 100,
   "metadata": {},
   "outputs": [
    {
     "data": {
      "application/vnd.plotly.v1+json": {
       "config": {
        "plotlyServerURL": "https://plot.ly"
       },
       "data": [
        {
         "alignmentgroup": "True",
         "hovertemplate": "kd_loss_type=%{x}<br>validation_accuracy=%{y}<extra></extra>",
         "legendgroup": "mse",
         "marker": {
          "color": "#636efa"
         },
         "name": "mse",
         "notched": false,
         "offsetgroup": "mse",
         "orientation": "v",
         "showlegend": true,
         "type": "box",
         "x": [
          "mse",
          "mse",
          "mse",
          "mse",
          "mse",
          "mse",
          "mse",
          "mse",
          "mse",
          "mse",
          "mse",
          "mse",
          "mse",
          "mse",
          "mse",
          "mse",
          "mse",
          "mse",
          "mse",
          "mse",
          "mse",
          "mse",
          "mse",
          "mse",
          "mse",
          "mse",
          "mse",
          "mse",
          "mse",
          "mse",
          "mse",
          "mse",
          "mse",
          "mse",
          "mse",
          "mse",
          "mse",
          "mse",
          "mse",
          "mse",
          "mse",
          "mse",
          "mse",
          "mse",
          "mse",
          "mse",
          "mse",
          "mse",
          "mse",
          "mse",
          "mse",
          "mse",
          "mse",
          "mse",
          "mse",
          "mse",
          "mse",
          "mse",
          "mse",
          "mse",
          "mse",
          "mse",
          "mse"
         ],
         "x0": " ",
         "xaxis": "x",
         "y": [
          0.8565,
          0.8445,
          0.836,
          0.8405,
          0.852,
          0.854,
          0.863,
          0.8415,
          0.7965,
          0.7545,
          0.759,
          0.736,
          0.804,
          0.793,
          0.7955,
          0.757,
          0.8645,
          0.8845,
          0.8725,
          0.88,
          0.88,
          0.8765,
          0.8795,
          0.88,
          0.807,
          0.715,
          0.7785,
          0.818,
          0.8135,
          0.8135,
          0.83,
          0.785,
          0.824,
          0.828,
          0.84,
          0.8385,
          0.909,
          0.892,
          0.8995,
          0.8985,
          0.9075,
          0.856,
          0.89,
          0.901,
          0.9055,
          0.9015,
          0.903,
          0.9,
          0.8325,
          0.8185,
          0.8255,
          0.8125,
          0.8295,
          0.812,
          0.8285,
          0.836,
          0.826,
          0.887,
          0.902,
          0.896,
          0.8985,
          0.903,
          0.8925
         ],
         "y0": " ",
         "yaxis": "y"
        },
        {
         "alignmentgroup": "True",
         "hovertemplate": "kd_loss_type=%{x}<br>validation_accuracy=%{y}<extra></extra>",
         "legendgroup": "ce",
         "marker": {
          "color": "#EF553B"
         },
         "name": "ce",
         "notched": false,
         "offsetgroup": "ce",
         "orientation": "v",
         "showlegend": true,
         "type": "box",
         "x": [
          "ce",
          "ce",
          "ce",
          "ce",
          "ce",
          "ce",
          "ce",
          "ce",
          "ce",
          "ce",
          "ce",
          "ce",
          "ce",
          "ce",
          "ce",
          "ce",
          "ce",
          "ce",
          "ce",
          "ce",
          "ce",
          "ce",
          "ce",
          "ce",
          "ce",
          "ce",
          "ce",
          "ce",
          "ce",
          "ce",
          "ce",
          "ce",
          "ce",
          "ce",
          "ce",
          "ce",
          "ce",
          "ce",
          "ce",
          "ce",
          "ce",
          "ce",
          "ce",
          "ce",
          "ce",
          "ce",
          "ce",
          "ce",
          "ce",
          "ce",
          "ce",
          "ce",
          "ce",
          "ce",
          "ce",
          "ce",
          "ce",
          "ce",
          "ce",
          "ce",
          "ce",
          "ce",
          "ce"
         ],
         "x0": " ",
         "xaxis": "x",
         "y": [
          0.8435,
          0.839,
          0.8185,
          0.81,
          0.8295,
          0.838,
          0.836,
          0.8515,
          0.744,
          0.7555,
          0.7275,
          0.7415,
          0.7835,
          0.7585,
          0.7815,
          0.7555,
          0.8875,
          0.879,
          0.85,
          0.8715,
          0.874,
          0.877,
          0.888,
          0.8795,
          0.82,
          0.784,
          0.829,
          0.814,
          0.8345,
          0.8435,
          0.799,
          0.788,
          0.8285,
          0.825,
          0.8185,
          0.828,
          0.9025,
          0.906,
          0.899,
          0.899,
          0.902,
          0.9045,
          0.894,
          0.901,
          0.903,
          0.9035,
          0.91,
          0.831,
          0.8155,
          0.7925,
          0.807,
          0.846,
          0.817,
          0.823,
          0.8285,
          0.902,
          0.901,
          0.8945,
          0.8915,
          0.8835,
          0.89,
          0.8505,
          0.8975
         ],
         "y0": " ",
         "yaxis": "y"
        },
        {
         "alignmentgroup": "True",
         "hovertemplate": "kd_loss_type=%{x}<br>validation_accuracy=%{y}<extra></extra>",
         "legendgroup": "kldiv",
         "marker": {
          "color": "#00cc96"
         },
         "name": "kldiv",
         "notched": false,
         "offsetgroup": "kldiv",
         "orientation": "v",
         "showlegend": true,
         "type": "box",
         "x": [
          "kldiv",
          "kldiv",
          "kldiv",
          "kldiv",
          "kldiv",
          "kldiv",
          "kldiv",
          "kldiv",
          "kldiv",
          "kldiv",
          "kldiv",
          "kldiv",
          "kldiv",
          "kldiv",
          "kldiv",
          "kldiv",
          "kldiv",
          "kldiv",
          "kldiv",
          "kldiv",
          "kldiv",
          "kldiv",
          "kldiv",
          "kldiv",
          "kldiv",
          "kldiv",
          "kldiv",
          "kldiv",
          "kldiv",
          "kldiv",
          "kldiv",
          "kldiv",
          "kldiv",
          "kldiv",
          "kldiv",
          "kldiv",
          "kldiv",
          "kldiv",
          "kldiv",
          "kldiv",
          "kldiv",
          "kldiv",
          "kldiv",
          "kldiv",
          "kldiv",
          "kldiv",
          "kldiv",
          "kldiv",
          "kldiv",
          "kldiv",
          "kldiv",
          "kldiv",
          "kldiv",
          "kldiv",
          "kldiv",
          "kldiv",
          "kldiv",
          "kldiv",
          "kldiv",
          "kldiv",
          "kldiv",
          "kldiv",
          "kldiv"
         ],
         "x0": " ",
         "xaxis": "x",
         "y": [
          0.8265,
          0.8535,
          0.805,
          0.795,
          0.847,
          0.846,
          0.8465,
          0.836,
          0.7475,
          0.761,
          0.7455,
          0.7605,
          0.7695,
          0.776,
          0.751,
          0.761,
          0.867,
          0.876,
          0.8645,
          0.8695,
          0.885,
          0.877,
          0.891,
          0.88,
          0.789,
          0.8225,
          0.8405,
          0.843,
          0.7825,
          0.788,
          0.8455,
          0.8265,
          0.831,
          0.809,
          0.8975,
          0.902,
          0.8845,
          0.906,
          0.897,
          0.907,
          0.9005,
          0.911,
          0.899,
          0.9055,
          0.9035,
          0.8965,
          0.9115,
          0.8215,
          0.825,
          0.788,
          0.7975,
          0.835,
          0.8255,
          0.8335,
          0.8135,
          0.8905,
          0.888,
          0.8925,
          0.885,
          0.891,
          0.8915,
          0.883,
          0.8905
         ],
         "y0": " ",
         "yaxis": "y"
        }
       ],
       "layout": {
        "boxmode": "overlay",
        "legend": {
         "title": {
          "text": "kd_loss_type"
         },
         "tracegroupgap": 0
        },
        "margin": {
         "t": 60
        },
        "template": {
         "data": {
          "bar": [
           {
            "error_x": {
             "color": "#2a3f5f"
            },
            "error_y": {
             "color": "#2a3f5f"
            },
            "marker": {
             "line": {
              "color": "#E5ECF6",
              "width": 0.5
             },
             "pattern": {
              "fillmode": "overlay",
              "size": 10,
              "solidity": 0.2
             }
            },
            "type": "bar"
           }
          ],
          "barpolar": [
           {
            "marker": {
             "line": {
              "color": "#E5ECF6",
              "width": 0.5
             },
             "pattern": {
              "fillmode": "overlay",
              "size": 10,
              "solidity": 0.2
             }
            },
            "type": "barpolar"
           }
          ],
          "carpet": [
           {
            "aaxis": {
             "endlinecolor": "#2a3f5f",
             "gridcolor": "white",
             "linecolor": "white",
             "minorgridcolor": "white",
             "startlinecolor": "#2a3f5f"
            },
            "baxis": {
             "endlinecolor": "#2a3f5f",
             "gridcolor": "white",
             "linecolor": "white",
             "minorgridcolor": "white",
             "startlinecolor": "#2a3f5f"
            },
            "type": "carpet"
           }
          ],
          "choropleth": [
           {
            "colorbar": {
             "outlinewidth": 0,
             "ticks": ""
            },
            "type": "choropleth"
           }
          ],
          "contour": [
           {
            "colorbar": {
             "outlinewidth": 0,
             "ticks": ""
            },
            "colorscale": [
             [
              0,
              "#0d0887"
             ],
             [
              0.1111111111111111,
              "#46039f"
             ],
             [
              0.2222222222222222,
              "#7201a8"
             ],
             [
              0.3333333333333333,
              "#9c179e"
             ],
             [
              0.4444444444444444,
              "#bd3786"
             ],
             [
              0.5555555555555556,
              "#d8576b"
             ],
             [
              0.6666666666666666,
              "#ed7953"
             ],
             [
              0.7777777777777778,
              "#fb9f3a"
             ],
             [
              0.8888888888888888,
              "#fdca26"
             ],
             [
              1,
              "#f0f921"
             ]
            ],
            "type": "contour"
           }
          ],
          "contourcarpet": [
           {
            "colorbar": {
             "outlinewidth": 0,
             "ticks": ""
            },
            "type": "contourcarpet"
           }
          ],
          "heatmap": [
           {
            "colorbar": {
             "outlinewidth": 0,
             "ticks": ""
            },
            "colorscale": [
             [
              0,
              "#0d0887"
             ],
             [
              0.1111111111111111,
              "#46039f"
             ],
             [
              0.2222222222222222,
              "#7201a8"
             ],
             [
              0.3333333333333333,
              "#9c179e"
             ],
             [
              0.4444444444444444,
              "#bd3786"
             ],
             [
              0.5555555555555556,
              "#d8576b"
             ],
             [
              0.6666666666666666,
              "#ed7953"
             ],
             [
              0.7777777777777778,
              "#fb9f3a"
             ],
             [
              0.8888888888888888,
              "#fdca26"
             ],
             [
              1,
              "#f0f921"
             ]
            ],
            "type": "heatmap"
           }
          ],
          "heatmapgl": [
           {
            "colorbar": {
             "outlinewidth": 0,
             "ticks": ""
            },
            "colorscale": [
             [
              0,
              "#0d0887"
             ],
             [
              0.1111111111111111,
              "#46039f"
             ],
             [
              0.2222222222222222,
              "#7201a8"
             ],
             [
              0.3333333333333333,
              "#9c179e"
             ],
             [
              0.4444444444444444,
              "#bd3786"
             ],
             [
              0.5555555555555556,
              "#d8576b"
             ],
             [
              0.6666666666666666,
              "#ed7953"
             ],
             [
              0.7777777777777778,
              "#fb9f3a"
             ],
             [
              0.8888888888888888,
              "#fdca26"
             ],
             [
              1,
              "#f0f921"
             ]
            ],
            "type": "heatmapgl"
           }
          ],
          "histogram": [
           {
            "marker": {
             "pattern": {
              "fillmode": "overlay",
              "size": 10,
              "solidity": 0.2
             }
            },
            "type": "histogram"
           }
          ],
          "histogram2d": [
           {
            "colorbar": {
             "outlinewidth": 0,
             "ticks": ""
            },
            "colorscale": [
             [
              0,
              "#0d0887"
             ],
             [
              0.1111111111111111,
              "#46039f"
             ],
             [
              0.2222222222222222,
              "#7201a8"
             ],
             [
              0.3333333333333333,
              "#9c179e"
             ],
             [
              0.4444444444444444,
              "#bd3786"
             ],
             [
              0.5555555555555556,
              "#d8576b"
             ],
             [
              0.6666666666666666,
              "#ed7953"
             ],
             [
              0.7777777777777778,
              "#fb9f3a"
             ],
             [
              0.8888888888888888,
              "#fdca26"
             ],
             [
              1,
              "#f0f921"
             ]
            ],
            "type": "histogram2d"
           }
          ],
          "histogram2dcontour": [
           {
            "colorbar": {
             "outlinewidth": 0,
             "ticks": ""
            },
            "colorscale": [
             [
              0,
              "#0d0887"
             ],
             [
              0.1111111111111111,
              "#46039f"
             ],
             [
              0.2222222222222222,
              "#7201a8"
             ],
             [
              0.3333333333333333,
              "#9c179e"
             ],
             [
              0.4444444444444444,
              "#bd3786"
             ],
             [
              0.5555555555555556,
              "#d8576b"
             ],
             [
              0.6666666666666666,
              "#ed7953"
             ],
             [
              0.7777777777777778,
              "#fb9f3a"
             ],
             [
              0.8888888888888888,
              "#fdca26"
             ],
             [
              1,
              "#f0f921"
             ]
            ],
            "type": "histogram2dcontour"
           }
          ],
          "mesh3d": [
           {
            "colorbar": {
             "outlinewidth": 0,
             "ticks": ""
            },
            "type": "mesh3d"
           }
          ],
          "parcoords": [
           {
            "line": {
             "colorbar": {
              "outlinewidth": 0,
              "ticks": ""
             }
            },
            "type": "parcoords"
           }
          ],
          "pie": [
           {
            "automargin": true,
            "type": "pie"
           }
          ],
          "scatter": [
           {
            "fillpattern": {
             "fillmode": "overlay",
             "size": 10,
             "solidity": 0.2
            },
            "type": "scatter"
           }
          ],
          "scatter3d": [
           {
            "line": {
             "colorbar": {
              "outlinewidth": 0,
              "ticks": ""
             }
            },
            "marker": {
             "colorbar": {
              "outlinewidth": 0,
              "ticks": ""
             }
            },
            "type": "scatter3d"
           }
          ],
          "scattercarpet": [
           {
            "marker": {
             "colorbar": {
              "outlinewidth": 0,
              "ticks": ""
             }
            },
            "type": "scattercarpet"
           }
          ],
          "scattergeo": [
           {
            "marker": {
             "colorbar": {
              "outlinewidth": 0,
              "ticks": ""
             }
            },
            "type": "scattergeo"
           }
          ],
          "scattergl": [
           {
            "marker": {
             "colorbar": {
              "outlinewidth": 0,
              "ticks": ""
             }
            },
            "type": "scattergl"
           }
          ],
          "scattermapbox": [
           {
            "marker": {
             "colorbar": {
              "outlinewidth": 0,
              "ticks": ""
             }
            },
            "type": "scattermapbox"
           }
          ],
          "scatterpolar": [
           {
            "marker": {
             "colorbar": {
              "outlinewidth": 0,
              "ticks": ""
             }
            },
            "type": "scatterpolar"
           }
          ],
          "scatterpolargl": [
           {
            "marker": {
             "colorbar": {
              "outlinewidth": 0,
              "ticks": ""
             }
            },
            "type": "scatterpolargl"
           }
          ],
          "scatterternary": [
           {
            "marker": {
             "colorbar": {
              "outlinewidth": 0,
              "ticks": ""
             }
            },
            "type": "scatterternary"
           }
          ],
          "surface": [
           {
            "colorbar": {
             "outlinewidth": 0,
             "ticks": ""
            },
            "colorscale": [
             [
              0,
              "#0d0887"
             ],
             [
              0.1111111111111111,
              "#46039f"
             ],
             [
              0.2222222222222222,
              "#7201a8"
             ],
             [
              0.3333333333333333,
              "#9c179e"
             ],
             [
              0.4444444444444444,
              "#bd3786"
             ],
             [
              0.5555555555555556,
              "#d8576b"
             ],
             [
              0.6666666666666666,
              "#ed7953"
             ],
             [
              0.7777777777777778,
              "#fb9f3a"
             ],
             [
              0.8888888888888888,
              "#fdca26"
             ],
             [
              1,
              "#f0f921"
             ]
            ],
            "type": "surface"
           }
          ],
          "table": [
           {
            "cells": {
             "fill": {
              "color": "#EBF0F8"
             },
             "line": {
              "color": "white"
             }
            },
            "header": {
             "fill": {
              "color": "#C8D4E3"
             },
             "line": {
              "color": "white"
             }
            },
            "type": "table"
           }
          ]
         },
         "layout": {
          "annotationdefaults": {
           "arrowcolor": "#2a3f5f",
           "arrowhead": 0,
           "arrowwidth": 1
          },
          "autotypenumbers": "strict",
          "coloraxis": {
           "colorbar": {
            "outlinewidth": 0,
            "ticks": ""
           }
          },
          "colorscale": {
           "diverging": [
            [
             0,
             "#8e0152"
            ],
            [
             0.1,
             "#c51b7d"
            ],
            [
             0.2,
             "#de77ae"
            ],
            [
             0.3,
             "#f1b6da"
            ],
            [
             0.4,
             "#fde0ef"
            ],
            [
             0.5,
             "#f7f7f7"
            ],
            [
             0.6,
             "#e6f5d0"
            ],
            [
             0.7,
             "#b8e186"
            ],
            [
             0.8,
             "#7fbc41"
            ],
            [
             0.9,
             "#4d9221"
            ],
            [
             1,
             "#276419"
            ]
           ],
           "sequential": [
            [
             0,
             "#0d0887"
            ],
            [
             0.1111111111111111,
             "#46039f"
            ],
            [
             0.2222222222222222,
             "#7201a8"
            ],
            [
             0.3333333333333333,
             "#9c179e"
            ],
            [
             0.4444444444444444,
             "#bd3786"
            ],
            [
             0.5555555555555556,
             "#d8576b"
            ],
            [
             0.6666666666666666,
             "#ed7953"
            ],
            [
             0.7777777777777778,
             "#fb9f3a"
            ],
            [
             0.8888888888888888,
             "#fdca26"
            ],
            [
             1,
             "#f0f921"
            ]
           ],
           "sequentialminus": [
            [
             0,
             "#0d0887"
            ],
            [
             0.1111111111111111,
             "#46039f"
            ],
            [
             0.2222222222222222,
             "#7201a8"
            ],
            [
             0.3333333333333333,
             "#9c179e"
            ],
            [
             0.4444444444444444,
             "#bd3786"
            ],
            [
             0.5555555555555556,
             "#d8576b"
            ],
            [
             0.6666666666666666,
             "#ed7953"
            ],
            [
             0.7777777777777778,
             "#fb9f3a"
            ],
            [
             0.8888888888888888,
             "#fdca26"
            ],
            [
             1,
             "#f0f921"
            ]
           ]
          },
          "colorway": [
           "#636efa",
           "#EF553B",
           "#00cc96",
           "#ab63fa",
           "#FFA15A",
           "#19d3f3",
           "#FF6692",
           "#B6E880",
           "#FF97FF",
           "#FECB52"
          ],
          "font": {
           "color": "#2a3f5f"
          },
          "geo": {
           "bgcolor": "white",
           "lakecolor": "white",
           "landcolor": "#E5ECF6",
           "showlakes": true,
           "showland": true,
           "subunitcolor": "white"
          },
          "hoverlabel": {
           "align": "left"
          },
          "hovermode": "closest",
          "mapbox": {
           "style": "light"
          },
          "paper_bgcolor": "white",
          "plot_bgcolor": "#E5ECF6",
          "polar": {
           "angularaxis": {
            "gridcolor": "white",
            "linecolor": "white",
            "ticks": ""
           },
           "bgcolor": "#E5ECF6",
           "radialaxis": {
            "gridcolor": "white",
            "linecolor": "white",
            "ticks": ""
           }
          },
          "scene": {
           "xaxis": {
            "backgroundcolor": "#E5ECF6",
            "gridcolor": "white",
            "gridwidth": 2,
            "linecolor": "white",
            "showbackground": true,
            "ticks": "",
            "zerolinecolor": "white"
           },
           "yaxis": {
            "backgroundcolor": "#E5ECF6",
            "gridcolor": "white",
            "gridwidth": 2,
            "linecolor": "white",
            "showbackground": true,
            "ticks": "",
            "zerolinecolor": "white"
           },
           "zaxis": {
            "backgroundcolor": "#E5ECF6",
            "gridcolor": "white",
            "gridwidth": 2,
            "linecolor": "white",
            "showbackground": true,
            "ticks": "",
            "zerolinecolor": "white"
           }
          },
          "shapedefaults": {
           "line": {
            "color": "#2a3f5f"
           }
          },
          "ternary": {
           "aaxis": {
            "gridcolor": "white",
            "linecolor": "white",
            "ticks": ""
           },
           "baxis": {
            "gridcolor": "white",
            "linecolor": "white",
            "ticks": ""
           },
           "bgcolor": "#E5ECF6",
           "caxis": {
            "gridcolor": "white",
            "linecolor": "white",
            "ticks": ""
           }
          },
          "title": {
           "x": 0.05
          },
          "xaxis": {
           "automargin": true,
           "gridcolor": "white",
           "linecolor": "white",
           "ticks": "",
           "title": {
            "standoff": 15
           },
           "zerolinecolor": "white",
           "zerolinewidth": 2
          },
          "yaxis": {
           "automargin": true,
           "gridcolor": "white",
           "linecolor": "white",
           "ticks": "",
           "title": {
            "standoff": 15
           },
           "zerolinecolor": "white",
           "zerolinewidth": 2
          }
         }
        },
        "xaxis": {
         "anchor": "y",
         "categoryarray": [
          "mse",
          "ce",
          "kldiv"
         ],
         "categoryorder": "array",
         "domain": [
          0,
          1
         ],
         "title": {
          "text": "kd_loss_type"
         }
        },
        "yaxis": {
         "anchor": "x",
         "domain": [
          0,
          1
         ],
         "title": {
          "text": "validation_accuracy"
         }
        }
       }
      },
      "text/html": [
       "<div>                            <div id=\"de2e9204-e3c8-4915-bbbc-fcfeee499afe\" class=\"plotly-graph-div\" style=\"height:525px; width:100%;\"></div>            <script type=\"text/javascript\">                require([\"plotly\"], function(Plotly) {                    window.PLOTLYENV=window.PLOTLYENV || {};                                    if (document.getElementById(\"de2e9204-e3c8-4915-bbbc-fcfeee499afe\")) {                    Plotly.newPlot(                        \"de2e9204-e3c8-4915-bbbc-fcfeee499afe\",                        [{\"alignmentgroup\":\"True\",\"hovertemplate\":\"kd_loss_type=%{x}<br>validation_accuracy=%{y}<extra></extra>\",\"legendgroup\":\"mse\",\"marker\":{\"color\":\"#636efa\"},\"name\":\"mse\",\"notched\":false,\"offsetgroup\":\"mse\",\"orientation\":\"v\",\"showlegend\":true,\"x\":[\"mse\",\"mse\",\"mse\",\"mse\",\"mse\",\"mse\",\"mse\",\"mse\",\"mse\",\"mse\",\"mse\",\"mse\",\"mse\",\"mse\",\"mse\",\"mse\",\"mse\",\"mse\",\"mse\",\"mse\",\"mse\",\"mse\",\"mse\",\"mse\",\"mse\",\"mse\",\"mse\",\"mse\",\"mse\",\"mse\",\"mse\",\"mse\",\"mse\",\"mse\",\"mse\",\"mse\",\"mse\",\"mse\",\"mse\",\"mse\",\"mse\",\"mse\",\"mse\",\"mse\",\"mse\",\"mse\",\"mse\",\"mse\",\"mse\",\"mse\",\"mse\",\"mse\",\"mse\",\"mse\",\"mse\",\"mse\",\"mse\",\"mse\",\"mse\",\"mse\",\"mse\",\"mse\",\"mse\"],\"x0\":\" \",\"xaxis\":\"x\",\"y\":[0.8565,0.8445,0.836,0.8405,0.852,0.854,0.863,0.8415,0.7965,0.7545,0.759,0.736,0.804,0.793,0.7955,0.757,0.8645,0.8845,0.8725,0.88,0.88,0.8765,0.8795,0.88,0.807,0.715,0.7785,0.818,0.8135,0.8135,0.83,0.785,0.824,0.828,0.84,0.8385,0.909,0.892,0.8995,0.8985,0.9075,0.856,0.89,0.901,0.9055,0.9015,0.903,0.9,0.8325,0.8185,0.8255,0.8125,0.8295,0.812,0.8285,0.836,0.826,0.887,0.902,0.896,0.8985,0.903,0.8925],\"y0\":\" \",\"yaxis\":\"y\",\"type\":\"box\"},{\"alignmentgroup\":\"True\",\"hovertemplate\":\"kd_loss_type=%{x}<br>validation_accuracy=%{y}<extra></extra>\",\"legendgroup\":\"ce\",\"marker\":{\"color\":\"#EF553B\"},\"name\":\"ce\",\"notched\":false,\"offsetgroup\":\"ce\",\"orientation\":\"v\",\"showlegend\":true,\"x\":[\"ce\",\"ce\",\"ce\",\"ce\",\"ce\",\"ce\",\"ce\",\"ce\",\"ce\",\"ce\",\"ce\",\"ce\",\"ce\",\"ce\",\"ce\",\"ce\",\"ce\",\"ce\",\"ce\",\"ce\",\"ce\",\"ce\",\"ce\",\"ce\",\"ce\",\"ce\",\"ce\",\"ce\",\"ce\",\"ce\",\"ce\",\"ce\",\"ce\",\"ce\",\"ce\",\"ce\",\"ce\",\"ce\",\"ce\",\"ce\",\"ce\",\"ce\",\"ce\",\"ce\",\"ce\",\"ce\",\"ce\",\"ce\",\"ce\",\"ce\",\"ce\",\"ce\",\"ce\",\"ce\",\"ce\",\"ce\",\"ce\",\"ce\",\"ce\",\"ce\",\"ce\",\"ce\",\"ce\"],\"x0\":\" \",\"xaxis\":\"x\",\"y\":[0.8435,0.839,0.8185,0.81,0.8295,0.838,0.836,0.8515,0.744,0.7555,0.7275,0.7415,0.7835,0.7585,0.7815,0.7555,0.8875,0.879,0.85,0.8715,0.874,0.877,0.888,0.8795,0.82,0.784,0.829,0.814,0.8345,0.8435,0.799,0.788,0.8285,0.825,0.8185,0.828,0.9025,0.906,0.899,0.899,0.902,0.9045,0.894,0.901,0.903,0.9035,0.91,0.831,0.8155,0.7925,0.807,0.846,0.817,0.823,0.8285,0.902,0.901,0.8945,0.8915,0.8835,0.89,0.8505,0.8975],\"y0\":\" \",\"yaxis\":\"y\",\"type\":\"box\"},{\"alignmentgroup\":\"True\",\"hovertemplate\":\"kd_loss_type=%{x}<br>validation_accuracy=%{y}<extra></extra>\",\"legendgroup\":\"kldiv\",\"marker\":{\"color\":\"#00cc96\"},\"name\":\"kldiv\",\"notched\":false,\"offsetgroup\":\"kldiv\",\"orientation\":\"v\",\"showlegend\":true,\"x\":[\"kldiv\",\"kldiv\",\"kldiv\",\"kldiv\",\"kldiv\",\"kldiv\",\"kldiv\",\"kldiv\",\"kldiv\",\"kldiv\",\"kldiv\",\"kldiv\",\"kldiv\",\"kldiv\",\"kldiv\",\"kldiv\",\"kldiv\",\"kldiv\",\"kldiv\",\"kldiv\",\"kldiv\",\"kldiv\",\"kldiv\",\"kldiv\",\"kldiv\",\"kldiv\",\"kldiv\",\"kldiv\",\"kldiv\",\"kldiv\",\"kldiv\",\"kldiv\",\"kldiv\",\"kldiv\",\"kldiv\",\"kldiv\",\"kldiv\",\"kldiv\",\"kldiv\",\"kldiv\",\"kldiv\",\"kldiv\",\"kldiv\",\"kldiv\",\"kldiv\",\"kldiv\",\"kldiv\",\"kldiv\",\"kldiv\",\"kldiv\",\"kldiv\",\"kldiv\",\"kldiv\",\"kldiv\",\"kldiv\",\"kldiv\",\"kldiv\",\"kldiv\",\"kldiv\",\"kldiv\",\"kldiv\",\"kldiv\",\"kldiv\"],\"x0\":\" \",\"xaxis\":\"x\",\"y\":[0.8265,0.8535,0.805,0.795,0.847,0.846,0.8465,0.836,0.7475,0.761,0.7455,0.7605,0.7695,0.776,0.751,0.761,0.867,0.876,0.8645,0.8695,0.885,0.877,0.891,0.88,0.789,0.8225,0.8405,0.843,0.7825,0.788,0.8455,0.8265,0.831,0.809,0.8975,0.902,0.8845,0.906,0.897,0.907,0.9005,0.911,0.899,0.9055,0.9035,0.8965,0.9115,0.8215,0.825,0.788,0.7975,0.835,0.8255,0.8335,0.8135,0.8905,0.888,0.8925,0.885,0.891,0.8915,0.883,0.8905],\"y0\":\" \",\"yaxis\":\"y\",\"type\":\"box\"}],                        {\"template\":{\"data\":{\"histogram2dcontour\":[{\"type\":\"histogram2dcontour\",\"colorbar\":{\"outlinewidth\":0,\"ticks\":\"\"},\"colorscale\":[[0.0,\"#0d0887\"],[0.1111111111111111,\"#46039f\"],[0.2222222222222222,\"#7201a8\"],[0.3333333333333333,\"#9c179e\"],[0.4444444444444444,\"#bd3786\"],[0.5555555555555556,\"#d8576b\"],[0.6666666666666666,\"#ed7953\"],[0.7777777777777778,\"#fb9f3a\"],[0.8888888888888888,\"#fdca26\"],[1.0,\"#f0f921\"]]}],\"choropleth\":[{\"type\":\"choropleth\",\"colorbar\":{\"outlinewidth\":0,\"ticks\":\"\"}}],\"histogram2d\":[{\"type\":\"histogram2d\",\"colorbar\":{\"outlinewidth\":0,\"ticks\":\"\"},\"colorscale\":[[0.0,\"#0d0887\"],[0.1111111111111111,\"#46039f\"],[0.2222222222222222,\"#7201a8\"],[0.3333333333333333,\"#9c179e\"],[0.4444444444444444,\"#bd3786\"],[0.5555555555555556,\"#d8576b\"],[0.6666666666666666,\"#ed7953\"],[0.7777777777777778,\"#fb9f3a\"],[0.8888888888888888,\"#fdca26\"],[1.0,\"#f0f921\"]]}],\"heatmap\":[{\"type\":\"heatmap\",\"colorbar\":{\"outlinewidth\":0,\"ticks\":\"\"},\"colorscale\":[[0.0,\"#0d0887\"],[0.1111111111111111,\"#46039f\"],[0.2222222222222222,\"#7201a8\"],[0.3333333333333333,\"#9c179e\"],[0.4444444444444444,\"#bd3786\"],[0.5555555555555556,\"#d8576b\"],[0.6666666666666666,\"#ed7953\"],[0.7777777777777778,\"#fb9f3a\"],[0.8888888888888888,\"#fdca26\"],[1.0,\"#f0f921\"]]}],\"heatmapgl\":[{\"type\":\"heatmapgl\",\"colorbar\":{\"outlinewidth\":0,\"ticks\":\"\"},\"colorscale\":[[0.0,\"#0d0887\"],[0.1111111111111111,\"#46039f\"],[0.2222222222222222,\"#7201a8\"],[0.3333333333333333,\"#9c179e\"],[0.4444444444444444,\"#bd3786\"],[0.5555555555555556,\"#d8576b\"],[0.6666666666666666,\"#ed7953\"],[0.7777777777777778,\"#fb9f3a\"],[0.8888888888888888,\"#fdca26\"],[1.0,\"#f0f921\"]]}],\"contourcarpet\":[{\"type\":\"contourcarpet\",\"colorbar\":{\"outlinewidth\":0,\"ticks\":\"\"}}],\"contour\":[{\"type\":\"contour\",\"colorbar\":{\"outlinewidth\":0,\"ticks\":\"\"},\"colorscale\":[[0.0,\"#0d0887\"],[0.1111111111111111,\"#46039f\"],[0.2222222222222222,\"#7201a8\"],[0.3333333333333333,\"#9c179e\"],[0.4444444444444444,\"#bd3786\"],[0.5555555555555556,\"#d8576b\"],[0.6666666666666666,\"#ed7953\"],[0.7777777777777778,\"#fb9f3a\"],[0.8888888888888888,\"#fdca26\"],[1.0,\"#f0f921\"]]}],\"surface\":[{\"type\":\"surface\",\"colorbar\":{\"outlinewidth\":0,\"ticks\":\"\"},\"colorscale\":[[0.0,\"#0d0887\"],[0.1111111111111111,\"#46039f\"],[0.2222222222222222,\"#7201a8\"],[0.3333333333333333,\"#9c179e\"],[0.4444444444444444,\"#bd3786\"],[0.5555555555555556,\"#d8576b\"],[0.6666666666666666,\"#ed7953\"],[0.7777777777777778,\"#fb9f3a\"],[0.8888888888888888,\"#fdca26\"],[1.0,\"#f0f921\"]]}],\"mesh3d\":[{\"type\":\"mesh3d\",\"colorbar\":{\"outlinewidth\":0,\"ticks\":\"\"}}],\"scatter\":[{\"fillpattern\":{\"fillmode\":\"overlay\",\"size\":10,\"solidity\":0.2},\"type\":\"scatter\"}],\"parcoords\":[{\"type\":\"parcoords\",\"line\":{\"colorbar\":{\"outlinewidth\":0,\"ticks\":\"\"}}}],\"scatterpolargl\":[{\"type\":\"scatterpolargl\",\"marker\":{\"colorbar\":{\"outlinewidth\":0,\"ticks\":\"\"}}}],\"bar\":[{\"error_x\":{\"color\":\"#2a3f5f\"},\"error_y\":{\"color\":\"#2a3f5f\"},\"marker\":{\"line\":{\"color\":\"#E5ECF6\",\"width\":0.5},\"pattern\":{\"fillmode\":\"overlay\",\"size\":10,\"solidity\":0.2}},\"type\":\"bar\"}],\"scattergeo\":[{\"type\":\"scattergeo\",\"marker\":{\"colorbar\":{\"outlinewidth\":0,\"ticks\":\"\"}}}],\"scatterpolar\":[{\"type\":\"scatterpolar\",\"marker\":{\"colorbar\":{\"outlinewidth\":0,\"ticks\":\"\"}}}],\"histogram\":[{\"marker\":{\"pattern\":{\"fillmode\":\"overlay\",\"size\":10,\"solidity\":0.2}},\"type\":\"histogram\"}],\"scattergl\":[{\"type\":\"scattergl\",\"marker\":{\"colorbar\":{\"outlinewidth\":0,\"ticks\":\"\"}}}],\"scatter3d\":[{\"type\":\"scatter3d\",\"line\":{\"colorbar\":{\"outlinewidth\":0,\"ticks\":\"\"}},\"marker\":{\"colorbar\":{\"outlinewidth\":0,\"ticks\":\"\"}}}],\"scattermapbox\":[{\"type\":\"scattermapbox\",\"marker\":{\"colorbar\":{\"outlinewidth\":0,\"ticks\":\"\"}}}],\"scatterternary\":[{\"type\":\"scatterternary\",\"marker\":{\"colorbar\":{\"outlinewidth\":0,\"ticks\":\"\"}}}],\"scattercarpet\":[{\"type\":\"scattercarpet\",\"marker\":{\"colorbar\":{\"outlinewidth\":0,\"ticks\":\"\"}}}],\"carpet\":[{\"aaxis\":{\"endlinecolor\":\"#2a3f5f\",\"gridcolor\":\"white\",\"linecolor\":\"white\",\"minorgridcolor\":\"white\",\"startlinecolor\":\"#2a3f5f\"},\"baxis\":{\"endlinecolor\":\"#2a3f5f\",\"gridcolor\":\"white\",\"linecolor\":\"white\",\"minorgridcolor\":\"white\",\"startlinecolor\":\"#2a3f5f\"},\"type\":\"carpet\"}],\"table\":[{\"cells\":{\"fill\":{\"color\":\"#EBF0F8\"},\"line\":{\"color\":\"white\"}},\"header\":{\"fill\":{\"color\":\"#C8D4E3\"},\"line\":{\"color\":\"white\"}},\"type\":\"table\"}],\"barpolar\":[{\"marker\":{\"line\":{\"color\":\"#E5ECF6\",\"width\":0.5},\"pattern\":{\"fillmode\":\"overlay\",\"size\":10,\"solidity\":0.2}},\"type\":\"barpolar\"}],\"pie\":[{\"automargin\":true,\"type\":\"pie\"}]},\"layout\":{\"autotypenumbers\":\"strict\",\"colorway\":[\"#636efa\",\"#EF553B\",\"#00cc96\",\"#ab63fa\",\"#FFA15A\",\"#19d3f3\",\"#FF6692\",\"#B6E880\",\"#FF97FF\",\"#FECB52\"],\"font\":{\"color\":\"#2a3f5f\"},\"hovermode\":\"closest\",\"hoverlabel\":{\"align\":\"left\"},\"paper_bgcolor\":\"white\",\"plot_bgcolor\":\"#E5ECF6\",\"polar\":{\"bgcolor\":\"#E5ECF6\",\"angularaxis\":{\"gridcolor\":\"white\",\"linecolor\":\"white\",\"ticks\":\"\"},\"radialaxis\":{\"gridcolor\":\"white\",\"linecolor\":\"white\",\"ticks\":\"\"}},\"ternary\":{\"bgcolor\":\"#E5ECF6\",\"aaxis\":{\"gridcolor\":\"white\",\"linecolor\":\"white\",\"ticks\":\"\"},\"baxis\":{\"gridcolor\":\"white\",\"linecolor\":\"white\",\"ticks\":\"\"},\"caxis\":{\"gridcolor\":\"white\",\"linecolor\":\"white\",\"ticks\":\"\"}},\"coloraxis\":{\"colorbar\":{\"outlinewidth\":0,\"ticks\":\"\"}},\"colorscale\":{\"sequential\":[[0.0,\"#0d0887\"],[0.1111111111111111,\"#46039f\"],[0.2222222222222222,\"#7201a8\"],[0.3333333333333333,\"#9c179e\"],[0.4444444444444444,\"#bd3786\"],[0.5555555555555556,\"#d8576b\"],[0.6666666666666666,\"#ed7953\"],[0.7777777777777778,\"#fb9f3a\"],[0.8888888888888888,\"#fdca26\"],[1.0,\"#f0f921\"]],\"sequentialminus\":[[0.0,\"#0d0887\"],[0.1111111111111111,\"#46039f\"],[0.2222222222222222,\"#7201a8\"],[0.3333333333333333,\"#9c179e\"],[0.4444444444444444,\"#bd3786\"],[0.5555555555555556,\"#d8576b\"],[0.6666666666666666,\"#ed7953\"],[0.7777777777777778,\"#fb9f3a\"],[0.8888888888888888,\"#fdca26\"],[1.0,\"#f0f921\"]],\"diverging\":[[0,\"#8e0152\"],[0.1,\"#c51b7d\"],[0.2,\"#de77ae\"],[0.3,\"#f1b6da\"],[0.4,\"#fde0ef\"],[0.5,\"#f7f7f7\"],[0.6,\"#e6f5d0\"],[0.7,\"#b8e186\"],[0.8,\"#7fbc41\"],[0.9,\"#4d9221\"],[1,\"#276419\"]]},\"xaxis\":{\"gridcolor\":\"white\",\"linecolor\":\"white\",\"ticks\":\"\",\"title\":{\"standoff\":15},\"zerolinecolor\":\"white\",\"automargin\":true,\"zerolinewidth\":2},\"yaxis\":{\"gridcolor\":\"white\",\"linecolor\":\"white\",\"ticks\":\"\",\"title\":{\"standoff\":15},\"zerolinecolor\":\"white\",\"automargin\":true,\"zerolinewidth\":2},\"scene\":{\"xaxis\":{\"backgroundcolor\":\"#E5ECF6\",\"gridcolor\":\"white\",\"linecolor\":\"white\",\"showbackground\":true,\"ticks\":\"\",\"zerolinecolor\":\"white\",\"gridwidth\":2},\"yaxis\":{\"backgroundcolor\":\"#E5ECF6\",\"gridcolor\":\"white\",\"linecolor\":\"white\",\"showbackground\":true,\"ticks\":\"\",\"zerolinecolor\":\"white\",\"gridwidth\":2},\"zaxis\":{\"backgroundcolor\":\"#E5ECF6\",\"gridcolor\":\"white\",\"linecolor\":\"white\",\"showbackground\":true,\"ticks\":\"\",\"zerolinecolor\":\"white\",\"gridwidth\":2}},\"shapedefaults\":{\"line\":{\"color\":\"#2a3f5f\"}},\"annotationdefaults\":{\"arrowcolor\":\"#2a3f5f\",\"arrowhead\":0,\"arrowwidth\":1},\"geo\":{\"bgcolor\":\"white\",\"landcolor\":\"#E5ECF6\",\"subunitcolor\":\"white\",\"showland\":true,\"showlakes\":true,\"lakecolor\":\"white\"},\"title\":{\"x\":0.05},\"mapbox\":{\"style\":\"light\"}}},\"xaxis\":{\"anchor\":\"y\",\"domain\":[0.0,1.0],\"title\":{\"text\":\"kd_loss_type\"},\"categoryorder\":\"array\",\"categoryarray\":[\"mse\",\"ce\",\"kldiv\"]},\"yaxis\":{\"anchor\":\"x\",\"domain\":[0.0,1.0],\"title\":{\"text\":\"validation_accuracy\"}},\"legend\":{\"title\":{\"text\":\"kd_loss_type\"},\"tracegroupgap\":0},\"margin\":{\"t\":60},\"boxmode\":\"overlay\"},                        {\"responsive\": true}                    ).then(function(){\n",
       "                            \n",
       "var gd = document.getElementById('de2e9204-e3c8-4915-bbbc-fcfeee499afe');\n",
       "var x = new MutationObserver(function (mutations, observer) {{\n",
       "        var display = window.getComputedStyle(gd).display;\n",
       "        if (!display || display === 'none') {{\n",
       "            console.log([gd, 'removed!']);\n",
       "            Plotly.purge(gd);\n",
       "            observer.disconnect();\n",
       "        }}\n",
       "}});\n",
       "\n",
       "// Listen for the removal of the full notebook cells\n",
       "var notebookContainer = gd.closest('#notebook-container');\n",
       "if (notebookContainer) {{\n",
       "    x.observe(notebookContainer, {childList: true});\n",
       "}}\n",
       "\n",
       "// Listen for the clearing of the current output cell\n",
       "var outputEl = gd.closest('.output');\n",
       "if (outputEl) {{\n",
       "    x.observe(outputEl, {childList: true});\n",
       "}}\n",
       "\n",
       "                        })                };                });            </script>        </div>"
      ]
     },
     "metadata": {},
     "output_type": "display_data"
    }
   ],
   "source": [
    "fig = px.box(df.query('validation_accuracy > 0.6 and teacher_model_name_or_path != \"CenIA/distillbert-base-spanish-uncased-finetuned-pawsx\"'), x=\"kd_loss_type\", y=\"validation_accuracy\", color=\"kd_loss_type\")\n",
    "fig.show()"
   ]
  },
  {
   "cell_type": "code",
   "execution_count": 136,
   "metadata": {},
   "outputs": [
    {
     "data": {
      "text/html": [
       "<div>\n",
       "<style scoped>\n",
       "    .dataframe tbody tr th:only-of-type {\n",
       "        vertical-align: middle;\n",
       "    }\n",
       "\n",
       "    .dataframe tbody tr th {\n",
       "        vertical-align: top;\n",
       "    }\n",
       "\n",
       "    .dataframe thead th {\n",
       "        text-align: right;\n",
       "    }\n",
       "</style>\n",
       "<table border=\"1\" class=\"dataframe\">\n",
       "  <thead>\n",
       "    <tr style=\"text-align: right;\">\n",
       "      <th></th>\n",
       "      <th>student_model_name_or_path</th>\n",
       "      <th>macs</th>\n",
       "      <th>validation_accuracy</th>\n",
       "    </tr>\n",
       "  </thead>\n",
       "  <tbody>\n",
       "    <tr>\n",
       "      <th>0</th>\n",
       "      <td>albeto-base</td>\n",
       "      <td>4.357548e+10</td>\n",
       "      <td>0.90300</td>\n",
       "    </tr>\n",
       "    <tr>\n",
       "      <th>1</th>\n",
       "      <td>albeto-base-10</td>\n",
       "      <td>3.632143e+10</td>\n",
       "      <td>0.89950</td>\n",
       "    </tr>\n",
       "    <tr>\n",
       "      <th>2</th>\n",
       "      <td>albeto-base-2</td>\n",
       "      <td>7.305235e+09</td>\n",
       "      <td>0.75875</td>\n",
       "    </tr>\n",
       "    <tr>\n",
       "      <th>3</th>\n",
       "      <td>albeto-base-4</td>\n",
       "      <td>1.455928e+10</td>\n",
       "      <td>0.84100</td>\n",
       "    </tr>\n",
       "    <tr>\n",
       "      <th>4</th>\n",
       "      <td>albeto-base-6</td>\n",
       "      <td>2.181333e+10</td>\n",
       "      <td>0.87800</td>\n",
       "    </tr>\n",
       "    <tr>\n",
       "      <th>5</th>\n",
       "      <td>albeto-base-8</td>\n",
       "      <td>2.906738e+10</td>\n",
       "      <td>0.89150</td>\n",
       "    </tr>\n",
       "    <tr>\n",
       "      <th>6</th>\n",
       "      <td>albeto-tiny</td>\n",
       "      <td>2.418246e+09</td>\n",
       "      <td>0.82725</td>\n",
       "    </tr>\n",
       "    <tr>\n",
       "      <th>7</th>\n",
       "      <td>albeto-tiny-12</td>\n",
       "      <td>7.213122e+09</td>\n",
       "      <td>0.81050</td>\n",
       "    </tr>\n",
       "    <tr>\n",
       "      <th>8</th>\n",
       "      <td>albeto-tiny-6</td>\n",
       "      <td>3.616965e+09</td>\n",
       "      <td>0.82400</td>\n",
       "    </tr>\n",
       "  </tbody>\n",
       "</table>\n",
       "</div>"
      ],
      "text/plain": [
       "  student_model_name_or_path          macs  validation_accuracy\n",
       "0                albeto-base  4.357548e+10              0.90300\n",
       "1             albeto-base-10  3.632143e+10              0.89950\n",
       "2              albeto-base-2  7.305235e+09              0.75875\n",
       "3              albeto-base-4  1.455928e+10              0.84100\n",
       "4              albeto-base-6  2.181333e+10              0.87800\n",
       "5              albeto-base-8  2.906738e+10              0.89150\n",
       "6                albeto-tiny  2.418246e+09              0.82725\n",
       "7             albeto-tiny-12  7.213122e+09              0.81050\n",
       "8              albeto-tiny-6  3.616965e+09              0.82400"
      ]
     },
     "execution_count": 136,
     "metadata": {},
     "output_type": "execute_result"
    }
   ],
   "source": [
    "query_df = df.query('validation_accuracy > 0.6 and teacher_model_name_or_path != \"CenIA/distillbert-base-spanish-uncased-finetuned-pawsx\"')\n",
    "query_df = query_df.groupby([\"student_model_name_or_path\", \"macs\"], as_index=False)[\"validation_accuracy\"].median()\n",
    "query_df"
   ]
  },
  {
   "cell_type": "code",
   "execution_count": 137,
   "metadata": {},
   "outputs": [
    {
     "data": {
      "text/plain": [
       "Index(['student_model_name_or_path', 'macs', 'validation_accuracy'], dtype='object')"
      ]
     },
     "execution_count": 137,
     "metadata": {},
     "output_type": "execute_result"
    }
   ],
   "source": [
    "query_df.columns"
   ]
  },
  {
   "cell_type": "code",
   "execution_count": 138,
   "metadata": {},
   "outputs": [
    {
     "data": {
      "application/vnd.plotly.v1+json": {
       "config": {
        "plotlyServerURL": "https://plot.ly"
       },
       "data": [
        {
         "hovertemplate": "student_model_name_or_path=albeto-base<br>macs=%{x}<br>validation_accuracy=%{y}<extra></extra>",
         "legendgroup": "albeto-base",
         "marker": {
          "color": "#636efa",
          "symbol": "circle"
         },
         "mode": "markers",
         "name": "albeto-base",
         "orientation": "v",
         "showlegend": true,
         "type": "scatter",
         "x": [
          43575478528
         ],
         "xaxis": "x",
         "y": [
          0.903
         ],
         "yaxis": "y"
        },
        {
         "hovertemplate": "student_model_name_or_path=albeto-base-10<br>macs=%{x}<br>validation_accuracy=%{y}<extra></extra>",
         "legendgroup": "albeto-base-10",
         "marker": {
          "color": "#EF553B",
          "symbol": "circle"
         },
         "mode": "markers",
         "name": "albeto-base-10",
         "orientation": "v",
         "showlegend": true,
         "type": "scatter",
         "x": [
          36321429760
         ],
         "xaxis": "x",
         "y": [
          0.8995
         ],
         "yaxis": "y"
        },
        {
         "hovertemplate": "student_model_name_or_path=albeto-base-2<br>macs=%{x}<br>validation_accuracy=%{y}<extra></extra>",
         "legendgroup": "albeto-base-2",
         "marker": {
          "color": "#00cc96",
          "symbol": "circle"
         },
         "mode": "markers",
         "name": "albeto-base-2",
         "orientation": "v",
         "showlegend": true,
         "type": "scatter",
         "x": [
          7305234688
         ],
         "xaxis": "x",
         "y": [
          0.75875
         ],
         "yaxis": "y"
        },
        {
         "hovertemplate": "student_model_name_or_path=albeto-base-4<br>macs=%{x}<br>validation_accuracy=%{y}<extra></extra>",
         "legendgroup": "albeto-base-4",
         "marker": {
          "color": "#ab63fa",
          "symbol": "circle"
         },
         "mode": "markers",
         "name": "albeto-base-4",
         "orientation": "v",
         "showlegend": true,
         "type": "scatter",
         "x": [
          14559283456
         ],
         "xaxis": "x",
         "y": [
          0.841
         ],
         "yaxis": "y"
        },
        {
         "hovertemplate": "student_model_name_or_path=albeto-base-6<br>macs=%{x}<br>validation_accuracy=%{y}<extra></extra>",
         "legendgroup": "albeto-base-6",
         "marker": {
          "color": "#FFA15A",
          "symbol": "circle"
         },
         "mode": "markers",
         "name": "albeto-base-6",
         "orientation": "v",
         "showlegend": true,
         "type": "scatter",
         "x": [
          21813332224
         ],
         "xaxis": "x",
         "y": [
          0.878
         ],
         "yaxis": "y"
        },
        {
         "hovertemplate": "student_model_name_or_path=albeto-base-8<br>macs=%{x}<br>validation_accuracy=%{y}<extra></extra>",
         "legendgroup": "albeto-base-8",
         "marker": {
          "color": "#19d3f3",
          "symbol": "circle"
         },
         "mode": "markers",
         "name": "albeto-base-8",
         "orientation": "v",
         "showlegend": true,
         "type": "scatter",
         "x": [
          29067380992
         ],
         "xaxis": "x",
         "y": [
          0.8915
         ],
         "yaxis": "y"
        },
        {
         "hovertemplate": "student_model_name_or_path=albeto-tiny<br>macs=%{x}<br>validation_accuracy=%{y}<extra></extra>",
         "legendgroup": "albeto-tiny",
         "marker": {
          "color": "#FF6692",
          "symbol": "circle"
         },
         "mode": "markers",
         "name": "albeto-tiny",
         "orientation": "v",
         "showlegend": true,
         "type": "scatter",
         "x": [
          2418245608
         ],
         "xaxis": "x",
         "y": [
          0.82725
         ],
         "yaxis": "y"
        },
        {
         "hovertemplate": "student_model_name_or_path=albeto-tiny-12<br>macs=%{x}<br>validation_accuracy=%{y}<extra></extra>",
         "legendgroup": "albeto-tiny-12",
         "marker": {
          "color": "#B6E880",
          "symbol": "circle"
         },
         "mode": "markers",
         "name": "albeto-tiny-12",
         "orientation": "v",
         "showlegend": true,
         "type": "scatter",
         "x": [
          7213121512
         ],
         "xaxis": "x",
         "y": [
          0.8105
         ],
         "yaxis": "y"
        },
        {
         "hovertemplate": "student_model_name_or_path=albeto-tiny-6<br>macs=%{x}<br>validation_accuracy=%{y}<extra></extra>",
         "legendgroup": "albeto-tiny-6",
         "marker": {
          "color": "#FF97FF",
          "symbol": "circle"
         },
         "mode": "markers",
         "name": "albeto-tiny-6",
         "orientation": "v",
         "showlegend": true,
         "type": "scatter",
         "x": [
          3616964584
         ],
         "xaxis": "x",
         "y": [
          0.824
         ],
         "yaxis": "y"
        }
       ],
       "layout": {
        "legend": {
         "title": {
          "text": "student_model_name_or_path"
         },
         "tracegroupgap": 0
        },
        "margin": {
         "t": 60
        },
        "template": {
         "data": {
          "bar": [
           {
            "error_x": {
             "color": "#2a3f5f"
            },
            "error_y": {
             "color": "#2a3f5f"
            },
            "marker": {
             "line": {
              "color": "#E5ECF6",
              "width": 0.5
             },
             "pattern": {
              "fillmode": "overlay",
              "size": 10,
              "solidity": 0.2
             }
            },
            "type": "bar"
           }
          ],
          "barpolar": [
           {
            "marker": {
             "line": {
              "color": "#E5ECF6",
              "width": 0.5
             },
             "pattern": {
              "fillmode": "overlay",
              "size": 10,
              "solidity": 0.2
             }
            },
            "type": "barpolar"
           }
          ],
          "carpet": [
           {
            "aaxis": {
             "endlinecolor": "#2a3f5f",
             "gridcolor": "white",
             "linecolor": "white",
             "minorgridcolor": "white",
             "startlinecolor": "#2a3f5f"
            },
            "baxis": {
             "endlinecolor": "#2a3f5f",
             "gridcolor": "white",
             "linecolor": "white",
             "minorgridcolor": "white",
             "startlinecolor": "#2a3f5f"
            },
            "type": "carpet"
           }
          ],
          "choropleth": [
           {
            "colorbar": {
             "outlinewidth": 0,
             "ticks": ""
            },
            "type": "choropleth"
           }
          ],
          "contour": [
           {
            "colorbar": {
             "outlinewidth": 0,
             "ticks": ""
            },
            "colorscale": [
             [
              0,
              "#0d0887"
             ],
             [
              0.1111111111111111,
              "#46039f"
             ],
             [
              0.2222222222222222,
              "#7201a8"
             ],
             [
              0.3333333333333333,
              "#9c179e"
             ],
             [
              0.4444444444444444,
              "#bd3786"
             ],
             [
              0.5555555555555556,
              "#d8576b"
             ],
             [
              0.6666666666666666,
              "#ed7953"
             ],
             [
              0.7777777777777778,
              "#fb9f3a"
             ],
             [
              0.8888888888888888,
              "#fdca26"
             ],
             [
              1,
              "#f0f921"
             ]
            ],
            "type": "contour"
           }
          ],
          "contourcarpet": [
           {
            "colorbar": {
             "outlinewidth": 0,
             "ticks": ""
            },
            "type": "contourcarpet"
           }
          ],
          "heatmap": [
           {
            "colorbar": {
             "outlinewidth": 0,
             "ticks": ""
            },
            "colorscale": [
             [
              0,
              "#0d0887"
             ],
             [
              0.1111111111111111,
              "#46039f"
             ],
             [
              0.2222222222222222,
              "#7201a8"
             ],
             [
              0.3333333333333333,
              "#9c179e"
             ],
             [
              0.4444444444444444,
              "#bd3786"
             ],
             [
              0.5555555555555556,
              "#d8576b"
             ],
             [
              0.6666666666666666,
              "#ed7953"
             ],
             [
              0.7777777777777778,
              "#fb9f3a"
             ],
             [
              0.8888888888888888,
              "#fdca26"
             ],
             [
              1,
              "#f0f921"
             ]
            ],
            "type": "heatmap"
           }
          ],
          "heatmapgl": [
           {
            "colorbar": {
             "outlinewidth": 0,
             "ticks": ""
            },
            "colorscale": [
             [
              0,
              "#0d0887"
             ],
             [
              0.1111111111111111,
              "#46039f"
             ],
             [
              0.2222222222222222,
              "#7201a8"
             ],
             [
              0.3333333333333333,
              "#9c179e"
             ],
             [
              0.4444444444444444,
              "#bd3786"
             ],
             [
              0.5555555555555556,
              "#d8576b"
             ],
             [
              0.6666666666666666,
              "#ed7953"
             ],
             [
              0.7777777777777778,
              "#fb9f3a"
             ],
             [
              0.8888888888888888,
              "#fdca26"
             ],
             [
              1,
              "#f0f921"
             ]
            ],
            "type": "heatmapgl"
           }
          ],
          "histogram": [
           {
            "marker": {
             "pattern": {
              "fillmode": "overlay",
              "size": 10,
              "solidity": 0.2
             }
            },
            "type": "histogram"
           }
          ],
          "histogram2d": [
           {
            "colorbar": {
             "outlinewidth": 0,
             "ticks": ""
            },
            "colorscale": [
             [
              0,
              "#0d0887"
             ],
             [
              0.1111111111111111,
              "#46039f"
             ],
             [
              0.2222222222222222,
              "#7201a8"
             ],
             [
              0.3333333333333333,
              "#9c179e"
             ],
             [
              0.4444444444444444,
              "#bd3786"
             ],
             [
              0.5555555555555556,
              "#d8576b"
             ],
             [
              0.6666666666666666,
              "#ed7953"
             ],
             [
              0.7777777777777778,
              "#fb9f3a"
             ],
             [
              0.8888888888888888,
              "#fdca26"
             ],
             [
              1,
              "#f0f921"
             ]
            ],
            "type": "histogram2d"
           }
          ],
          "histogram2dcontour": [
           {
            "colorbar": {
             "outlinewidth": 0,
             "ticks": ""
            },
            "colorscale": [
             [
              0,
              "#0d0887"
             ],
             [
              0.1111111111111111,
              "#46039f"
             ],
             [
              0.2222222222222222,
              "#7201a8"
             ],
             [
              0.3333333333333333,
              "#9c179e"
             ],
             [
              0.4444444444444444,
              "#bd3786"
             ],
             [
              0.5555555555555556,
              "#d8576b"
             ],
             [
              0.6666666666666666,
              "#ed7953"
             ],
             [
              0.7777777777777778,
              "#fb9f3a"
             ],
             [
              0.8888888888888888,
              "#fdca26"
             ],
             [
              1,
              "#f0f921"
             ]
            ],
            "type": "histogram2dcontour"
           }
          ],
          "mesh3d": [
           {
            "colorbar": {
             "outlinewidth": 0,
             "ticks": ""
            },
            "type": "mesh3d"
           }
          ],
          "parcoords": [
           {
            "line": {
             "colorbar": {
              "outlinewidth": 0,
              "ticks": ""
             }
            },
            "type": "parcoords"
           }
          ],
          "pie": [
           {
            "automargin": true,
            "type": "pie"
           }
          ],
          "scatter": [
           {
            "fillpattern": {
             "fillmode": "overlay",
             "size": 10,
             "solidity": 0.2
            },
            "type": "scatter"
           }
          ],
          "scatter3d": [
           {
            "line": {
             "colorbar": {
              "outlinewidth": 0,
              "ticks": ""
             }
            },
            "marker": {
             "colorbar": {
              "outlinewidth": 0,
              "ticks": ""
             }
            },
            "type": "scatter3d"
           }
          ],
          "scattercarpet": [
           {
            "marker": {
             "colorbar": {
              "outlinewidth": 0,
              "ticks": ""
             }
            },
            "type": "scattercarpet"
           }
          ],
          "scattergeo": [
           {
            "marker": {
             "colorbar": {
              "outlinewidth": 0,
              "ticks": ""
             }
            },
            "type": "scattergeo"
           }
          ],
          "scattergl": [
           {
            "marker": {
             "colorbar": {
              "outlinewidth": 0,
              "ticks": ""
             }
            },
            "type": "scattergl"
           }
          ],
          "scattermapbox": [
           {
            "marker": {
             "colorbar": {
              "outlinewidth": 0,
              "ticks": ""
             }
            },
            "type": "scattermapbox"
           }
          ],
          "scatterpolar": [
           {
            "marker": {
             "colorbar": {
              "outlinewidth": 0,
              "ticks": ""
             }
            },
            "type": "scatterpolar"
           }
          ],
          "scatterpolargl": [
           {
            "marker": {
             "colorbar": {
              "outlinewidth": 0,
              "ticks": ""
             }
            },
            "type": "scatterpolargl"
           }
          ],
          "scatterternary": [
           {
            "marker": {
             "colorbar": {
              "outlinewidth": 0,
              "ticks": ""
             }
            },
            "type": "scatterternary"
           }
          ],
          "surface": [
           {
            "colorbar": {
             "outlinewidth": 0,
             "ticks": ""
            },
            "colorscale": [
             [
              0,
              "#0d0887"
             ],
             [
              0.1111111111111111,
              "#46039f"
             ],
             [
              0.2222222222222222,
              "#7201a8"
             ],
             [
              0.3333333333333333,
              "#9c179e"
             ],
             [
              0.4444444444444444,
              "#bd3786"
             ],
             [
              0.5555555555555556,
              "#d8576b"
             ],
             [
              0.6666666666666666,
              "#ed7953"
             ],
             [
              0.7777777777777778,
              "#fb9f3a"
             ],
             [
              0.8888888888888888,
              "#fdca26"
             ],
             [
              1,
              "#f0f921"
             ]
            ],
            "type": "surface"
           }
          ],
          "table": [
           {
            "cells": {
             "fill": {
              "color": "#EBF0F8"
             },
             "line": {
              "color": "white"
             }
            },
            "header": {
             "fill": {
              "color": "#C8D4E3"
             },
             "line": {
              "color": "white"
             }
            },
            "type": "table"
           }
          ]
         },
         "layout": {
          "annotationdefaults": {
           "arrowcolor": "#2a3f5f",
           "arrowhead": 0,
           "arrowwidth": 1
          },
          "autotypenumbers": "strict",
          "coloraxis": {
           "colorbar": {
            "outlinewidth": 0,
            "ticks": ""
           }
          },
          "colorscale": {
           "diverging": [
            [
             0,
             "#8e0152"
            ],
            [
             0.1,
             "#c51b7d"
            ],
            [
             0.2,
             "#de77ae"
            ],
            [
             0.3,
             "#f1b6da"
            ],
            [
             0.4,
             "#fde0ef"
            ],
            [
             0.5,
             "#f7f7f7"
            ],
            [
             0.6,
             "#e6f5d0"
            ],
            [
             0.7,
             "#b8e186"
            ],
            [
             0.8,
             "#7fbc41"
            ],
            [
             0.9,
             "#4d9221"
            ],
            [
             1,
             "#276419"
            ]
           ],
           "sequential": [
            [
             0,
             "#0d0887"
            ],
            [
             0.1111111111111111,
             "#46039f"
            ],
            [
             0.2222222222222222,
             "#7201a8"
            ],
            [
             0.3333333333333333,
             "#9c179e"
            ],
            [
             0.4444444444444444,
             "#bd3786"
            ],
            [
             0.5555555555555556,
             "#d8576b"
            ],
            [
             0.6666666666666666,
             "#ed7953"
            ],
            [
             0.7777777777777778,
             "#fb9f3a"
            ],
            [
             0.8888888888888888,
             "#fdca26"
            ],
            [
             1,
             "#f0f921"
            ]
           ],
           "sequentialminus": [
            [
             0,
             "#0d0887"
            ],
            [
             0.1111111111111111,
             "#46039f"
            ],
            [
             0.2222222222222222,
             "#7201a8"
            ],
            [
             0.3333333333333333,
             "#9c179e"
            ],
            [
             0.4444444444444444,
             "#bd3786"
            ],
            [
             0.5555555555555556,
             "#d8576b"
            ],
            [
             0.6666666666666666,
             "#ed7953"
            ],
            [
             0.7777777777777778,
             "#fb9f3a"
            ],
            [
             0.8888888888888888,
             "#fdca26"
            ],
            [
             1,
             "#f0f921"
            ]
           ]
          },
          "colorway": [
           "#636efa",
           "#EF553B",
           "#00cc96",
           "#ab63fa",
           "#FFA15A",
           "#19d3f3",
           "#FF6692",
           "#B6E880",
           "#FF97FF",
           "#FECB52"
          ],
          "font": {
           "color": "#2a3f5f"
          },
          "geo": {
           "bgcolor": "white",
           "lakecolor": "white",
           "landcolor": "#E5ECF6",
           "showlakes": true,
           "showland": true,
           "subunitcolor": "white"
          },
          "hoverlabel": {
           "align": "left"
          },
          "hovermode": "closest",
          "mapbox": {
           "style": "light"
          },
          "paper_bgcolor": "white",
          "plot_bgcolor": "#E5ECF6",
          "polar": {
           "angularaxis": {
            "gridcolor": "white",
            "linecolor": "white",
            "ticks": ""
           },
           "bgcolor": "#E5ECF6",
           "radialaxis": {
            "gridcolor": "white",
            "linecolor": "white",
            "ticks": ""
           }
          },
          "scene": {
           "xaxis": {
            "backgroundcolor": "#E5ECF6",
            "gridcolor": "white",
            "gridwidth": 2,
            "linecolor": "white",
            "showbackground": true,
            "ticks": "",
            "zerolinecolor": "white"
           },
           "yaxis": {
            "backgroundcolor": "#E5ECF6",
            "gridcolor": "white",
            "gridwidth": 2,
            "linecolor": "white",
            "showbackground": true,
            "ticks": "",
            "zerolinecolor": "white"
           },
           "zaxis": {
            "backgroundcolor": "#E5ECF6",
            "gridcolor": "white",
            "gridwidth": 2,
            "linecolor": "white",
            "showbackground": true,
            "ticks": "",
            "zerolinecolor": "white"
           }
          },
          "shapedefaults": {
           "line": {
            "color": "#2a3f5f"
           }
          },
          "ternary": {
           "aaxis": {
            "gridcolor": "white",
            "linecolor": "white",
            "ticks": ""
           },
           "baxis": {
            "gridcolor": "white",
            "linecolor": "white",
            "ticks": ""
           },
           "bgcolor": "#E5ECF6",
           "caxis": {
            "gridcolor": "white",
            "linecolor": "white",
            "ticks": ""
           }
          },
          "title": {
           "x": 0.05
          },
          "xaxis": {
           "automargin": true,
           "gridcolor": "white",
           "linecolor": "white",
           "ticks": "",
           "title": {
            "standoff": 15
           },
           "zerolinecolor": "white",
           "zerolinewidth": 2
          },
          "yaxis": {
           "automargin": true,
           "gridcolor": "white",
           "linecolor": "white",
           "ticks": "",
           "title": {
            "standoff": 15
           },
           "zerolinecolor": "white",
           "zerolinewidth": 2
          }
         }
        },
        "xaxis": {
         "anchor": "y",
         "domain": [
          0,
          1
         ],
         "title": {
          "text": "macs"
         }
        },
        "yaxis": {
         "anchor": "x",
         "domain": [
          0,
          1
         ],
         "title": {
          "text": "validation_accuracy"
         }
        }
       }
      },
      "text/html": [
       "<div>                            <div id=\"cd6f942c-5be5-485a-8ec9-22f3e4fc1a68\" class=\"plotly-graph-div\" style=\"height:525px; width:100%;\"></div>            <script type=\"text/javascript\">                require([\"plotly\"], function(Plotly) {                    window.PLOTLYENV=window.PLOTLYENV || {};                                    if (document.getElementById(\"cd6f942c-5be5-485a-8ec9-22f3e4fc1a68\")) {                    Plotly.newPlot(                        \"cd6f942c-5be5-485a-8ec9-22f3e4fc1a68\",                        [{\"hovertemplate\":\"student_model_name_or_path=albeto-base<br>macs=%{x}<br>validation_accuracy=%{y}<extra></extra>\",\"legendgroup\":\"albeto-base\",\"marker\":{\"color\":\"#636efa\",\"symbol\":\"circle\"},\"mode\":\"markers\",\"name\":\"albeto-base\",\"orientation\":\"v\",\"showlegend\":true,\"x\":[43575478528.0],\"xaxis\":\"x\",\"y\":[0.903],\"yaxis\":\"y\",\"type\":\"scatter\"},{\"hovertemplate\":\"student_model_name_or_path=albeto-base-10<br>macs=%{x}<br>validation_accuracy=%{y}<extra></extra>\",\"legendgroup\":\"albeto-base-10\",\"marker\":{\"color\":\"#EF553B\",\"symbol\":\"circle\"},\"mode\":\"markers\",\"name\":\"albeto-base-10\",\"orientation\":\"v\",\"showlegend\":true,\"x\":[36321429760.0],\"xaxis\":\"x\",\"y\":[0.8995],\"yaxis\":\"y\",\"type\":\"scatter\"},{\"hovertemplate\":\"student_model_name_or_path=albeto-base-2<br>macs=%{x}<br>validation_accuracy=%{y}<extra></extra>\",\"legendgroup\":\"albeto-base-2\",\"marker\":{\"color\":\"#00cc96\",\"symbol\":\"circle\"},\"mode\":\"markers\",\"name\":\"albeto-base-2\",\"orientation\":\"v\",\"showlegend\":true,\"x\":[7305234688.0],\"xaxis\":\"x\",\"y\":[0.75875],\"yaxis\":\"y\",\"type\":\"scatter\"},{\"hovertemplate\":\"student_model_name_or_path=albeto-base-4<br>macs=%{x}<br>validation_accuracy=%{y}<extra></extra>\",\"legendgroup\":\"albeto-base-4\",\"marker\":{\"color\":\"#ab63fa\",\"symbol\":\"circle\"},\"mode\":\"markers\",\"name\":\"albeto-base-4\",\"orientation\":\"v\",\"showlegend\":true,\"x\":[14559283456.0],\"xaxis\":\"x\",\"y\":[0.841],\"yaxis\":\"y\",\"type\":\"scatter\"},{\"hovertemplate\":\"student_model_name_or_path=albeto-base-6<br>macs=%{x}<br>validation_accuracy=%{y}<extra></extra>\",\"legendgroup\":\"albeto-base-6\",\"marker\":{\"color\":\"#FFA15A\",\"symbol\":\"circle\"},\"mode\":\"markers\",\"name\":\"albeto-base-6\",\"orientation\":\"v\",\"showlegend\":true,\"x\":[21813332224.0],\"xaxis\":\"x\",\"y\":[0.878],\"yaxis\":\"y\",\"type\":\"scatter\"},{\"hovertemplate\":\"student_model_name_or_path=albeto-base-8<br>macs=%{x}<br>validation_accuracy=%{y}<extra></extra>\",\"legendgroup\":\"albeto-base-8\",\"marker\":{\"color\":\"#19d3f3\",\"symbol\":\"circle\"},\"mode\":\"markers\",\"name\":\"albeto-base-8\",\"orientation\":\"v\",\"showlegend\":true,\"x\":[29067380992.0],\"xaxis\":\"x\",\"y\":[0.8915],\"yaxis\":\"y\",\"type\":\"scatter\"},{\"hovertemplate\":\"student_model_name_or_path=albeto-tiny<br>macs=%{x}<br>validation_accuracy=%{y}<extra></extra>\",\"legendgroup\":\"albeto-tiny\",\"marker\":{\"color\":\"#FF6692\",\"symbol\":\"circle\"},\"mode\":\"markers\",\"name\":\"albeto-tiny\",\"orientation\":\"v\",\"showlegend\":true,\"x\":[2418245608.0],\"xaxis\":\"x\",\"y\":[0.82725],\"yaxis\":\"y\",\"type\":\"scatter\"},{\"hovertemplate\":\"student_model_name_or_path=albeto-tiny-12<br>macs=%{x}<br>validation_accuracy=%{y}<extra></extra>\",\"legendgroup\":\"albeto-tiny-12\",\"marker\":{\"color\":\"#B6E880\",\"symbol\":\"circle\"},\"mode\":\"markers\",\"name\":\"albeto-tiny-12\",\"orientation\":\"v\",\"showlegend\":true,\"x\":[7213121512.0],\"xaxis\":\"x\",\"y\":[0.8105],\"yaxis\":\"y\",\"type\":\"scatter\"},{\"hovertemplate\":\"student_model_name_or_path=albeto-tiny-6<br>macs=%{x}<br>validation_accuracy=%{y}<extra></extra>\",\"legendgroup\":\"albeto-tiny-6\",\"marker\":{\"color\":\"#FF97FF\",\"symbol\":\"circle\"},\"mode\":\"markers\",\"name\":\"albeto-tiny-6\",\"orientation\":\"v\",\"showlegend\":true,\"x\":[3616964584.0],\"xaxis\":\"x\",\"y\":[0.824],\"yaxis\":\"y\",\"type\":\"scatter\"}],                        {\"template\":{\"data\":{\"histogram2dcontour\":[{\"type\":\"histogram2dcontour\",\"colorbar\":{\"outlinewidth\":0,\"ticks\":\"\"},\"colorscale\":[[0.0,\"#0d0887\"],[0.1111111111111111,\"#46039f\"],[0.2222222222222222,\"#7201a8\"],[0.3333333333333333,\"#9c179e\"],[0.4444444444444444,\"#bd3786\"],[0.5555555555555556,\"#d8576b\"],[0.6666666666666666,\"#ed7953\"],[0.7777777777777778,\"#fb9f3a\"],[0.8888888888888888,\"#fdca26\"],[1.0,\"#f0f921\"]]}],\"choropleth\":[{\"type\":\"choropleth\",\"colorbar\":{\"outlinewidth\":0,\"ticks\":\"\"}}],\"histogram2d\":[{\"type\":\"histogram2d\",\"colorbar\":{\"outlinewidth\":0,\"ticks\":\"\"},\"colorscale\":[[0.0,\"#0d0887\"],[0.1111111111111111,\"#46039f\"],[0.2222222222222222,\"#7201a8\"],[0.3333333333333333,\"#9c179e\"],[0.4444444444444444,\"#bd3786\"],[0.5555555555555556,\"#d8576b\"],[0.6666666666666666,\"#ed7953\"],[0.7777777777777778,\"#fb9f3a\"],[0.8888888888888888,\"#fdca26\"],[1.0,\"#f0f921\"]]}],\"heatmap\":[{\"type\":\"heatmap\",\"colorbar\":{\"outlinewidth\":0,\"ticks\":\"\"},\"colorscale\":[[0.0,\"#0d0887\"],[0.1111111111111111,\"#46039f\"],[0.2222222222222222,\"#7201a8\"],[0.3333333333333333,\"#9c179e\"],[0.4444444444444444,\"#bd3786\"],[0.5555555555555556,\"#d8576b\"],[0.6666666666666666,\"#ed7953\"],[0.7777777777777778,\"#fb9f3a\"],[0.8888888888888888,\"#fdca26\"],[1.0,\"#f0f921\"]]}],\"heatmapgl\":[{\"type\":\"heatmapgl\",\"colorbar\":{\"outlinewidth\":0,\"ticks\":\"\"},\"colorscale\":[[0.0,\"#0d0887\"],[0.1111111111111111,\"#46039f\"],[0.2222222222222222,\"#7201a8\"],[0.3333333333333333,\"#9c179e\"],[0.4444444444444444,\"#bd3786\"],[0.5555555555555556,\"#d8576b\"],[0.6666666666666666,\"#ed7953\"],[0.7777777777777778,\"#fb9f3a\"],[0.8888888888888888,\"#fdca26\"],[1.0,\"#f0f921\"]]}],\"contourcarpet\":[{\"type\":\"contourcarpet\",\"colorbar\":{\"outlinewidth\":0,\"ticks\":\"\"}}],\"contour\":[{\"type\":\"contour\",\"colorbar\":{\"outlinewidth\":0,\"ticks\":\"\"},\"colorscale\":[[0.0,\"#0d0887\"],[0.1111111111111111,\"#46039f\"],[0.2222222222222222,\"#7201a8\"],[0.3333333333333333,\"#9c179e\"],[0.4444444444444444,\"#bd3786\"],[0.5555555555555556,\"#d8576b\"],[0.6666666666666666,\"#ed7953\"],[0.7777777777777778,\"#fb9f3a\"],[0.8888888888888888,\"#fdca26\"],[1.0,\"#f0f921\"]]}],\"surface\":[{\"type\":\"surface\",\"colorbar\":{\"outlinewidth\":0,\"ticks\":\"\"},\"colorscale\":[[0.0,\"#0d0887\"],[0.1111111111111111,\"#46039f\"],[0.2222222222222222,\"#7201a8\"],[0.3333333333333333,\"#9c179e\"],[0.4444444444444444,\"#bd3786\"],[0.5555555555555556,\"#d8576b\"],[0.6666666666666666,\"#ed7953\"],[0.7777777777777778,\"#fb9f3a\"],[0.8888888888888888,\"#fdca26\"],[1.0,\"#f0f921\"]]}],\"mesh3d\":[{\"type\":\"mesh3d\",\"colorbar\":{\"outlinewidth\":0,\"ticks\":\"\"}}],\"scatter\":[{\"fillpattern\":{\"fillmode\":\"overlay\",\"size\":10,\"solidity\":0.2},\"type\":\"scatter\"}],\"parcoords\":[{\"type\":\"parcoords\",\"line\":{\"colorbar\":{\"outlinewidth\":0,\"ticks\":\"\"}}}],\"scatterpolargl\":[{\"type\":\"scatterpolargl\",\"marker\":{\"colorbar\":{\"outlinewidth\":0,\"ticks\":\"\"}}}],\"bar\":[{\"error_x\":{\"color\":\"#2a3f5f\"},\"error_y\":{\"color\":\"#2a3f5f\"},\"marker\":{\"line\":{\"color\":\"#E5ECF6\",\"width\":0.5},\"pattern\":{\"fillmode\":\"overlay\",\"size\":10,\"solidity\":0.2}},\"type\":\"bar\"}],\"scattergeo\":[{\"type\":\"scattergeo\",\"marker\":{\"colorbar\":{\"outlinewidth\":0,\"ticks\":\"\"}}}],\"scatterpolar\":[{\"type\":\"scatterpolar\",\"marker\":{\"colorbar\":{\"outlinewidth\":0,\"ticks\":\"\"}}}],\"histogram\":[{\"marker\":{\"pattern\":{\"fillmode\":\"overlay\",\"size\":10,\"solidity\":0.2}},\"type\":\"histogram\"}],\"scattergl\":[{\"type\":\"scattergl\",\"marker\":{\"colorbar\":{\"outlinewidth\":0,\"ticks\":\"\"}}}],\"scatter3d\":[{\"type\":\"scatter3d\",\"line\":{\"colorbar\":{\"outlinewidth\":0,\"ticks\":\"\"}},\"marker\":{\"colorbar\":{\"outlinewidth\":0,\"ticks\":\"\"}}}],\"scattermapbox\":[{\"type\":\"scattermapbox\",\"marker\":{\"colorbar\":{\"outlinewidth\":0,\"ticks\":\"\"}}}],\"scatterternary\":[{\"type\":\"scatterternary\",\"marker\":{\"colorbar\":{\"outlinewidth\":0,\"ticks\":\"\"}}}],\"scattercarpet\":[{\"type\":\"scattercarpet\",\"marker\":{\"colorbar\":{\"outlinewidth\":0,\"ticks\":\"\"}}}],\"carpet\":[{\"aaxis\":{\"endlinecolor\":\"#2a3f5f\",\"gridcolor\":\"white\",\"linecolor\":\"white\",\"minorgridcolor\":\"white\",\"startlinecolor\":\"#2a3f5f\"},\"baxis\":{\"endlinecolor\":\"#2a3f5f\",\"gridcolor\":\"white\",\"linecolor\":\"white\",\"minorgridcolor\":\"white\",\"startlinecolor\":\"#2a3f5f\"},\"type\":\"carpet\"}],\"table\":[{\"cells\":{\"fill\":{\"color\":\"#EBF0F8\"},\"line\":{\"color\":\"white\"}},\"header\":{\"fill\":{\"color\":\"#C8D4E3\"},\"line\":{\"color\":\"white\"}},\"type\":\"table\"}],\"barpolar\":[{\"marker\":{\"line\":{\"color\":\"#E5ECF6\",\"width\":0.5},\"pattern\":{\"fillmode\":\"overlay\",\"size\":10,\"solidity\":0.2}},\"type\":\"barpolar\"}],\"pie\":[{\"automargin\":true,\"type\":\"pie\"}]},\"layout\":{\"autotypenumbers\":\"strict\",\"colorway\":[\"#636efa\",\"#EF553B\",\"#00cc96\",\"#ab63fa\",\"#FFA15A\",\"#19d3f3\",\"#FF6692\",\"#B6E880\",\"#FF97FF\",\"#FECB52\"],\"font\":{\"color\":\"#2a3f5f\"},\"hovermode\":\"closest\",\"hoverlabel\":{\"align\":\"left\"},\"paper_bgcolor\":\"white\",\"plot_bgcolor\":\"#E5ECF6\",\"polar\":{\"bgcolor\":\"#E5ECF6\",\"angularaxis\":{\"gridcolor\":\"white\",\"linecolor\":\"white\",\"ticks\":\"\"},\"radialaxis\":{\"gridcolor\":\"white\",\"linecolor\":\"white\",\"ticks\":\"\"}},\"ternary\":{\"bgcolor\":\"#E5ECF6\",\"aaxis\":{\"gridcolor\":\"white\",\"linecolor\":\"white\",\"ticks\":\"\"},\"baxis\":{\"gridcolor\":\"white\",\"linecolor\":\"white\",\"ticks\":\"\"},\"caxis\":{\"gridcolor\":\"white\",\"linecolor\":\"white\",\"ticks\":\"\"}},\"coloraxis\":{\"colorbar\":{\"outlinewidth\":0,\"ticks\":\"\"}},\"colorscale\":{\"sequential\":[[0.0,\"#0d0887\"],[0.1111111111111111,\"#46039f\"],[0.2222222222222222,\"#7201a8\"],[0.3333333333333333,\"#9c179e\"],[0.4444444444444444,\"#bd3786\"],[0.5555555555555556,\"#d8576b\"],[0.6666666666666666,\"#ed7953\"],[0.7777777777777778,\"#fb9f3a\"],[0.8888888888888888,\"#fdca26\"],[1.0,\"#f0f921\"]],\"sequentialminus\":[[0.0,\"#0d0887\"],[0.1111111111111111,\"#46039f\"],[0.2222222222222222,\"#7201a8\"],[0.3333333333333333,\"#9c179e\"],[0.4444444444444444,\"#bd3786\"],[0.5555555555555556,\"#d8576b\"],[0.6666666666666666,\"#ed7953\"],[0.7777777777777778,\"#fb9f3a\"],[0.8888888888888888,\"#fdca26\"],[1.0,\"#f0f921\"]],\"diverging\":[[0,\"#8e0152\"],[0.1,\"#c51b7d\"],[0.2,\"#de77ae\"],[0.3,\"#f1b6da\"],[0.4,\"#fde0ef\"],[0.5,\"#f7f7f7\"],[0.6,\"#e6f5d0\"],[0.7,\"#b8e186\"],[0.8,\"#7fbc41\"],[0.9,\"#4d9221\"],[1,\"#276419\"]]},\"xaxis\":{\"gridcolor\":\"white\",\"linecolor\":\"white\",\"ticks\":\"\",\"title\":{\"standoff\":15},\"zerolinecolor\":\"white\",\"automargin\":true,\"zerolinewidth\":2},\"yaxis\":{\"gridcolor\":\"white\",\"linecolor\":\"white\",\"ticks\":\"\",\"title\":{\"standoff\":15},\"zerolinecolor\":\"white\",\"automargin\":true,\"zerolinewidth\":2},\"scene\":{\"xaxis\":{\"backgroundcolor\":\"#E5ECF6\",\"gridcolor\":\"white\",\"linecolor\":\"white\",\"showbackground\":true,\"ticks\":\"\",\"zerolinecolor\":\"white\",\"gridwidth\":2},\"yaxis\":{\"backgroundcolor\":\"#E5ECF6\",\"gridcolor\":\"white\",\"linecolor\":\"white\",\"showbackground\":true,\"ticks\":\"\",\"zerolinecolor\":\"white\",\"gridwidth\":2},\"zaxis\":{\"backgroundcolor\":\"#E5ECF6\",\"gridcolor\":\"white\",\"linecolor\":\"white\",\"showbackground\":true,\"ticks\":\"\",\"zerolinecolor\":\"white\",\"gridwidth\":2}},\"shapedefaults\":{\"line\":{\"color\":\"#2a3f5f\"}},\"annotationdefaults\":{\"arrowcolor\":\"#2a3f5f\",\"arrowhead\":0,\"arrowwidth\":1},\"geo\":{\"bgcolor\":\"white\",\"landcolor\":\"#E5ECF6\",\"subunitcolor\":\"white\",\"showland\":true,\"showlakes\":true,\"lakecolor\":\"white\"},\"title\":{\"x\":0.05},\"mapbox\":{\"style\":\"light\"}}},\"xaxis\":{\"anchor\":\"y\",\"domain\":[0.0,1.0],\"title\":{\"text\":\"macs\"}},\"yaxis\":{\"anchor\":\"x\",\"domain\":[0.0,1.0],\"title\":{\"text\":\"validation_accuracy\"}},\"legend\":{\"title\":{\"text\":\"student_model_name_or_path\"},\"tracegroupgap\":0},\"margin\":{\"t\":60}},                        {\"responsive\": true}                    ).then(function(){\n",
       "                            \n",
       "var gd = document.getElementById('cd6f942c-5be5-485a-8ec9-22f3e4fc1a68');\n",
       "var x = new MutationObserver(function (mutations, observer) {{\n",
       "        var display = window.getComputedStyle(gd).display;\n",
       "        if (!display || display === 'none') {{\n",
       "            console.log([gd, 'removed!']);\n",
       "            Plotly.purge(gd);\n",
       "            observer.disconnect();\n",
       "        }}\n",
       "}});\n",
       "\n",
       "// Listen for the removal of the full notebook cells\n",
       "var notebookContainer = gd.closest('#notebook-container');\n",
       "if (notebookContainer) {{\n",
       "    x.observe(notebookContainer, {childList: true});\n",
       "}}\n",
       "\n",
       "// Listen for the clearing of the current output cell\n",
       "var outputEl = gd.closest('.output');\n",
       "if (outputEl) {{\n",
       "    x.observe(outputEl, {childList: true});\n",
       "}}\n",
       "\n",
       "                        })                };                });            </script>        </div>"
      ]
     },
     "metadata": {},
     "output_type": "display_data"
    }
   ],
   "source": [
    "fig = px.scatter(query_df, x=\"macs\", y=\"validation_accuracy\", color=\"student_model_name_or_path\")\n",
    "fig.show()"
   ]
  },
  {
   "cell_type": "markdown",
   "metadata": {},
   "source": []
  },
  {
   "cell_type": "code",
   "execution_count": null,
   "metadata": {},
   "outputs": [],
   "source": []
  }
 ],
 "metadata": {
  "kernelspec": {
   "display_name": "venv",
   "language": "python",
   "name": "python3"
  },
  "language_info": {
   "codemirror_mode": {
    "name": "ipython",
    "version": 3
   },
   "file_extension": ".py",
   "mimetype": "text/x-python",
   "name": "python",
   "nbconvert_exporter": "python",
   "pygments_lexer": "ipython3",
   "version": "3.10.6 (main, Oct  7 2022, 20:19:58) [GCC 11.2.0]"
  },
  "orig_nbformat": 4,
  "vscode": {
   "interpreter": {
    "hash": "c3175efc3b274e1d54a7134fdd59b334853db162209510ed398ec4d20c059e4a"
   }
  }
 },
 "nbformat": 4,
 "nbformat_minor": 2
}

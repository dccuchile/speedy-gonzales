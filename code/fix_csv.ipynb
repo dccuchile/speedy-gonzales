{
 "cells": [
  {
   "cell_type": "code",
   "execution_count": 2,
   "metadata": {},
   "outputs": [],
   "source": [
    "import pandas as pd\n",
    "import ast\n",
    "import numpy as np\n",
    "from kd.stats_utils import filter_outliers"
   ]
  },
  {
   "cell_type": "code",
   "execution_count": null,
   "metadata": {},
   "outputs": [],
   "source": [
    "cpu_df = pd.read_csv('./performance-results/benchmark_cpu_100.csv')\n",
    "gpu_df = pd.read_csv('./performance-results/benchmark_gpus_100.csv')"
   ]
  },
  {
   "cell_type": "code",
   "execution_count": null,
   "metadata": {},
   "outputs": [],
   "source": [
    "df = pd.concat([cpu_df, gpu_df])"
   ]
  },
  {
   "cell_type": "code",
   "execution_count": null,
   "metadata": {},
   "outputs": [],
   "source": [
    "df"
   ]
  },
  {
   "cell_type": "code",
   "execution_count": null,
   "metadata": {},
   "outputs": [],
   "source": [
    "def makeArray(text):\n",
    "    text = text.replace('\\n', '').replace('[', '').replace(']', '')\n",
    "    text = \" \".join(text.split())\n",
    "    return np.fromstring(text, sep=\" \")\n",
    "\n",
    "df[\"latencies\"] = df[\"latencies\"].fillna('')\n",
    "df[\"latencies\"] = df[\"latencies\"].apply(makeArray)"
   ]
  },
  {
   "cell_type": "code",
   "execution_count": null,
   "metadata": {},
   "outputs": [],
   "source": [
    "df[\"latencies\"][0]"
   ]
  },
  {
   "cell_type": "code",
   "execution_count": null,
   "metadata": {},
   "outputs": [],
   "source": [
    "df.query(\"time_std_ms > 0.15 * time_avg_ms\")"
   ]
  },
  {
   "cell_type": "code",
   "execution_count": null,
   "metadata": {},
   "outputs": [],
   "source": [
    "threshold = 0.75\n",
    "\n",
    "df[\"filtered\"] = df[\"latencies\"].apply(lambda x: filter_outliers(x, threshold=threshold))\n",
    "df[\"filtered_len\"] = df[\"filtered\"].apply(len)\n",
    "df[\"filtered_time_avg_ms\"] = df[\"filtered\"].apply(np.mean)\n",
    "df[\"filtered_time_std_ms\"] = df[\"filtered\"].apply(np.std)"
   ]
  },
  {
   "cell_type": "code",
   "execution_count": null,
   "metadata": {},
   "outputs": [],
   "source": [
    "df"
   ]
  },
  {
   "cell_type": "code",
   "execution_count": null,
   "metadata": {},
   "outputs": [],
   "source": [
    "df.query(\"filtered_time_std_ms > filtered_time_avg_ms * 0.15\")"
   ]
  },
  {
   "cell_type": "code",
   "execution_count": null,
   "metadata": {},
   "outputs": [],
   "source": [
    "df.to_csv(\"./performance-results/full_benchmark_100_fixed.csv\", index=False)"
   ]
  },
  {
   "cell_type": "code",
   "execution_count": null,
   "metadata": {},
   "outputs": [],
   "source": [
    "clean_df = df.drop([\"time_avg_ms\", \"time_std_ms\", \"latencies\", \"filtered\", \"filtered_len\"], axis=1)\n",
    "clean_df = clean_df.rename(columns={\"filtered_time_avg_ms\": \"time_avg_ms\", \"filtered_time_std_ms\": \"time_std_ms\"})"
   ]
  },
  {
   "cell_type": "code",
   "execution_count": null,
   "metadata": {},
   "outputs": [],
   "source": [
    "clean_df"
   ]
  },
  {
   "cell_type": "code",
   "execution_count": null,
   "metadata": {},
   "outputs": [],
   "source": [
    "clean_df.to_csv(\"./performance-results/clean_benchmark_100.csv\", index=False)"
   ]
  }
 ],
 "metadata": {
  "kernelspec": {
   "display_name": "Python 3.10.4 64-bit ('venv')",
   "language": "python",
   "name": "python3"
  },
  "language_info": {
   "codemirror_mode": {
    "name": "ipython",
    "version": 3
   },
   "file_extension": ".py",
   "mimetype": "text/x-python",
   "name": "python",
   "nbconvert_exporter": "python",
   "pygments_lexer": "ipython3",
   "version": "3.10.4"
  },
  "orig_nbformat": 4,
  "vscode": {
   "interpreter": {
    "hash": "c22c5981e2fc0b86b00890ed690143b1ea41cef1ded75d7589ce623543770075"
   }
  }
 },
 "nbformat": 4,
 "nbformat_minor": 2
}
